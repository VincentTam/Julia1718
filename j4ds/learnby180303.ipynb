{
 "cells": [
  {
   "cell_type": "code",
   "execution_count": 1,
   "metadata": {},
   "outputs": [],
   "source": [
    "using DataFrames"
   ]
  },
  {
   "cell_type": "code",
   "execution_count": 3,
   "metadata": {},
   "outputs": [
    {
     "data": {
      "text/html": [
       "<table class=\"data-frame\"><thead><tr><th></th><th>a</th><th>b</th><th>c</th></tr></thead><tbody><tr><th>1</th><td>1</td><td>-1</td><td>0.989019</td></tr><tr><th>2</th><td>3</td><td>2</td><td>-0.482561</td></tr><tr><th>3</th><td>5</td><td>-1</td><td>0.569291</td></tr><tr><th>4</th><td>7</td><td>2</td><td>-1.10514</td></tr><tr><th>5</th><td>1</td><td>-1</td><td>0.876702</td></tr><tr><th>6</th><td>3</td><td>2</td><td>-0.726758</td></tr><tr><th>7</th><td>5</td><td>-1</td><td>0.449275</td></tr><tr><th>8</th><td>7</td><td>2</td><td>-1.13502</td></tr><tr><th>9</th><td>1</td><td>-1</td><td>-0.634641</td></tr><tr><th>10</th><td>3</td><td>2</td><td>0.396054</td></tr><tr><th>11</th><td>5</td><td>-1</td><td>-0.263061</td></tr><tr><th>12</th><td>7</td><td>2</td><td>0.733939</td></tr></tbody></table>"
      ],
      "text/plain": [
       "12×3 DataFrames.DataFrame\n",
       "│ Row │ a │ b  │ c         │\n",
       "├─────┼───┼────┼───────────┤\n",
       "│ 1   │ 1 │ -1 │ 0.989019  │\n",
       "│ 2   │ 3 │ 2  │ -0.482561 │\n",
       "│ 3   │ 5 │ -1 │ 0.569291  │\n",
       "│ 4   │ 7 │ 2  │ -1.10514  │\n",
       "│ 5   │ 1 │ -1 │ 0.876702  │\n",
       "│ 6   │ 3 │ 2  │ -0.726758 │\n",
       "│ 7   │ 5 │ -1 │ 0.449275  │\n",
       "│ 8   │ 7 │ 2  │ -1.13502  │\n",
       "│ 9   │ 1 │ -1 │ -0.634641 │\n",
       "│ 10  │ 3 │ 2  │ 0.396054  │\n",
       "│ 11  │ 5 │ -1 │ -0.263061 │\n",
       "│ 12  │ 7 │ 2  │ 0.733939  │"
      ]
     },
     "execution_count": 3,
     "metadata": {},
     "output_type": "execute_result"
    }
   ],
   "source": [
    "df = DataFrame(a = repeat([1, 3, 5, 7], outer=[3]),\n",
    "               b = repeat([-1, 2], outer=[6]),\n",
    "               c = randn(12))"
   ]
  },
  {
   "cell_type": "markdown",
   "metadata": {},
   "source": [
    "## Group by single column"
   ]
  },
  {
   "cell_type": "code",
   "execution_count": 4,
   "metadata": {},
   "outputs": [
    {
     "data": {
      "text/html": [
       "<table class=\"data-frame\"><thead><tr><th></th><th>a</th><th>x1</th></tr></thead><tbody><tr><th>1</th><td>1</td><td>1.23108</td></tr><tr><th>2</th><td>3</td><td>-0.813266</td></tr><tr><th>3</th><td>5</td><td>0.755505</td></tr><tr><th>4</th><td>7</td><td>-1.50622</td></tr></tbody></table>"
      ],
      "text/plain": [
       "4×2 DataFrames.DataFrame\n",
       "│ Row │ a │ x1        │\n",
       "├─────┼───┼───────────┤\n",
       "│ 1   │ 1 │ 1.23108   │\n",
       "│ 2   │ 3 │ -0.813266 │\n",
       "│ 3   │ 5 │ 0.755505  │\n",
       "│ 4   │ 7 │ -1.50622  │"
      ]
     },
     "execution_count": 4,
     "metadata": {},
     "output_type": "execute_result"
    }
   ],
   "source": [
    "by(df, :a, d -> sum(d[:c]))"
   ]
  },
  {
   "cell_type": "code",
   "execution_count": 6,
   "metadata": {},
   "outputs": [
    {
     "data": {
      "text/html": [
       "<table class=\"data-frame\"><thead><tr><th></th><th>a</th><th>c_sum</th><th>c_mean</th></tr></thead><tbody><tr><th>1</th><td>1</td><td>1.23108</td><td>0.41036</td></tr><tr><th>2</th><td>3</td><td>-0.813266</td><td>-0.271089</td></tr><tr><th>3</th><td>5</td><td>0.755505</td><td>0.251835</td></tr><tr><th>4</th><td>7</td><td>-1.50622</td><td>-0.502074</td></tr></tbody></table>"
      ],
      "text/plain": [
       "4×3 DataFrames.DataFrame\n",
       "│ Row │ a │ c_sum     │ c_mean    │\n",
       "├─────┼───┼───────────┼───────────┤\n",
       "│ 1   │ 1 │ 1.23108   │ 0.41036   │\n",
       "│ 2   │ 3 │ -0.813266 │ -0.271089 │\n",
       "│ 3   │ 5 │ 0.755505  │ 0.251835  │\n",
       "│ 4   │ 7 │ -1.50622  │ -0.502074 │"
      ]
     },
     "execution_count": 6,
     "metadata": {},
     "output_type": "execute_result"
    }
   ],
   "source": [
    "by(df, :a, d -> DataFrame(c_sum = sum(d[:c]), c_mean = mean(skipmissing(d[:c]))))"
   ]
  },
  {
   "cell_type": "code",
   "execution_count": 7,
   "metadata": {},
   "outputs": [
    {
     "data": {
      "text/html": [
       "<table class=\"data-frame\"><thead><tr><th></th><th>a</th><th>c</th><th>c_mean</th></tr></thead><tbody><tr><th>1</th><td>1</td><td>0.989019</td><td>0.41036</td></tr><tr><th>2</th><td>1</td><td>0.876702</td><td>0.41036</td></tr><tr><th>3</th><td>1</td><td>-0.634641</td><td>0.41036</td></tr><tr><th>4</th><td>3</td><td>-0.482561</td><td>-0.271089</td></tr><tr><th>5</th><td>3</td><td>-0.726758</td><td>-0.271089</td></tr><tr><th>6</th><td>3</td><td>0.396054</td><td>-0.271089</td></tr><tr><th>7</th><td>5</td><td>0.569291</td><td>0.251835</td></tr><tr><th>8</th><td>5</td><td>0.449275</td><td>0.251835</td></tr><tr><th>9</th><td>5</td><td>-0.263061</td><td>0.251835</td></tr><tr><th>10</th><td>7</td><td>-1.10514</td><td>-0.502074</td></tr><tr><th>11</th><td>7</td><td>-1.13502</td><td>-0.502074</td></tr><tr><th>12</th><td>7</td><td>0.733939</td><td>-0.502074</td></tr></tbody></table>"
      ],
      "text/plain": [
       "12×3 DataFrames.DataFrame\n",
       "│ Row │ a │ c         │ c_mean    │\n",
       "├─────┼───┼───────────┼───────────┤\n",
       "│ 1   │ 1 │ 0.989019  │ 0.41036   │\n",
       "│ 2   │ 1 │ 0.876702  │ 0.41036   │\n",
       "│ 3   │ 1 │ -0.634641 │ 0.41036   │\n",
       "│ 4   │ 3 │ -0.482561 │ -0.271089 │\n",
       "│ 5   │ 3 │ -0.726758 │ -0.271089 │\n",
       "│ 6   │ 3 │ 0.396054  │ -0.271089 │\n",
       "│ 7   │ 5 │ 0.569291  │ 0.251835  │\n",
       "│ 8   │ 5 │ 0.449275  │ 0.251835  │\n",
       "│ 9   │ 5 │ -0.263061 │ 0.251835  │\n",
       "│ 10  │ 7 │ -1.10514  │ -0.502074 │\n",
       "│ 11  │ 7 │ -1.13502  │ -0.502074 │\n",
       "│ 12  │ 7 │ 0.733939  │ -0.502074 │"
      ]
     },
     "execution_count": 7,
     "metadata": {},
     "output_type": "execute_result"
    }
   ],
   "source": [
    "by(df, :a, d -> DataFrame(c = d[:c], c_mean = mean(skipmissing(d[:c]))))"
   ]
  },
  {
   "cell_type": "markdown",
   "metadata": {},
   "source": [
    "## Group by multiple columns"
   ]
  },
  {
   "cell_type": "code",
   "execution_count": 8,
   "metadata": {},
   "outputs": [
    {
     "data": {
      "text/html": [
       "<table class=\"data-frame\"><thead><tr><th></th><th>a</th><th>b</th><th>m</th><th>v</th></tr></thead><tbody><tr><th>1</th><td>1</td><td>-1</td><td>0.41036</td><td>0.822174</td></tr><tr><th>2</th><td>3</td><td>2</td><td>-0.271089</td><td>0.348717</td></tr><tr><th>3</th><td>5</td><td>-1</td><td>0.251835</td><td>0.202439</td></tr><tr><th>4</th><td>7</td><td>2</td><td>-0.502074</td><td>1.14602</td></tr></tbody></table>"
      ],
      "text/plain": [
       "4×4 DataFrames.DataFrame\n",
       "│ Row │ a │ b  │ m         │ v        │\n",
       "├─────┼───┼────┼───────────┼──────────┤\n",
       "│ 1   │ 1 │ -1 │ 0.41036   │ 0.822174 │\n",
       "│ 2   │ 3 │ 2  │ -0.271089 │ 0.348717 │\n",
       "│ 3   │ 5 │ -1 │ 0.251835  │ 0.202439 │\n",
       "│ 4   │ 7 │ 2  │ -0.502074 │ 1.14602  │"
      ]
     },
     "execution_count": 8,
     "metadata": {},
     "output_type": "execute_result"
    }
   ],
   "source": [
    "by(df, [:a, :b]) do d\n",
    "    DataFrame(m = mean(skipmissing(d[:c])), v = var(skipmissing(d[:c])))\n",
    "end"
   ]
  },
  {
   "cell_type": "markdown",
   "metadata": {},
   "source": [
    "## Aggregate"
   ]
  },
  {
   "cell_type": "markdown",
   "metadata": {},
   "source": [
    "`aggregate()` takes same arguments as `by()`, but function `f` will be applied to all columns.  It's possible to skip the second argument to apply a function to each column, like this."
   ]
  },
  {
   "cell_type": "code",
   "execution_count": 9,
   "metadata": {},
   "outputs": [
    {
     "data": {
      "text/html": [
       "<table class=\"data-frame\"><thead><tr><th></th><th>a_sum</th><th>b_sum</th><th>c_sum</th></tr></thead><tbody><tr><th>1</th><td>48</td><td>6</td><td>-0.332905</td></tr></tbody></table>"
      ],
      "text/plain": [
       "1×3 DataFrames.DataFrame\n",
       "│ Row │ a_sum │ b_sum │ c_sum     │\n",
       "├─────┼───────┼───────┼───────────┤\n",
       "│ 1   │ 48    │ 6     │ -0.332905 │"
      ]
     },
     "execution_count": 9,
     "metadata": {},
     "output_type": "execute_result"
    }
   ],
   "source": [
    "aggregate(df, sum)"
   ]
  },
  {
   "cell_type": "code",
   "execution_count": 10,
   "metadata": {},
   "outputs": [
    {
     "data": {
      "text/html": [
       "<table class=\"data-frame\"><thead><tr><th></th><th>a</th><th>b_sum</th><th>c_sum</th></tr></thead><tbody><tr><th>1</th><td>1</td><td>-3</td><td>1.23108</td></tr><tr><th>2</th><td>3</td><td>6</td><td>-0.813266</td></tr><tr><th>3</th><td>5</td><td>-3</td><td>0.755505</td></tr><tr><th>4</th><td>7</td><td>6</td><td>-1.50622</td></tr></tbody></table>"
      ],
      "text/plain": [
       "4×3 DataFrames.DataFrame\n",
       "│ Row │ a │ b_sum │ c_sum     │\n",
       "├─────┼───┼───────┼───────────┤\n",
       "│ 1   │ 1 │ -3    │ 1.23108   │\n",
       "│ 2   │ 3 │ 6     │ -0.813266 │\n",
       "│ 3   │ 5 │ -3    │ 0.755505  │\n",
       "│ 4   │ 7 │ 6     │ -1.50622  │"
      ]
     },
     "execution_count": 10,
     "metadata": {},
     "output_type": "execute_result"
    }
   ],
   "source": [
    "aggregate(df, :a, sum)"
   ]
  },
  {
   "cell_type": "code",
   "execution_count": 11,
   "metadata": {},
   "outputs": [
    {
     "data": {
      "text/html": [
       "<table class=\"data-frame\"><thead><tr><th></th><th>a</th><th>b_sum</th><th>c_sum</th><th>b_#11</th><th>c_#11</th></tr></thead><tbody><tr><th>1</th><td>1</td><td>-3</td><td>1.23108</td><td>-1.0</td><td>0.41036</td></tr><tr><th>2</th><td>3</td><td>6</td><td>-0.813266</td><td>2.0</td><td>-0.271089</td></tr><tr><th>3</th><td>5</td><td>-3</td><td>0.755505</td><td>-1.0</td><td>0.251835</td></tr><tr><th>4</th><td>7</td><td>6</td><td>-1.50622</td><td>2.0</td><td>-0.502074</td></tr></tbody></table>"
      ],
      "text/plain": [
       "4×5 DataFrames.DataFrame\n",
       "│ Row │ a │ b_sum │ c_sum     │ b_#11 │ c_#11     │\n",
       "├─────┼───┼───────┼───────────┼───────┼───────────┤\n",
       "│ 1   │ 1 │ -3    │ 1.23108   │ -1.0  │ 0.41036   │\n",
       "│ 2   │ 3 │ 6     │ -0.813266 │ 2.0   │ -0.271089 │\n",
       "│ 3   │ 5 │ -3    │ 0.755505  │ -1.0  │ 0.251835  │\n",
       "│ 4   │ 7 │ 6     │ -1.50622  │ 2.0   │ -0.502074 │"
      ]
     },
     "execution_count": 11,
     "metadata": {},
     "output_type": "execute_result"
    }
   ],
   "source": [
    "aggregate(df, :a, [sum, x->mean(skipmissing(x))])"
   ]
  }
 ],
 "metadata": {
  "kernelspec": {
   "display_name": "Julia 0.6.2",
   "language": "julia",
   "name": "julia-0.6"
  },
  "language_info": {
   "file_extension": ".jl",
   "mimetype": "application/julia",
   "name": "julia",
   "version": "0.6.2"
  }
 },
 "nbformat": 4,
 "nbformat_minor": 2
}
