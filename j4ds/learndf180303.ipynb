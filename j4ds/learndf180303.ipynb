{
 "cells": [
  {
   "cell_type": "code",
   "execution_count": 1,
   "metadata": {},
   "outputs": [],
   "source": [
    "using DataFrames"
   ]
  },
  {
   "cell_type": "code",
   "execution_count": 2,
   "metadata": {},
   "outputs": [],
   "source": [
    "using CSV"
   ]
  },
  {
   "cell_type": "markdown",
   "metadata": {},
   "source": [
    "Avoid `CSV.ParsingException(\"error parsing a `Int64` value on column 1, row 8893; encountered 'X'\")`, etc."
   ]
  },
  {
   "cell_type": "code",
   "execution_count": 5,
   "metadata": {
    "collapsed": true
   },
   "outputs": [
    {
     "data": {
      "text/html": [
       "<table class=\"data-frame\"><thead><tr><th></th><th>Accident_Index</th><th>Location_Easting_OSGR</th><th>Location_Northing_OSGR</th><th>Longitude</th><th>Latitude</th><th>Police_Force</th><th>Accident_Severity</th><th>Number_of_Vehicles</th><th>Number_of_Casualties</th><th>Date</th><th>Day_of_Week</th><th>Time</th><th>Local_Authority_(District)</th><th>Local_Authority_(Highway)</th><th>1st_Road_Class</th><th>1st_Road_Number</th><th>Road_Type</th><th>Speed_limit</th><th>Junction_Detail</th><th>Junction_Control</th><th>2nd_Road_Class</th><th>2nd_Road_Number</th><th>Pedestrian_Crossing-Human_Control</th><th>Pedestrian_Crossing-Physical_Facilities</th><th>Light_Conditions</th><th>Weather_Conditions</th><th>Road_Surface_Conditions</th><th>Special_Conditions_at_Site</th><th>Carriageway_Hazards</th><th>Urban_or_Rural_Area</th><th>Did_Police_Officer_Attend_Scene_of_Accident</th><th>LSOA_of_Accident_Location</th></tr></thead><tbody><tr><th>1</th><td>2016010000005</td><td>519310</td><td>188730</td><td>-0.279323</td><td>51.5848</td><td>1</td><td>3</td><td>2</td><td>1</td><td>01/11/2016</td><td>3</td><td>02:30</td><td>28</td><td>E09000005</td><td>3</td><td>4006</td><td>6</td><td>30</td><td>0</td><td>-1</td><td>-1</td><td>0</td><td>0</td><td>0</td><td>5</td><td>1</td><td>1</td><td>0</td><td>0</td><td>1</td><td>1</td><td>E01000543</td></tr><tr><th>2</th><td>2016010000006</td><td>551920</td><td>174560</td><td>0.184928</td><td>51.4496</td><td>1</td><td>3</td><td>1</td><td>1</td><td>01/11/2016</td><td>3</td><td>00:37</td><td>18</td><td>E09000004</td><td>3</td><td>207</td><td>6</td><td>30</td><td>9</td><td>4</td><td>6</td><td>0</td><td>0</td><td>0</td><td>4</td><td>1</td><td>1</td><td>0</td><td>0</td><td>1</td><td>1</td><td>E01000375</td></tr><tr><th>3</th><td>2016010000008</td><td>505930</td><td>183850</td><td>-0.473837</td><td>51.5436</td><td>1</td><td>3</td><td>1</td><td>1</td><td>01/11/2016</td><td>3</td><td>01:25</td><td>26</td><td>E09000017</td><td>3</td><td>4020</td><td>1</td><td>30</td><td>1</td><td>4</td><td>3</td><td>4020</td><td>0</td><td>0</td><td>4</td><td>1</td><td>1</td><td>0</td><td>0</td><td>1</td><td>1</td><td>E01033725</td></tr><tr><th>4</th><td>2016010000016</td><td>527770</td><td>168930</td><td>-0.164442</td><td>51.405</td><td>1</td><td>3</td><td>1</td><td>1</td><td>01/11/2016</td><td>3</td><td>09:15</td><td>22</td><td>E09000024</td><td>3</td><td>217</td><td>6</td><td>30</td><td>3</td><td>2</td><td>3</td><td>217</td><td>0</td><td>0</td><td>1</td><td>1</td><td>1</td><td>0</td><td>0</td><td>1</td><td>1</td><td>E01003379</td></tr><tr><th>5</th><td>2016010000018</td><td>510740</td><td>177230</td><td>-0.40658</td><td>51.4831</td><td>1</td><td>3</td><td>2</td><td>1</td><td>01/11/2016</td><td>3</td><td>07:53</td><td>25</td><td>E09000018</td><td>3</td><td>312</td><td>3</td><td>40</td><td>0</td><td>-1</td><td>-1</td><td>0</td><td>0</td><td>0</td><td>1</td><td>1</td><td>1</td><td>0</td><td>0</td><td>1</td><td>1</td><td>E01002583</td></tr><tr><th>6</th><td>2016010000019</td><td>530840</td><td>167100</td><td>-0.121004</td><td>51.3878</td><td>1</td><td>3</td><td>2</td><td>1</td><td>01/11/2016</td><td>3</td><td>09:29</td><td>20</td><td>E09000008</td><td>3</td><td>23</td><td>6</td><td>30</td><td>3</td><td>4</td><td>6</td><td>0</td><td>0</td><td>8</td><td>1</td><td>1</td><td>1</td><td>0</td><td>0</td><td>1</td><td>1</td><td>E01001180</td></tr><tr><th>7</th><td>2016010000020</td><td>527610</td><td>181430</td><td>-0.162234</td><td>51.5173</td><td>1</td><td>3</td><td>1</td><td>1</td><td>01/11/2016</td><td>3</td><td>08:53</td><td>1</td><td>E09000033</td><td>5</td><td>0</td><td>6</td><td>30</td><td>0</td><td>-1</td><td>-1</td><td>0</td><td>0</td><td>0</td><td>1</td><td>1</td><td>1</td><td>0</td><td>0</td><td>1</td><td>1</td><td>E01004658</td></tr><tr><th>8</th><td>2016010000021</td><td>523830</td><td>189460</td><td>-0.213859</td><td>51.5903</td><td>1</td><td>3</td><td>2</td><td>1</td><td>01/11/2016</td><td>3</td><td>10:05</td><td>30</td><td>E09000003</td><td>3</td><td>504</td><td>6</td><td>30</td><td>3</td><td>4</td><td>6</td><td>0</td><td>0</td><td>0</td><td>1</td><td>1</td><td>1</td><td>0</td><td>0</td><td>1</td><td>1</td><td>E01000243</td></tr><tr><th>9</th><td>2016010000023</td><td>524640</td><td>180620</td><td>-0.205302</td><td>51.5107</td><td>1</td><td>3</td><td>1</td><td>1</td><td>01/11/2016</td><td>3</td><td>09:51</td><td>12</td><td>E09000020</td><td>4</td><td>450</td><td>6</td><td>30</td><td>3</td><td>4</td><td>6</td><td>0</td><td>0</td><td>0</td><td>1</td><td>1</td><td>1</td><td>0</td><td>0</td><td>1</td><td>1</td><td>E01002875</td></tr><tr><th>10</th><td>2016010000024</td><td>540670</td><td>174700</td><td>0.023193</td><td>51.4538</td><td>1</td><td>3</td><td>2</td><td>1</td><td>01/11/2016</td><td>3</td><td>09:45</td><td>6</td><td>E09000011</td><td>3</td><td>20</td><td>6</td><td>30</td><td>3</td><td>4</td><td>6</td><td>0</td><td>0</td><td>0</td><td>1</td><td>1</td><td>1</td><td>0</td><td>0</td><td>1</td><td>1</td><td>E01001658</td></tr><tr><th>11</th><td>2016010000025</td><td>528300</td><td>188290</td><td>-0.149795</td><td>51.5788</td><td>1</td><td>3</td><td>3</td><td>1</td><td>01/11/2016</td><td>3</td><td>09:50</td><td>31</td><td>E09000014</td><td>3</td><td>1</td><td>6</td><td>30</td><td>9</td><td>4</td><td>6</td><td>0</td><td>0</td><td>0</td><td>1</td><td>1</td><td>1</td><td>4</td><td>0</td><td>1</td><td>1</td><td>E01002011</td></tr><tr><th>12</th><td>2016010000028</td><td>524180</td><td>196480</td><td>-0.206323</td><td>51.6534</td><td>1</td><td>3</td><td>1</td><td>1</td><td>01/11/2016</td><td>3</td><td>10:50</td><td>30</td><td>E09000003</td><td>6</td><td>0</td><td>2</td><td>30</td><td>3</td><td>4</td><td>6</td><td>0</td><td>0</td><td>0</td><td>1</td><td>2</td><td>1</td><td>0</td><td>0</td><td>1</td><td>1</td><td>E01000248</td></tr><tr><th>13</th><td>2016010000031</td><td>535890</td><td>181160</td><td>-0.043075</td><td>51.513</td><td>1</td><td>3</td><td>2</td><td>1</td><td>01/11/2016</td><td>3</td><td>08:56</td><td>5</td><td>E09000030</td><td>3</td><td>13</td><td>3</td><td>20</td><td>7</td><td>4</td><td>6</td><td>0</td><td>0</td><td>0</td><td>1</td><td>1</td><td>1</td><td>0</td><td>0</td><td>1</td><td>1</td><td>E01032769</td></tr><tr><th>14</th><td>2016010000033</td><td>536290</td><td>166630</td><td>-0.042906</td><td>51.3823</td><td>1</td><td>2</td><td>1</td><td>1</td><td>01/11/2016</td><td>3</td><td>08:30</td><td>20</td><td>E09000008</td><td>5</td><td>0</td><td>6</td><td>30</td><td>0</td><td>-1</td><td>-1</td><td>0</td><td>0</td><td>0</td><td>1</td><td>7</td><td>1</td><td>0</td><td>0</td><td>1</td><td>1</td><td>E01001132</td></tr><tr><th>15</th><td>2016010000035</td><td>549000</td><td>182770</td><td>0.146399</td><td>51.5241</td><td>1</td><td>3</td><td>2</td><td>2</td><td>01/11/2016</td><td>3</td><td>09:50</td><td>16</td><td>E09000002</td><td>6</td><td>0</td><td>6</td><td>30</td><td>9</td><td>4</td><td>6</td><td>0</td><td>0</td><td>0</td><td>1</td><td>1</td><td>1</td><td>0</td><td>0</td><td>1</td><td>1</td><td>E01000095</td></tr><tr><th>16</th><td>2016010000039</td><td>523320</td><td>184260</td><td>-0.22304</td><td>51.5437</td><td>1</td><td>3</td><td>2</td><td>1</td><td>01/11/2016</td><td>3</td><td>08:37</td><td>28</td><td>E09000005</td><td>5</td><td>0</td><td>6</td><td>30</td><td>6</td><td>4</td><td>6</td><td>0</td><td>0</td><td>0</td><td>1</td><td>1</td><td>1</td><td>0</td><td>0</td><td>1</td><td>1</td><td>E01000489</td></tr><tr><th>17</th><td>2016010000046</td><td>527310</td><td>179690</td><td>-0.167183</td><td>51.5018</td><td>1</td><td>3</td><td>2</td><td>1</td><td>01/11/2016</td><td>3</td><td>11:00</td><td>1</td><td>E09000033</td><td>3</td><td>315</td><td>6</td><td>30</td><td>3</td><td>4</td><td>6</td><td>0</td><td>0</td><td>0</td><td>1</td><td>1</td><td>1</td><td>0</td><td>0</td><td>1</td><td>1</td><td>E01004692</td></tr><tr><th>18</th><td>2016010000047</td><td>517500</td><td>170460</td><td>-0.311517</td><td>51.4209</td><td>1</td><td>3</td><td>1</td><td>1</td><td>01/11/2016</td><td>3</td><td>08:40</td><td>24</td><td>E09000027</td><td>5</td><td>0</td><td>6</td><td>30</td><td>3</td><td>4</td><td>6</td><td>0</td><td>0</td><td>0</td><td>1</td><td>1</td><td>1</td><td>0</td><td>0</td><td>1</td><td>1</td><td>E01003837</td></tr><tr><th>19</th><td>2016010000048</td><td>516350</td><td>175710</td><td>-0.326324</td><td>51.4684</td><td>1</td><td>2</td><td>1</td><td>1</td><td>01/11/2016</td><td>3</td><td>07:10</td><td>25</td><td>E09000018</td><td>3</td><td>3004</td><td>6</td><td>30</td><td>3</td><td>4</td><td>6</td><td>0</td><td>0</td><td>4</td><td>1</td><td>1</td><td>1</td><td>0</td><td>2</td><td>1</td><td>1</td><td>E01002667</td></tr><tr><th>20</th><td>2016010000049</td><td>513930</td><td>176600</td><td>-0.360863</td><td>51.4768</td><td>1</td><td>3</td><td>1</td><td>1</td><td>01/11/2016</td><td>3</td><td>13:10</td><td>25</td><td>E09000018</td><td>4</td><td>363</td><td>6</td><td>30</td><td>2</td><td>4</td><td>5</td><td>0</td><td>0</td><td>8</td><td>1</td><td>1</td><td>1</td><td>0</td><td>0</td><td>1</td><td>1</td><td>E01002640</td></tr><tr><th>21</th><td>2016010000050</td><td>550290</td><td>185060</td><td>0.165957</td><td>51.5444</td><td>1</td><td>3</td><td>4</td><td>1</td><td>01/11/2016</td><td>3</td><td>07:28</td><td>16</td><td>E09000002</td><td>3</td><td>1112</td><td>2</td><td>30</td><td>3</td><td>4</td><td>6</td><td>0</td><td>2</td><td>4</td><td>1</td><td>2</td><td>1</td><td>0</td><td>2</td><td>1</td><td>1</td><td>E01000036</td></tr><tr><th>22</th><td>2016010000051</td><td>531980</td><td>194470</td><td>-0.094392</td><td>51.6335</td><td>1</td><td>3</td><td>2</td><td>3</td><td>01/11/2016</td><td>3</td><td>13:03</td><td>32</td><td>E09000010</td><td>3</td><td>105</td><td>6</td><td>30</td><td>3</td><td>4</td><td>6</td><td>0</td><td>0</td><td>0</td><td>1</td><td>1</td><td>1</td><td>0</td><td>0</td><td>1</td><td>1</td><td>E01001569</td></tr><tr><th>23</th><td>2016010000052</td><td>512760</td><td>172110</td><td>-0.379133</td><td>51.4367</td><td>1</td><td>3</td><td>2</td><td>1</td><td>01/11/2016</td><td>3</td><td>10:13</td><td>25</td><td>E09000018</td><td>3</td><td>312</td><td>1</td><td>30</td><td>1</td><td>4</td><td>3</td><td>316</td><td>0</td><td>0</td><td>1</td><td>1</td><td>1</td><td>0</td><td>0</td><td>1</td><td>1</td><td>E01002605</td></tr><tr><th>24</th><td>2016010000053</td><td>525750</td><td>179560</td><td>-0.189693</td><td>51.5009</td><td>1</td><td>3</td><td>1</td><td>1</td><td>01/11/2016</td><td>3</td><td>13:52</td><td>12</td><td>E09000020</td><td>6</td><td>0</td><td>6</td><td>30</td><td>0</td><td>-1</td><td>-1</td><td>0</td><td>0</td><td>0</td><td>1</td><td>1</td><td>1</td><td>0</td><td>0</td><td>1</td><td>1</td><td>E01002889</td></tr><tr><th>25</th><td>2016010000055</td><td>532660</td><td>192580</td><td>-0.085288</td><td>51.6164</td><td>1</td><td>3</td><td>2</td><td>1</td><td>01/11/2016</td><td>3</td><td>14:41</td><td>32</td><td>E09000010</td><td>6</td><td>0</td><td>2</td><td>30</td><td>0</td><td>-1</td><td>-1</td><td>0</td><td>0</td><td>0</td><td>1</td><td>8</td><td>1</td><td>0</td><td>0</td><td>1</td><td>1</td><td>E01001465</td></tr><tr><th>26</th><td>2016010000056</td><td>528390</td><td>177880</td><td>-0.152289</td><td>51.4853</td><td>1</td><td>2</td><td>2</td><td>1</td><td>01/11/2016</td><td>3</td><td>14:45</td><td>12</td><td>E09000020</td><td>3</td><td>3212</td><td>6</td><td>30</td><td>0</td><td>-1</td><td>-1</td><td>0</td><td>0</td><td>0</td><td>1</td><td>1</td><td>1</td><td>0</td><td>0</td><td>1</td><td>1</td><td>E01002901</td></tr><tr><th>27</th><td>2016010000058</td><td>533900</td><td>190630</td><td>-0.068132</td><td>51.5986</td><td>1</td><td>3</td><td>2</td><td>1</td><td>01/11/2016</td><td>3</td><td>13:55</td><td>31</td><td>E09000014</td><td>3</td><td>1010</td><td>6</td><td>30</td><td>6</td><td>2</td><td>4</td><td>137</td><td>0</td><td>5</td><td>1</td><td>1</td><td>1</td><td>0</td><td>0</td><td>1</td><td>1</td><td>E01002038</td></tr><tr><th>28</th><td>2016010000060</td><td>543780</td><td>178950</td><td>0.069651</td><td>51.4912</td><td>1</td><td>3</td><td>1</td><td>1</td><td>01/11/2016</td><td>3</td><td>17:05</td><td>6</td><td>E09000011</td><td>3</td><td>205</td><td>6</td><td>30</td><td>3</td><td>2</td><td>3</td><td>206</td><td>0</td><td>4</td><td>4</td><td>1</td><td>1</td><td>0</td><td>0</td><td>1</td><td>1</td><td>E01033731</td></tr><tr><th>29</th><td>2016010000061</td><td>547100</td><td>188420</td><td>0.121392</td><td>51.5754</td><td>1</td><td>3</td><td>1</td><td>1</td><td>01/11/2016</td><td>3</td><td>16:45</td><td>14</td><td>E09000026</td><td>6</td><td>0</td><td>6</td><td>30</td><td>0</td><td>-1</td><td>-1</td><td>0</td><td>0</td><td>0</td><td>4</td><td>1</td><td>1</td><td>0</td><td>0</td><td>1</td><td>1</td><td>E01033590</td></tr><tr><th>30</th><td>2016010000064</td><td>542830</td><td>172020</td><td>0.05318</td><td>51.4291</td><td>1</td><td>3</td><td>2</td><td>1</td><td>01/11/2016</td><td>3</td><td>14:58</td><td>19</td><td>E09000006</td><td>3</td><td>208</td><td>6</td><td>30</td><td>3</td><td>4</td><td>5</td><td>0</td><td>0</td><td>0</td><td>1</td><td>1</td><td>1</td><td>0</td><td>0</td><td>1</td><td>1</td><td>E01000781</td></tr><tr><th>&vellip;</th><td>&vellip;</td><td>&vellip;</td><td>&vellip;</td><td>&vellip;</td><td>&vellip;</td><td>&vellip;</td><td>&vellip;</td><td>&vellip;</td><td>&vellip;</td><td>&vellip;</td><td>&vellip;</td><td>&vellip;</td><td>&vellip;</td><td>&vellip;</td><td>&vellip;</td><td>&vellip;</td><td>&vellip;</td><td>&vellip;</td><td>&vellip;</td><td>&vellip;</td><td>&vellip;</td><td>&vellip;</td><td>&vellip;</td><td>&vellip;</td><td>&vellip;</td><td>&vellip;</td><td>&vellip;</td><td>&vellip;</td><td>&vellip;</td><td>&vellip;</td><td>&vellip;</td><td>&vellip;</td></tr></tbody></table>"
      ],
      "text/plain": [
       "136621×32 DataFrames.DataFrame. Omitted printing of 29 columns\n",
       "│ Row    │ Accident_Index │ Location_Easting_OSGR │ Location_Northing_OSGR │\n",
       "├────────┼────────────────┼───────────────────────┼────────────────────────┤\n",
       "│ 1      │ 2016010000005  │ 519310                │ 188730                 │\n",
       "│ 2      │ 2016010000006  │ 551920                │ 174560                 │\n",
       "│ 3      │ 2016010000008  │ 505930                │ 183850                 │\n",
       "│ 4      │ 2016010000016  │ 527770                │ 168930                 │\n",
       "│ 5      │ 2016010000018  │ 510740                │ 177230                 │\n",
       "│ 6      │ 2016010000019  │ 530840                │ 167100                 │\n",
       "│ 7      │ 2016010000020  │ 527610                │ 181430                 │\n",
       "│ 8      │ 2016010000021  │ 523830                │ 189460                 │\n",
       "│ 9      │ 2016010000023  │ 524640                │ 180620                 │\n",
       "│ 10     │ 2016010000024  │ 540670                │ 174700                 │\n",
       "│ 11     │ 2016010000025  │ 528300                │ 188290                 │\n",
       "⋮\n",
       "│ 136610 │ 2016984128816  │ 317395                │ 566381                 │\n",
       "│ 136611 │ 2016984129716  │ 306142                │ 605658                 │\n",
       "│ 136612 │ 2016984129916  │ 321471                │ 567402                 │\n",
       "│ 136613 │ 2016984130316  │ 319298                │ 566583                 │\n",
       "│ 136614 │ 2016984130516  │ 303721                │ 611256                 │\n",
       "│ 136615 │ 2016984130616  │ 321470                │ 567406                 │\n",
       "│ 136616 │ 2016984130816  │ 326226                │ 566974                 │\n",
       "│ 136617 │ 2016984130916  │ 319273                │ 574564                 │\n",
       "│ 136618 │ 2016984131116  │ 316143                │ 568615                 │\n",
       "│ 136619 │ 2016984131216  │ 322903                │ 573365                 │\n",
       "│ 136620 │ 2016984131316  │ 318673                │ 566850                 │\n",
       "│ 136621 │ 2016984133416  │ 308165                │ 602737                 │"
      ]
     },
     "execution_count": 5,
     "metadata": {},
     "output_type": "execute_result"
    }
   ],
   "source": [
    "DfAccidents_16 = CSV.read(\"dftRoadSafety_Accidents_2016.csv\"; rows_for_type_detect=100000)"
   ]
  },
  {
   "cell_type": "code",
   "execution_count": 6,
   "metadata": {},
   "outputs": [
    {
     "data": {
      "text/html": [
       "<table class=\"data-frame\"><thead><tr><th></th><th>Accident_Index</th><th>Location_Easting_OSGR</th><th>Location_Northing_OSGR</th><th>Longitude</th><th>Latitude</th><th>Police_Force</th><th>Accident_Severity</th><th>Number_of_Vehicles</th><th>Number_of_Casualties</th><th>Date</th><th>Day_of_Week</th><th>Time</th><th>Local_Authority_(District)</th><th>Local_Authority_(Highway)</th><th>1st_Road_Class</th><th>1st_Road_Number</th><th>Road_Type</th><th>Speed_limit</th><th>Junction_Detail</th><th>Junction_Control</th><th>2nd_Road_Class</th><th>2nd_Road_Number</th><th>Pedestrian_Crossing-Human_Control</th><th>Pedestrian_Crossing-Physical_Facilities</th><th>Light_Conditions</th><th>Weather_Conditions</th><th>Road_Surface_Conditions</th><th>Special_Conditions_at_Site</th><th>Carriageway_Hazards</th><th>Urban_or_Rural_Area</th><th>Did_Police_Officer_Attend_Scene_of_Accident</th><th>LSOA_of_Accident_Location</th></tr></thead><tbody><tr><th>1</th><td>2016010000005</td><td>519310</td><td>188730</td><td>-0.279323</td><td>51.5848</td><td>1</td><td>3</td><td>2</td><td>1</td><td>01/11/2016</td><td>3</td><td>02:30</td><td>28</td><td>E09000005</td><td>3</td><td>4006</td><td>6</td><td>30</td><td>0</td><td>-1</td><td>-1</td><td>0</td><td>0</td><td>0</td><td>5</td><td>1</td><td>1</td><td>0</td><td>0</td><td>1</td><td>1</td><td>E01000543</td></tr><tr><th>2</th><td>2016010000006</td><td>551920</td><td>174560</td><td>0.184928</td><td>51.4496</td><td>1</td><td>3</td><td>1</td><td>1</td><td>01/11/2016</td><td>3</td><td>00:37</td><td>18</td><td>E09000004</td><td>3</td><td>207</td><td>6</td><td>30</td><td>9</td><td>4</td><td>6</td><td>0</td><td>0</td><td>0</td><td>4</td><td>1</td><td>1</td><td>0</td><td>0</td><td>1</td><td>1</td><td>E01000375</td></tr><tr><th>3</th><td>2016010000008</td><td>505930</td><td>183850</td><td>-0.473837</td><td>51.5436</td><td>1</td><td>3</td><td>1</td><td>1</td><td>01/11/2016</td><td>3</td><td>01:25</td><td>26</td><td>E09000017</td><td>3</td><td>4020</td><td>1</td><td>30</td><td>1</td><td>4</td><td>3</td><td>4020</td><td>0</td><td>0</td><td>4</td><td>1</td><td>1</td><td>0</td><td>0</td><td>1</td><td>1</td><td>E01033725</td></tr><tr><th>4</th><td>2016010000016</td><td>527770</td><td>168930</td><td>-0.164442</td><td>51.405</td><td>1</td><td>3</td><td>1</td><td>1</td><td>01/11/2016</td><td>3</td><td>09:15</td><td>22</td><td>E09000024</td><td>3</td><td>217</td><td>6</td><td>30</td><td>3</td><td>2</td><td>3</td><td>217</td><td>0</td><td>0</td><td>1</td><td>1</td><td>1</td><td>0</td><td>0</td><td>1</td><td>1</td><td>E01003379</td></tr><tr><th>5</th><td>2016010000018</td><td>510740</td><td>177230</td><td>-0.40658</td><td>51.4831</td><td>1</td><td>3</td><td>2</td><td>1</td><td>01/11/2016</td><td>3</td><td>07:53</td><td>25</td><td>E09000018</td><td>3</td><td>312</td><td>3</td><td>40</td><td>0</td><td>-1</td><td>-1</td><td>0</td><td>0</td><td>0</td><td>1</td><td>1</td><td>1</td><td>0</td><td>0</td><td>1</td><td>1</td><td>E01002583</td></tr><tr><th>6</th><td>2016010000019</td><td>530840</td><td>167100</td><td>-0.121004</td><td>51.3878</td><td>1</td><td>3</td><td>2</td><td>1</td><td>01/11/2016</td><td>3</td><td>09:29</td><td>20</td><td>E09000008</td><td>3</td><td>23</td><td>6</td><td>30</td><td>3</td><td>4</td><td>6</td><td>0</td><td>0</td><td>8</td><td>1</td><td>1</td><td>1</td><td>0</td><td>0</td><td>1</td><td>1</td><td>E01001180</td></tr></tbody></table>"
      ],
      "text/plain": [
       "6×32 DataFrames.DataFrame. Omitted printing of 29 columns\n",
       "│ Row │ Accident_Index │ Location_Easting_OSGR │ Location_Northing_OSGR │\n",
       "├─────┼────────────────┼───────────────────────┼────────────────────────┤\n",
       "│ 1   │ 2016010000005  │ 519310                │ 188730                 │\n",
       "│ 2   │ 2016010000006  │ 551920                │ 174560                 │\n",
       "│ 3   │ 2016010000008  │ 505930                │ 183850                 │\n",
       "│ 4   │ 2016010000016  │ 527770                │ 168930                 │\n",
       "│ 5   │ 2016010000018  │ 510740                │ 177230                 │\n",
       "│ 6   │ 2016010000019  │ 530840                │ 167100                 │"
      ]
     },
     "execution_count": 6,
     "metadata": {},
     "output_type": "execute_result"
    }
   ],
   "source": [
    "head(DfAccidents_16)"
   ]
  },
  {
   "cell_type": "code",
   "execution_count": 7,
   "metadata": {
    "collapsed": true
   },
   "outputs": [
    {
     "data": {
      "text/plain": [
       "32-element Array{Symbol,1}:\n",
       " :Accident_Index                                  \n",
       " :Location_Easting_OSGR                           \n",
       " :Location_Northing_OSGR                          \n",
       " :Longitude                                       \n",
       " :Latitude                                        \n",
       " :Police_Force                                    \n",
       " :Accident_Severity                               \n",
       " :Number_of_Vehicles                              \n",
       " :Number_of_Casualties                            \n",
       " :Date                                            \n",
       " :Day_of_Week                                     \n",
       " :Time                                            \n",
       " Symbol(\"Local_Authority_(District)\")             \n",
       " ⋮                                                \n",
       " Symbol(\"2nd_Road_Class\")                         \n",
       " Symbol(\"2nd_Road_Number\")                        \n",
       " Symbol(\"Pedestrian_Crossing-Human_Control\")      \n",
       " Symbol(\"Pedestrian_Crossing-Physical_Facilities\")\n",
       " :Light_Conditions                                \n",
       " :Weather_Conditions                              \n",
       " :Road_Surface_Conditions                         \n",
       " :Special_Conditions_at_Site                      \n",
       " :Carriageway_Hazards                             \n",
       " :Urban_or_Rural_Area                             \n",
       " :Did_Police_Officer_Attend_Scene_of_Accident     \n",
       " :LSOA_of_Accident_Location                       "
      ]
     },
     "execution_count": 7,
     "metadata": {},
     "output_type": "execute_result"
    }
   ],
   "source": [
    "names(DfAccidents_16)"
   ]
  },
  {
   "cell_type": "code",
   "execution_count": 9,
   "metadata": {
    "collapsed": true
   },
   "outputs": [
    {
     "data": {
      "text/html": [
       "<table class=\"data-frame\"><thead><tr><th></th><th>Accident_Index</th><th>Vehicle_Reference</th><th>Vehicle_Type</th><th>Towing_and_Articulation</th><th>Vehicle_Manoeuvre</th><th>Vehicle_Location-Restricted_Lane</th><th>Junction_Location</th><th>Skidding_and_Overturning</th><th>Hit_Object_in_Carriageway</th><th>Vehicle_Leaving_Carriageway</th><th>Hit_Object_off_Carriageway</th><th>1st_Point_of_Impact</th><th>Was_Vehicle_Left_Hand_Drive?</th><th>Journey_Purpose_of_Driver</th><th>Sex_of_Driver</th><th>Age_of_Driver</th><th>Age_Band_of_Driver</th><th>Engine_Capacity_(CC)</th><th>Propulsion_Code</th><th>Age_of_Vehicle</th><th>Driver_IMD_Decile</th><th>Driver_Home_Area_Type</th><th>Vehicle_IMD_Decile</th></tr></thead><tbody><tr><th>1</th><td>2016010000005</td><td>1</td><td>8</td><td>0</td><td>6</td><td>0</td><td>0</td><td>0</td><td>0</td><td>0</td><td>0</td><td>3</td><td>1</td><td>1</td><td>1</td><td>51</td><td>8</td><td>-1</td><td>-1</td><td>-1</td><td>3</td><td>1</td><td>3</td></tr><tr><th>2</th><td>2016010000005</td><td>2</td><td>2</td><td>0</td><td>18</td><td>0</td><td>0</td><td>0</td><td>0</td><td>0</td><td>0</td><td>1</td><td>1</td><td>6</td><td>1</td><td>23</td><td>5</td><td>124</td><td>1</td><td>4</td><td>4</td><td>1</td><td>4</td></tr><tr><th>3</th><td>2016010000006</td><td>1</td><td>9</td><td>0</td><td>18</td><td>0</td><td>2</td><td>2</td><td>10</td><td>1</td><td>0</td><td>4</td><td>1</td><td>6</td><td>2</td><td>36</td><td>7</td><td>1461</td><td>2</td><td>1</td><td>10</td><td>1</td><td>10</td></tr><tr><th>4</th><td>2016010000008</td><td>1</td><td>9</td><td>0</td><td>18</td><td>0</td><td>4</td><td>5</td><td>0</td><td>0</td><td>0</td><td>1</td><td>1</td><td>6</td><td>1</td><td>24</td><td>5</td><td>1390</td><td>1</td><td>5</td><td>8</td><td>1</td><td>8</td></tr><tr><th>5</th><td>2016010000016</td><td>1</td><td>11</td><td>0</td><td>18</td><td>0</td><td>1</td><td>0</td><td>0</td><td>0</td><td>0</td><td>0</td><td>1</td><td>1</td><td>1</td><td>55</td><td>8</td><td>6692</td><td>2</td><td>7</td><td>9</td><td>1</td><td>9</td></tr><tr><th>6</th><td>2016010000018</td><td>1</td><td>9</td><td>0</td><td>12</td><td>0</td><td>0</td><td>0</td><td>0</td><td>0</td><td>0</td><td>1</td><td>1</td><td>6</td><td>1</td><td>20</td><td>4</td><td>1596</td><td>1</td><td>11</td><td>2</td><td>1</td><td>2</td></tr><tr><th>7</th><td>2016010000018</td><td>2</td><td>1</td><td>0</td><td>18</td><td>0</td><td>0</td><td>0</td><td>0</td><td>0</td><td>0</td><td>4</td><td>1</td><td>6</td><td>1</td><td>28</td><td>6</td><td>-1</td><td>-1</td><td>-1</td><td>6</td><td>1</td><td>6</td></tr><tr><th>8</th><td>2016010000019</td><td>1</td><td>9</td><td>0</td><td>18</td><td>0</td><td>1</td><td>0</td><td>0</td><td>1</td><td>0</td><td>2</td><td>1</td><td>6</td><td>2</td><td>30</td><td>6</td><td>1596</td><td>1</td><td>10</td><td>3</td><td>1</td><td>3</td></tr><tr><th>9</th><td>2016010000019</td><td>2</td><td>9</td><td>0</td><td>18</td><td>0</td><td>1</td><td>0</td><td>0</td><td>0</td><td>0</td><td>1</td><td>1</td><td>6</td><td>1</td><td>27</td><td>6</td><td>1596</td><td>1</td><td>5</td><td>2</td><td>1</td><td>2</td></tr><tr><th>10</th><td>2016010000020</td><td>1</td><td>8</td><td>0</td><td>18</td><td>0</td><td>0</td><td>0</td><td>0</td><td>0</td><td>0</td><td>4</td><td>1</td><td>1</td><td>1</td><td>33</td><td>6</td><td>2499</td><td>2</td><td>2</td><td>2</td><td>1</td><td>2</td></tr><tr><th>11</th><td>2016010000021</td><td>1</td><td>9</td><td>0</td><td>9</td><td>0</td><td>6</td><td>0</td><td>0</td><td>0</td><td>0</td><td>1</td><td>2</td><td>6</td><td>1</td><td>25</td><td>5</td><td>-1</td><td>-1</td><td>-1</td><td>4</td><td>1</td><td>4</td></tr><tr><th>12</th><td>2016010000021</td><td>2</td><td>9</td><td>0</td><td>18</td><td>0</td><td>2</td><td>0</td><td>0</td><td>0</td><td>0</td><td>4</td><td>1</td><td>6</td><td>2</td><td>30</td><td>6</td><td>1596</td><td>1</td><td>15</td><td>7</td><td>1</td><td>7</td></tr><tr><th>13</th><td>2016010000023</td><td>1</td><td>4</td><td>0</td><td>9</td><td>0</td><td>1</td><td>1</td><td>0</td><td>0</td><td>0</td><td>0</td><td>1</td><td>6</td><td>1</td><td>21</td><td>5</td><td>-1</td><td>-1</td><td>-1</td><td>-1</td><td>1</td><td>-1</td></tr><tr><th>14</th><td>2016010000024</td><td>1</td><td>11</td><td>0</td><td>5</td><td>0</td><td>8</td><td>0</td><td>0</td><td>0</td><td>0</td><td>0</td><td>1</td><td>1</td><td>1</td><td>51</td><td>8</td><td>-1</td><td>-1</td><td>-1</td><td>-1</td><td>1</td><td>-1</td></tr><tr><th>15</th><td>2016010000024</td><td>2</td><td>9</td><td>0</td><td>13</td><td>0</td><td>8</td><td>0</td><td>0</td><td>0</td><td>0</td><td>0</td><td>1</td><td>6</td><td>3</td><td>-1</td><td>-1</td><td>-1</td><td>-1</td><td>-1</td><td>-1</td><td>-1</td><td>-1</td></tr><tr><th>16</th><td>2016010000025</td><td>1</td><td>19</td><td>0</td><td>3</td><td>0</td><td>1</td><td>0</td><td>4</td><td>0</td><td>0</td><td>4</td><td>2</td><td>6</td><td>1</td><td>29</td><td>6</td><td>1461</td><td>2</td><td>3</td><td>6</td><td>1</td><td>6</td></tr><tr><th>17</th><td>2016010000025</td><td>2</td><td>19</td><td>0</td><td>3</td><td>0</td><td>1</td><td>0</td><td>0</td><td>0</td><td>0</td><td>3</td><td>2</td><td>6</td><td>1</td><td>31</td><td>6</td><td>1560</td><td>2</td><td>4</td><td>1</td><td>1</td><td>1</td></tr><tr><th>18</th><td>2016010000025</td><td>3</td><td>3</td><td>0</td><td>14</td><td>0</td><td>1</td><td>0</td><td>8</td><td>0</td><td>0</td><td>1</td><td>1</td><td>6</td><td>1</td><td>36</td><td>7</td><td>124</td><td>1</td><td>1</td><td>2</td><td>1</td><td>2</td></tr><tr><th>19</th><td>2016010000028</td><td>1</td><td>9</td><td>0</td><td>4</td><td>0</td><td>2</td><td>0</td><td>0</td><td>0</td><td>0</td><td>1</td><td>1</td><td>2</td><td>2</td><td>43</td><td>7</td><td>2143</td><td>2</td><td>2</td><td>9</td><td>3</td><td>9</td></tr><tr><th>20</th><td>2016010000031</td><td>1</td><td>9</td><td>0</td><td>7</td><td>0</td><td>5</td><td>0</td><td>0</td><td>0</td><td>0</td><td>4</td><td>1</td><td>2</td><td>1</td><td>29</td><td>6</td><td>-1</td><td>-1</td><td>-1</td><td>2</td><td>1</td><td>2</td></tr><tr><th>21</th><td>2016010000031</td><td>2</td><td>11</td><td>0</td><td>11</td><td>0</td><td>8</td><td>0</td><td>0</td><td>0</td><td>0</td><td>1</td><td>1</td><td>6</td><td>3</td><td>-1</td><td>-1</td><td>12000</td><td>2</td><td>9</td><td>-1</td><td>-1</td><td>-1</td></tr><tr><th>22</th><td>2016010000033</td><td>1</td><td>9</td><td>0</td><td>18</td><td>0</td><td>0</td><td>0</td><td>0</td><td>0</td><td>0</td><td>1</td><td>1</td><td>6</td><td>2</td><td>33</td><td>6</td><td>-1</td><td>-1</td><td>-1</td><td>-1</td><td>1</td><td>-1</td></tr><tr><th>23</th><td>2016010000035</td><td>1</td><td>11</td><td>0</td><td>18</td><td>0</td><td>8</td><td>0</td><td>0</td><td>0</td><td>0</td><td>4</td><td>1</td><td>1</td><td>1</td><td>30</td><td>6</td><td>-1</td><td>-1</td><td>-1</td><td>-1</td><td>1</td><td>-1</td></tr><tr><th>24</th><td>2016010000035</td><td>2</td><td>19</td><td>0</td><td>7</td><td>0</td><td>6</td><td>0</td><td>0</td><td>0</td><td>0</td><td>4</td><td>1</td><td>1</td><td>1</td><td>62</td><td>9</td><td>-1</td><td>-1</td><td>-1</td><td>-1</td><td>1</td><td>-1</td></tr><tr><th>25</th><td>2016010000039</td><td>1</td><td>3</td><td>0</td><td>18</td><td>0</td><td>8</td><td>0</td><td>0</td><td>0</td><td>0</td><td>3</td><td>1</td><td>2</td><td>1</td><td>34</td><td>6</td><td>125</td><td>1</td><td>-1</td><td>5</td><td>1</td><td>5</td></tr><tr><th>26</th><td>2016010000039</td><td>2</td><td>9</td><td>0</td><td>5</td><td>0</td><td>6</td><td>0</td><td>0</td><td>0</td><td>0</td><td>1</td><td>1</td><td>3</td><td>1</td><td>76</td><td>11</td><td>1973</td><td>1</td><td>17</td><td>5</td><td>1</td><td>5</td></tr><tr><th>27</th><td>2016010000046</td><td>1</td><td>1</td><td>0</td><td>11</td><td>0</td><td>1</td><td>0</td><td>0</td><td>0</td><td>0</td><td>1</td><td>1</td><td>1</td><td>1</td><td>20</td><td>4</td><td>-1</td><td>-1</td><td>-1</td><td>2</td><td>1</td><td>2</td></tr><tr><th>28</th><td>2016010000046</td><td>2</td><td>19</td><td>0</td><td>3</td><td>0</td><td>1</td><td>0</td><td>0</td><td>0</td><td>0</td><td>2</td><td>1</td><td>1</td><td>1</td><td>41</td><td>7</td><td>2299</td><td>2</td><td>-1</td><td>4</td><td>1</td><td>4</td></tr><tr><th>29</th><td>2016010000047</td><td>1</td><td>1</td><td>0</td><td>18</td><td>0</td><td>1</td><td>0</td><td>0</td><td>0</td><td>0</td><td>1</td><td>1</td><td>2</td><td>1</td><td>37</td><td>7</td><td>-1</td><td>-1</td><td>-1</td><td>7</td><td>1</td><td>7</td></tr><tr><th>30</th><td>2016010000048</td><td>1</td><td>9</td><td>0</td><td>9</td><td>0</td><td>8</td><td>0</td><td>11</td><td>0</td><td>0</td><td>4</td><td>1</td><td>1</td><td>1</td><td>59</td><td>9</td><td>1399</td><td>2</td><td>5</td><td>4</td><td>1</td><td>4</td></tr><tr><th>&vellip;</th><td>&vellip;</td><td>&vellip;</td><td>&vellip;</td><td>&vellip;</td><td>&vellip;</td><td>&vellip;</td><td>&vellip;</td><td>&vellip;</td><td>&vellip;</td><td>&vellip;</td><td>&vellip;</td><td>&vellip;</td><td>&vellip;</td><td>&vellip;</td><td>&vellip;</td><td>&vellip;</td><td>&vellip;</td><td>&vellip;</td><td>&vellip;</td><td>&vellip;</td><td>&vellip;</td><td>&vellip;</td><td>&vellip;</td></tr></tbody></table>"
      ],
      "text/plain": [
       "252500×23 DataFrames.DataFrame. Omitted printing of 20 columns\n",
       "│ Row    │ Accident_Index │ Vehicle_Reference │ Vehicle_Type │\n",
       "├────────┼────────────────┼───────────────────┼──────────────┤\n",
       "│ 1      │ 2016010000005  │ 1                 │ 8            │\n",
       "│ 2      │ 2016010000005  │ 2                 │ 2            │\n",
       "│ 3      │ 2016010000006  │ 1                 │ 9            │\n",
       "│ 4      │ 2016010000008  │ 1                 │ 9            │\n",
       "│ 5      │ 2016010000016  │ 1                 │ 11           │\n",
       "│ 6      │ 2016010000018  │ 1                 │ 9            │\n",
       "│ 7      │ 2016010000018  │ 2                 │ 1            │\n",
       "│ 8      │ 2016010000019  │ 1                 │ 9            │\n",
       "│ 9      │ 2016010000019  │ 2                 │ 9            │\n",
       "│ 10     │ 2016010000020  │ 1                 │ 8            │\n",
       "│ 11     │ 2016010000021  │ 1                 │ 9            │\n",
       "⋮\n",
       "│ 252489 │ 2016984130516  │ 1                 │ 9            │\n",
       "│ 252490 │ 2016984130616  │ 1                 │ 9            │\n",
       "│ 252491 │ 2016984130616  │ 2                 │ 9            │\n",
       "│ 252492 │ 2016984130816  │ 1                 │ 9            │\n",
       "│ 252493 │ 2016984130816  │ 2                 │ 9            │\n",
       "│ 252494 │ 2016984130916  │ 1                 │ 9            │\n",
       "│ 252495 │ 2016984130916  │ 2                 │ 9            │\n",
       "│ 252496 │ 2016984131116  │ 1                 │ 9            │\n",
       "│ 252497 │ 2016984131116  │ 2                 │ 9            │\n",
       "│ 252498 │ 2016984131216  │ 1                 │ 21           │\n",
       "│ 252499 │ 2016984131316  │ 1                 │ 9            │\n",
       "│ 252500 │ 2016984133416  │ 1                 │ 9            │"
      ]
     },
     "execution_count": 9,
     "metadata": {},
     "output_type": "execute_result"
    }
   ],
   "source": [
    "DfVechicles_16 = CSV.read(\"Veh.csv\"; rows_for_type_detect=20000)"
   ]
  },
  {
   "cell_type": "code",
   "execution_count": 10,
   "metadata": {
    "collapsed": true
   },
   "outputs": [
    {
     "data": {
      "text/plain": [
       "23-element Array{Symbol,1}:\n",
       " :Accident_Index                           \n",
       " :Vehicle_Reference                        \n",
       " :Vehicle_Type                             \n",
       " :Towing_and_Articulation                  \n",
       " :Vehicle_Manoeuvre                        \n",
       " Symbol(\"Vehicle_Location-Restricted_Lane\")\n",
       " :Junction_Location                        \n",
       " :Skidding_and_Overturning                 \n",
       " :Hit_Object_in_Carriageway                \n",
       " :Vehicle_Leaving_Carriageway              \n",
       " :Hit_Object_off_Carriageway               \n",
       " Symbol(\"1st_Point_of_Impact\")             \n",
       " Symbol(\"Was_Vehicle_Left_Hand_Drive?\")    \n",
       " :Journey_Purpose_of_Driver                \n",
       " :Sex_of_Driver                            \n",
       " :Age_of_Driver                            \n",
       " :Age_Band_of_Driver                       \n",
       " Symbol(\"Engine_Capacity_(CC)\")            \n",
       " :Propulsion_Code                          \n",
       " :Age_of_Vehicle                           \n",
       " :Driver_IMD_Decile                        \n",
       " :Driver_Home_Area_Type                    \n",
       " :Vehicle_IMD_Decile                       "
      ]
     },
     "execution_count": 10,
     "metadata": {},
     "output_type": "execute_result"
    }
   ],
   "source": [
    "names(DfVechicles_16)"
   ]
  },
  {
   "cell_type": "markdown",
   "metadata": {},
   "source": [
    "## Joins"
   ]
  },
  {
   "cell_type": "markdown",
   "metadata": {},
   "source": [
    "Motivation: Hadley Wickham's \"split-apply-combinestrategy for data analysis\" (*Journal of Statistical Software* 40.1 (2011): 1-29)"
   ]
  },
  {
   "cell_type": "markdown",
   "metadata": {},
   "source": [
    "The picture on [Cart 34](http://cartman34.fr/informatique/sgbd/differences-entre-inner-left-right-et-outer-join-en-sql.html) may be copyrighted.  The following picture is from [Stack Overflow](https://i.stack.imgur.com/ObDyr.png).\n",
    "\n",
    "![SQL table joins](joins.png)"
   ]
  },
  {
   "cell_type": "markdown",
   "metadata": {},
   "source": [
    "I understood semi and anti joins from [*JAVA, SQL AND JOOQ*](https://blog.jooq.org/2015/10/13/semi-join-and-anti-join-should-have-its-own-syntax-in-sql/) and its [linked Wiki page](https://en.wikipedia.org/wiki/Relational_algebra)."
   ]
  },
  {
   "cell_type": "markdown",
   "metadata": {},
   "source": [
    "The book's syntax for cross join causes an `OutOfMemoryError()`.  It's *not* obvious that cross join returns the cartesian product of rows in both tables."
   ]
  },
  {
   "cell_type": "code",
   "execution_count": 12,
   "metadata": {
    "collapsed": true
   },
   "outputs": [
    {
     "name": "stderr",
     "output_type": "stream",
     "text": [
      "\u001b[1m\u001b[33mWARNING: \u001b[39m\u001b[22m\u001b[33mDuplicate variable names are deprecated: pass makeunique=true to add a suffix automatically.\u001b[39m\n",
      "Stacktrace:\n",
      " [1] \u001b[1mdepwarn\u001b[22m\u001b[22m\u001b[1m(\u001b[22m\u001b[22m::String, ::Symbol\u001b[1m)\u001b[22m\u001b[22m at \u001b[1m.\\deprecated.jl:70\u001b[22m\u001b[22m\n",
      " [2] \u001b[1m#add_names#18\u001b[22m\u001b[22m\u001b[1m(\u001b[22m\u001b[22m::Bool, ::Function, ::DataFrames.Index, ::DataFrames.Index\u001b[1m)\u001b[22m\u001b[22m at \u001b[1mC:\\Users\\Owner\\.julia\\v0.6\\DataFrames\\src\\other\\index.jl:186\u001b[22m\u001b[22m\n",
      " [3] \u001b[1m(::DataFrames.#kw##add_names)\u001b[22m\u001b[22m\u001b[1m(\u001b[22m\u001b[22m::Array{Any,1}, ::DataFrames.#add_names, ::DataFrames.Index, ::DataFrames.Index\u001b[1m)\u001b[22m\u001b[22m at \u001b[1m.\\<missing>:0\u001b[22m\u001b[22m\n",
      " [4] \u001b[1m#merge!#10\u001b[22m\u001b[22m\u001b[1m(\u001b[22m\u001b[22m::Bool, ::Function, ::DataFrames.Index, ::DataFrames.Index\u001b[1m)\u001b[22m\u001b[22m at \u001b[1mC:\\Users\\Owner\\.julia\\v0.6\\DataFrames\\src\\other\\index.jl:76\u001b[22m\u001b[22m\n",
      " [5] \u001b[1m(::Base.#kw##merge!)\u001b[22m\u001b[22m\u001b[1m(\u001b[22m\u001b[22m::Array{Any,1}, ::Base.#merge!, ::DataFrames.Index, ::DataFrames.Index\u001b[1m)\u001b[22m\u001b[22m at \u001b[1m.\\<missing>:0\u001b[22m\u001b[22m\n",
      " [6] \u001b[1m#merge#11\u001b[22m\u001b[22m\u001b[1m(\u001b[22m\u001b[22m::Bool, ::Function, ::DataFrames.Index, ::DataFrames.Index\u001b[1m)\u001b[22m\u001b[22m at \u001b[1mC:\\Users\\Owner\\.julia\\v0.6\\DataFrames\\src\\other\\index.jl:86\u001b[22m\u001b[22m\n",
      " [7] \u001b[1m(::Base.#kw##merge)\u001b[22m\u001b[22m\u001b[1m(\u001b[22m\u001b[22m::Array{Any,1}, ::Base.#merge, ::DataFrames.Index, ::DataFrames.Index\u001b[1m)\u001b[22m\u001b[22m at \u001b[1m.\\<missing>:0\u001b[22m\u001b[22m\n",
      " [8] \u001b[1m#crossjoin#146\u001b[22m\u001b[22m\u001b[1m(\u001b[22m\u001b[22m::Bool, ::Function, ::DataFrames.DataFrame, ::DataFrames.DataFrame\u001b[1m)\u001b[22m\u001b[22m at \u001b[1mC:\\Users\\Owner\\.julia\\v0.6\\DataFrames\\src\\abstractdataframe\\join.jl:348\u001b[22m\u001b[22m\n",
      " [9] \u001b[1m(::DataFrames.#kw##crossjoin)\u001b[22m\u001b[22m\u001b[1m(\u001b[22m\u001b[22m::Array{Any,1}, ::DataFrames.#crossjoin, ::DataFrames.DataFrame, ::DataFrames.DataFrame\u001b[1m)\u001b[22m\u001b[22m at \u001b[1m.\\<missing>:0\u001b[22m\u001b[22m\n",
      " [10] \u001b[1m#join#137\u001b[22m\u001b[22m\u001b[1m(\u001b[22m\u001b[22m::Array{Symbol,1}, ::Symbol, ::Bool, ::Function, ::DataFrames.DataFrame, ::DataFrames.DataFrame\u001b[1m)\u001b[22m\u001b[22m at \u001b[1mC:\\Users\\Owner\\.julia\\v0.6\\DataFrames\\src\\abstractdataframe\\join.jl:286\u001b[22m\u001b[22m\n",
      " [11] \u001b[1m(::Base.#kw##join)\u001b[22m\u001b[22m\u001b[1m(\u001b[22m\u001b[22m::Array{Any,1}, ::Base.#join, ::DataFrames.DataFrame, ::DataFrames.DataFrame\u001b[1m)\u001b[22m\u001b[22m at \u001b[1m.\\<missing>:0\u001b[22m\u001b[22m\n",
      " [12] \u001b[1minclude_string\u001b[22m\u001b[22m\u001b[1m(\u001b[22m\u001b[22m::String, ::String\u001b[1m)\u001b[22m\u001b[22m at \u001b[1m.\\loading.jl:522\u001b[22m\u001b[22m\n",
      " [13] \u001b[1minclude_string\u001b[22m\u001b[22m\u001b[1m(\u001b[22m\u001b[22m::Module, ::String, ::String\u001b[1m)\u001b[22m\u001b[22m at \u001b[1mC:\\Users\\Owner\\.julia\\v0.6\\Compat\\src\\Compat.jl:71\u001b[22m\u001b[22m\n",
      " [14] \u001b[1mexecute_request\u001b[22m\u001b[22m\u001b[1m(\u001b[22m\u001b[22m::ZMQ.Socket, ::IJulia.Msg\u001b[1m)\u001b[22m\u001b[22m at \u001b[1mC:\\Users\\Owner\\.julia\\v0.6\\IJulia\\src\\execute_request.jl:158\u001b[22m\u001b[22m\n",
      " [15] \u001b[1m(::Compat.#inner#17{Array{Any,1},IJulia.#execute_request,Tuple{ZMQ.Socket,IJulia.Msg}})\u001b[22m\u001b[22m\u001b[1m(\u001b[22m\u001b[22m\u001b[1m)\u001b[22m\u001b[22m at \u001b[1mC:\\Users\\Owner\\.julia\\v0.6\\Compat\\src\\Compat.jl:385\u001b[22m\u001b[22m\n",
      " [16] \u001b[1meventloop\u001b[22m\u001b[22m\u001b[1m(\u001b[22m\u001b[22m::ZMQ.Socket\u001b[1m)\u001b[22m\u001b[22m at \u001b[1mC:\\Users\\Owner\\.julia\\v0.6\\IJulia\\src\\eventloop.jl:8\u001b[22m\u001b[22m\n",
      " [17] \u001b[1m(::IJulia.##14#17)\u001b[22m\u001b[22m\u001b[1m(\u001b[22m\u001b[22m\u001b[1m)\u001b[22m\u001b[22m at \u001b[1m.\\task.jl:335\u001b[22m\u001b[22m\n",
      "while loading In[12], in expression starting on line 1\n"
     ]
    },
    {
     "data": {
      "text/html": [
       "<table class=\"data-frame\"><thead><tr><th></th><th>Accident_Index</th><th>Location_Easting_OSGR</th><th>Location_Northing_OSGR</th><th>Longitude</th><th>Latitude</th><th>Police_Force</th><th>Accident_Severity</th><th>Number_of_Vehicles</th><th>Number_of_Casualties</th><th>Date</th><th>Day_of_Week</th><th>Time</th><th>Local_Authority_(District)</th><th>Local_Authority_(Highway)</th><th>1st_Road_Class</th><th>1st_Road_Number</th><th>Road_Type</th><th>Speed_limit</th><th>Junction_Detail</th><th>Junction_Control</th><th>2nd_Road_Class</th><th>2nd_Road_Number</th><th>Pedestrian_Crossing-Human_Control</th><th>Pedestrian_Crossing-Physical_Facilities</th><th>Light_Conditions</th><th>Weather_Conditions</th><th>Road_Surface_Conditions</th><th>Special_Conditions_at_Site</th><th>Carriageway_Hazards</th><th>Urban_or_Rural_Area</th><th>Did_Police_Officer_Attend_Scene_of_Accident</th><th>LSOA_of_Accident_Location</th><th>Accident_Index_1</th><th>Vehicle_Reference</th><th>Vehicle_Type</th><th>Towing_and_Articulation</th><th>Vehicle_Manoeuvre</th><th>Vehicle_Location-Restricted_Lane</th><th>Junction_Location</th><th>Skidding_and_Overturning</th><th>Hit_Object_in_Carriageway</th><th>Vehicle_Leaving_Carriageway</th><th>Hit_Object_off_Carriageway</th><th>1st_Point_of_Impact</th><th>Was_Vehicle_Left_Hand_Drive?</th><th>Journey_Purpose_of_Driver</th><th>Sex_of_Driver</th><th>Age_of_Driver</th><th>Age_Band_of_Driver</th><th>Engine_Capacity_(CC)</th><th>Propulsion_Code</th><th>Age_of_Vehicle</th><th>Driver_IMD_Decile</th><th>Driver_Home_Area_Type</th><th>Vehicle_IMD_Decile</th></tr></thead><tbody><tr><th>1</th><td>2016010000005</td><td>519310</td><td>188730</td><td>-0.279323</td><td>51.5848</td><td>1</td><td>3</td><td>2</td><td>1</td><td>01/11/2016</td><td>3</td><td>02:30</td><td>28</td><td>E09000005</td><td>3</td><td>4006</td><td>6</td><td>30</td><td>0</td><td>-1</td><td>-1</td><td>0</td><td>0</td><td>0</td><td>5</td><td>1</td><td>1</td><td>0</td><td>0</td><td>1</td><td>1</td><td>E01000543</td><td>2016010000005</td><td>1</td><td>8</td><td>0</td><td>6</td><td>0</td><td>0</td><td>0</td><td>0</td><td>0</td><td>0</td><td>3</td><td>1</td><td>1</td><td>1</td><td>51</td><td>8</td><td>-1</td><td>-1</td><td>-1</td><td>3</td><td>1</td><td>3</td></tr><tr><th>2</th><td>2016010000005</td><td>519310</td><td>188730</td><td>-0.279323</td><td>51.5848</td><td>1</td><td>3</td><td>2</td><td>1</td><td>01/11/2016</td><td>3</td><td>02:30</td><td>28</td><td>E09000005</td><td>3</td><td>4006</td><td>6</td><td>30</td><td>0</td><td>-1</td><td>-1</td><td>0</td><td>0</td><td>0</td><td>5</td><td>1</td><td>1</td><td>0</td><td>0</td><td>1</td><td>1</td><td>E01000543</td><td>2016010000005</td><td>2</td><td>2</td><td>0</td><td>18</td><td>0</td><td>0</td><td>0</td><td>0</td><td>0</td><td>0</td><td>1</td><td>1</td><td>6</td><td>1</td><td>23</td><td>5</td><td>124</td><td>1</td><td>4</td><td>4</td><td>1</td><td>4</td></tr><tr><th>3</th><td>2016010000005</td><td>519310</td><td>188730</td><td>-0.279323</td><td>51.5848</td><td>1</td><td>3</td><td>2</td><td>1</td><td>01/11/2016</td><td>3</td><td>02:30</td><td>28</td><td>E09000005</td><td>3</td><td>4006</td><td>6</td><td>30</td><td>0</td><td>-1</td><td>-1</td><td>0</td><td>0</td><td>0</td><td>5</td><td>1</td><td>1</td><td>0</td><td>0</td><td>1</td><td>1</td><td>E01000543</td><td>2016010000006</td><td>1</td><td>9</td><td>0</td><td>18</td><td>0</td><td>2</td><td>2</td><td>10</td><td>1</td><td>0</td><td>4</td><td>1</td><td>6</td><td>2</td><td>36</td><td>7</td><td>1461</td><td>2</td><td>1</td><td>10</td><td>1</td><td>10</td></tr><tr><th>4</th><td>2016010000005</td><td>519310</td><td>188730</td><td>-0.279323</td><td>51.5848</td><td>1</td><td>3</td><td>2</td><td>1</td><td>01/11/2016</td><td>3</td><td>02:30</td><td>28</td><td>E09000005</td><td>3</td><td>4006</td><td>6</td><td>30</td><td>0</td><td>-1</td><td>-1</td><td>0</td><td>0</td><td>0</td><td>5</td><td>1</td><td>1</td><td>0</td><td>0</td><td>1</td><td>1</td><td>E01000543</td><td>2016010000008</td><td>1</td><td>9</td><td>0</td><td>18</td><td>0</td><td>4</td><td>5</td><td>0</td><td>0</td><td>0</td><td>1</td><td>1</td><td>6</td><td>1</td><td>24</td><td>5</td><td>1390</td><td>1</td><td>5</td><td>8</td><td>1</td><td>8</td></tr><tr><th>5</th><td>2016010000005</td><td>519310</td><td>188730</td><td>-0.279323</td><td>51.5848</td><td>1</td><td>3</td><td>2</td><td>1</td><td>01/11/2016</td><td>3</td><td>02:30</td><td>28</td><td>E09000005</td><td>3</td><td>4006</td><td>6</td><td>30</td><td>0</td><td>-1</td><td>-1</td><td>0</td><td>0</td><td>0</td><td>5</td><td>1</td><td>1</td><td>0</td><td>0</td><td>1</td><td>1</td><td>E01000543</td><td>2016010000016</td><td>1</td><td>11</td><td>0</td><td>18</td><td>0</td><td>1</td><td>0</td><td>0</td><td>0</td><td>0</td><td>0</td><td>1</td><td>1</td><td>1</td><td>55</td><td>8</td><td>6692</td><td>2</td><td>7</td><td>9</td><td>1</td><td>9</td></tr><tr><th>6</th><td>2016010000005</td><td>519310</td><td>188730</td><td>-0.279323</td><td>51.5848</td><td>1</td><td>3</td><td>2</td><td>1</td><td>01/11/2016</td><td>3</td><td>02:30</td><td>28</td><td>E09000005</td><td>3</td><td>4006</td><td>6</td><td>30</td><td>0</td><td>-1</td><td>-1</td><td>0</td><td>0</td><td>0</td><td>5</td><td>1</td><td>1</td><td>0</td><td>0</td><td>1</td><td>1</td><td>E01000543</td><td>2016010000018</td><td>1</td><td>9</td><td>0</td><td>12</td><td>0</td><td>0</td><td>0</td><td>0</td><td>0</td><td>0</td><td>1</td><td>1</td><td>6</td><td>1</td><td>20</td><td>4</td><td>1596</td><td>1</td><td>11</td><td>2</td><td>1</td><td>2</td></tr></tbody></table>"
      ],
      "text/plain": [
       "6×55 DataFrames.DataFrame. Omitted printing of 52 columns\n",
       "│ Row │ Accident_Index │ Location_Easting_OSGR │ Location_Northing_OSGR │\n",
       "├─────┼────────────────┼───────────────────────┼────────────────────────┤\n",
       "│ 1   │ 2016010000005  │ 519310                │ 188730                 │\n",
       "│ 2   │ 2016010000005  │ 519310                │ 188730                 │\n",
       "│ 3   │ 2016010000005  │ 519310                │ 188730                 │\n",
       "│ 4   │ 2016010000005  │ 519310                │ 188730                 │\n",
       "│ 5   │ 2016010000005  │ 519310                │ 188730                 │\n",
       "│ 6   │ 2016010000005  │ 519310                │ 188730                 │"
      ]
     },
     "execution_count": 12,
     "metadata": {},
     "output_type": "execute_result"
    }
   ],
   "source": [
    "crossDf16 = join(DfAccidents_16[1:10,:], DfVechicles_16[1:10,:], kind=:cross)\n",
    "head(crossDf16)"
   ]
  },
  {
   "cell_type": "markdown",
   "metadata": {},
   "source": [
    "These big data sets *can't* illustrate the difference between left and right joins."
   ]
  },
  {
   "cell_type": "code",
   "execution_count": 17,
   "metadata": {
    "collapsed": true
   },
   "outputs": [
    {
     "data": {
      "text/html": [
       "<table class=\"data-frame\"><thead><tr><th></th><th>Accident_Index</th><th>Location_Easting_OSGR</th><th>Location_Northing_OSGR</th><th>Longitude</th><th>Latitude</th><th>Police_Force</th><th>Accident_Severity</th><th>Number_of_Vehicles</th><th>Number_of_Casualties</th><th>Date</th><th>Day_of_Week</th><th>Time</th><th>Local_Authority_(District)</th><th>Local_Authority_(Highway)</th><th>1st_Road_Class</th><th>1st_Road_Number</th><th>Road_Type</th><th>Speed_limit</th><th>Junction_Detail</th><th>Junction_Control</th><th>2nd_Road_Class</th><th>2nd_Road_Number</th><th>Pedestrian_Crossing-Human_Control</th><th>Pedestrian_Crossing-Physical_Facilities</th><th>Light_Conditions</th><th>Weather_Conditions</th><th>Road_Surface_Conditions</th><th>Special_Conditions_at_Site</th><th>Carriageway_Hazards</th><th>Urban_or_Rural_Area</th><th>Did_Police_Officer_Attend_Scene_of_Accident</th><th>LSOA_of_Accident_Location</th><th>Vehicle_Reference</th><th>Vehicle_Type</th><th>Towing_and_Articulation</th><th>Vehicle_Manoeuvre</th><th>Vehicle_Location-Restricted_Lane</th><th>Junction_Location</th><th>Skidding_and_Overturning</th><th>Hit_Object_in_Carriageway</th><th>Vehicle_Leaving_Carriageway</th><th>Hit_Object_off_Carriageway</th><th>1st_Point_of_Impact</th><th>Was_Vehicle_Left_Hand_Drive?</th><th>Journey_Purpose_of_Driver</th><th>Sex_of_Driver</th><th>Age_of_Driver</th><th>Age_Band_of_Driver</th><th>Engine_Capacity_(CC)</th><th>Propulsion_Code</th><th>Age_of_Vehicle</th><th>Driver_IMD_Decile</th><th>Driver_Home_Area_Type</th><th>Vehicle_IMD_Decile</th></tr></thead><tbody><tr><th>1</th><td>2016010000005</td><td>519310</td><td>188730</td><td>-0.279323</td><td>51.5848</td><td>1</td><td>3</td><td>2</td><td>1</td><td>01/11/2016</td><td>3</td><td>02:30</td><td>28</td><td>E09000005</td><td>3</td><td>4006</td><td>6</td><td>30</td><td>0</td><td>-1</td><td>-1</td><td>0</td><td>0</td><td>0</td><td>5</td><td>1</td><td>1</td><td>0</td><td>0</td><td>1</td><td>1</td><td>E01000543</td><td>1</td><td>8</td><td>0</td><td>6</td><td>0</td><td>0</td><td>0</td><td>0</td><td>0</td><td>0</td><td>3</td><td>1</td><td>1</td><td>1</td><td>51</td><td>8</td><td>-1</td><td>-1</td><td>-1</td><td>3</td><td>1</td><td>3</td></tr><tr><th>2</th><td>2016010000005</td><td>519310</td><td>188730</td><td>-0.279323</td><td>51.5848</td><td>1</td><td>3</td><td>2</td><td>1</td><td>01/11/2016</td><td>3</td><td>02:30</td><td>28</td><td>E09000005</td><td>3</td><td>4006</td><td>6</td><td>30</td><td>0</td><td>-1</td><td>-1</td><td>0</td><td>0</td><td>0</td><td>5</td><td>1</td><td>1</td><td>0</td><td>0</td><td>1</td><td>1</td><td>E01000543</td><td>2</td><td>2</td><td>0</td><td>18</td><td>0</td><td>0</td><td>0</td><td>0</td><td>0</td><td>0</td><td>1</td><td>1</td><td>6</td><td>1</td><td>23</td><td>5</td><td>124</td><td>1</td><td>4</td><td>4</td><td>1</td><td>4</td></tr><tr><th>3</th><td>2016010000006</td><td>551920</td><td>174560</td><td>0.184928</td><td>51.4496</td><td>1</td><td>3</td><td>1</td><td>1</td><td>01/11/2016</td><td>3</td><td>00:37</td><td>18</td><td>E09000004</td><td>3</td><td>207</td><td>6</td><td>30</td><td>9</td><td>4</td><td>6</td><td>0</td><td>0</td><td>0</td><td>4</td><td>1</td><td>1</td><td>0</td><td>0</td><td>1</td><td>1</td><td>E01000375</td><td>1</td><td>9</td><td>0</td><td>18</td><td>0</td><td>2</td><td>2</td><td>10</td><td>1</td><td>0</td><td>4</td><td>1</td><td>6</td><td>2</td><td>36</td><td>7</td><td>1461</td><td>2</td><td>1</td><td>10</td><td>1</td><td>10</td></tr><tr><th>4</th><td>2016010000008</td><td>505930</td><td>183850</td><td>-0.473837</td><td>51.5436</td><td>1</td><td>3</td><td>1</td><td>1</td><td>01/11/2016</td><td>3</td><td>01:25</td><td>26</td><td>E09000017</td><td>3</td><td>4020</td><td>1</td><td>30</td><td>1</td><td>4</td><td>3</td><td>4020</td><td>0</td><td>0</td><td>4</td><td>1</td><td>1</td><td>0</td><td>0</td><td>1</td><td>1</td><td>E01033725</td><td>1</td><td>9</td><td>0</td><td>18</td><td>0</td><td>4</td><td>5</td><td>0</td><td>0</td><td>0</td><td>1</td><td>1</td><td>6</td><td>1</td><td>24</td><td>5</td><td>1390</td><td>1</td><td>5</td><td>8</td><td>1</td><td>8</td></tr><tr><th>5</th><td>2016010000016</td><td>527770</td><td>168930</td><td>-0.164442</td><td>51.405</td><td>1</td><td>3</td><td>1</td><td>1</td><td>01/11/2016</td><td>3</td><td>09:15</td><td>22</td><td>E09000024</td><td>3</td><td>217</td><td>6</td><td>30</td><td>3</td><td>2</td><td>3</td><td>217</td><td>0</td><td>0</td><td>1</td><td>1</td><td>1</td><td>0</td><td>0</td><td>1</td><td>1</td><td>E01003379</td><td>1</td><td>11</td><td>0</td><td>18</td><td>0</td><td>1</td><td>0</td><td>0</td><td>0</td><td>0</td><td>0</td><td>1</td><td>1</td><td>1</td><td>55</td><td>8</td><td>6692</td><td>2</td><td>7</td><td>9</td><td>1</td><td>9</td></tr><tr><th>6</th><td>2016010000018</td><td>510740</td><td>177230</td><td>-0.40658</td><td>51.4831</td><td>1</td><td>3</td><td>2</td><td>1</td><td>01/11/2016</td><td>3</td><td>07:53</td><td>25</td><td>E09000018</td><td>3</td><td>312</td><td>3</td><td>40</td><td>0</td><td>-1</td><td>-1</td><td>0</td><td>0</td><td>0</td><td>1</td><td>1</td><td>1</td><td>0</td><td>0</td><td>1</td><td>1</td><td>E01002583</td><td>1</td><td>9</td><td>0</td><td>12</td><td>0</td><td>0</td><td>0</td><td>0</td><td>0</td><td>0</td><td>1</td><td>1</td><td>6</td><td>1</td><td>20</td><td>4</td><td>1596</td><td>1</td><td>11</td><td>2</td><td>1</td><td>2</td></tr><tr><th>7</th><td>2016010000018</td><td>510740</td><td>177230</td><td>-0.40658</td><td>51.4831</td><td>1</td><td>3</td><td>2</td><td>1</td><td>01/11/2016</td><td>3</td><td>07:53</td><td>25</td><td>E09000018</td><td>3</td><td>312</td><td>3</td><td>40</td><td>0</td><td>-1</td><td>-1</td><td>0</td><td>0</td><td>0</td><td>1</td><td>1</td><td>1</td><td>0</td><td>0</td><td>1</td><td>1</td><td>E01002583</td><td>2</td><td>1</td><td>0</td><td>18</td><td>0</td><td>0</td><td>0</td><td>0</td><td>0</td><td>0</td><td>4</td><td>1</td><td>6</td><td>1</td><td>28</td><td>6</td><td>-1</td><td>-1</td><td>-1</td><td>6</td><td>1</td><td>6</td></tr><tr><th>8</th><td>2016010000019</td><td>530840</td><td>167100</td><td>-0.121004</td><td>51.3878</td><td>1</td><td>3</td><td>2</td><td>1</td><td>01/11/2016</td><td>3</td><td>09:29</td><td>20</td><td>E09000008</td><td>3</td><td>23</td><td>6</td><td>30</td><td>3</td><td>4</td><td>6</td><td>0</td><td>0</td><td>8</td><td>1</td><td>1</td><td>1</td><td>0</td><td>0</td><td>1</td><td>1</td><td>E01001180</td><td>1</td><td>9</td><td>0</td><td>18</td><td>0</td><td>1</td><td>0</td><td>0</td><td>1</td><td>0</td><td>2</td><td>1</td><td>6</td><td>2</td><td>30</td><td>6</td><td>1596</td><td>1</td><td>10</td><td>3</td><td>1</td><td>3</td></tr><tr><th>9</th><td>2016010000019</td><td>530840</td><td>167100</td><td>-0.121004</td><td>51.3878</td><td>1</td><td>3</td><td>2</td><td>1</td><td>01/11/2016</td><td>3</td><td>09:29</td><td>20</td><td>E09000008</td><td>3</td><td>23</td><td>6</td><td>30</td><td>3</td><td>4</td><td>6</td><td>0</td><td>0</td><td>8</td><td>1</td><td>1</td><td>1</td><td>0</td><td>0</td><td>1</td><td>1</td><td>E01001180</td><td>2</td><td>9</td><td>0</td><td>18</td><td>0</td><td>1</td><td>0</td><td>0</td><td>0</td><td>0</td><td>1</td><td>1</td><td>6</td><td>1</td><td>27</td><td>6</td><td>1596</td><td>1</td><td>5</td><td>2</td><td>1</td><td>2</td></tr><tr><th>10</th><td>2016010000020</td><td>527610</td><td>181430</td><td>-0.162234</td><td>51.5173</td><td>1</td><td>3</td><td>1</td><td>1</td><td>01/11/2016</td><td>3</td><td>08:53</td><td>1</td><td>E09000033</td><td>5</td><td>0</td><td>6</td><td>30</td><td>0</td><td>-1</td><td>-1</td><td>0</td><td>0</td><td>0</td><td>1</td><td>1</td><td>1</td><td>0</td><td>0</td><td>1</td><td>1</td><td>E01004658</td><td>1</td><td>8</td><td>0</td><td>18</td><td>0</td><td>0</td><td>0</td><td>0</td><td>0</td><td>0</td><td>4</td><td>1</td><td>1</td><td>1</td><td>33</td><td>6</td><td>2499</td><td>2</td><td>2</td><td>2</td><td>1</td><td>2</td></tr></tbody></table>"
      ],
      "text/plain": [
       "10×54 DataFrames.DataFrame. Omitted printing of 51 columns\n",
       "│ Row │ Accident_Index │ Location_Easting_OSGR │ Location_Northing_OSGR │\n",
       "├─────┼────────────────┼───────────────────────┼────────────────────────┤\n",
       "│ 1   │ 2016010000005  │ 519310                │ 188730                 │\n",
       "│ 2   │ 2016010000005  │ 519310                │ 188730                 │\n",
       "│ 3   │ 2016010000006  │ 551920                │ 174560                 │\n",
       "│ 4   │ 2016010000008  │ 505930                │ 183850                 │\n",
       "│ 5   │ 2016010000016  │ 527770                │ 168930                 │\n",
       "│ 6   │ 2016010000018  │ 510740                │ 177230                 │\n",
       "│ 7   │ 2016010000018  │ 510740                │ 177230                 │\n",
       "│ 8   │ 2016010000019  │ 530840                │ 167100                 │\n",
       "│ 9   │ 2016010000019  │ 530840                │ 167100                 │\n",
       "│ 10  │ 2016010000020  │ 527610                │ 181430                 │"
      ]
     },
     "execution_count": 17,
     "metadata": {},
     "output_type": "execute_result"
    }
   ],
   "source": [
    "leftDf16 = join(DfAccidents_16, DfVechicles_16, on=:Accident_Index, kind=:left)\n",
    "head(leftDf16, 10)"
   ]
  },
  {
   "cell_type": "code",
   "execution_count": 18,
   "metadata": {
    "collapsed": true
   },
   "outputs": [
    {
     "data": {
      "text/html": [
       "<table class=\"data-frame\"><thead><tr><th></th><th>Accident_Index</th><th>Location_Easting_OSGR</th><th>Location_Northing_OSGR</th><th>Longitude</th><th>Latitude</th><th>Police_Force</th><th>Accident_Severity</th><th>Number_of_Vehicles</th><th>Number_of_Casualties</th><th>Date</th><th>Day_of_Week</th><th>Time</th><th>Local_Authority_(District)</th><th>Local_Authority_(Highway)</th><th>1st_Road_Class</th><th>1st_Road_Number</th><th>Road_Type</th><th>Speed_limit</th><th>Junction_Detail</th><th>Junction_Control</th><th>2nd_Road_Class</th><th>2nd_Road_Number</th><th>Pedestrian_Crossing-Human_Control</th><th>Pedestrian_Crossing-Physical_Facilities</th><th>Light_Conditions</th><th>Weather_Conditions</th><th>Road_Surface_Conditions</th><th>Special_Conditions_at_Site</th><th>Carriageway_Hazards</th><th>Urban_or_Rural_Area</th><th>Did_Police_Officer_Attend_Scene_of_Accident</th><th>LSOA_of_Accident_Location</th><th>Vehicle_Reference</th><th>Vehicle_Type</th><th>Towing_and_Articulation</th><th>Vehicle_Manoeuvre</th><th>Vehicle_Location-Restricted_Lane</th><th>Junction_Location</th><th>Skidding_and_Overturning</th><th>Hit_Object_in_Carriageway</th><th>Vehicle_Leaving_Carriageway</th><th>Hit_Object_off_Carriageway</th><th>1st_Point_of_Impact</th><th>Was_Vehicle_Left_Hand_Drive?</th><th>Journey_Purpose_of_Driver</th><th>Sex_of_Driver</th><th>Age_of_Driver</th><th>Age_Band_of_Driver</th><th>Engine_Capacity_(CC)</th><th>Propulsion_Code</th><th>Age_of_Vehicle</th><th>Driver_IMD_Decile</th><th>Driver_Home_Area_Type</th><th>Vehicle_IMD_Decile</th></tr></thead><tbody><tr><th>1</th><td>2016010000005</td><td>519310</td><td>188730</td><td>-0.279323</td><td>51.5848</td><td>1</td><td>3</td><td>2</td><td>1</td><td>01/11/2016</td><td>3</td><td>02:30</td><td>28</td><td>E09000005</td><td>3</td><td>4006</td><td>6</td><td>30</td><td>0</td><td>-1</td><td>-1</td><td>0</td><td>0</td><td>0</td><td>5</td><td>1</td><td>1</td><td>0</td><td>0</td><td>1</td><td>1</td><td>E01000543</td><td>1</td><td>8</td><td>0</td><td>6</td><td>0</td><td>0</td><td>0</td><td>0</td><td>0</td><td>0</td><td>3</td><td>1</td><td>1</td><td>1</td><td>51</td><td>8</td><td>-1</td><td>-1</td><td>-1</td><td>3</td><td>1</td><td>3</td></tr><tr><th>2</th><td>2016010000005</td><td>519310</td><td>188730</td><td>-0.279323</td><td>51.5848</td><td>1</td><td>3</td><td>2</td><td>1</td><td>01/11/2016</td><td>3</td><td>02:30</td><td>28</td><td>E09000005</td><td>3</td><td>4006</td><td>6</td><td>30</td><td>0</td><td>-1</td><td>-1</td><td>0</td><td>0</td><td>0</td><td>5</td><td>1</td><td>1</td><td>0</td><td>0</td><td>1</td><td>1</td><td>E01000543</td><td>2</td><td>2</td><td>0</td><td>18</td><td>0</td><td>0</td><td>0</td><td>0</td><td>0</td><td>0</td><td>1</td><td>1</td><td>6</td><td>1</td><td>23</td><td>5</td><td>124</td><td>1</td><td>4</td><td>4</td><td>1</td><td>4</td></tr><tr><th>3</th><td>2016010000006</td><td>551920</td><td>174560</td><td>0.184928</td><td>51.4496</td><td>1</td><td>3</td><td>1</td><td>1</td><td>01/11/2016</td><td>3</td><td>00:37</td><td>18</td><td>E09000004</td><td>3</td><td>207</td><td>6</td><td>30</td><td>9</td><td>4</td><td>6</td><td>0</td><td>0</td><td>0</td><td>4</td><td>1</td><td>1</td><td>0</td><td>0</td><td>1</td><td>1</td><td>E01000375</td><td>1</td><td>9</td><td>0</td><td>18</td><td>0</td><td>2</td><td>2</td><td>10</td><td>1</td><td>0</td><td>4</td><td>1</td><td>6</td><td>2</td><td>36</td><td>7</td><td>1461</td><td>2</td><td>1</td><td>10</td><td>1</td><td>10</td></tr><tr><th>4</th><td>2016010000008</td><td>505930</td><td>183850</td><td>-0.473837</td><td>51.5436</td><td>1</td><td>3</td><td>1</td><td>1</td><td>01/11/2016</td><td>3</td><td>01:25</td><td>26</td><td>E09000017</td><td>3</td><td>4020</td><td>1</td><td>30</td><td>1</td><td>4</td><td>3</td><td>4020</td><td>0</td><td>0</td><td>4</td><td>1</td><td>1</td><td>0</td><td>0</td><td>1</td><td>1</td><td>E01033725</td><td>1</td><td>9</td><td>0</td><td>18</td><td>0</td><td>4</td><td>5</td><td>0</td><td>0</td><td>0</td><td>1</td><td>1</td><td>6</td><td>1</td><td>24</td><td>5</td><td>1390</td><td>1</td><td>5</td><td>8</td><td>1</td><td>8</td></tr><tr><th>5</th><td>2016010000016</td><td>527770</td><td>168930</td><td>-0.164442</td><td>51.405</td><td>1</td><td>3</td><td>1</td><td>1</td><td>01/11/2016</td><td>3</td><td>09:15</td><td>22</td><td>E09000024</td><td>3</td><td>217</td><td>6</td><td>30</td><td>3</td><td>2</td><td>3</td><td>217</td><td>0</td><td>0</td><td>1</td><td>1</td><td>1</td><td>0</td><td>0</td><td>1</td><td>1</td><td>E01003379</td><td>1</td><td>11</td><td>0</td><td>18</td><td>0</td><td>1</td><td>0</td><td>0</td><td>0</td><td>0</td><td>0</td><td>1</td><td>1</td><td>1</td><td>55</td><td>8</td><td>6692</td><td>2</td><td>7</td><td>9</td><td>1</td><td>9</td></tr><tr><th>6</th><td>2016010000018</td><td>510740</td><td>177230</td><td>-0.40658</td><td>51.4831</td><td>1</td><td>3</td><td>2</td><td>1</td><td>01/11/2016</td><td>3</td><td>07:53</td><td>25</td><td>E09000018</td><td>3</td><td>312</td><td>3</td><td>40</td><td>0</td><td>-1</td><td>-1</td><td>0</td><td>0</td><td>0</td><td>1</td><td>1</td><td>1</td><td>0</td><td>0</td><td>1</td><td>1</td><td>E01002583</td><td>1</td><td>9</td><td>0</td><td>12</td><td>0</td><td>0</td><td>0</td><td>0</td><td>0</td><td>0</td><td>1</td><td>1</td><td>6</td><td>1</td><td>20</td><td>4</td><td>1596</td><td>1</td><td>11</td><td>2</td><td>1</td><td>2</td></tr><tr><th>7</th><td>2016010000018</td><td>510740</td><td>177230</td><td>-0.40658</td><td>51.4831</td><td>1</td><td>3</td><td>2</td><td>1</td><td>01/11/2016</td><td>3</td><td>07:53</td><td>25</td><td>E09000018</td><td>3</td><td>312</td><td>3</td><td>40</td><td>0</td><td>-1</td><td>-1</td><td>0</td><td>0</td><td>0</td><td>1</td><td>1</td><td>1</td><td>0</td><td>0</td><td>1</td><td>1</td><td>E01002583</td><td>2</td><td>1</td><td>0</td><td>18</td><td>0</td><td>0</td><td>0</td><td>0</td><td>0</td><td>0</td><td>4</td><td>1</td><td>6</td><td>1</td><td>28</td><td>6</td><td>-1</td><td>-1</td><td>-1</td><td>6</td><td>1</td><td>6</td></tr><tr><th>8</th><td>2016010000019</td><td>530840</td><td>167100</td><td>-0.121004</td><td>51.3878</td><td>1</td><td>3</td><td>2</td><td>1</td><td>01/11/2016</td><td>3</td><td>09:29</td><td>20</td><td>E09000008</td><td>3</td><td>23</td><td>6</td><td>30</td><td>3</td><td>4</td><td>6</td><td>0</td><td>0</td><td>8</td><td>1</td><td>1</td><td>1</td><td>0</td><td>0</td><td>1</td><td>1</td><td>E01001180</td><td>1</td><td>9</td><td>0</td><td>18</td><td>0</td><td>1</td><td>0</td><td>0</td><td>1</td><td>0</td><td>2</td><td>1</td><td>6</td><td>2</td><td>30</td><td>6</td><td>1596</td><td>1</td><td>10</td><td>3</td><td>1</td><td>3</td></tr><tr><th>9</th><td>2016010000019</td><td>530840</td><td>167100</td><td>-0.121004</td><td>51.3878</td><td>1</td><td>3</td><td>2</td><td>1</td><td>01/11/2016</td><td>3</td><td>09:29</td><td>20</td><td>E09000008</td><td>3</td><td>23</td><td>6</td><td>30</td><td>3</td><td>4</td><td>6</td><td>0</td><td>0</td><td>8</td><td>1</td><td>1</td><td>1</td><td>0</td><td>0</td><td>1</td><td>1</td><td>E01001180</td><td>2</td><td>9</td><td>0</td><td>18</td><td>0</td><td>1</td><td>0</td><td>0</td><td>0</td><td>0</td><td>1</td><td>1</td><td>6</td><td>1</td><td>27</td><td>6</td><td>1596</td><td>1</td><td>5</td><td>2</td><td>1</td><td>2</td></tr><tr><th>10</th><td>2016010000020</td><td>527610</td><td>181430</td><td>-0.162234</td><td>51.5173</td><td>1</td><td>3</td><td>1</td><td>1</td><td>01/11/2016</td><td>3</td><td>08:53</td><td>1</td><td>E09000033</td><td>5</td><td>0</td><td>6</td><td>30</td><td>0</td><td>-1</td><td>-1</td><td>0</td><td>0</td><td>0</td><td>1</td><td>1</td><td>1</td><td>0</td><td>0</td><td>1</td><td>1</td><td>E01004658</td><td>1</td><td>8</td><td>0</td><td>18</td><td>0</td><td>0</td><td>0</td><td>0</td><td>0</td><td>0</td><td>4</td><td>1</td><td>1</td><td>1</td><td>33</td><td>6</td><td>2499</td><td>2</td><td>2</td><td>2</td><td>1</td><td>2</td></tr></tbody></table>"
      ],
      "text/plain": [
       "10×54 DataFrames.DataFrame. Omitted printing of 51 columns\n",
       "│ Row │ Accident_Index │ Location_Easting_OSGR │ Location_Northing_OSGR │\n",
       "├─────┼────────────────┼───────────────────────┼────────────────────────┤\n",
       "│ 1   │ 2016010000005  │ 519310                │ 188730                 │\n",
       "│ 2   │ 2016010000005  │ 519310                │ 188730                 │\n",
       "│ 3   │ 2016010000006  │ 551920                │ 174560                 │\n",
       "│ 4   │ 2016010000008  │ 505930                │ 183850                 │\n",
       "│ 5   │ 2016010000016  │ 527770                │ 168930                 │\n",
       "│ 6   │ 2016010000018  │ 510740                │ 177230                 │\n",
       "│ 7   │ 2016010000018  │ 510740                │ 177230                 │\n",
       "│ 8   │ 2016010000019  │ 530840                │ 167100                 │\n",
       "│ 9   │ 2016010000019  │ 530840                │ 167100                 │\n",
       "│ 10  │ 2016010000020  │ 527610                │ 181430                 │"
      ]
     },
     "execution_count": 18,
     "metadata": {},
     "output_type": "execute_result"
    }
   ],
   "source": [
    "rightDf16 = join(DfAccidents_16, DfVechicles_16, on=:Accident_Index, kind=:right)\n",
    "head(rightDf16, 10)"
   ]
  },
  {
   "cell_type": "code",
   "execution_count": 20,
   "metadata": {},
   "outputs": [
    {
     "data": {
      "text/plain": [
       "missing"
      ]
     },
     "execution_count": 20,
     "metadata": {},
     "output_type": "execute_result"
    }
   ],
   "source": [
    "leftDf16 == rightDf16"
   ]
  },
  {
   "cell_type": "markdown",
   "metadata": {},
   "source": [
    "I *won't* try `:outer`, `:semi` and `:anti` unless necessary."
   ]
  },
  {
   "cell_type": "markdown",
   "metadata": {},
   "source": [
    "## The Split-Apply-Combine strategy"
   ]
  },
  {
   "cell_type": "markdown",
   "metadata": {},
   "source": [
    "I had a hard time understanding the book's example."
   ]
  },
  {
   "cell_type": "code",
   "execution_count": 24,
   "metadata": {},
   "outputs": [
    {
     "data": {
      "text/html": [
       "<table class=\"data-frame\"><thead><tr><th></th><th>Location_Northing_OSGR</th><th>x1</th></tr></thead><tbody><tr><th>1</th><td>188730</td><td>(8, 32)</td></tr><tr><th>2</th><td>174560</td><td>(7, 32)</td></tr><tr><th>3</th><td>183850</td><td>(16, 32)</td></tr><tr><th>4</th><td>168930</td><td>(6, 32)</td></tr><tr><th>5</th><td>177230</td><td>(11, 32)</td></tr><tr><th>6</th><td>167100</td><td>(7, 32)</td></tr><tr><th>7</th><td>181430</td><td>(17, 32)</td></tr><tr><th>8</th><td>189460</td><td>(17, 32)</td></tr><tr><th>9</th><td>180620</td><td>(14, 32)</td></tr><tr><th>10</th><td>174700</td><td>(12, 32)</td></tr><tr><th>11</th><td>188290</td><td>(14, 32)</td></tr><tr><th>12</th><td>196480</td><td>(3, 32)</td></tr><tr><th>13</th><td>181160</td><td>(22, 32)</td></tr><tr><th>14</th><td>166630</td><td>(6, 32)</td></tr><tr><th>15</th><td>182770</td><td>(12, 32)</td></tr><tr><th>16</th><td>184260</td><td>(9, 32)</td></tr><tr><th>17</th><td>179690</td><td>(16, 32)</td></tr><tr><th>18</th><td>170460</td><td>(5, 32)</td></tr><tr><th>19</th><td>175710</td><td>(26, 32)</td></tr><tr><th>20</th><td>176600</td><td>(17, 32)</td></tr><tr><th>21</th><td>185060</td><td>(20, 32)</td></tr><tr><th>22</th><td>194470</td><td>(3, 32)</td></tr><tr><th>23</th><td>172110</td><td>(4, 32)</td></tr><tr><th>24</th><td>179560</td><td>(11, 32)</td></tr><tr><th>25</th><td>192580</td><td>(9, 32)</td></tr><tr><th>26</th><td>177880</td><td>(11, 32)</td></tr><tr><th>27</th><td>190630</td><td>(11, 32)</td></tr><tr><th>28</th><td>178950</td><td>(10, 32)</td></tr><tr><th>29</th><td>188420</td><td>(17, 32)</td></tr><tr><th>30</th><td>172020</td><td>(8, 32)</td></tr><tr><th>&vellip;</th><td>&vellip;</td><td>&vellip;</td></tr></tbody></table>"
      ],
      "text/plain": [
       "97149×2 DataFrames.DataFrame\n",
       "│ Row   │ Location_Northing_OSGR │ x1       │\n",
       "├───────┼────────────────────────┼──────────┤\n",
       "│ 1     │ 188730                 │ (8, 32)  │\n",
       "│ 2     │ 174560                 │ (7, 32)  │\n",
       "│ 3     │ 183850                 │ (16, 32) │\n",
       "│ 4     │ 168930                 │ (6, 32)  │\n",
       "│ 5     │ 177230                 │ (11, 32) │\n",
       "│ 6     │ 167100                 │ (7, 32)  │\n",
       "│ 7     │ 181430                 │ (17, 32) │\n",
       "│ 8     │ 189460                 │ (17, 32) │\n",
       "│ 9     │ 180620                 │ (14, 32) │\n",
       "│ 10    │ 174700                 │ (12, 32) │\n",
       "│ 11    │ 188290                 │ (14, 32) │\n",
       "⋮\n",
       "│ 97138 │ 582399                 │ (1, 32)  │\n",
       "│ 97139 │ 566883                 │ (1, 32)  │\n",
       "│ 97140 │ 611172                 │ (1, 32)  │\n",
       "│ 97141 │ 566381                 │ (1, 32)  │\n",
       "│ 97142 │ 605658                 │ (1, 32)  │\n",
       "│ 97143 │ 566583                 │ (1, 32)  │\n",
       "│ 97144 │ 611256                 │ (1, 32)  │\n",
       "│ 97145 │ 566974                 │ (1, 32)  │\n",
       "│ 97146 │ 574564                 │ (1, 32)  │\n",
       "│ 97147 │ 568615                 │ (1, 32)  │\n",
       "│ 97148 │ 573365                 │ (1, 32)  │\n",
       "│ 97149 │ 602737                 │ (1, 32)  │"
      ]
     },
     "execution_count": 24,
     "metadata": {},
     "output_type": "execute_result"
    }
   ],
   "source": [
    "by(DfAccidents_16, :Location_Northing_OSGR, size)"
   ]
  },
  {
   "cell_type": "code",
   "execution_count": 30,
   "metadata": {},
   "outputs": [
    {
     "data": {
      "text/plain": [
       "4-element Array{Int64,1}:\n",
       "    23\n",
       "  5627\n",
       " 15350\n",
       " 21334"
      ]
     },
     "execution_count": 30,
     "metadata": {},
     "output_type": "execute_result"
    }
   ],
   "source": [
    "find(dropmissing(DfAccidents_16)[:Location_Northing_OSGR] .== 172110)"
   ]
  },
  {
   "cell_type": "markdown",
   "metadata": {},
   "source": [
    "In fact, `32` comes from `ncol(DfAccidents_16)`.  This example is better."
   ]
  },
  {
   "cell_type": "code",
   "execution_count": 38,
   "metadata": {},
   "outputs": [
    {
     "data": {
      "text/html": [
       "<table class=\"data-frame\"><thead><tr><th></th><th>Vehicle_Type</th><th>x1</th></tr></thead><tbody><tr><th>1</th><td>8</td><td>(5234, 23)</td></tr><tr><th>2</th><td>2</td><td>(1907, 23)</td></tr><tr><th>3</th><td>9</td><td>(179615, 23)</td></tr><tr><th>4</th><td>11</td><td>(4998, 23)</td></tr><tr><th>5</th><td>1</td><td>(19047, 23)</td></tr><tr><th>6</th><td>4</td><td>(2232, 23)</td></tr><tr><th>7</th><td>19</td><td>(13125, 23)</td></tr><tr><th>8</th><td>3</td><td>(9152, 23)</td></tr><tr><th>9</th><td>90</td><td>(1431, 23)</td></tr><tr><th>10</th><td>5</td><td>(6704, 23)</td></tr><tr><th>11</th><td>21</td><td>(4262, 23)</td></tr><tr><th>12</th><td>20</td><td>(1557, 23)</td></tr><tr><th>13</th><td>10</td><td>(458, 23)</td></tr><tr><th>14</th><td>17</td><td>(531, 23)</td></tr><tr><th>15</th><td>16</td><td>(113, 23)</td></tr><tr><th>16</th><td>18</td><td>(22, 23)</td></tr><tr><th>17</th><td>98</td><td>(1088, 23)</td></tr><tr><th>18</th><td>97</td><td>(366, 23)</td></tr><tr><th>19</th><td>22</td><td>(260, 23)</td></tr><tr><th>20</th><td>-1</td><td>(336, 23)</td></tr><tr><th>21</th><td>23</td><td>(62, 23)</td></tr></tbody></table>"
      ],
      "text/plain": [
       "21×2 DataFrames.DataFrame\n",
       "│ Row │ Vehicle_Type │ x1           │\n",
       "├─────┼──────────────┼──────────────┤\n",
       "│ 1   │ 8            │ (5234, 23)   │\n",
       "│ 2   │ 2            │ (1907, 23)   │\n",
       "│ 3   │ 9            │ (179615, 23) │\n",
       "│ 4   │ 11           │ (4998, 23)   │\n",
       "│ 5   │ 1            │ (19047, 23)  │\n",
       "│ 6   │ 4            │ (2232, 23)   │\n",
       "│ 7   │ 19           │ (13125, 23)  │\n",
       "│ 8   │ 3            │ (9152, 23)   │\n",
       "│ 9   │ 90           │ (1431, 23)   │\n",
       "│ 10  │ 5            │ (6704, 23)   │\n",
       "│ 11  │ 21           │ (4262, 23)   │\n",
       "│ 12  │ 20           │ (1557, 23)   │\n",
       "│ 13  │ 10           │ (458, 23)    │\n",
       "│ 14  │ 17           │ (531, 23)    │\n",
       "│ 15  │ 16           │ (113, 23)    │\n",
       "│ 16  │ 18           │ (22, 23)     │\n",
       "│ 17  │ 98           │ (1088, 23)   │\n",
       "│ 18  │ 97           │ (366, 23)    │\n",
       "│ 19  │ 22           │ (260, 23)    │\n",
       "│ 20  │ -1           │ (336, 23)    │\n",
       "│ 21  │ 23           │ (62, 23)     │"
      ]
     },
     "execution_count": 38,
     "metadata": {},
     "output_type": "execute_result"
    }
   ],
   "source": [
    "by(DfVechicles_16, :Vehicle_Type, size)"
   ]
  }
 ],
 "metadata": {
  "kernelspec": {
   "display_name": "Julia 0.6.2",
   "language": "julia",
   "name": "julia-0.6"
  },
  "language_info": {
   "file_extension": ".jl",
   "mimetype": "application/julia",
   "name": "julia",
   "version": "0.6.2"
  }
 },
 "nbformat": 4,
 "nbformat_minor": 2
}
