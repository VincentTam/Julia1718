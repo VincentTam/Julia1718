{
 "cells": [
  {
   "cell_type": "code",
   "execution_count": 8,
   "metadata": {},
   "outputs": [
    {
     "name": "stderr",
     "output_type": "stream",
     "text": [
      "\u001b[1m\u001b[36mINFO: \u001b[39m\u001b[22m\u001b[36mPrecompiling module StatsModels.\n",
      "\u001b[39m"
     ]
    }
   ],
   "source": [
    "using DataFrames, StatsModels"
   ]
  },
  {
   "cell_type": "code",
   "execution_count": 2,
   "metadata": {},
   "outputs": [
    {
     "data": {
      "text/html": [
       "<table class=\"data-frame\"><thead><tr><th></th><th>A</th><th>B</th><th>C</th></tr></thead><tbody><tr><th>1</th><td>-0.0456397</td><td>-0.918659</td><td>0.313454</td></tr><tr><th>2</th><td>-0.812245</td><td>2.23553</td><td>0.269426</td></tr><tr><th>3</th><td>-2.46691</td><td>-1.69655</td><td>-1.58013</td></tr><tr><th>4</th><td>-0.401878</td><td>0.865587</td><td>-0.421793</td></tr><tr><th>5</th><td>-0.58376</td><td>0.685104</td><td>-0.451315</td></tr></tbody></table>"
      ],
      "text/plain": [
       "5×3 DataFrames.DataFrame\n",
       "│ Row │ A          │ B         │ C         │\n",
       "├─────┼────────────┼───────────┼───────────┤\n",
       "│ 1   │ -0.0456397 │ -0.918659 │ 0.313454  │\n",
       "│ 2   │ -0.812245  │ 2.23553   │ 0.269426  │\n",
       "│ 3   │ -2.46691   │ -1.69655  │ -1.58013  │\n",
       "│ 4   │ -0.401878  │ 0.865587  │ -0.421793 │\n",
       "│ 5   │ -0.58376   │ 0.685104  │ -0.451315 │"
      ]
     },
     "execution_count": 2,
     "metadata": {},
     "output_type": "execute_result"
    }
   ],
   "source": [
    "randdf = DataFrame(A = randn(5), B = randn(5), C = randn(5))"
   ]
  },
  {
   "cell_type": "markdown",
   "metadata": {},
   "source": [
    "Note the syntax for [`~`](https://github.com/PacktPublishing/Julia-for-Data-Science/pull/2) and [`ModelFrame`](https://juliastats.github.io/StatsModels.jl/latest/formula.html#The-ModelFrame-and-ModelMatrix-types-1)."
   ]
  },
  {
   "cell_type": "code",
   "execution_count": 9,
   "metadata": {},
   "outputs": [
    {
     "data": {
      "text/plain": [
       "StatsModels.ModelFrame(5×3 DataFrames.DataFrame\n",
       "│ Row │ A          │ B         │ C         │\n",
       "├─────┼────────────┼───────────┼───────────┤\n",
       "│ 1   │ -0.0456397 │ -0.918659 │ 0.313454  │\n",
       "│ 2   │ -0.812245  │ 2.23553   │ 0.269426  │\n",
       "│ 3   │ -2.46691   │ -1.69655  │ -1.58013  │\n",
       "│ 4   │ -0.401878  │ 0.865587  │ -0.421793 │\n",
       "│ 5   │ -0.58376   │ 0.685104  │ -0.451315 │, StatsModels.Terms(Symbol[:B, :C], Symbol[:A, :B, :C], Bool[true false false; false true false; false false true], Bool[false false false; false false false; false false false], [1, 1, 1], true, true), Bool[true, true, true, true, true], Dict{Symbol,StatsModels.ContrastsMatrix}())"
      ]
     },
     "execution_count": 9,
     "metadata": {},
     "output_type": "execute_result"
    }
   ],
   "source": [
    "randml = ModelFrame(@formula(A ~ B + C), randdf)"
   ]
  },
  {
   "cell_type": "markdown",
   "metadata": {},
   "source": [
    "Create `ModelMatrix` from `ModelFrame`."
   ]
  },
  {
   "cell_type": "code",
   "execution_count": 10,
   "metadata": {},
   "outputs": [
    {
     "data": {
      "text/plain": [
       "StatsModels.ModelMatrix{Array{Float64,2}}([1.0 -0.918659 0.313454; 1.0 2.23553 0.269426; … ; 1.0 0.865587 -0.421793; 1.0 0.685104 -0.451315], [0, 1, 2])"
      ]
     },
     "execution_count": 10,
     "metadata": {},
     "output_type": "execute_result"
    }
   ],
   "source": [
    "randmmat = ModelMatrix(randml)"
   ]
  }
 ],
 "metadata": {
  "kernelspec": {
   "display_name": "Julia 0.6.2",
   "language": "julia",
   "name": "julia-0.6"
  },
  "language_info": {
   "file_extension": ".jl",
   "mimetype": "application/julia",
   "name": "julia",
   "version": "0.6.2"
  }
 },
 "nbformat": 4,
 "nbformat_minor": 2
}
