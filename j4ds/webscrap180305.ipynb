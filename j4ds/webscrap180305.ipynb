{
 "cells": [
  {
   "cell_type": "code",
   "execution_count": 1,
   "metadata": {},
   "outputs": [
    {
     "name": "stderr",
     "output_type": "stream",
     "text": [
      "\u001b[1m\u001b[36mINFO: \u001b[39m\u001b[22m\u001b[36mPrecompiling module Requests.\n",
      "\u001b[39m"
     ]
    }
   ],
   "source": [
    "using JSON, Requests"
   ]
  },
  {
   "cell_type": "code",
   "execution_count": 3,
   "metadata": {},
   "outputs": [
    {
     "data": {
      "text/plain": [
       "\"https://www.reddit.com/r/Julia/\""
      ]
     },
     "execution_count": 3,
     "metadata": {},
     "output_type": "execute_result"
    }
   ],
   "source": [
    "reddit_url = \"https://www.reddit.com/r/Julia/\""
   ]
  },
  {
   "cell_type": "code",
   "execution_count": 4,
   "metadata": {},
   "outputs": [
    {
     "data": {
      "text/plain": [
       "Response(200 OK, 25 headers, 76841 bytes in body)"
      ]
     },
     "execution_count": 4,
     "metadata": {},
     "output_type": "execute_result"
    }
   ],
   "source": [
    "response = get(\"$(reddit_url)/.json\")"
   ]
  },
  {
   "cell_type": "code",
   "execution_count": 5,
   "metadata": {},
   "outputs": [
    {
     "data": {
      "text/plain": [
       "Dict{String,Any} with 2 entries:\n",
       "  \"kind\" => \"Listing\"\n",
       "  \"data\" => Dict{String,Any}(Pair{String,Any}(\"whitelist_status\", nothing),Pair…"
      ]
     },
     "execution_count": 5,
     "metadata": {},
     "output_type": "execute_result"
    }
   ],
   "source": [
    "dataReceived = JSON.parse(Requests.text(response))"
   ]
  },
  {
   "cell_type": "markdown",
   "metadata": {},
   "source": [
    "Create target objects"
   ]
  },
  {
   "cell_type": "code",
   "execution_count": 6,
   "metadata": {},
   "outputs": [
    {
     "data": {
      "text/plain": [
       "\"t3_7v4iqo\""
      ]
     },
     "execution_count": 6,
     "metadata": {},
     "output_type": "execute_result"
    }
   ],
   "source": [
    "nextRecord = dataReceived[\"data\"][\"after\"]"
   ]
  },
  {
   "cell_type": "code",
   "execution_count": 7,
   "metadata": {},
   "outputs": [
    {
     "data": {
      "text/plain": [
       "25"
      ]
     },
     "execution_count": 7,
     "metadata": {},
     "output_type": "execute_result"
    }
   ],
   "source": [
    "counter = length(dataReceived[\"data\"][\"children\"])"
   ]
  },
  {
   "cell_type": "code",
   "execution_count": 8,
   "metadata": {},
   "outputs": [
    {
     "data": {
      "text/plain": [
       "200"
      ]
     },
     "execution_count": 8,
     "metadata": {},
     "output_type": "execute_result"
    }
   ],
   "source": [
    "statuscode(response)"
   ]
  },
  {
   "cell_type": "code",
   "execution_count": 9,
   "metadata": {},
   "outputs": [
    {
     "data": {
      "text/plain": [
       "\"OK\""
      ]
     },
     "execution_count": 9,
     "metadata": {},
     "output_type": "execute_result"
    }
   ],
   "source": [
    "HttpCommon.STATUS_CODES[200]"
   ]
  },
  {
   "cell_type": "markdown",
   "metadata": {},
   "source": [
    "`rec` means \"record\"; `posts` collects all posts."
   ]
  },
  {
   "cell_type": "code",
   "execution_count": 13,
   "metadata": {},
   "outputs": [
    {
     "data": {
      "text/plain": [
       "0-element Array{Any,1}"
      ]
     },
     "execution_count": 13,
     "metadata": {},
     "output_type": "execute_result"
    }
   ],
   "source": [
    "posts = []"
   ]
  },
  {
   "cell_type": "code",
   "execution_count": 14,
   "metadata": {},
   "outputs": [],
   "source": [
    "for rec in 1:counter\n",
    "    url = dataReceived[\"data\"][\"children\"][rec][\"data\"][\"url\"]\n",
    "    rdrec_id = dataReceived[\"data\"][\"children\"][rec][\"data\"][\"id\"]\n",
    "    rdrec_title = dataReceived[\"data\"][\"children\"][rec][\"data\"][\"title\"]\n",
    "    author = dataReceived[\"data\"][\"children\"][rec][\"data\"][\"author\"]\n",
    "    created = dataReceived[\"data\"][\"children\"][rec][\"data\"][\"created\"]\n",
    "    push!(posts, (url, rdrec_id, rdrec_title, author, created))\n",
    "end"
   ]
  },
  {
   "cell_type": "code",
   "execution_count": 15,
   "metadata": {
    "scrolled": false
   },
   "outputs": [
    {
     "data": {
      "text/plain": [
       "25-element Array{Any,1}:\n",
       " (\"https://www.reddit.com/r/Julia/comments/81hx1s/openembedded_bitbake_recipe_for_julia/\", \"81hx1s\", \"Openembedded bitbake recipe for julia\", \"mmatuh\", 1.52005e9)                                                 \n",
       " (\"http://juliaobserver.com/p/WebIO\", \"813nnh\", \"WebIO – a DSL for web-based widgets in Julia\", \"nuclearfission\", 1.51992e9)                                                                                       \n",
       " (\"https://www.reddit.com/r/Julia/comments/80xfqm/error_updating_or_installing_packages/\", \"80xfqm\", \"Error Updating or Installing Packages\", \"pageround\", 1.51987e9)                                              \n",
       " (\"https://www.reddit.com/r/Julia/comments/80pbuy/trying_to_insert_na_value_into_dataframe/\", \"80pbuy\", \"Trying to insert NA value into DataFrame cells—getting error\", \"birch_baltimore\", 1.51979e9)              \n",
       " (\"https://www.reddit.com/r/Julia/comments/80j6bd/inline_llvm_ir/\", \"80j6bd\", \"Inline LLVM IR\", \"mtanski\", 1.51973e9)                                                                                              \n",
       " (\"https://nteract.io/desktop\", \"80i4ew\", \"An enhanced notebook experience\", \"rethlogl\", 1.51972e9)                                                                                                                \n",
       " (\"https://www.reddit.com/r/Julia/comments/80gmcl/parallel_array_mutation/\", \"80gmcl\", \"Parallel array mutation\", \"_trichoplax\", 1.51971e9)                                                                        \n",
       " (\"https://github.com/m-wells/jjvario\", \"80agf0\", \"Functions to save and restore all Julia Jupyter notebook variables.\", \"One__More__Redditor\", 1.51965e9)                                                         \n",
       " (\"https://www.reddit.com/r/Julia/comments/80339t/error_while_building_ijulia_julia_home_is_not/\", \"80339t\", \"Error while building IJulia, \\\"JULIA_HOME is not defined\\\"\", \"icecoldmind\", 1.51957e9)               \n",
       " (\"https://www.reddit.com/r/Julia/comments/7zn7fz/help_parallel_matrix_multiplication_in_julia/\", \"7zn7fz\", \"Help! Parallel matrix multiplication in Julia\", \"anonimni\", 1.51941e9)                                \n",
       " (\"https://piever.github.io/simpleblog/posts/\", \"7zjha7\", \"Some introductory blog posts on Julia\", \"Eigenspace\", 1.51937e9)                                                                                        \n",
       " (\"https://www.reddit.com/r/Julia/comments/7zejwt/automatic_inference_of_parametric_types/\", \"7zejwt\", \"automatic inference of parametric types\", \"skariel\", 1.51933e9)                                            \n",
       " (\"https://www.reddit.com/r/Julia/comments/7zb5gy/solving_large_systems_of_nonlinear_equations/\", \"7zb5gy\", \"Solving large systems of nonlinear equations?\", \"UpsideVII\", 1.51929e9)                               \n",
       " (\"https://www.youtube.com/watch?v=i5iGVkI7XOI\", \"7yphp2\", \"Using Juno for Interactive Test-Driven Julia Package Development\", \"ChrisRackauckas\", 1.5191e9)                                                        \n",
       " (\"https://www.reddit.com/r/Julia/comments/7yrgb7/need_help_julia_dependency_management/\", \"7yrgb7\", \"Need help: Julia dependency management\", \"freeusername123\", 1.51911e9)                                       \n",
       " (\"http://juliaobserver.com/p/AMG\", \"7ypcjf\", \"AMG – Algebraic Multigrid in Julia\", \"nuclearfission\", 1.5191e9)                                                                                                    \n",
       " (\"http://juliadiffeq.org/2018/02/17/Reactions.html\", \"7y84n8\", \"DifferentialEquations.jl 4.1: New ReactionDSL and KLU Sundials\", \"ChrisRackauckas\", 1.51892e9)                                                    \n",
       " (\"https://www.reddit.com/r/Julia/comments/7y3prq/hoping_for_some_help_with_a_pyplot_error/\", \"7y3prq\", \"Hoping for some help with a PyPlot error\", \"birch_baltimore\", 1.51886e9)                                  \n",
       " (\"https://news.ycombinator.com/item?id=16374316\", \"7xgloo\", \"How I deployed a Julia web-app using Genie framework with Docker\", \"anirudhmurali\", 1.51863e9)                                                       \n",
       " (\"http://opensourc.es/blog/hungarian-method\", \"7vqp34\", \"The Hungarian Method with Julia\", \"opensourcesblog\", 1.51798e9)                                                                                          \n",
       " (\"https://www.reddit.com/r/Julia/comments/7vq5ve/would_appreciate_some_help_on_a_short_text/\", \"7vq5ve\", \"Would appreciate some help on a short text reading, word counting script\", \"birch_baltimore\", 1.51798e9)\n",
       " (\"https://www.youtube.com/watch?v=KPEqYtEd-zY\", \"7vhcsn\", \"Intro to solving differential equations in Julia\", \"soft-error\", 1.51789e9)                                                                            \n",
       " (\"https://jwvictor.github.io/writing/2018/02/05/introducting-braids-jl.html\", \"7vicow\", \"Braids.jl - braid groups in Julia, and some open questions in braid theory\", \"jvictor118\", 1.5179e9)                     \n",
       " (\"https://www.reddit.com/r/Julia/comments/7vi8t2/quiver_plots_changing_arrow_length/\", \"7vi8t2\", \"Quiver Plots - Changing Arrow Length\", \"ImmunosuppressedTau\", 1.5179e9)                                         \n",
       " (\"https://tk3369.wordpress.com/2018/02/04/an-updated-analysis-for-the-giving-up-on-julia-blog-post/\", \"7v4iqo\", \"An Updated Analysis for the “Giving Up on Julia” Blog Post\", \"ChrisRackauckas\", 1.51775e9)       "
      ]
     },
     "execution_count": 15,
     "metadata": {},
     "output_type": "execute_result"
    }
   ],
   "source": [
    "posts"
   ]
  },
  {
   "cell_type": "markdown",
   "metadata": {},
   "source": [
    "Show the title of each post."
   ]
  },
  {
   "cell_type": "code",
   "execution_count": 17,
   "metadata": {},
   "outputs": [
    {
     "name": "stdout",
     "output_type": "stream",
     "text": [
      "Openembedded bitbake recipe for julia\n",
      "WebIO – a DSL for web-based widgets in Julia\n",
      "Error Updating or Installing Packages\n",
      "Trying to insert NA value into DataFrame cells—getting error\n",
      "Inline LLVM IR\n",
      "An enhanced notebook experience\n",
      "Parallel array mutation\n",
      "Functions to save and restore all Julia Jupyter notebook variables.\n",
      "Error while building IJulia, \"JULIA_HOME is not defined\"\n",
      "Help! Parallel matrix multiplication in Julia\n",
      "Some introductory blog posts on Julia\n",
      "automatic inference of parametric types\n",
      "Solving large systems of nonlinear equations?\n",
      "Using Juno for Interactive Test-Driven Julia Package Development\n",
      "Need help: Julia dependency management\n",
      "AMG – Algebraic Multigrid in Julia\n",
      "DifferentialEquations.jl 4.1: New ReactionDSL and KLU Sundials\n",
      "Hoping for some help with a PyPlot error\n",
      "How I deployed a Julia web-app using Genie framework with Docker\n",
      "The Hungarian Method with Julia\n",
      "Would appreciate some help on a short text reading, word counting script\n",
      "Intro to solving differential equations in Julia\n",
      "Braids.jl - braid groups in Julia, and some open questions in braid theory\n",
      "Quiver Plots - Changing Arrow Length\n",
      "An Updated Analysis for the “Giving Up on Julia” Blog Post\n"
     ]
    }
   ],
   "source": [
    "foreach(post -> println(post[3]), posts)"
   ]
  },
  {
   "cell_type": "code",
   "execution_count": null,
   "metadata": {},
   "outputs": [],
   "source": []
  }
 ],
 "metadata": {
  "kernelspec": {
   "display_name": "Julia 0.6.2",
   "language": "julia",
   "name": "julia-0.6"
  },
  "language_info": {
   "file_extension": ".jl",
   "mimetype": "application/julia",
   "name": "julia",
   "version": "0.6.2"
  }
 },
 "nbformat": 4,
 "nbformat_minor": 2
}
