{
 "cells": [
  {
   "cell_type": "code",
   "execution_count": 1,
   "metadata": {},
   "outputs": [],
   "source": [
    "using CSV, DataFrames"
   ]
  },
  {
   "cell_type": "code",
   "execution_count": 2,
   "metadata": {},
   "outputs": [
    {
     "data": {
      "text/html": [
       "<table class=\"data-frame\"><thead><tr><th></th><th>SepalLength</th><th>SepalWidth</th><th>PetalLength</th><th>PetalWidth</th><th>Species</th></tr></thead><tbody><tr><th>1</th><td>5.1</td><td>3.5</td><td>1.4</td><td>0.2</td><td>setosa</td></tr><tr><th>2</th><td>4.9</td><td>3.0</td><td>1.4</td><td>0.2</td><td>setosa</td></tr><tr><th>3</th><td>4.7</td><td>3.2</td><td>1.3</td><td>0.2</td><td>setosa</td></tr><tr><th>4</th><td>4.6</td><td>3.1</td><td>1.5</td><td>0.2</td><td>setosa</td></tr><tr><th>5</th><td>5.0</td><td>3.6</td><td>1.4</td><td>0.2</td><td>setosa</td></tr><tr><th>6</th><td>5.4</td><td>3.9</td><td>1.7</td><td>0.4</td><td>setosa</td></tr><tr><th>7</th><td>4.6</td><td>3.4</td><td>1.4</td><td>0.3</td><td>setosa</td></tr><tr><th>8</th><td>5.0</td><td>3.4</td><td>1.5</td><td>0.2</td><td>setosa</td></tr><tr><th>9</th><td>4.4</td><td>2.9</td><td>1.4</td><td>0.2</td><td>setosa</td></tr><tr><th>10</th><td>4.9</td><td>3.1</td><td>1.5</td><td>0.1</td><td>setosa</td></tr><tr><th>11</th><td>5.4</td><td>3.7</td><td>1.5</td><td>0.2</td><td>setosa</td></tr><tr><th>12</th><td>4.8</td><td>3.4</td><td>1.6</td><td>0.2</td><td>setosa</td></tr><tr><th>13</th><td>4.8</td><td>3.0</td><td>1.4</td><td>0.1</td><td>setosa</td></tr><tr><th>14</th><td>4.3</td><td>3.0</td><td>1.1</td><td>0.1</td><td>setosa</td></tr><tr><th>15</th><td>5.8</td><td>4.0</td><td>1.2</td><td>0.2</td><td>setosa</td></tr><tr><th>16</th><td>5.7</td><td>4.4</td><td>1.5</td><td>0.4</td><td>setosa</td></tr><tr><th>17</th><td>5.4</td><td>3.9</td><td>1.3</td><td>0.4</td><td>setosa</td></tr><tr><th>18</th><td>5.1</td><td>3.5</td><td>1.4</td><td>0.3</td><td>setosa</td></tr><tr><th>19</th><td>5.7</td><td>3.8</td><td>1.7</td><td>0.3</td><td>setosa</td></tr><tr><th>20</th><td>5.1</td><td>3.8</td><td>1.5</td><td>0.3</td><td>setosa</td></tr><tr><th>21</th><td>5.4</td><td>3.4</td><td>1.7</td><td>0.2</td><td>setosa</td></tr><tr><th>22</th><td>5.1</td><td>3.7</td><td>1.5</td><td>0.4</td><td>setosa</td></tr><tr><th>23</th><td>4.6</td><td>3.6</td><td>1.0</td><td>0.2</td><td>setosa</td></tr><tr><th>24</th><td>5.1</td><td>3.3</td><td>1.7</td><td>0.5</td><td>setosa</td></tr><tr><th>25</th><td>4.8</td><td>3.4</td><td>1.9</td><td>0.2</td><td>setosa</td></tr><tr><th>26</th><td>5.0</td><td>3.0</td><td>1.6</td><td>0.2</td><td>setosa</td></tr><tr><th>27</th><td>5.0</td><td>3.4</td><td>1.6</td><td>0.4</td><td>setosa</td></tr><tr><th>28</th><td>5.2</td><td>3.5</td><td>1.5</td><td>0.2</td><td>setosa</td></tr><tr><th>29</th><td>5.2</td><td>3.4</td><td>1.4</td><td>0.2</td><td>setosa</td></tr><tr><th>30</th><td>4.7</td><td>3.2</td><td>1.6</td><td>0.2</td><td>setosa</td></tr><tr><th>&vellip;</th><td>&vellip;</td><td>&vellip;</td><td>&vellip;</td><td>&vellip;</td><td>&vellip;</td></tr></tbody></table>"
      ],
      "text/plain": [
       "150×5 DataFrames.DataFrame\n",
       "│ Row │ SepalLength │ SepalWidth │ PetalLength │ PetalWidth │ Species   │\n",
       "├─────┼─────────────┼────────────┼─────────────┼────────────┼───────────┤\n",
       "│ 1   │ 5.1         │ 3.5        │ 1.4         │ 0.2        │ setosa    │\n",
       "│ 2   │ 4.9         │ 3.0        │ 1.4         │ 0.2        │ setosa    │\n",
       "│ 3   │ 4.7         │ 3.2        │ 1.3         │ 0.2        │ setosa    │\n",
       "│ 4   │ 4.6         │ 3.1        │ 1.5         │ 0.2        │ setosa    │\n",
       "│ 5   │ 5.0         │ 3.6        │ 1.4         │ 0.2        │ setosa    │\n",
       "│ 6   │ 5.4         │ 3.9        │ 1.7         │ 0.4        │ setosa    │\n",
       "│ 7   │ 4.6         │ 3.4        │ 1.4         │ 0.3        │ setosa    │\n",
       "│ 8   │ 5.0         │ 3.4        │ 1.5         │ 0.2        │ setosa    │\n",
       "│ 9   │ 4.4         │ 2.9        │ 1.4         │ 0.2        │ setosa    │\n",
       "│ 10  │ 4.9         │ 3.1        │ 1.5         │ 0.1        │ setosa    │\n",
       "│ 11  │ 5.4         │ 3.7        │ 1.5         │ 0.2        │ setosa    │\n",
       "⋮\n",
       "│ 139 │ 6.0         │ 3.0        │ 4.8         │ 1.8        │ virginica │\n",
       "│ 140 │ 6.9         │ 3.1        │ 5.4         │ 2.1        │ virginica │\n",
       "│ 141 │ 6.7         │ 3.1        │ 5.6         │ 2.4        │ virginica │\n",
       "│ 142 │ 6.9         │ 3.1        │ 5.1         │ 2.3        │ virginica │\n",
       "│ 143 │ 5.8         │ 2.7        │ 5.1         │ 1.9        │ virginica │\n",
       "│ 144 │ 6.8         │ 3.2        │ 5.9         │ 2.3        │ virginica │\n",
       "│ 145 │ 6.7         │ 3.3        │ 5.7         │ 2.5        │ virginica │\n",
       "│ 146 │ 6.7         │ 3.0        │ 5.2         │ 2.3        │ virginica │\n",
       "│ 147 │ 6.3         │ 2.5        │ 5.0         │ 1.9        │ virginica │\n",
       "│ 148 │ 6.5         │ 3.0        │ 5.2         │ 2.0        │ virginica │\n",
       "│ 149 │ 6.2         │ 3.4        │ 5.4         │ 2.3        │ virginica │\n",
       "│ 150 │ 5.9         │ 3.0        │ 5.1         │ 1.8        │ virginica │"
      ]
     },
     "execution_count": 2,
     "metadata": {},
     "output_type": "execute_result"
    }
   ],
   "source": [
    "irisdf = CSV.read(joinpath(Pkg.dir(\"DataFrames\"), \"test/data/iris.csv\"))"
   ]
  },
  {
   "cell_type": "code",
   "execution_count": 3,
   "metadata": {},
   "outputs": [
    {
     "data": {
      "text/html": [
       "<table class=\"data-frame\"><thead><tr><th></th><th>variable</th><th>value</th><th>Species</th></tr></thead><tbody><tr><th>1</th><td>SepalLength</td><td>5.1</td><td>setosa</td></tr><tr><th>2</th><td>SepalLength</td><td>4.9</td><td>setosa</td></tr><tr><th>3</th><td>SepalLength</td><td>4.7</td><td>setosa</td></tr><tr><th>4</th><td>SepalLength</td><td>4.6</td><td>setosa</td></tr><tr><th>5</th><td>SepalLength</td><td>5.0</td><td>setosa</td></tr><tr><th>6</th><td>SepalLength</td><td>5.4</td><td>setosa</td></tr><tr><th>7</th><td>SepalLength</td><td>4.6</td><td>setosa</td></tr><tr><th>8</th><td>SepalLength</td><td>5.0</td><td>setosa</td></tr><tr><th>9</th><td>SepalLength</td><td>4.4</td><td>setosa</td></tr><tr><th>10</th><td>SepalLength</td><td>4.9</td><td>setosa</td></tr><tr><th>11</th><td>SepalLength</td><td>5.4</td><td>setosa</td></tr><tr><th>12</th><td>SepalLength</td><td>4.8</td><td>setosa</td></tr><tr><th>13</th><td>SepalLength</td><td>4.8</td><td>setosa</td></tr><tr><th>14</th><td>SepalLength</td><td>4.3</td><td>setosa</td></tr><tr><th>15</th><td>SepalLength</td><td>5.8</td><td>setosa</td></tr><tr><th>16</th><td>SepalLength</td><td>5.7</td><td>setosa</td></tr><tr><th>17</th><td>SepalLength</td><td>5.4</td><td>setosa</td></tr><tr><th>18</th><td>SepalLength</td><td>5.1</td><td>setosa</td></tr><tr><th>19</th><td>SepalLength</td><td>5.7</td><td>setosa</td></tr><tr><th>20</th><td>SepalLength</td><td>5.1</td><td>setosa</td></tr><tr><th>21</th><td>SepalLength</td><td>5.4</td><td>setosa</td></tr><tr><th>22</th><td>SepalLength</td><td>5.1</td><td>setosa</td></tr><tr><th>23</th><td>SepalLength</td><td>4.6</td><td>setosa</td></tr><tr><th>24</th><td>SepalLength</td><td>5.1</td><td>setosa</td></tr><tr><th>25</th><td>SepalLength</td><td>4.8</td><td>setosa</td></tr><tr><th>26</th><td>SepalLength</td><td>5.0</td><td>setosa</td></tr><tr><th>27</th><td>SepalLength</td><td>5.0</td><td>setosa</td></tr><tr><th>28</th><td>SepalLength</td><td>5.2</td><td>setosa</td></tr><tr><th>29</th><td>SepalLength</td><td>5.2</td><td>setosa</td></tr><tr><th>30</th><td>SepalLength</td><td>4.7</td><td>setosa</td></tr><tr><th>&vellip;</th><td>&vellip;</td><td>&vellip;</td><td>&vellip;</td></tr></tbody></table>"
      ],
      "text/plain": [
       "600×3 DataFrames.DataFrame\n",
       "│ Row │ variable    │ value │ Species   │\n",
       "├─────┼─────────────┼───────┼───────────┤\n",
       "│ 1   │ SepalLength │ 5.1   │ setosa    │\n",
       "│ 2   │ SepalLength │ 4.9   │ setosa    │\n",
       "│ 3   │ SepalLength │ 4.7   │ setosa    │\n",
       "│ 4   │ SepalLength │ 4.6   │ setosa    │\n",
       "│ 5   │ SepalLength │ 5.0   │ setosa    │\n",
       "│ 6   │ SepalLength │ 5.4   │ setosa    │\n",
       "│ 7   │ SepalLength │ 4.6   │ setosa    │\n",
       "│ 8   │ SepalLength │ 5.0   │ setosa    │\n",
       "│ 9   │ SepalLength │ 4.4   │ setosa    │\n",
       "│ 10  │ SepalLength │ 4.9   │ setosa    │\n",
       "│ 11  │ SepalLength │ 5.4   │ setosa    │\n",
       "⋮\n",
       "│ 589 │ PetalWidth  │ 1.8   │ virginica │\n",
       "│ 590 │ PetalWidth  │ 2.1   │ virginica │\n",
       "│ 591 │ PetalWidth  │ 2.4   │ virginica │\n",
       "│ 592 │ PetalWidth  │ 2.3   │ virginica │\n",
       "│ 593 │ PetalWidth  │ 1.9   │ virginica │\n",
       "│ 594 │ PetalWidth  │ 2.3   │ virginica │\n",
       "│ 595 │ PetalWidth  │ 2.5   │ virginica │\n",
       "│ 596 │ PetalWidth  │ 2.3   │ virginica │\n",
       "│ 597 │ PetalWidth  │ 1.9   │ virginica │\n",
       "│ 598 │ PetalWidth  │ 2.0   │ virginica │\n",
       "│ 599 │ PetalWidth  │ 2.3   │ virginica │\n",
       "│ 600 │ PetalWidth  │ 1.8   │ virginica │"
      ]
     },
     "execution_count": 3,
     "metadata": {},
     "output_type": "execute_result"
    }
   ],
   "source": [
    "irisstackdf = stackdf(irisdf)"
   ]
  },
  {
   "cell_type": "markdown",
   "metadata": {},
   "source": [
    "Give ID to each datum."
   ]
  },
  {
   "cell_type": "code",
   "execution_count": 4,
   "metadata": {},
   "outputs": [
    {
     "data": {
      "text/plain": [
       "1:150"
      ]
     },
     "execution_count": 4,
     "metadata": {},
     "output_type": "execute_result"
    }
   ],
   "source": [
    "irisdf[:id] = 1:size(irisdf, 1)"
   ]
  },
  {
   "cell_type": "markdown",
   "metadata": {},
   "source": [
    "`irisdf` has 150 data.  Stack first three columns."
   ]
  },
  {
   "cell_type": "code",
   "execution_count": 11,
   "metadata": {},
   "outputs": [
    {
     "data": {
      "text/html": [
       "<table class=\"data-frame\"><thead><tr><th></th><th>variable</th><th>value</th><th>PetalWidth</th><th>Species</th><th>id</th></tr></thead><tbody><tr><th>1</th><td>SepalLength</td><td>5.1</td><td>0.2</td><td>setosa</td><td>1</td></tr><tr><th>2</th><td>SepalLength</td><td>4.9</td><td>0.2</td><td>setosa</td><td>2</td></tr><tr><th>3</th><td>SepalLength</td><td>4.7</td><td>0.2</td><td>setosa</td><td>3</td></tr><tr><th>4</th><td>SepalLength</td><td>4.6</td><td>0.2</td><td>setosa</td><td>4</td></tr><tr><th>5</th><td>SepalLength</td><td>5.0</td><td>0.2</td><td>setosa</td><td>5</td></tr><tr><th>6</th><td>SepalLength</td><td>5.4</td><td>0.4</td><td>setosa</td><td>6</td></tr><tr><th>7</th><td>SepalLength</td><td>4.6</td><td>0.3</td><td>setosa</td><td>7</td></tr><tr><th>8</th><td>SepalLength</td><td>5.0</td><td>0.2</td><td>setosa</td><td>8</td></tr><tr><th>9</th><td>SepalLength</td><td>4.4</td><td>0.2</td><td>setosa</td><td>9</td></tr><tr><th>10</th><td>SepalLength</td><td>4.9</td><td>0.1</td><td>setosa</td><td>10</td></tr><tr><th>11</th><td>SepalLength</td><td>5.4</td><td>0.2</td><td>setosa</td><td>11</td></tr><tr><th>12</th><td>SepalLength</td><td>4.8</td><td>0.2</td><td>setosa</td><td>12</td></tr><tr><th>13</th><td>SepalLength</td><td>4.8</td><td>0.1</td><td>setosa</td><td>13</td></tr><tr><th>14</th><td>SepalLength</td><td>4.3</td><td>0.1</td><td>setosa</td><td>14</td></tr><tr><th>15</th><td>SepalLength</td><td>5.8</td><td>0.2</td><td>setosa</td><td>15</td></tr><tr><th>16</th><td>SepalLength</td><td>5.7</td><td>0.4</td><td>setosa</td><td>16</td></tr><tr><th>17</th><td>SepalLength</td><td>5.4</td><td>0.4</td><td>setosa</td><td>17</td></tr><tr><th>18</th><td>SepalLength</td><td>5.1</td><td>0.3</td><td>setosa</td><td>18</td></tr><tr><th>19</th><td>SepalLength</td><td>5.7</td><td>0.3</td><td>setosa</td><td>19</td></tr><tr><th>20</th><td>SepalLength</td><td>5.1</td><td>0.3</td><td>setosa</td><td>20</td></tr><tr><th>21</th><td>SepalLength</td><td>5.4</td><td>0.2</td><td>setosa</td><td>21</td></tr><tr><th>22</th><td>SepalLength</td><td>5.1</td><td>0.4</td><td>setosa</td><td>22</td></tr><tr><th>23</th><td>SepalLength</td><td>4.6</td><td>0.2</td><td>setosa</td><td>23</td></tr><tr><th>24</th><td>SepalLength</td><td>5.1</td><td>0.5</td><td>setosa</td><td>24</td></tr><tr><th>25</th><td>SepalLength</td><td>4.8</td><td>0.2</td><td>setosa</td><td>25</td></tr><tr><th>26</th><td>SepalLength</td><td>5.0</td><td>0.2</td><td>setosa</td><td>26</td></tr><tr><th>27</th><td>SepalLength</td><td>5.0</td><td>0.4</td><td>setosa</td><td>27</td></tr><tr><th>28</th><td>SepalLength</td><td>5.2</td><td>0.2</td><td>setosa</td><td>28</td></tr><tr><th>29</th><td>SepalLength</td><td>5.2</td><td>0.2</td><td>setosa</td><td>29</td></tr><tr><th>30</th><td>SepalLength</td><td>4.7</td><td>0.2</td><td>setosa</td><td>30</td></tr><tr><th>&vellip;</th><td>&vellip;</td><td>&vellip;</td><td>&vellip;</td><td>&vellip;</td><td>&vellip;</td></tr></tbody></table>"
      ],
      "text/plain": [
       "450×5 DataFrames.DataFrame\n",
       "│ Row │ variable    │ value │ PetalWidth │ Species   │ id  │\n",
       "├─────┼─────────────┼───────┼────────────┼───────────┼─────┤\n",
       "│ 1   │ SepalLength │ 5.1   │ 0.2        │ setosa    │ 1   │\n",
       "│ 2   │ SepalLength │ 4.9   │ 0.2        │ setosa    │ 2   │\n",
       "│ 3   │ SepalLength │ 4.7   │ 0.2        │ setosa    │ 3   │\n",
       "│ 4   │ SepalLength │ 4.6   │ 0.2        │ setosa    │ 4   │\n",
       "│ 5   │ SepalLength │ 5.0   │ 0.2        │ setosa    │ 5   │\n",
       "│ 6   │ SepalLength │ 5.4   │ 0.4        │ setosa    │ 6   │\n",
       "│ 7   │ SepalLength │ 4.6   │ 0.3        │ setosa    │ 7   │\n",
       "│ 8   │ SepalLength │ 5.0   │ 0.2        │ setosa    │ 8   │\n",
       "│ 9   │ SepalLength │ 4.4   │ 0.2        │ setosa    │ 9   │\n",
       "│ 10  │ SepalLength │ 4.9   │ 0.1        │ setosa    │ 10  │\n",
       "│ 11  │ SepalLength │ 5.4   │ 0.2        │ setosa    │ 11  │\n",
       "⋮\n",
       "│ 439 │ PetalLength │ 4.8   │ 1.8        │ virginica │ 139 │\n",
       "│ 440 │ PetalLength │ 5.4   │ 2.1        │ virginica │ 140 │\n",
       "│ 441 │ PetalLength │ 5.6   │ 2.4        │ virginica │ 141 │\n",
       "│ 442 │ PetalLength │ 5.1   │ 2.3        │ virginica │ 142 │\n",
       "│ 443 │ PetalLength │ 5.1   │ 1.9        │ virginica │ 143 │\n",
       "│ 444 │ PetalLength │ 5.9   │ 2.3        │ virginica │ 144 │\n",
       "│ 445 │ PetalLength │ 5.7   │ 2.5        │ virginica │ 145 │\n",
       "│ 446 │ PetalLength │ 5.2   │ 2.3        │ virginica │ 146 │\n",
       "│ 447 │ PetalLength │ 5.0   │ 1.9        │ virginica │ 147 │\n",
       "│ 448 │ PetalLength │ 5.2   │ 2.0        │ virginica │ 148 │\n",
       "│ 449 │ PetalLength │ 5.4   │ 2.3        │ virginica │ 149 │\n",
       "│ 450 │ PetalLength │ 5.1   │ 1.8        │ virginica │ 150 │"
      ]
     },
     "execution_count": 11,
     "metadata": {},
     "output_type": "execute_result"
    }
   ],
   "source": [
    "iris_stack = stack(irisdf, 1:3)"
   ]
  },
  {
   "cell_type": "code",
   "execution_count": 12,
   "metadata": {},
   "outputs": [
    {
     "data": {
      "text/plain": [
       "(450, 5)"
      ]
     },
     "execution_count": 12,
     "metadata": {},
     "output_type": "execute_result"
    }
   ],
   "source": [
    "size(iris_stack)"
   ]
  },
  {
   "cell_type": "code",
   "execution_count": 10,
   "metadata": {},
   "outputs": [
    {
     "data": {
      "text/html": [
       "<table class=\"data-frame\"><thead><tr><th></th><th>variable</th><th>value</th><th>Species</th><th>id</th></tr></thead><tbody><tr><th>1</th><td>SepalLength</td><td>5.1</td><td>setosa</td><td>1</td></tr><tr><th>2</th><td>SepalLength</td><td>4.9</td><td>setosa</td><td>2</td></tr><tr><th>3</th><td>SepalLength</td><td>4.7</td><td>setosa</td><td>3</td></tr><tr><th>4</th><td>SepalLength</td><td>4.6</td><td>setosa</td><td>4</td></tr><tr><th>5</th><td>SepalLength</td><td>5.0</td><td>setosa</td><td>5</td></tr><tr><th>6</th><td>SepalLength</td><td>5.4</td><td>setosa</td><td>6</td></tr></tbody></table>"
      ],
      "text/plain": [
       "6×4 DataFrames.DataFrame\n",
       "│ Row │ variable    │ value │ Species │ id │\n",
       "├─────┼─────────────┼───────┼─────────┼────┤\n",
       "│ 1   │ SepalLength │ 5.1   │ setosa  │ 1  │\n",
       "│ 2   │ SepalLength │ 4.9   │ setosa  │ 2  │\n",
       "│ 3   │ SepalLength │ 4.7   │ setosa  │ 3  │\n",
       "│ 4   │ SepalLength │ 4.6   │ setosa  │ 4  │\n",
       "│ 5   │ SepalLength │ 5.0   │ setosa  │ 5  │\n",
       "│ 6   │ SepalLength │ 5.4   │ setosa  │ 6  │"
      ]
     },
     "execution_count": 10,
     "metadata": {},
     "output_type": "execute_result"
    }
   ],
   "source": [
    "head(iris_stack)"
   ]
  },
  {
   "cell_type": "code",
   "execution_count": 13,
   "metadata": {},
   "outputs": [
    {
     "data": {
      "text/html": [
       "<table class=\"data-frame\"><thead><tr><th></th><th>variable</th><th>value</th><th>Species</th></tr></thead><tbody><tr><th>1</th><td>SepalLength</td><td>5.1</td><td>setosa</td></tr><tr><th>2</th><td>SepalLength</td><td>4.9</td><td>setosa</td></tr><tr><th>3</th><td>SepalLength</td><td>4.7</td><td>setosa</td></tr><tr><th>4</th><td>SepalLength</td><td>4.6</td><td>setosa</td></tr><tr><th>5</th><td>SepalLength</td><td>5.0</td><td>setosa</td></tr><tr><th>6</th><td>SepalLength</td><td>5.4</td><td>setosa</td></tr><tr><th>7</th><td>SepalLength</td><td>4.6</td><td>setosa</td></tr><tr><th>8</th><td>SepalLength</td><td>5.0</td><td>setosa</td></tr><tr><th>9</th><td>SepalLength</td><td>4.4</td><td>setosa</td></tr><tr><th>10</th><td>SepalLength</td><td>4.9</td><td>setosa</td></tr><tr><th>11</th><td>SepalLength</td><td>5.4</td><td>setosa</td></tr><tr><th>12</th><td>SepalLength</td><td>4.8</td><td>setosa</td></tr><tr><th>13</th><td>SepalLength</td><td>4.8</td><td>setosa</td></tr><tr><th>14</th><td>SepalLength</td><td>4.3</td><td>setosa</td></tr><tr><th>15</th><td>SepalLength</td><td>5.8</td><td>setosa</td></tr><tr><th>16</th><td>SepalLength</td><td>5.7</td><td>setosa</td></tr><tr><th>17</th><td>SepalLength</td><td>5.4</td><td>setosa</td></tr><tr><th>18</th><td>SepalLength</td><td>5.1</td><td>setosa</td></tr><tr><th>19</th><td>SepalLength</td><td>5.7</td><td>setosa</td></tr><tr><th>20</th><td>SepalLength</td><td>5.1</td><td>setosa</td></tr><tr><th>21</th><td>SepalLength</td><td>5.4</td><td>setosa</td></tr><tr><th>22</th><td>SepalLength</td><td>5.1</td><td>setosa</td></tr><tr><th>23</th><td>SepalLength</td><td>4.6</td><td>setosa</td></tr><tr><th>24</th><td>SepalLength</td><td>5.1</td><td>setosa</td></tr><tr><th>25</th><td>SepalLength</td><td>4.8</td><td>setosa</td></tr><tr><th>26</th><td>SepalLength</td><td>5.0</td><td>setosa</td></tr><tr><th>27</th><td>SepalLength</td><td>5.0</td><td>setosa</td></tr><tr><th>28</th><td>SepalLength</td><td>5.2</td><td>setosa</td></tr><tr><th>29</th><td>SepalLength</td><td>5.2</td><td>setosa</td></tr><tr><th>30</th><td>SepalLength</td><td>4.7</td><td>setosa</td></tr><tr><th>&vellip;</th><td>&vellip;</td><td>&vellip;</td><td>&vellip;</td></tr></tbody></table>"
      ],
      "text/plain": [
       "300×3 DataFrames.DataFrame\n",
       "│ Row │ variable    │ value │ Species   │\n",
       "├─────┼─────────────┼───────┼───────────┤\n",
       "│ 1   │ SepalLength │ 5.1   │ setosa    │\n",
       "│ 2   │ SepalLength │ 4.9   │ setosa    │\n",
       "│ 3   │ SepalLength │ 4.7   │ setosa    │\n",
       "│ 4   │ SepalLength │ 4.6   │ setosa    │\n",
       "│ 5   │ SepalLength │ 5.0   │ setosa    │\n",
       "│ 6   │ SepalLength │ 5.4   │ setosa    │\n",
       "│ 7   │ SepalLength │ 4.6   │ setosa    │\n",
       "│ 8   │ SepalLength │ 5.0   │ setosa    │\n",
       "│ 9   │ SepalLength │ 4.4   │ setosa    │\n",
       "│ 10  │ SepalLength │ 4.9   │ setosa    │\n",
       "│ 11  │ SepalLength │ 5.4   │ setosa    │\n",
       "⋮\n",
       "│ 289 │ SepalWidth  │ 3.0   │ virginica │\n",
       "│ 290 │ SepalWidth  │ 3.1   │ virginica │\n",
       "│ 291 │ SepalWidth  │ 3.1   │ virginica │\n",
       "│ 292 │ SepalWidth  │ 3.1   │ virginica │\n",
       "│ 293 │ SepalWidth  │ 2.7   │ virginica │\n",
       "│ 294 │ SepalWidth  │ 3.2   │ virginica │\n",
       "│ 295 │ SepalWidth  │ 3.3   │ virginica │\n",
       "│ 296 │ SepalWidth  │ 3.0   │ virginica │\n",
       "│ 297 │ SepalWidth  │ 2.5   │ virginica │\n",
       "│ 298 │ SepalWidth  │ 3.0   │ virginica │\n",
       "│ 299 │ SepalWidth  │ 3.4   │ virginica │\n",
       "│ 300 │ SepalWidth  │ 3.0   │ virginica │"
      ]
     },
     "execution_count": 13,
     "metadata": {},
     "output_type": "execute_result"
    }
   ],
   "source": [
    "iris_stack = stack(irisdf, [:SepalLength, :SepalWidth], :Species)"
   ]
  },
  {
   "cell_type": "markdown",
   "metadata": {},
   "source": [
    "`melt()` and `unstack()` are action-reaction pairs."
   ]
  },
  {
   "cell_type": "code",
   "execution_count": 15,
   "metadata": {},
   "outputs": [
    {
     "data": {
      "text/html": [
       "<table class=\"data-frame\"><thead><tr><th></th><th>variable</th><th>value</th><th>Species</th><th>id</th></tr></thead><tbody><tr><th>1</th><td>PetalWidth</td><td>2.5</td><td>virginica</td><td>145</td></tr><tr><th>2</th><td>PetalWidth</td><td>2.3</td><td>virginica</td><td>146</td></tr><tr><th>3</th><td>PetalWidth</td><td>1.9</td><td>virginica</td><td>147</td></tr><tr><th>4</th><td>PetalWidth</td><td>2.0</td><td>virginica</td><td>148</td></tr><tr><th>5</th><td>PetalWidth</td><td>2.3</td><td>virginica</td><td>149</td></tr><tr><th>6</th><td>PetalWidth</td><td>1.8</td><td>virginica</td><td>150</td></tr></tbody></table>"
      ],
      "text/plain": [
       "6×4 DataFrames.DataFrame\n",
       "│ Row │ variable   │ value │ Species   │ id  │\n",
       "├─────┼────────────┼───────┼───────────┼─────┤\n",
       "│ 1   │ PetalWidth │ 2.5   │ virginica │ 145 │\n",
       "│ 2   │ PetalWidth │ 2.3   │ virginica │ 146 │\n",
       "│ 3   │ PetalWidth │ 1.9   │ virginica │ 147 │\n",
       "│ 4   │ PetalWidth │ 2.0   │ virginica │ 148 │\n",
       "│ 5   │ PetalWidth │ 2.3   │ virginica │ 149 │\n",
       "│ 6   │ PetalWidth │ 1.8   │ virginica │ 150 │"
      ]
     },
     "execution_count": 15,
     "metadata": {},
     "output_type": "execute_result"
    }
   ],
   "source": [
    "iris_melt = melt(irisdf, [:Species, :id])\n",
    "tail(iris_melt)"
   ]
  },
  {
   "cell_type": "markdown",
   "metadata": {},
   "source": [
    "See the [doc for `unstack()`](https://juliadata.github.io/DataFrames.jl/stable/lib/functions.html#DataFrames.unstack).  The second argument `rowkeys` is optional."
   ]
  },
  {
   "cell_type": "code",
   "execution_count": 18,
   "metadata": {},
   "outputs": [
    {
     "data": {
      "text/html": [
       "<table class=\"data-frame\"><thead><tr><th></th><th>id</th><th>PetalLength</th><th>PetalWidth</th><th>SepalLength</th><th>SepalWidth</th></tr></thead><tbody><tr><th>1</th><td>1</td><td>1.4</td><td>0.2</td><td>5.1</td><td>3.5</td></tr><tr><th>2</th><td>2</td><td>1.4</td><td>0.2</td><td>4.9</td><td>3.0</td></tr><tr><th>3</th><td>3</td><td>1.3</td><td>0.2</td><td>4.7</td><td>3.2</td></tr><tr><th>4</th><td>4</td><td>1.5</td><td>0.2</td><td>4.6</td><td>3.1</td></tr><tr><th>5</th><td>5</td><td>1.4</td><td>0.2</td><td>5.0</td><td>3.6</td></tr><tr><th>6</th><td>6</td><td>1.7</td><td>0.4</td><td>5.4</td><td>3.9</td></tr><tr><th>7</th><td>7</td><td>1.4</td><td>0.3</td><td>4.6</td><td>3.4</td></tr><tr><th>8</th><td>8</td><td>1.5</td><td>0.2</td><td>5.0</td><td>3.4</td></tr><tr><th>9</th><td>9</td><td>1.4</td><td>0.2</td><td>4.4</td><td>2.9</td></tr><tr><th>10</th><td>10</td><td>1.5</td><td>0.1</td><td>4.9</td><td>3.1</td></tr><tr><th>11</th><td>11</td><td>1.5</td><td>0.2</td><td>5.4</td><td>3.7</td></tr><tr><th>12</th><td>12</td><td>1.6</td><td>0.2</td><td>4.8</td><td>3.4</td></tr><tr><th>13</th><td>13</td><td>1.4</td><td>0.1</td><td>4.8</td><td>3.0</td></tr><tr><th>14</th><td>14</td><td>1.1</td><td>0.1</td><td>4.3</td><td>3.0</td></tr><tr><th>15</th><td>15</td><td>1.2</td><td>0.2</td><td>5.8</td><td>4.0</td></tr><tr><th>16</th><td>16</td><td>1.5</td><td>0.4</td><td>5.7</td><td>4.4</td></tr><tr><th>17</th><td>17</td><td>1.3</td><td>0.4</td><td>5.4</td><td>3.9</td></tr><tr><th>18</th><td>18</td><td>1.4</td><td>0.3</td><td>5.1</td><td>3.5</td></tr><tr><th>19</th><td>19</td><td>1.7</td><td>0.3</td><td>5.7</td><td>3.8</td></tr><tr><th>20</th><td>20</td><td>1.5</td><td>0.3</td><td>5.1</td><td>3.8</td></tr><tr><th>21</th><td>21</td><td>1.7</td><td>0.2</td><td>5.4</td><td>3.4</td></tr><tr><th>22</th><td>22</td><td>1.5</td><td>0.4</td><td>5.1</td><td>3.7</td></tr><tr><th>23</th><td>23</td><td>1.0</td><td>0.2</td><td>4.6</td><td>3.6</td></tr><tr><th>24</th><td>24</td><td>1.7</td><td>0.5</td><td>5.1</td><td>3.3</td></tr><tr><th>25</th><td>25</td><td>1.9</td><td>0.2</td><td>4.8</td><td>3.4</td></tr><tr><th>26</th><td>26</td><td>1.6</td><td>0.2</td><td>5.0</td><td>3.0</td></tr><tr><th>27</th><td>27</td><td>1.6</td><td>0.4</td><td>5.0</td><td>3.4</td></tr><tr><th>28</th><td>28</td><td>1.5</td><td>0.2</td><td>5.2</td><td>3.5</td></tr><tr><th>29</th><td>29</td><td>1.4</td><td>0.2</td><td>5.2</td><td>3.4</td></tr><tr><th>30</th><td>30</td><td>1.6</td><td>0.2</td><td>4.7</td><td>3.2</td></tr><tr><th>&vellip;</th><td>&vellip;</td><td>&vellip;</td><td>&vellip;</td><td>&vellip;</td><td>&vellip;</td></tr></tbody></table>"
      ],
      "text/plain": [
       "150×5 DataFrames.DataFrame\n",
       "│ Row │ id  │ PetalLength │ PetalWidth │ SepalLength │ SepalWidth │\n",
       "├─────┼─────┼─────────────┼────────────┼─────────────┼────────────┤\n",
       "│ 1   │ 1   │ 1.4         │ 0.2        │ 5.1         │ 3.5        │\n",
       "│ 2   │ 2   │ 1.4         │ 0.2        │ 4.9         │ 3.0        │\n",
       "│ 3   │ 3   │ 1.3         │ 0.2        │ 4.7         │ 3.2        │\n",
       "│ 4   │ 4   │ 1.5         │ 0.2        │ 4.6         │ 3.1        │\n",
       "│ 5   │ 5   │ 1.4         │ 0.2        │ 5.0         │ 3.6        │\n",
       "│ 6   │ 6   │ 1.7         │ 0.4        │ 5.4         │ 3.9        │\n",
       "│ 7   │ 7   │ 1.4         │ 0.3        │ 4.6         │ 3.4        │\n",
       "│ 8   │ 8   │ 1.5         │ 0.2        │ 5.0         │ 3.4        │\n",
       "│ 9   │ 9   │ 1.4         │ 0.2        │ 4.4         │ 2.9        │\n",
       "│ 10  │ 10  │ 1.5         │ 0.1        │ 4.9         │ 3.1        │\n",
       "│ 11  │ 11  │ 1.5         │ 0.2        │ 5.4         │ 3.7        │\n",
       "⋮\n",
       "│ 139 │ 139 │ 4.8         │ 1.8        │ 6.0         │ 3.0        │\n",
       "│ 140 │ 140 │ 5.4         │ 2.1        │ 6.9         │ 3.1        │\n",
       "│ 141 │ 141 │ 5.6         │ 2.4        │ 6.7         │ 3.1        │\n",
       "│ 142 │ 142 │ 5.1         │ 2.3        │ 6.9         │ 3.1        │\n",
       "│ 143 │ 143 │ 5.1         │ 1.9        │ 5.8         │ 2.7        │\n",
       "│ 144 │ 144 │ 5.9         │ 2.3        │ 6.8         │ 3.2        │\n",
       "│ 145 │ 145 │ 5.7         │ 2.5        │ 6.7         │ 3.3        │\n",
       "│ 146 │ 146 │ 5.2         │ 2.3        │ 6.7         │ 3.0        │\n",
       "│ 147 │ 147 │ 5.0         │ 1.9        │ 6.3         │ 2.5        │\n",
       "│ 148 │ 148 │ 5.2         │ 2.0        │ 6.5         │ 3.0        │\n",
       "│ 149 │ 149 │ 5.4         │ 2.3        │ 6.2         │ 3.4        │\n",
       "│ 150 │ 150 │ 5.1         │ 1.8        │ 5.9         │ 3.0        │"
      ]
     },
     "execution_count": 18,
     "metadata": {},
     "output_type": "execute_result"
    }
   ],
   "source": [
    "widedf1 = unstack(iris_melt, :id, :variable, :value)"
   ]
  },
  {
   "cell_type": "code",
   "execution_count": 19,
   "metadata": {},
   "outputs": [
    {
     "data": {
      "text/html": [
       "<table class=\"data-frame\"><thead><tr><th></th><th>Species</th><th>id</th><th>PetalLength</th><th>PetalWidth</th><th>SepalLength</th><th>SepalWidth</th></tr></thead><tbody><tr><th>1</th><td>setosa</td><td>1</td><td>1.4</td><td>0.2</td><td>5.1</td><td>3.5</td></tr><tr><th>2</th><td>setosa</td><td>2</td><td>1.4</td><td>0.2</td><td>4.9</td><td>3.0</td></tr><tr><th>3</th><td>setosa</td><td>3</td><td>1.3</td><td>0.2</td><td>4.7</td><td>3.2</td></tr><tr><th>4</th><td>setosa</td><td>4</td><td>1.5</td><td>0.2</td><td>4.6</td><td>3.1</td></tr><tr><th>5</th><td>setosa</td><td>5</td><td>1.4</td><td>0.2</td><td>5.0</td><td>3.6</td></tr><tr><th>6</th><td>setosa</td><td>6</td><td>1.7</td><td>0.4</td><td>5.4</td><td>3.9</td></tr><tr><th>7</th><td>setosa</td><td>7</td><td>1.4</td><td>0.3</td><td>4.6</td><td>3.4</td></tr><tr><th>8</th><td>setosa</td><td>8</td><td>1.5</td><td>0.2</td><td>5.0</td><td>3.4</td></tr><tr><th>9</th><td>setosa</td><td>9</td><td>1.4</td><td>0.2</td><td>4.4</td><td>2.9</td></tr><tr><th>10</th><td>setosa</td><td>10</td><td>1.5</td><td>0.1</td><td>4.9</td><td>3.1</td></tr><tr><th>11</th><td>setosa</td><td>11</td><td>1.5</td><td>0.2</td><td>5.4</td><td>3.7</td></tr><tr><th>12</th><td>setosa</td><td>12</td><td>1.6</td><td>0.2</td><td>4.8</td><td>3.4</td></tr><tr><th>13</th><td>setosa</td><td>13</td><td>1.4</td><td>0.1</td><td>4.8</td><td>3.0</td></tr><tr><th>14</th><td>setosa</td><td>14</td><td>1.1</td><td>0.1</td><td>4.3</td><td>3.0</td></tr><tr><th>15</th><td>setosa</td><td>15</td><td>1.2</td><td>0.2</td><td>5.8</td><td>4.0</td></tr><tr><th>16</th><td>setosa</td><td>16</td><td>1.5</td><td>0.4</td><td>5.7</td><td>4.4</td></tr><tr><th>17</th><td>setosa</td><td>17</td><td>1.3</td><td>0.4</td><td>5.4</td><td>3.9</td></tr><tr><th>18</th><td>setosa</td><td>18</td><td>1.4</td><td>0.3</td><td>5.1</td><td>3.5</td></tr><tr><th>19</th><td>setosa</td><td>19</td><td>1.7</td><td>0.3</td><td>5.7</td><td>3.8</td></tr><tr><th>20</th><td>setosa</td><td>20</td><td>1.5</td><td>0.3</td><td>5.1</td><td>3.8</td></tr><tr><th>21</th><td>setosa</td><td>21</td><td>1.7</td><td>0.2</td><td>5.4</td><td>3.4</td></tr><tr><th>22</th><td>setosa</td><td>22</td><td>1.5</td><td>0.4</td><td>5.1</td><td>3.7</td></tr><tr><th>23</th><td>setosa</td><td>23</td><td>1.0</td><td>0.2</td><td>4.6</td><td>3.6</td></tr><tr><th>24</th><td>setosa</td><td>24</td><td>1.7</td><td>0.5</td><td>5.1</td><td>3.3</td></tr><tr><th>25</th><td>setosa</td><td>25</td><td>1.9</td><td>0.2</td><td>4.8</td><td>3.4</td></tr><tr><th>26</th><td>setosa</td><td>26</td><td>1.6</td><td>0.2</td><td>5.0</td><td>3.0</td></tr><tr><th>27</th><td>setosa</td><td>27</td><td>1.6</td><td>0.4</td><td>5.0</td><td>3.4</td></tr><tr><th>28</th><td>setosa</td><td>28</td><td>1.5</td><td>0.2</td><td>5.2</td><td>3.5</td></tr><tr><th>29</th><td>setosa</td><td>29</td><td>1.4</td><td>0.2</td><td>5.2</td><td>3.4</td></tr><tr><th>30</th><td>setosa</td><td>30</td><td>1.6</td><td>0.2</td><td>4.7</td><td>3.2</td></tr><tr><th>&vellip;</th><td>&vellip;</td><td>&vellip;</td><td>&vellip;</td><td>&vellip;</td><td>&vellip;</td><td>&vellip;</td></tr></tbody></table>"
      ],
      "text/plain": [
       "150×6 DataFrames.DataFrame\n",
       "│ Row │ Species   │ id  │ PetalLength │ PetalWidth │ SepalLength │ SepalWidth │\n",
       "├─────┼───────────┼─────┼─────────────┼────────────┼─────────────┼────────────┤\n",
       "│ 1   │ setosa    │ 1   │ 1.4         │ 0.2        │ 5.1         │ 3.5        │\n",
       "│ 2   │ setosa    │ 2   │ 1.4         │ 0.2        │ 4.9         │ 3.0        │\n",
       "│ 3   │ setosa    │ 3   │ 1.3         │ 0.2        │ 4.7         │ 3.2        │\n",
       "│ 4   │ setosa    │ 4   │ 1.5         │ 0.2        │ 4.6         │ 3.1        │\n",
       "│ 5   │ setosa    │ 5   │ 1.4         │ 0.2        │ 5.0         │ 3.6        │\n",
       "│ 6   │ setosa    │ 6   │ 1.7         │ 0.4        │ 5.4         │ 3.9        │\n",
       "│ 7   │ setosa    │ 7   │ 1.4         │ 0.3        │ 4.6         │ 3.4        │\n",
       "│ 8   │ setosa    │ 8   │ 1.5         │ 0.2        │ 5.0         │ 3.4        │\n",
       "│ 9   │ setosa    │ 9   │ 1.4         │ 0.2        │ 4.4         │ 2.9        │\n",
       "│ 10  │ setosa    │ 10  │ 1.5         │ 0.1        │ 4.9         │ 3.1        │\n",
       "│ 11  │ setosa    │ 11  │ 1.5         │ 0.2        │ 5.4         │ 3.7        │\n",
       "⋮\n",
       "│ 139 │ virginica │ 139 │ 4.8         │ 1.8        │ 6.0         │ 3.0        │\n",
       "│ 140 │ virginica │ 140 │ 5.4         │ 2.1        │ 6.9         │ 3.1        │\n",
       "│ 141 │ virginica │ 141 │ 5.6         │ 2.4        │ 6.7         │ 3.1        │\n",
       "│ 142 │ virginica │ 142 │ 5.1         │ 2.3        │ 6.9         │ 3.1        │\n",
       "│ 143 │ virginica │ 143 │ 5.1         │ 1.9        │ 5.8         │ 2.7        │\n",
       "│ 144 │ virginica │ 144 │ 5.9         │ 2.3        │ 6.8         │ 3.2        │\n",
       "│ 145 │ virginica │ 145 │ 5.7         │ 2.5        │ 6.7         │ 3.3        │\n",
       "│ 146 │ virginica │ 146 │ 5.2         │ 2.3        │ 6.7         │ 3.0        │\n",
       "│ 147 │ virginica │ 147 │ 5.0         │ 1.9        │ 6.3         │ 2.5        │\n",
       "│ 148 │ virginica │ 148 │ 5.2         │ 2.0        │ 6.5         │ 3.0        │\n",
       "│ 149 │ virginica │ 149 │ 5.4         │ 2.3        │ 6.2         │ 3.4        │\n",
       "│ 150 │ virginica │ 150 │ 5.1         │ 1.8        │ 5.9         │ 3.0        │"
      ]
     },
     "execution_count": 19,
     "metadata": {},
     "output_type": "execute_result"
    }
   ],
   "source": [
    "widedf2 = unstack(iris_melt, :variable, :value)"
   ]
  },
  {
   "cell_type": "code",
   "execution_count": null,
   "metadata": {},
   "outputs": [],
   "source": []
  }
 ],
 "metadata": {
  "kernelspec": {
   "display_name": "Julia 0.6.2",
   "language": "julia",
   "name": "julia-0.6"
  },
  "language_info": {
   "file_extension": ".jl",
   "mimetype": "application/julia",
   "name": "julia",
   "version": "0.6.2"
  }
 },
 "nbformat": 4,
 "nbformat_minor": 2
}
