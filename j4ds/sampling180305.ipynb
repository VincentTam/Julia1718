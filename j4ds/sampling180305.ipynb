{
 "cells": [
  {
   "cell_type": "code",
   "execution_count": 1,
   "metadata": {},
   "outputs": [],
   "source": [
    "using RDatasets, StatsBase"
   ]
  },
  {
   "cell_type": "code",
   "execution_count": 2,
   "metadata": {},
   "outputs": [
    {
     "data": {
      "text/html": [
       "<table class=\"data-frame\"><thead><tr><th></th><th>Package</th><th>Title</th></tr></thead><tbody><tr><th>1</th><td>COUNT</td><td>Functions, data and code for count data.</td></tr><tr><th>2</th><td>Ecdat</td><td>Data sets for econometrics</td></tr><tr><th>3</th><td>HSAUR</td><td>A Handbook of Statistical Analyses Using R (1st Edition)</td></tr><tr><th>4</th><td>HistData</td><td>Data sets from the history of statistics and data visualization</td></tr><tr><th>5</th><td>ISLR</td><td>Data for An Introduction to Statistical Learning with Applications in R</td></tr><tr><th>6</th><td>KMsurv</td><td>Data sets from Klein and Moeschberger (1997), Survival Analysis</td></tr><tr><th>7</th><td>MASS</td><td>Support Functions and Datasets for Venables and Ripley's MASS</td></tr><tr><th>8</th><td>SASmixed</td><td>Data sets from \\\\\"SAS System for Mixed Models\\\\\"</td></tr><tr><th>9</th><td>Zelig</td><td>Everyone's Statistical Software</td></tr><tr><th>10</th><td>adehabitatLT</td><td>Analysis of Animal Movements</td></tr><tr><th>11</th><td>boot</td><td>Bootstrap Functions (Originally by Angelo Canty for S)</td></tr><tr><th>12</th><td>car</td><td>Companion to Applied Regression</td></tr><tr><th>13</th><td>cluster</td><td>Cluster Analysis Extended Rousseeuw et al.</td></tr><tr><th>14</th><td>datasets</td><td>The R Datasets Package</td></tr><tr><th>15</th><td>gap</td><td>Genetic analysis package</td></tr><tr><th>16</th><td>ggplot2</td><td>An Implementation of the Grammar of Graphics</td></tr><tr><th>17</th><td>lattice</td><td>Lattice Graphics</td></tr><tr><th>18</th><td>lme4</td><td>Linear mixed-effects models using Eigen and S4</td></tr><tr><th>19</th><td>mgcv</td><td>Mixed GAM Computation Vehicle with GCV/AIC/REML smoothness estimation</td></tr><tr><th>20</th><td>mlmRev</td><td>Examples from Multilevel Modelling Software Review</td></tr><tr><th>21</th><td>nlreg</td><td>Higher Order Inference for Nonlinear Heteroscedastic Models</td></tr><tr><th>22</th><td>plm</td><td>Linear Models for Panel Data</td></tr><tr><th>23</th><td>plyr</td><td>Tools for splitting, applying and combining data</td></tr><tr><th>24</th><td>pscl</td><td>Political Science Computational Laboratory, Stanford University</td></tr><tr><th>25</th><td>psych</td><td>Procedures for Psychological, Psychometric, and Personality Research</td></tr><tr><th>26</th><td>quantreg</td><td>Quantile Regression</td></tr><tr><th>27</th><td>reshape2</td><td>Flexibly Reshape Data: A Reboot of the Reshape Package.</td></tr><tr><th>28</th><td>robustbase</td><td>Basic Robust Statistics</td></tr><tr><th>29</th><td>rpart</td><td>Recursive Partitioning and Regression Trees</td></tr><tr><th>30</th><td>sandwich</td><td>Robust Covariance Matrix Estimators</td></tr><tr><th>&vellip;</th><td>&vellip;</td><td>&vellip;</td></tr></tbody></table>"
      ],
      "text/plain": [
       "33×2 DataFrames.DataFrame. Omitted printing of 1 columns\n",
       "│ Row │ Package      │\n",
       "├─────┼──────────────┤\n",
       "│ 1   │ COUNT        │\n",
       "│ 2   │ Ecdat        │\n",
       "│ 3   │ HSAUR        │\n",
       "│ 4   │ HistData     │\n",
       "│ 5   │ ISLR         │\n",
       "│ 6   │ KMsurv       │\n",
       "│ 7   │ MASS         │\n",
       "│ 8   │ SASmixed     │\n",
       "│ 9   │ Zelig        │\n",
       "│ 10  │ adehabitatLT │\n",
       "│ 11  │ boot         │\n",
       "⋮\n",
       "│ 22  │ plm          │\n",
       "│ 23  │ plyr         │\n",
       "│ 24  │ pscl         │\n",
       "│ 25  │ psych        │\n",
       "│ 26  │ quantreg     │\n",
       "│ 27  │ reshape2     │\n",
       "│ 28  │ robustbase   │\n",
       "│ 29  │ rpart        │\n",
       "│ 30  │ sandwich     │\n",
       "│ 31  │ sem          │\n",
       "│ 32  │ survival     │\n",
       "│ 33  │ vcd          │"
      ]
     },
     "execution_count": 2,
     "metadata": {},
     "output_type": "execute_result"
    }
   ],
   "source": [
    "RDatasets.packages()"
   ]
  },
  {
   "cell_type": "code",
   "execution_count": 3,
   "metadata": {},
   "outputs": [
    {
     "data": {
      "text/html": [
       "<table class=\"data-frame\"><thead><tr><th></th><th>Package</th><th>Dataset</th><th>Title</th><th>Rows</th><th>Columns</th></tr></thead><tbody><tr><th>1</th><td>datasets</td><td>BOD</td><td>Biochemical Oxygen Demand</td><td>6</td><td>2</td></tr><tr><th>2</th><td>datasets</td><td>CO2</td><td>Carbon Dioxide Uptake in Grass Plants</td><td>84</td><td>5</td></tr><tr><th>3</th><td>datasets</td><td>Formaldehyde</td><td>Determination of Formaldehyde</td><td>6</td><td>2</td></tr><tr><th>4</th><td>datasets</td><td>HairEyeColor</td><td>Hair and Eye Color of Statistics Students</td><td>32</td><td>4</td></tr><tr><th>5</th><td>datasets</td><td>InsectSprays</td><td>Effectiveness of Insect Sprays</td><td>72</td><td>2</td></tr><tr><th>6</th><td>datasets</td><td>LifeCycleSavings</td><td>Intercountry Life-Cycle Savings Data</td><td>50</td><td>6</td></tr><tr><th>7</th><td>datasets</td><td>Loblolly</td><td>Growth of Loblolly pine trees</td><td>84</td><td>4</td></tr><tr><th>8</th><td>datasets</td><td>OrchardSprays</td><td>Potency of Orchard Sprays</td><td>64</td><td>4</td></tr><tr><th>9</th><td>datasets</td><td>PlantGrowth</td><td>Results from an Experiment on Plant Growth</td><td>30</td><td>2</td></tr><tr><th>10</th><td>datasets</td><td>Puromycin</td><td>Reaction Velocity of an Enzymatic Reaction</td><td>23</td><td>3</td></tr><tr><th>11</th><td>datasets</td><td>Theoph</td><td>Pharmacokinetics of Theophylline</td><td>132</td><td>5</td></tr><tr><th>12</th><td>datasets</td><td>Titanic</td><td>Survival of passengers on the Titanic</td><td>32</td><td>5</td></tr><tr><th>13</th><td>datasets</td><td>ToothGrowth</td><td>The Effect of Vitamin C on Tooth Growth in Guinea Pigs</td><td>60</td><td>3</td></tr><tr><th>14</th><td>datasets</td><td>UCBAdmissions</td><td>Student Admissions at UC Berkeley</td><td>24</td><td>4</td></tr><tr><th>15</th><td>datasets</td><td>USArrests</td><td>Violent Crime Rates by US State</td><td>50</td><td>5</td></tr><tr><th>16</th><td>datasets</td><td>USJudgeRatings</td><td>Lawyers' Ratings of State Judges in the US Superior Court</td><td>43</td><td>13</td></tr><tr><th>17</th><td>datasets</td><td>USPersonalExpenditure</td><td>Personal Expenditure Data</td><td>5</td><td>6</td></tr><tr><th>18</th><td>datasets</td><td>VADeaths</td><td>Death Rates in Virginia (1940)</td><td>5</td><td>5</td></tr><tr><th>19</th><td>datasets</td><td>WorldPhones</td><td>The World's Telephones</td><td>7</td><td>8</td></tr><tr><th>20</th><td>datasets</td><td>airquality</td><td>New York Air Quality Measurements</td><td>153</td><td>6</td></tr><tr><th>21</th><td>datasets</td><td>anscombe</td><td>Anscombe's Quartet of 'Identical' Simple Linear Regressions</td><td>11</td><td>8</td></tr><tr><th>22</th><td>datasets</td><td>attenu</td><td>The Joyner-Boore Attenuation Data</td><td>182</td><td>5</td></tr><tr><th>23</th><td>datasets</td><td>attitude</td><td>The Chatterjee-Price Attitude Data</td><td>30</td><td>7</td></tr><tr><th>24</th><td>datasets</td><td>cars</td><td>Speed and Stopping Distances of Cars</td><td>50</td><td>2</td></tr><tr><th>25</th><td>datasets</td><td>chickwts</td><td>Chicken Weights by Feed Type</td><td>71</td><td>2</td></tr><tr><th>26</th><td>datasets</td><td>crimtab</td><td>Student's 3000 Criminals Data</td><td>42</td><td>23</td></tr><tr><th>27</th><td>datasets</td><td>esoph</td><td>Smoking, Alcohol and (O)esophageal Cancer</td><td>88</td><td>5</td></tr><tr><th>28</th><td>datasets</td><td>euro</td><td>Conversion Rates of Euro Currencies</td><td>11</td><td>2</td></tr><tr><th>29</th><td>datasets</td><td>faithful</td><td>Old Faithful Geyser Data</td><td>272</td><td>2</td></tr><tr><th>30</th><td>datasets</td><td>freeny</td><td>Freeny's Revenue Data</td><td>39</td><td>6</td></tr><tr><th>&vellip;</th><td>&vellip;</td><td>&vellip;</td><td>&vellip;</td><td>&vellip;</td><td>&vellip;</td></tr></tbody></table>"
      ],
      "text/plain": [
       "50×5 DataFrames.DataFrame. Omitted printing of 3 columns\n",
       "│ Row │ Package  │ Dataset          │\n",
       "├─────┼──────────┼──────────────────┤\n",
       "│ 1   │ datasets │ BOD              │\n",
       "│ 2   │ datasets │ CO2              │\n",
       "│ 3   │ datasets │ Formaldehyde     │\n",
       "│ 4   │ datasets │ HairEyeColor     │\n",
       "│ 5   │ datasets │ InsectSprays     │\n",
       "│ 6   │ datasets │ LifeCycleSavings │\n",
       "│ 7   │ datasets │ Loblolly         │\n",
       "│ 8   │ datasets │ OrchardSprays    │\n",
       "│ 9   │ datasets │ PlantGrowth      │\n",
       "│ 10  │ datasets │ Puromycin        │\n",
       "│ 11  │ datasets │ Theoph           │\n",
       "⋮\n",
       "│ 39  │ datasets │ pressure         │\n",
       "│ 40  │ datasets │ quakes           │\n",
       "│ 41  │ datasets │ randu            │\n",
       "│ 42  │ datasets │ rivers           │\n",
       "│ 43  │ datasets │ rock             │\n",
       "│ 44  │ datasets │ sleep            │\n",
       "│ 45  │ datasets │ stackloss        │\n",
       "│ 46  │ datasets │ swiss            │\n",
       "│ 47  │ datasets │ trees            │\n",
       "│ 48  │ datasets │ volcano          │\n",
       "│ 49  │ datasets │ warpbreaks       │\n",
       "│ 50  │ datasets │ women            │"
      ]
     },
     "execution_count": 3,
     "metadata": {},
     "output_type": "execute_result"
    }
   ],
   "source": [
    "RDatasets.datasets(\"datasets\")"
   ]
  },
  {
   "cell_type": "code",
   "execution_count": 4,
   "metadata": {},
   "outputs": [
    {
     "data": {
      "text/html": [
       "<table class=\"data-frame\"><thead><tr><th></th><th>AgeGp</th><th>AlcGp</th><th>TobGp</th><th>NCases</th><th>NControls</th></tr></thead><tbody><tr><th>1</th><td>25-34</td><td>0-39g/day</td><td>0-9g/day</td><td>0</td><td>40</td></tr><tr><th>2</th><td>25-34</td><td>0-39g/day</td><td>10-19</td><td>0</td><td>10</td></tr><tr><th>3</th><td>25-34</td><td>0-39g/day</td><td>20-29</td><td>0</td><td>6</td></tr><tr><th>4</th><td>25-34</td><td>0-39g/day</td><td>30+</td><td>0</td><td>5</td></tr><tr><th>5</th><td>25-34</td><td>40-79</td><td>0-9g/day</td><td>0</td><td>27</td></tr><tr><th>6</th><td>25-34</td><td>40-79</td><td>10-19</td><td>0</td><td>7</td></tr></tbody></table>"
      ],
      "text/plain": [
       "6×5 DataFrames.DataFrame\n",
       "│ Row │ AgeGp │ AlcGp     │ TobGp    │ NCases │ NControls │\n",
       "├─────┼───────┼───────────┼──────────┼────────┼───────────┤\n",
       "│ 1   │ 25-34 │ 0-39g/day │ 0-9g/day │ 0      │ 40        │\n",
       "│ 2   │ 25-34 │ 0-39g/day │ 10-19    │ 0      │ 10        │\n",
       "│ 3   │ 25-34 │ 0-39g/day │ 20-29    │ 0      │ 6         │\n",
       "│ 4   │ 25-34 │ 0-39g/day │ 30+      │ 0      │ 5         │\n",
       "│ 5   │ 25-34 │ 40-79     │ 0-9g/day │ 0      │ 27        │\n",
       "│ 6   │ 25-34 │ 40-79     │ 10-19    │ 0      │ 7         │"
      ]
     },
     "execution_count": 4,
     "metadata": {},
     "output_type": "execute_result"
    }
   ],
   "source": [
    "mydf = dataset(\"datasets\", \"esoph\")\n",
    "head(mydf)"
   ]
  },
  {
   "cell_type": "code",
   "execution_count": 5,
   "metadata": {},
   "outputs": [
    {
     "name": "stdout",
     "output_type": "stream",
     "text": [
      "88×5 DataFrames.DataFrame\n",
      "│ Col # │ Name      │ Eltype                                     │ Missing │\n",
      "├───────┼───────────┼────────────────────────────────────────────┼─────────┤\n",
      "│ 1     │ AgeGp     │ CategoricalArrays.CategoricalString{UInt8} │ 0       │\n",
      "│ 2     │ AlcGp     │ CategoricalArrays.CategoricalString{UInt8} │ 0       │\n",
      "│ 3     │ TobGp     │ CategoricalArrays.CategoricalString{UInt8} │ 0       │\n",
      "│ 4     │ NCases    │ Int32                                      │ 0       │\n",
      "│ 5     │ NControls │ Int32                                      │ 0       │\n",
      "\n",
      "│ Col # │ Values             │\n",
      "├───────┼────────────────────┤\n",
      "│ 1     │ 25-34  …  75+      │\n",
      "│ 2     │ 0-39g/day  …  120+ │\n",
      "│ 3     │ 0-9g/day  …  10-19 │\n",
      "│ 4     │ 0  …  1            │\n",
      "│ 5     │ 40  …  1           │"
     ]
    }
   ],
   "source": [
    "showcols(mydf)"
   ]
  },
  {
   "cell_type": "code",
   "execution_count": 6,
   "metadata": {},
   "outputs": [
    {
     "data": {
      "text/plain": [
       "CategoricalArrays.CategoricalString{UInt8} \"45-54\""
      ]
     },
     "execution_count": 6,
     "metadata": {},
     "output_type": "execute_result"
    }
   ],
   "source": [
    "sample(mydf[:AgeGp])"
   ]
  },
  {
   "cell_type": "markdown",
   "metadata": {},
   "source": [
    "Get a larger sample"
   ]
  },
  {
   "cell_type": "code",
   "execution_count": 7,
   "metadata": {},
   "outputs": [
    {
     "data": {
      "text/plain": [
       "8-element Array{Int32,1}:\n",
       " 8\n",
       " 2\n",
       " 3\n",
       " 0\n",
       " 6\n",
       " 1\n",
       " 0\n",
       " 1"
      ]
     },
     "execution_count": 7,
     "metadata": {},
     "output_type": "execute_result"
    }
   ],
   "source": [
    "sample(mydf[:NCases], 8)"
   ]
  },
  {
   "cell_type": "markdown",
   "metadata": {},
   "source": [
    "Get ordered values."
   ]
  },
  {
   "cell_type": "code",
   "execution_count": 10,
   "metadata": {},
   "outputs": [
    {
     "data": {
      "text/plain": [
       "8-element Array{Int32,1}:\n",
       " 0\n",
       " 0\n",
       " 1\n",
       " 3\n",
       " 3\n",
       " 4\n",
       " 6\n",
       " 9"
      ]
     },
     "execution_count": 10,
     "metadata": {},
     "output_type": "execute_result"
    }
   ],
   "source": [
    "sample(mydf[:NCases], 8; replace = true, ordered = true)"
   ]
  },
  {
   "cell_type": "code",
   "execution_count": 11,
   "metadata": {},
   "outputs": [
    {
     "data": {
      "text/plain": [
       "8-element Array{Int32,1}:\n",
       " 0\n",
       " 0\n",
       " 0\n",
       " 0\n",
       " 0\n",
       " 2\n",
       " 2\n",
       " 1"
      ]
     },
     "execution_count": 11,
     "metadata": {},
     "output_type": "execute_result"
    }
   ],
   "source": [
    "sample(mydf[:NCases], 8; replace = false, ordered = true)"
   ]
  },
  {
   "cell_type": "markdown",
   "metadata": {},
   "source": [
    "## Weight vectors"
   ]
  },
  {
   "cell_type": "markdown",
   "metadata": {},
   "source": [
    "`WeightVec` is deprecated.  Uses\n",
    "\n",
    "1. Programmatically distinguish weight vector and `DataArrays`.\n",
    "2. Store the sum of the weights to avoid repeated computation of `sum(wv)`."
   ]
  },
  {
   "cell_type": "code",
   "execution_count": 13,
   "metadata": {},
   "outputs": [
    {
     "data": {
      "text/plain": [
       "3-element StatsBase.Weights{Float64,Float64,Array{Float64,1}}:\n",
       " 2.0\n",
       " 4.0\n",
       " 5.0"
      ]
     },
     "execution_count": 13,
     "metadata": {},
     "output_type": "execute_result"
    }
   ],
   "source": [
    "wv = Weights([2., 4., 5.], 11.)"
   ]
  },
  {
   "cell_type": "code",
   "execution_count": 15,
   "metadata": {},
   "outputs": [
    {
     "data": {
      "text/plain": [
       "Float64"
      ]
     },
     "execution_count": 15,
     "metadata": {},
     "output_type": "execute_result"
    }
   ],
   "source": [
    "eltype(wv)"
   ]
  },
  {
   "cell_type": "code",
   "execution_count": 16,
   "metadata": {},
   "outputs": [
    {
     "data": {
      "text/plain": [
       "3-element Array{Float64,1}:\n",
       " 2.0\n",
       " 4.0\n",
       " 5.0"
      ]
     },
     "execution_count": 16,
     "metadata": {},
     "output_type": "execute_result"
    }
   ],
   "source": [
    "values(wv)"
   ]
  },
  {
   "cell_type": "code",
   "execution_count": 17,
   "metadata": {},
   "outputs": [
    {
     "data": {
      "text/plain": [
       "(3,)"
      ]
     },
     "execution_count": 17,
     "metadata": {},
     "output_type": "execute_result"
    }
   ],
   "source": [
    "size(wv)"
   ]
  },
  {
   "cell_type": "code",
   "execution_count": 18,
   "metadata": {},
   "outputs": [
    {
     "data": {
      "text/plain": [
       "StatsBase.Weights{Float64,Float64,Array{Float64,1}}"
      ]
     },
     "execution_count": 18,
     "metadata": {},
     "output_type": "execute_result"
    }
   ],
   "source": [
    "typeof(wv)"
   ]
  },
  {
   "cell_type": "code",
   "execution_count": 19,
   "metadata": {},
   "outputs": [
    {
     "data": {
      "text/plain": [
       "11.0"
      ]
     },
     "execution_count": 19,
     "metadata": {},
     "output_type": "execute_result"
    }
   ],
   "source": [
    "sum(wv)"
   ]
  },
  {
   "cell_type": "markdown",
   "metadata": {},
   "source": [
    "## Basic summary and tricks"
   ]
  },
  {
   "cell_type": "code",
   "execution_count": 20,
   "metadata": {},
   "outputs": [
    {
     "name": "stdout",
     "output_type": "stream",
     "text": [
      "AgeGp\n",
      "Summary Stats:\n",
      "Length:         88\n",
      "Type:           CategoricalArrays.CategoricalString{UInt8}\n",
      "Number Unique:  6\n",
      "\n",
      "AlcGp\n",
      "Summary Stats:\n",
      "Length:         88\n",
      "Type:           CategoricalArrays.CategoricalString{UInt8}\n",
      "Number Unique:  4\n",
      "\n",
      "TobGp\n",
      "Summary Stats:\n",
      "Length:         88\n",
      "Type:           CategoricalArrays.CategoricalString{UInt8}\n",
      "Number Unique:  4\n",
      "\n",
      "NCases\n",
      "Summary Stats:\n",
      "Mean:           2.272727\n",
      "Minimum:        0.000000\n",
      "1st Quartile:   0.000000\n",
      "Median:         1.000000\n",
      "3rd Quartile:   4.000000\n",
      "Maximum:        17.000000\n",
      "Length:         88\n",
      "Type:           Int32\n",
      "\n",
      "NControls\n",
      "Summary Stats:\n",
      "Mean:           11.079545\n",
      "Minimum:        1.000000\n",
      "1st Quartile:   3.000000\n",
      "Median:         6.000000\n",
      "3rd Quartile:   14.000000\n",
      "Maximum:        60.000000\n",
      "Length:         88\n",
      "Type:           Int32\n",
      "\n"
     ]
    }
   ],
   "source": [
    "describe(mydf)"
   ]
  },
  {
   "cell_type": "markdown",
   "metadata": {},
   "source": [
    "### Trimmed vector"
   ]
  },
  {
   "cell_type": "markdown",
   "metadata": {},
   "source": [
    "Remove outliers (top `α` and bottom `α`) with `mean(trim(vec, α))`, where $\\alpha \\in (0,1)$.  Test the working of `mean(trim())`.  `trimmean()` is deprecated.  See the [docs for `trim()`](http://juliastats.github.io/StatsBase.jl/stable/robust.html#StatsBase.trim) for details.  `trim()` offers another kwarg `count`.  `N * α` is chosen to be an even number to avoid numerical error."
   ]
  },
  {
   "cell_type": "code",
   "execution_count": 48,
   "metadata": {},
   "outputs": [
    {
     "name": "stdout",
     "output_type": "stream",
     "text": [
      "[-4.07998, -3.96588, -3.92512, -3.6632, -3.38367, -3.25907, -3.24791, -3.21946, -3.19977, -3.18661]\n",
      "predicted = -0.0003665493449321315\n",
      "calculated = -0.00037287136724384524\n"
     ]
    }
   ],
   "source": [
    "N = 10000\n",
    "vec = randn(N)\n",
    "sort!(vec)\n",
    "println(vec[1:10])\n",
    "α = 0.346\n",
    "trimBottomCount = trunc(Int, round(N * α))\n",
    "trimTopCount = N - trimBottomCount\n",
    "testtrimmean = mean(vec[trimBottomCount+1:trimTopCount])\n",
    "println(\"predicted = $(testtrimmean)\")\n",
    "calculatedmean = mean(trim(vec, prop = α))\n",
    "println(\"calculated = $(calculatedmean)\")"
   ]
  },
  {
   "cell_type": "markdown",
   "metadata": {},
   "source": [
    "Test failed, findinig the cause ..."
   ]
  },
  {
   "cell_type": "code",
   "execution_count": 49,
   "metadata": {},
   "outputs": [
    {
     "data": {
      "text/plain": [
       "(3461, 6540)"
      ]
     },
     "execution_count": 49,
     "metadata": {},
     "output_type": "execute_result"
    }
   ],
   "source": [
    "trimBottomCount+1, trimTopCount"
   ]
  },
  {
   "cell_type": "code",
   "execution_count": 52,
   "metadata": {},
   "outputs": [
    {
     "data": {
      "text/plain": [
       "-0.0003665493449321315"
      ]
     },
     "execution_count": 52,
     "metadata": {},
     "output_type": "execute_result"
    }
   ],
   "source": [
    "mean(vec[3461:6540])"
   ]
  },
  {
   "cell_type": "code",
   "execution_count": 54,
   "metadata": {},
   "outputs": [
    {
     "data": {
      "text/plain": [
       "3082-element Array{Float64,1}:\n",
       " -0.404622\n",
       " -0.404197\n",
       " -0.403942\n",
       " -0.403936\n",
       " -0.403199\n",
       " -0.402794\n",
       " -0.402415\n",
       " -0.40227 \n",
       " -0.401893\n",
       " -0.401789\n",
       " -0.401323\n",
       " -0.401114\n",
       " -0.400594\n",
       "  ⋮       \n",
       "  0.382229\n",
       "  0.382527\n",
       "  0.3826  \n",
       "  0.382795\n",
       "  0.382962\n",
       "  0.383058\n",
       "  0.383589\n",
       "  0.383957\n",
       "  0.384121\n",
       "  0.384309\n",
       "  0.384402\n",
       "  0.384404"
      ]
     },
     "execution_count": 54,
     "metadata": {},
     "output_type": "execute_result"
    }
   ],
   "source": [
    "trimvec = trim(vec, prop = α)"
   ]
  },
  {
   "cell_type": "code",
   "execution_count": 55,
   "metadata": {},
   "outputs": [
    {
     "data": {
      "text/plain": [
       "1-element Array{Int64,1}:\n",
       " 3460"
      ]
     },
     "execution_count": 55,
     "metadata": {},
     "output_type": "execute_result"
    }
   ],
   "source": [
    "find(vec .== trimvec[1])"
   ]
  },
  {
   "cell_type": "code",
   "execution_count": 56,
   "metadata": {},
   "outputs": [
    {
     "data": {
      "text/plain": [
       "1-element Array{Int64,1}:\n",
       " 6541"
      ]
     },
     "execution_count": 56,
     "metadata": {},
     "output_type": "execute_result"
    }
   ],
   "source": [
    "find(vec .== trimvec[end])"
   ]
  },
  {
   "cell_type": "markdown",
   "metadata": {},
   "source": [
    "### Weighted mean"
   ]
  },
  {
   "cell_type": "code",
   "execution_count": 57,
   "metadata": {},
   "outputs": [
    {
     "data": {
      "text/plain": [
       "3-element StatsBase.Weights{Float64,Float64,Array{Float64,1}}:\n",
       " 0.338022\n",
       " 0.563825\n",
       " 0.616274"
      ]
     },
     "execution_count": 57,
     "metadata": {},
     "output_type": "execute_result"
    }
   ],
   "source": [
    "vec = rand(3)\n",
    "wv = rand(3)\n",
    "poids = weights(wv)"
   ]
  },
  {
   "cell_type": "code",
   "execution_count": 58,
   "metadata": {},
   "outputs": [
    {
     "ename": "LoadError",
     "evalue": "\u001b[91mArgumentError: reduced dimension(s) must be integers\u001b[39m",
     "output_type": "error",
     "traceback": [
      "\u001b[91mArgumentError: reduced dimension(s) must be integers\u001b[39m",
      "",
      "Stacktrace:",
      " [1] \u001b[1mreduced_indices\u001b[22m\u001b[22m\u001b[1m(\u001b[22m\u001b[22m::Tuple{Base.OneTo{Int64}}, ::Array{Float64,1}\u001b[1m)\u001b[22m\u001b[22m at \u001b[1m.\\reducedim.jl:35\u001b[22m\u001b[22m",
      " [2] \u001b[1mreducedim_initarray\u001b[22m\u001b[22m at \u001b[1m.\\reducedim.jl:73\u001b[22m\u001b[22m [inlined]",
      " [3] \u001b[1mmean\u001b[22m\u001b[22m\u001b[1m(\u001b[22m\u001b[22m::Array{Float64,1}, ::Array{Float64,1}\u001b[1m)\u001b[22m\u001b[22m at \u001b[1m.\\statistics.jl:57\u001b[22m\u001b[22m",
      " [4] \u001b[1minclude_string\u001b[22m\u001b[22m\u001b[1m(\u001b[22m\u001b[22m::String, ::String\u001b[1m)\u001b[22m\u001b[22m at \u001b[1m.\\loading.jl:522\u001b[22m\u001b[22m"
     ]
    }
   ],
   "source": [
    "moyenne = mean(vec, wv)"
   ]
  },
  {
   "cell_type": "code",
   "execution_count": 59,
   "metadata": {},
   "outputs": [
    {
     "data": {
      "text/plain": [
       "0.25367502178027934"
      ]
     },
     "execution_count": 59,
     "metadata": {},
     "output_type": "execute_result"
    }
   ],
   "source": [
    "moyenne = mean(vec, poids)"
   ]
  },
  {
   "cell_type": "markdown",
   "metadata": {},
   "source": [
    "To sum up, it's `mean(vec, weights(wv))`."
   ]
  },
  {
   "cell_type": "code",
   "execution_count": 64,
   "metadata": {},
   "outputs": [
    {
     "data": {
      "text/plain": [
       "5×2 Array{Int64,2}:\n",
       " 1   2\n",
       " 3   4\n",
       " 5   6\n",
       " 7   8\n",
       " 9  10"
      ]
     },
     "execution_count": 64,
     "metadata": {},
     "output_type": "execute_result"
    }
   ],
   "source": [
    "a = reshape(collect(1:10), 2, :)'"
   ]
  },
  {
   "cell_type": "code",
   "execution_count": 65,
   "metadata": {},
   "outputs": [
    {
     "data": {
      "text/plain": [
       "9.166666666666666"
      ]
     },
     "execution_count": 65,
     "metadata": {},
     "output_type": "execute_result"
    }
   ],
   "source": [
    "var(a)"
   ]
  },
  {
   "cell_type": "code",
   "execution_count": 66,
   "metadata": {},
   "outputs": [
    {
     "data": {
      "text/plain": [
       "1×2 Array{Float64,2}:\n",
       " 10.0  10.0"
      ]
     },
     "execution_count": 66,
     "metadata": {},
     "output_type": "execute_result"
    }
   ],
   "source": [
    "var(a,1)"
   ]
  },
  {
   "cell_type": "code",
   "execution_count": 67,
   "metadata": {},
   "outputs": [
    {
     "data": {
      "text/plain": [
       "5×1 Array{Float64,2}:\n",
       " 0.5\n",
       " 0.5\n",
       " 0.5\n",
       " 0.5\n",
       " 0.5"
      ]
     },
     "execution_count": 67,
     "metadata": {},
     "output_type": "execute_result"
    }
   ],
   "source": [
    "var(a,2)"
   ]
  },
  {
   "cell_type": "markdown",
   "metadata": {},
   "source": [
    "I leave `mean_and_var()` and `mean_and_std()`."
   ]
  },
  {
   "cell_type": "markdown",
   "metadata": {},
   "source": [
    "### Skewness and kurtosis"
   ]
  },
  {
   "cell_type": "code",
   "execution_count": 69,
   "metadata": {},
   "outputs": [
    {
     "data": {
      "text/plain": [
       "(-0.08426243377088599, -1.2023956710962824)"
      ]
     },
     "execution_count": 69,
     "metadata": {},
     "output_type": "execute_result"
    }
   ],
   "source": [
    "vec = rand(1000)\n",
    "skewness(vec), kurtosis(vec)"
   ]
  },
  {
   "cell_type": "code",
   "execution_count": 71,
   "metadata": {},
   "outputs": [
    {
     "data": {
      "text/plain": [
       "(0.014621506824230007, -0.22845742852590467)"
      ]
     },
     "execution_count": 71,
     "metadata": {},
     "output_type": "execute_result"
    }
   ],
   "source": [
    "vecn = randn(1000)\n",
    "skewness(vecn), kurtosis(vecn)"
   ]
  },
  {
   "cell_type": "markdown",
   "metadata": {},
   "source": [
    "### Central moments"
   ]
  },
  {
   "cell_type": "code",
   "execution_count": 72,
   "metadata": {},
   "outputs": [
    {
     "data": {
      "text/plain": [
       "(-0.0020109181128410013, 0.01484123969017431)"
      ]
     },
     "execution_count": 72,
     "metadata": {},
     "output_type": "execute_result"
    }
   ],
   "source": [
    "moment(vec, 3), moment(vecn, 3)"
   ]
  },
  {
   "cell_type": "code",
   "execution_count": 73,
   "metadata": {},
   "outputs": [
    {
     "data": {
      "text/plain": [
       "(0.012351165888606163, 2.827215745952343)"
      ]
     },
     "execution_count": 73,
     "metadata": {},
     "output_type": "execute_result"
    }
   ],
   "source": [
    "moment(vec, 4), moment(vecn, 4)"
   ]
  },
  {
   "cell_type": "markdown",
   "metadata": {},
   "source": [
    "### Variations"
   ]
  },
  {
   "cell_type": "markdown",
   "metadata": {},
   "source": [
    "`span` returns `minimum(x):maximum(x)` of an *integer* array."
   ]
  },
  {
   "cell_type": "code",
   "execution_count": 95,
   "metadata": {},
   "outputs": [
    {
     "data": {
      "text/plain": [
       "59:99"
      ]
     },
     "execution_count": 95,
     "metadata": {},
     "output_type": "execute_result"
    }
   ],
   "source": [
    "a = rand(1:100, 4)\n",
    "span(a)"
   ]
  },
  {
   "cell_type": "markdown",
   "metadata": {},
   "source": [
    "Coefficient of variation: $c_{v}={\\sigma  \\over \\mu}$"
   ]
  },
  {
   "cell_type": "code",
   "execution_count": 96,
   "metadata": {},
   "outputs": [
    {
     "data": {
      "text/plain": [
       "0.23275541634948538"
      ]
     },
     "execution_count": 96,
     "metadata": {},
     "output_type": "execute_result"
    }
   ],
   "source": [
    "variation(a)"
   ]
  },
  {
   "cell_type": "markdown",
   "metadata": {},
   "source": [
    "[Standard error of mean](https://www.statsdirect.com/help/basic_descriptive_statistics/standard_deviation.htm): $\\text{SEM} = \\frac{s}{\\sqrt{n}}$"
   ]
  },
  {
   "cell_type": "code",
   "execution_count": 97,
   "metadata": {},
   "outputs": [
    {
     "data": {
      "text/plain": [
       "9.222933372848358"
      ]
     },
     "execution_count": 97,
     "metadata": {},
     "output_type": "execute_result"
    }
   ],
   "source": [
    "sem(a)"
   ]
  },
  {
   "cell_type": "markdown",
   "metadata": {},
   "source": [
    "[MAD](http://datalearning.eu/wp-content/uploads/2016/02/Outliers-Robust-Statistics.pdf) for robustness (without being affected by outliers).  The book claims `mad()` to be the mean absolute deviation, but the [doc](http://juliastats.github.io/StatsBase.jl/latest/scalarstats.html#StatsBase.mad) suggests it's the median absolute deviation instead.  The karg `center` is needed to avoid `MethodError`."
   ]
  },
  {
   "cell_type": "code",
   "execution_count": 99,
   "metadata": {},
   "outputs": [
    {
     "name": "stderr",
     "output_type": "stream",
     "text": [
      "\u001b[1m\u001b[33mWARNING: \u001b[39m\u001b[22m\u001b[33mthe `normalize` keyword argument will be false by default in future releases: set it explicitly to silence this deprecation\u001b[39m\n",
      "Stacktrace:\n",
      " [1] \u001b[1mdepwarn\u001b[22m\u001b[22m\u001b[1m(\u001b[22m\u001b[22m::String, ::Symbol\u001b[1m)\u001b[22m\u001b[22m at \u001b[1m.\\deprecated.jl:70\u001b[22m\u001b[22m\n",
      " [2] \u001b[1m#mad#32\u001b[22m\u001b[22m\u001b[1m(\u001b[22m\u001b[22m::Void, ::Void, ::Function, ::Array{Int64,1}\u001b[1m)\u001b[22m\u001b[22m at \u001b[1mC:\\Users\\Owner\\.julia\\v0.6\\StatsBase\\src\\scalarstats.jl:259\u001b[22m\u001b[22m\n",
      " [3] \u001b[1mmad\u001b[22m\u001b[22m\u001b[1m(\u001b[22m\u001b[22m::Array{Int64,1}\u001b[1m)\u001b[22m\u001b[22m at \u001b[1mC:\\Users\\Owner\\.julia\\v0.6\\StatsBase\\src\\scalarstats.jl:253\u001b[22m\u001b[22m\n",
      " [4] \u001b[1minclude_string\u001b[22m\u001b[22m\u001b[1m(\u001b[22m\u001b[22m::String, ::String\u001b[1m)\u001b[22m\u001b[22m at \u001b[1m.\\loading.jl:522\u001b[22m\u001b[22m\n",
      " [5] \u001b[1minclude_string\u001b[22m\u001b[22m\u001b[1m(\u001b[22m\u001b[22m::Module, ::String, ::String\u001b[1m)\u001b[22m\u001b[22m at \u001b[1mC:\\Users\\Owner\\.julia\\v0.6\\Compat\\src\\Compat.jl:71\u001b[22m\u001b[22m\n",
      " [6] \u001b[1mexecute_request\u001b[22m\u001b[22m\u001b[1m(\u001b[22m\u001b[22m::ZMQ.Socket, ::IJulia.Msg\u001b[1m)\u001b[22m\u001b[22m at \u001b[1mC:\\Users\\Owner\\.julia\\v0.6\\IJulia\\src\\execute_request.jl:158\u001b[22m\u001b[22m\n",
      " [7] \u001b[1m(::Compat.#inner#17{Array{Any,1},IJulia.#execute_request,Tuple{ZMQ.Socket,IJulia.Msg}})\u001b[22m\u001b[22m\u001b[1m(\u001b[22m\u001b[22m\u001b[1m)\u001b[22m\u001b[22m at \u001b[1mC:\\Users\\Owner\\.julia\\v0.6\\Compat\\src\\Compat.jl:385\u001b[22m\u001b[22m\n",
      " [8] \u001b[1meventloop\u001b[22m\u001b[22m\u001b[1m(\u001b[22m\u001b[22m::ZMQ.Socket\u001b[1m)\u001b[22m\u001b[22m at \u001b[1mC:\\Users\\Owner\\.julia\\v0.6\\IJulia\\src\\eventloop.jl:8\u001b[22m\u001b[22m\n",
      " [9] \u001b[1m(::IJulia.##14#17)\u001b[22m\u001b[22m\u001b[1m(\u001b[22m\u001b[22m\u001b[1m)\u001b[22m\u001b[22m at \u001b[1m.\\task.jl:335\u001b[22m\u001b[22m\n",
      "while loading In[99], in expression starting on line 1\n",
      "\u001b[1m\u001b[33mWARNING: \u001b[39m\u001b[22m\u001b[33mthe `normalize` keyword argument will be false by default in future releases: set it explicitly to silence this deprecation\u001b[39m\n",
      "Stacktrace:\n",
      " [1] \u001b[1mdepwarn\u001b[22m\u001b[22m\u001b[1m(\u001b[22m\u001b[22m::String, ::Symbol\u001b[1m)\u001b[22m\u001b[22m at \u001b[1m.\\deprecated.jl:70\u001b[22m\u001b[22m\n",
      " [2] \u001b[1m#mad#32\u001b[22m\u001b[22m\u001b[1m(\u001b[22m\u001b[22m::Int64, ::Void, ::Function, ::Array{Int64,1}\u001b[1m)\u001b[22m\u001b[22m at \u001b[1mC:\\Users\\Owner\\.julia\\v0.6\\StatsBase\\src\\scalarstats.jl:259\u001b[22m\u001b[22m\n",
      " [3] \u001b[1m(::StatsBase.#kw##mad)\u001b[22m\u001b[22m\u001b[1m(\u001b[22m\u001b[22m::Array{Any,1}, ::StatsBase.#mad, ::Array{Int64,1}\u001b[1m)\u001b[22m\u001b[22m at \u001b[1m.\\<missing>:0\u001b[22m\u001b[22m\n",
      " [4] \u001b[1minclude_string\u001b[22m\u001b[22m\u001b[1m(\u001b[22m\u001b[22m::String, ::String\u001b[1m)\u001b[22m\u001b[22m at \u001b[1m.\\loading.jl:522\u001b[22m\u001b[22m\n",
      " [5] \u001b[1minclude_string\u001b[22m\u001b[22m\u001b[1m(\u001b[22m\u001b[22m::Module, ::String, ::String\u001b[1m)\u001b[22m\u001b[22m at \u001b[1mC:\\Users\\Owner\\.julia\\v0.6\\Compat\\src\\Compat.jl:71\u001b[22m\u001b[22m\n",
      " [6] \u001b[1mexecute_request\u001b[22m\u001b[22m\u001b[1m(\u001b[22m\u001b[22m::ZMQ.Socket, ::IJulia.Msg\u001b[1m)\u001b[22m\u001b[22m at \u001b[1mC:\\Users\\Owner\\.julia\\v0.6\\IJulia\\src\\execute_request.jl:158\u001b[22m\u001b[22m\n",
      " [7] \u001b[1m(::Compat.#inner#17{Array{Any,1},IJulia.#execute_request,Tuple{ZMQ.Socket,IJulia.Msg}})\u001b[22m\u001b[22m\u001b[1m(\u001b[22m\u001b[22m\u001b[1m)\u001b[22m\u001b[22m at \u001b[1mC:\\Users\\Owner\\.julia\\v0.6\\Compat\\src\\Compat.jl:385\u001b[22m\u001b[22m\n",
      " [8] \u001b[1meventloop\u001b[22m\u001b[22m\u001b[1m(\u001b[22m\u001b[22m::ZMQ.Socket\u001b[1m)\u001b[22m\u001b[22m at \u001b[1mC:\\Users\\Owner\\.julia\\v0.6\\IJulia\\src\\eventloop.jl:8\u001b[22m\u001b[22m\n",
      " [9] \u001b[1m(::IJulia.##14#17)\u001b[22m\u001b[22m\u001b[1m(\u001b[22m\u001b[22m\u001b[1m)\u001b[22m\u001b[22m at \u001b[1m.\\task.jl:335\u001b[22m\u001b[22m\n",
      "while loading In[99], in expression starting on line 1\n"
     ]
    },
    {
     "data": {
      "text/plain": [
       "(22.239033277584028, 108.97126306016173)"
      ]
     },
     "execution_count": 99,
     "metadata": {},
     "output_type": "execute_result"
    }
   ],
   "source": [
    "mad(a), mad(a, center=6)"
   ]
  },
  {
   "cell_type": "code",
   "execution_count": 100,
   "metadata": {},
   "outputs": [
    {
     "data": {
      "text/plain": [
       "4-element Array{Float64,1}:\n",
       "  0.582786\n",
       " -0.55568 \n",
       "  1.0707  \n",
       " -1.09781 "
      ]
     },
     "execution_count": 100,
     "metadata": {},
     "output_type": "execute_result"
    }
   ],
   "source": [
    "zscore(a)"
   ]
  },
  {
   "cell_type": "markdown",
   "metadata": {},
   "source": [
    "### Entropy"
   ]
  },
  {
   "cell_type": "markdown",
   "metadata": {},
   "source": [
    "From [Wiki](https://en.wikipedia.org/wiki/Dirichlet_distribution), $\\mathrm {H} (X)=\\mathrm {E} [\\mathrm {I} (X)]=\\mathrm {E} [-\\ln(\\mathrm {P} (X))]$."
   ]
  },
  {
   "cell_type": "code",
   "execution_count": 101,
   "metadata": {},
   "outputs": [],
   "source": [
    "using Distributions"
   ]
  },
  {
   "cell_type": "markdown",
   "metadata": {},
   "source": [
    "PDF of Dirichlet's distribution\n",
    "$$f(x_1,\\dots, x_{K}; \\alpha_1,\\dots, \\alpha_K) = \\frac{1}{\\mathrm{B}(\\alpha)} \\prod_{i=1}^K x_i^{\\alpha_i - 1}$$\n",
    "where $B$ is the multinomial beta function\n",
    "$${\\displaystyle \\mathrm {B} (\\alpha )={\\frac {\\prod _{i=1}^{K}\\Gamma (\\alpha _{i})}{\\Gamma \\left(\\sum _{i=1}^{K}\\alpha _{i}\\right)}},\\qquad \\alpha =(\\alpha _{1},\\dots ,\\alpha _{K}).}$$\n",
    "$\\|{\\boldsymbol {x}}\\|_{1}=1$ by assumption."
   ]
  },
  {
   "cell_type": "code",
   "execution_count": 103,
   "metadata": {},
   "outputs": [
    {
     "data": {
      "text/plain": [
       "Distributions.Dirichlet{Float64}(alpha=[2.0, 4.0, 6.0])"
      ]
     },
     "execution_count": 103,
     "metadata": {},
     "output_type": "execute_result"
    }
   ],
   "source": [
    "loidedir = Dirichlet([2., 4., 6.])"
   ]
  },
  {
   "cell_type": "code",
   "execution_count": 104,
   "metadata": {},
   "outputs": [
    {
     "data": {
      "text/plain": [
       "3-element Array{Float64,1}:\n",
       " 0.162564\n",
       " 0.295005\n",
       " 0.542432"
      ]
     },
     "execution_count": 104,
     "metadata": {},
     "output_type": "execute_result"
    }
   ],
   "source": [
    "RVdir = rand(loidedir)"
   ]
  },
  {
   "cell_type": "code",
   "execution_count": 105,
   "metadata": {},
   "outputs": [
    {
     "data": {
      "text/plain": [
       "1.0"
      ]
     },
     "execution_count": 105,
     "metadata": {},
     "output_type": "execute_result"
    }
   ],
   "source": [
    "sum(RVdir)"
   ]
  },
  {
   "cell_type": "markdown",
   "metadata": {},
   "source": [
    "The second parameter of `entropy()` is the base."
   ]
  },
  {
   "cell_type": "code",
   "execution_count": 106,
   "metadata": {},
   "outputs": [
    {
     "data": {
      "text/plain": [
       "0.9872600709882985"
      ]
     },
     "execution_count": 106,
     "metadata": {},
     "output_type": "execute_result"
    }
   ],
   "source": [
    "entropy(RVdir)"
   ]
  },
  {
   "cell_type": "markdown",
   "metadata": {},
   "source": [
    "To be understood: `crossentropy()`."
   ]
  }
 ],
 "metadata": {
  "kernelspec": {
   "display_name": "Julia 0.6.2",
   "language": "julia",
   "name": "julia-0.6"
  },
  "language_info": {
   "file_extension": ".jl",
   "mimetype": "application/julia",
   "name": "julia",
   "version": "0.6.2"
  }
 },
 "nbformat": 4,
 "nbformat_minor": 2
}
