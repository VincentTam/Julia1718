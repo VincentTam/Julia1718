{
 "cells": [
  {
   "cell_type": "code",
   "execution_count": 1,
   "metadata": {},
   "outputs": [],
   "source": [
    "using DataFrames"
   ]
  },
  {
   "cell_type": "code",
   "execution_count": 2,
   "metadata": {},
   "outputs": [
    {
     "data": {
      "text/html": [
       "<table class=\"data-frame\"><thead><tr><th></th><th>col1</th><th>col2</th></tr></thead><tbody><tr><th>1</th><td>A</td><td>X</td></tr><tr><th>2</th><td>C</td><td>Y</td></tr><tr><th>3</th><td>C</td><td>X</td></tr><tr><th>4</th><td>B</td><td>Y</td></tr><tr><th>5</th><td>C</td><td>X</td></tr><tr><th>6</th><td>A</td><td>X</td></tr><tr><th>7</th><td>C</td><td>Y</td></tr></tbody></table>"
      ],
      "text/plain": [
       "7×2 DataFrames.DataFrame\n",
       "│ Row │ col1 │ col2 │\n",
       "├─────┼──────┼──────┤\n",
       "│ 1   │ A    │ X    │\n",
       "│ 2   │ C    │ Y    │\n",
       "│ 3   │ C    │ X    │\n",
       "│ 4   │ B    │ Y    │\n",
       "│ 5   │ C    │ X    │\n",
       "│ 6   │ A    │ X    │\n",
       "│ 7   │ C    │ Y    │"
      ]
     },
     "execution_count": 2,
     "metadata": {},
     "output_type": "execute_result"
    }
   ],
   "source": [
    "df_notpooled = DataFrame(col1 = rand([\"A\",\"B\",\"C\"], 7), \n",
    "col2 = rand([\"X\", \"Y\"], 7))"
   ]
  },
  {
   "cell_type": "markdown",
   "metadata": {},
   "source": [
    "The system shows \"`pool!` is deprecated, use `categorical!` instead\"."
   ]
  },
  {
   "cell_type": "code",
   "execution_count": 4,
   "metadata": {},
   "outputs": [
    {
     "data": {
      "text/plain": [
       "2-element Array{Type,1}:\n",
       " String\n",
       " String"
      ]
     },
     "execution_count": 4,
     "metadata": {},
     "output_type": "execute_result"
    }
   ],
   "source": [
    "eltypes(df_notpooled)"
   ]
  },
  {
   "cell_type": "markdown",
   "metadata": {},
   "source": [
    "The `!` is needed, otherwise, `MethodError: no method matching categorical(::DataFrames.DataFrame, ::Array{Symbol,1})` will be thrown.  `!` will modify `df_notpooled`."
   ]
  },
  {
   "cell_type": "code",
   "execution_count": 5,
   "metadata": {},
   "outputs": [
    {
     "data": {
      "text/html": [
       "<table class=\"data-frame\"><thead><tr><th></th><th>col1</th><th>col2</th></tr></thead><tbody><tr><th>1</th><td>A</td><td>X</td></tr><tr><th>2</th><td>C</td><td>Y</td></tr><tr><th>3</th><td>C</td><td>X</td></tr><tr><th>4</th><td>B</td><td>Y</td></tr><tr><th>5</th><td>C</td><td>X</td></tr><tr><th>6</th><td>A</td><td>X</td></tr><tr><th>7</th><td>C</td><td>Y</td></tr></tbody></table>"
      ],
      "text/plain": [
       "7×2 DataFrames.DataFrame\n",
       "│ Row │ col1 │ col2 │\n",
       "├─────┼──────┼──────┤\n",
       "│ 1   │ A    │ X    │\n",
       "│ 2   │ C    │ Y    │\n",
       "│ 3   │ C    │ X    │\n",
       "│ 4   │ B    │ Y    │\n",
       "│ 5   │ C    │ X    │\n",
       "│ 6   │ A    │ X    │\n",
       "│ 7   │ C    │ Y    │"
      ]
     },
     "execution_count": 5,
     "metadata": {},
     "output_type": "execute_result"
    }
   ],
   "source": [
    "df_pooled = categorical!(df_notpooled, [:col1, :col2])"
   ]
  },
  {
   "cell_type": "code",
   "execution_count": 6,
   "metadata": {},
   "outputs": [
    {
     "data": {
      "text/plain": [
       "2-element Array{Type,1}:\n",
       " CategoricalArrays.CategoricalString{UInt32}\n",
       " CategoricalArrays.CategoricalString{UInt32}"
      ]
     },
     "execution_count": 6,
     "metadata": {},
     "output_type": "execute_result"
    }
   ],
   "source": [
    "eltypes(df_pooled)"
   ]
  },
  {
   "cell_type": "code",
   "execution_count": 7,
   "metadata": {},
   "outputs": [
    {
     "data": {
      "text/plain": [
       "2-element Array{Type,1}:\n",
       " CategoricalArrays.CategoricalString{UInt32}\n",
       " CategoricalArrays.CategoricalString{UInt32}"
      ]
     },
     "execution_count": 7,
     "metadata": {},
     "output_type": "execute_result"
    }
   ],
   "source": [
    "eltypes(df_notpooled)"
   ]
  }
 ],
 "metadata": {
  "kernelspec": {
   "display_name": "Julia 0.6.2",
   "language": "julia",
   "name": "julia-0.6"
  },
  "language_info": {
   "file_extension": ".jl",
   "mimetype": "application/julia",
   "name": "julia",
   "version": "0.6.2"
  }
 },
 "nbformat": 4,
 "nbformat_minor": 2
}
