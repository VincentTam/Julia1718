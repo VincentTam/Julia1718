{
 "cells": [
  {
   "cell_type": "code",
   "execution_count": 1,
   "metadata": {},
   "outputs": [],
   "source": [
    "using DataFrames"
   ]
  },
  {
   "cell_type": "markdown",
   "metadata": {},
   "source": [
    "First construction method: data first, column names after"
   ]
  },
  {
   "cell_type": "code",
   "execution_count": 4,
   "metadata": {},
   "outputs": [],
   "source": [
    "bases = [\"A\", \"T\", \"C\", \"G\"];"
   ]
  },
  {
   "cell_type": "code",
   "execution_count": 7,
   "metadata": {},
   "outputs": [
    {
     "data": {
      "text/html": [
       "<table class=\"data-frame\"><thead><tr><th></th><th>ID</th><th>base</th><th>RV1</th></tr></thead><tbody><tr><th>1</th><td>1</td><td>T</td><td>0.314453</td></tr><tr><th>2</th><td>2</td><td>G</td><td>0.780857</td></tr><tr><th>3</th><td>3</td><td>T</td><td>0.270262</td></tr><tr><th>4</th><td>4</td><td>C</td><td>0.72186</td></tr><tr><th>5</th><td>5</td><td>A</td><td>0.786031</td></tr></tbody></table>"
      ],
      "text/plain": [
       "5×3 DataFrames.DataFrame\n",
       "│ Row │ ID │ base │ RV1      │\n",
       "├─────┼────┼──────┼──────────┤\n",
       "│ 1   │ 1  │ T    │ 0.314453 │\n",
       "│ 2   │ 2  │ G    │ 0.780857 │\n",
       "│ 3   │ 3  │ T    │ 0.270262 │\n",
       "│ 4   │ 4  │ C    │ 0.72186  │\n",
       "│ 5   │ 5  │ A    │ 0.786031 │"
      ]
     },
     "execution_count": 7,
     "metadata": {},
     "output_type": "execute_result"
    }
   ],
   "source": [
    "numdata1 = 1000\n",
    "df1 = DataFrame(Any[\n",
    "        1:numdata1, rand(bases, numdata1), rand(numdata1)], [:ID, :base, :RV1])\n",
    "head(df1, 5)"
   ]
  },
  {
   "cell_type": "markdown",
   "metadata": {},
   "source": [
    "Second construction method: `columnNames = DataArr`"
   ]
  },
  {
   "cell_type": "code",
   "execution_count": 9,
   "metadata": {},
   "outputs": [
    {
     "data": {
      "text/html": [
       "<table class=\"data-frame\"><thead><tr><th></th><th>ID</th><th>base</th><th>RV2</th><th>Normal</th></tr></thead><tbody><tr><th>1</th><td>1</td><td>C</td><td>7</td><td>true</td></tr><tr><th>2</th><td>2</td><td>C</td><td>5</td><td>true</td></tr><tr><th>3</th><td>3</td><td>A</td><td>5</td><td>false</td></tr><tr><th>4</th><td>4</td><td>T</td><td>5</td><td>false</td></tr><tr><th>5</th><td>5</td><td>G</td><td>8</td><td>true</td></tr></tbody></table>"
      ],
      "text/plain": [
       "5×4 DataFrames.DataFrame\n",
       "│ Row │ ID │ base │ RV2 │ Normal │\n",
       "├─────┼────┼──────┼─────┼────────┤\n",
       "│ 1   │ 1  │ C    │ 7   │ true   │\n",
       "│ 2   │ 2  │ C    │ 5   │ true   │\n",
       "│ 3   │ 3  │ A    │ 5   │ false  │\n",
       "│ 4   │ 4  │ T    │ 5   │ false  │\n",
       "│ 5   │ 5  │ G    │ 8   │ true   │"
      ]
     },
     "execution_count": 9,
     "metadata": {},
     "output_type": "execute_result"
    }
   ],
   "source": [
    "numdata2 = 1234\n",
    "df2 = DataFrame(ID = 1:numdata2, base = rand(bases, numdata2), RV2 = rand(5:9, numdata2), Normal = rand(Bool, numdata2))\n",
    "head(df2, 5)"
   ]
  },
  {
   "cell_type": "markdown",
   "metadata": {},
   "source": [
    "Cross join above table `head`s, no id is needed, just take Cartesian product.  To see this, observe columns \"ID\" and \"ID_1\".  Add `makeunique=true` if two tables have common column name."
   ]
  },
  {
   "cell_type": "code",
   "execution_count": 16,
   "metadata": {},
   "outputs": [
    {
     "data": {
      "text/html": [
       "<table class=\"data-frame\"><thead><tr><th></th><th>ID</th><th>base</th><th>RV1</th><th>ID_1</th><th>base_1</th><th>RV2</th><th>Normal</th></tr></thead><tbody><tr><th>1</th><td>1</td><td>T</td><td>0.314453</td><td>1</td><td>C</td><td>7</td><td>true</td></tr><tr><th>2</th><td>1</td><td>T</td><td>0.314453</td><td>2</td><td>C</td><td>5</td><td>true</td></tr><tr><th>3</th><td>1</td><td>T</td><td>0.314453</td><td>3</td><td>A</td><td>5</td><td>false</td></tr><tr><th>4</th><td>1</td><td>T</td><td>0.314453</td><td>4</td><td>T</td><td>5</td><td>false</td></tr><tr><th>5</th><td>1</td><td>T</td><td>0.314453</td><td>5</td><td>G</td><td>8</td><td>true</td></tr><tr><th>6</th><td>2</td><td>G</td><td>0.780857</td><td>1</td><td>C</td><td>7</td><td>true</td></tr><tr><th>7</th><td>2</td><td>G</td><td>0.780857</td><td>2</td><td>C</td><td>5</td><td>true</td></tr><tr><th>8</th><td>2</td><td>G</td><td>0.780857</td><td>3</td><td>A</td><td>5</td><td>false</td></tr><tr><th>9</th><td>2</td><td>G</td><td>0.780857</td><td>4</td><td>T</td><td>5</td><td>false</td></tr><tr><th>10</th><td>2</td><td>G</td><td>0.780857</td><td>5</td><td>G</td><td>8</td><td>true</td></tr><tr><th>11</th><td>3</td><td>T</td><td>0.270262</td><td>1</td><td>C</td><td>7</td><td>true</td></tr><tr><th>12</th><td>3</td><td>T</td><td>0.270262</td><td>2</td><td>C</td><td>5</td><td>true</td></tr><tr><th>13</th><td>3</td><td>T</td><td>0.270262</td><td>3</td><td>A</td><td>5</td><td>false</td></tr><tr><th>14</th><td>3</td><td>T</td><td>0.270262</td><td>4</td><td>T</td><td>5</td><td>false</td></tr><tr><th>15</th><td>3</td><td>T</td><td>0.270262</td><td>5</td><td>G</td><td>8</td><td>true</td></tr><tr><th>16</th><td>4</td><td>C</td><td>0.72186</td><td>1</td><td>C</td><td>7</td><td>true</td></tr><tr><th>17</th><td>4</td><td>C</td><td>0.72186</td><td>2</td><td>C</td><td>5</td><td>true</td></tr><tr><th>18</th><td>4</td><td>C</td><td>0.72186</td><td>3</td><td>A</td><td>5</td><td>false</td></tr><tr><th>19</th><td>4</td><td>C</td><td>0.72186</td><td>4</td><td>T</td><td>5</td><td>false</td></tr><tr><th>20</th><td>4</td><td>C</td><td>0.72186</td><td>5</td><td>G</td><td>8</td><td>true</td></tr><tr><th>21</th><td>5</td><td>A</td><td>0.786031</td><td>1</td><td>C</td><td>7</td><td>true</td></tr><tr><th>22</th><td>5</td><td>A</td><td>0.786031</td><td>2</td><td>C</td><td>5</td><td>true</td></tr><tr><th>23</th><td>5</td><td>A</td><td>0.786031</td><td>3</td><td>A</td><td>5</td><td>false</td></tr><tr><th>24</th><td>5</td><td>A</td><td>0.786031</td><td>4</td><td>T</td><td>5</td><td>false</td></tr><tr><th>25</th><td>5</td><td>A</td><td>0.786031</td><td>5</td><td>G</td><td>8</td><td>true</td></tr></tbody></table>"
      ],
      "text/plain": [
       "25×7 DataFrames.DataFrame\n",
       "│ Row │ ID │ base │ RV1      │ ID_1 │ base_1 │ RV2 │ Normal │\n",
       "├─────┼────┼──────┼──────────┼──────┼────────┼─────┼────────┤\n",
       "│ 1   │ 1  │ T    │ 0.314453 │ 1    │ C      │ 7   │ true   │\n",
       "│ 2   │ 1  │ T    │ 0.314453 │ 2    │ C      │ 5   │ true   │\n",
       "│ 3   │ 1  │ T    │ 0.314453 │ 3    │ A      │ 5   │ false  │\n",
       "│ 4   │ 1  │ T    │ 0.314453 │ 4    │ T      │ 5   │ false  │\n",
       "│ 5   │ 1  │ T    │ 0.314453 │ 5    │ G      │ 8   │ true   │\n",
       "│ 6   │ 2  │ G    │ 0.780857 │ 1    │ C      │ 7   │ true   │\n",
       "│ 7   │ 2  │ G    │ 0.780857 │ 2    │ C      │ 5   │ true   │\n",
       "│ 8   │ 2  │ G    │ 0.780857 │ 3    │ A      │ 5   │ false  │\n",
       "│ 9   │ 2  │ G    │ 0.780857 │ 4    │ T      │ 5   │ false  │\n",
       "│ 10  │ 2  │ G    │ 0.780857 │ 5    │ G      │ 8   │ true   │\n",
       "│ 11  │ 3  │ T    │ 0.270262 │ 1    │ C      │ 7   │ true   │\n",
       "│ 12  │ 3  │ T    │ 0.270262 │ 2    │ C      │ 5   │ true   │\n",
       "│ 13  │ 3  │ T    │ 0.270262 │ 3    │ A      │ 5   │ false  │\n",
       "│ 14  │ 3  │ T    │ 0.270262 │ 4    │ T      │ 5   │ false  │\n",
       "│ 15  │ 3  │ T    │ 0.270262 │ 5    │ G      │ 8   │ true   │\n",
       "│ 16  │ 4  │ C    │ 0.72186  │ 1    │ C      │ 7   │ true   │\n",
       "│ 17  │ 4  │ C    │ 0.72186  │ 2    │ C      │ 5   │ true   │\n",
       "│ 18  │ 4  │ C    │ 0.72186  │ 3    │ A      │ 5   │ false  │\n",
       "│ 19  │ 4  │ C    │ 0.72186  │ 4    │ T      │ 5   │ false  │\n",
       "│ 20  │ 4  │ C    │ 0.72186  │ 5    │ G      │ 8   │ true   │\n",
       "│ 21  │ 5  │ A    │ 0.786031 │ 1    │ C      │ 7   │ true   │\n",
       "│ 22  │ 5  │ A    │ 0.786031 │ 2    │ C      │ 5   │ true   │\n",
       "│ 23  │ 5  │ A    │ 0.786031 │ 3    │ A      │ 5   │ false  │\n",
       "│ 24  │ 5  │ A    │ 0.786031 │ 4    │ T      │ 5   │ false  │\n",
       "│ 25  │ 5  │ A    │ 0.786031 │ 5    │ G      │ 8   │ true   │"
      ]
     },
     "execution_count": 16,
     "metadata": {},
     "output_type": "execute_result"
    }
   ],
   "source": [
    "xdf = join(df1[1:5,:], df2[1:5,:], kind = :cross, makeunique=true)"
   ]
  },
  {
   "cell_type": "markdown",
   "metadata": {},
   "source": [
    "Left and right (outer) joins"
   ]
  },
  {
   "cell_type": "code",
   "execution_count": 27,
   "metadata": {},
   "outputs": [
    {
     "data": {
      "text/html": [
       "<table class=\"data-frame\"><thead><tr><th></th><th>ID</th><th>base</th><th>RV1</th><th>base_1</th><th>RV2</th><th>Normal</th></tr></thead><tbody><tr><th>1</th><td>1</td><td>T</td><td>0.314453</td><td>C</td><td>7</td><td>true</td></tr><tr><th>2</th><td>2</td><td>G</td><td>0.780857</td><td>C</td><td>5</td><td>true</td></tr><tr><th>3</th><td>3</td><td>T</td><td>0.270262</td><td>A</td><td>5</td><td>false</td></tr><tr><th>4</th><td>4</td><td>C</td><td>0.72186</td><td>T</td><td>5</td><td>false</td></tr><tr><th>5</th><td>5</td><td>A</td><td>0.786031</td><td>G</td><td>8</td><td>true</td></tr></tbody></table>"
      ],
      "text/plain": [
       "5×6 DataFrames.DataFrame\n",
       "│ Row │ ID │ base │ RV1      │ base_1 │ RV2 │ Normal │\n",
       "├─────┼────┼──────┼──────────┼────────┼─────┼────────┤\n",
       "│ 1   │ 1  │ T    │ 0.314453 │ C      │ 7   │ true   │\n",
       "│ 2   │ 2  │ G    │ 0.780857 │ C      │ 5   │ true   │\n",
       "│ 3   │ 3  │ T    │ 0.270262 │ A      │ 5   │ false  │\n",
       "│ 4   │ 4  │ C    │ 0.72186  │ T      │ 5   │ false  │\n",
       "│ 5   │ 5  │ A    │ 0.786031 │ G      │ 8   │ true   │"
      ]
     },
     "execution_count": 27,
     "metadata": {},
     "output_type": "execute_result"
    }
   ],
   "source": [
    "ldf = join(df1[1:5,:], df2[1:5,:], on=:ID, kind=:left, makeunique=true)"
   ]
  },
  {
   "cell_type": "markdown",
   "metadata": {},
   "source": [
    "A different column is chosen to show the difference between left and right joins.  Note the difference of number of rows.  Focus on column \"base\"."
   ]
  },
  {
   "cell_type": "code",
   "execution_count": 22,
   "metadata": {},
   "outputs": [
    {
     "data": {
      "text/html": [
       "<table class=\"data-frame\"><thead><tr><th></th><th>ID</th><th>base</th><th>RV1</th><th>ID_1</th><th>RV2</th><th>Normal</th></tr></thead><tbody><tr><th>1</th><td>4</td><td>C</td><td>0.72186</td><td>1</td><td>7</td><td>true</td></tr><tr><th>2</th><td>4</td><td>C</td><td>0.72186</td><td>2</td><td>5</td><td>true</td></tr><tr><th>3</th><td>5</td><td>A</td><td>0.786031</td><td>3</td><td>5</td><td>false</td></tr><tr><th>4</th><td>1</td><td>T</td><td>0.314453</td><td>4</td><td>5</td><td>false</td></tr><tr><th>5</th><td>3</td><td>T</td><td>0.270262</td><td>4</td><td>5</td><td>false</td></tr><tr><th>6</th><td>2</td><td>G</td><td>0.780857</td><td>5</td><td>8</td><td>true</td></tr></tbody></table>"
      ],
      "text/plain": [
       "6×6 DataFrames.DataFrame\n",
       "│ Row │ ID │ base │ RV1      │ ID_1 │ RV2 │ Normal │\n",
       "├─────┼────┼──────┼──────────┼──────┼─────┼────────┤\n",
       "│ 1   │ 4  │ C    │ 0.72186  │ 1    │ 7   │ true   │\n",
       "│ 2   │ 4  │ C    │ 0.72186  │ 2    │ 5   │ true   │\n",
       "│ 3   │ 5  │ A    │ 0.786031 │ 3    │ 5   │ false  │\n",
       "│ 4   │ 1  │ T    │ 0.314453 │ 4    │ 5   │ false  │\n",
       "│ 5   │ 3  │ T    │ 0.270262 │ 4    │ 5   │ false  │\n",
       "│ 6   │ 2  │ G    │ 0.780857 │ 5    │ 8   │ true   │"
      ]
     },
     "execution_count": 22,
     "metadata": {},
     "output_type": "execute_result"
    }
   ],
   "source": [
    "rdf = join(df1[1:5,:], df2[1:5,:], on=:base, kind=:right, makeunique=true)"
   ]
  },
  {
   "cell_type": "markdown",
   "metadata": {},
   "source": [
    "The above example *can't* illustrate \"outer\"."
   ]
  },
  {
   "cell_type": "code",
   "execution_count": 23,
   "metadata": {},
   "outputs": [
    {
     "data": {
      "text/html": [
       "<table class=\"data-frame\"><thead><tr><th></th><th>ID</th><th>base</th><th>RV1</th><th>ID_1</th><th>RV2</th><th>Normal</th></tr></thead><tbody><tr><th>1</th><td>missing</td><td>C</td><td>missing</td><td>1</td><td>7</td><td>true</td></tr><tr><th>2</th><td>missing</td><td>C</td><td>missing</td><td>2</td><td>5</td><td>true</td></tr><tr><th>3</th><td>missing</td><td>A</td><td>missing</td><td>3</td><td>5</td><td>false</td></tr></tbody></table>"
      ],
      "text/plain": [
       "3×6 DataFrames.DataFrame\n",
       "│ Row │ ID      │ base │ RV1     │ ID_1 │ RV2 │ Normal │\n",
       "├─────┼─────────┼──────┼─────────┼──────┼─────┼────────┤\n",
       "│ 1   │ \u001b[90mmissing\u001b[39m │ C    │ \u001b[90mmissing\u001b[39m │ 1    │ 7   │ true   │\n",
       "│ 2   │ \u001b[90mmissing\u001b[39m │ C    │ \u001b[90mmissing\u001b[39m │ 2    │ 5   │ true   │\n",
       "│ 3   │ \u001b[90mmissing\u001b[39m │ A    │ \u001b[90mmissing\u001b[39m │ 3    │ 5   │ false  │"
      ]
     },
     "execution_count": 23,
     "metadata": {},
     "output_type": "execute_result"
    }
   ],
   "source": [
    "rdf2 = join(df1[1:3,:], df2[1:3,:], on=:base, kind=:right, makeunique=true)"
   ]
  },
  {
   "cell_type": "markdown",
   "metadata": {},
   "source": [
    "It's possible to merge on multiple columns."
   ]
  },
  {
   "cell_type": "code",
   "execution_count": 26,
   "metadata": {},
   "outputs": [
    {
     "data": {
      "text/html": [
       "<table class=\"data-frame\"><thead><tr><th></th><th>ID</th><th>base</th><th>RV1</th><th>RV2</th><th>Normal</th></tr></thead><tbody><tr><th>1</th><td>1</td><td>T</td><td>0.314453</td><td>missing</td><td>missing</td></tr><tr><th>2</th><td>2</td><td>G</td><td>0.780857</td><td>missing</td><td>missing</td></tr><tr><th>3</th><td>3</td><td>T</td><td>0.270262</td><td>missing</td><td>missing</td></tr><tr><th>4</th><td>4</td><td>C</td><td>0.72186</td><td>missing</td><td>missing</td></tr><tr><th>5</th><td>5</td><td>A</td><td>0.786031</td><td>missing</td><td>missing</td></tr></tbody></table>"
      ],
      "text/plain": [
       "5×5 DataFrames.DataFrame\n",
       "│ Row │ ID │ base │ RV1      │ RV2     │ Normal  │\n",
       "├─────┼────┼──────┼──────────┼─────────┼─────────┤\n",
       "│ 1   │ 1  │ T    │ 0.314453 │ \u001b[90mmissing\u001b[39m │ \u001b[90mmissing\u001b[39m │\n",
       "│ 2   │ 2  │ G    │ 0.780857 │ \u001b[90mmissing\u001b[39m │ \u001b[90mmissing\u001b[39m │\n",
       "│ 3   │ 3  │ T    │ 0.270262 │ \u001b[90mmissing\u001b[39m │ \u001b[90mmissing\u001b[39m │\n",
       "│ 4   │ 4  │ C    │ 0.72186  │ \u001b[90mmissing\u001b[39m │ \u001b[90mmissing\u001b[39m │\n",
       "│ 5   │ 5  │ A    │ 0.786031 │ \u001b[90mmissing\u001b[39m │ \u001b[90mmissing\u001b[39m │"
      ]
     },
     "execution_count": 26,
     "metadata": {},
     "output_type": "execute_result"
    }
   ],
   "source": [
    "ldf2 = join(df1[1:5,:], df2[1:5,:], on=[:ID, :base], kind=:left)"
   ]
  },
  {
   "cell_type": "markdown",
   "metadata": {},
   "source": [
    "This inner join checks for same bases at same position for two DNA sequences."
   ]
  },
  {
   "cell_type": "code",
   "execution_count": 30,
   "metadata": {},
   "outputs": [
    {
     "data": {
      "text/html": [
       "<table class=\"data-frame\"><thead><tr><th></th><th>ID</th><th>base</th><th>RV1</th><th>RV2</th><th>Normal</th></tr></thead><tbody><tr><th>1</th><td>6</td><td>A</td><td>0.437143</td><td>5</td><td>false</td></tr><tr><th>2</th><td>15</td><td>G</td><td>0.576617</td><td>9</td><td>true</td></tr><tr><th>3</th><td>16</td><td>T</td><td>0.845375</td><td>5</td><td>false</td></tr><tr><th>4</th><td>17</td><td>A</td><td>0.0467277</td><td>7</td><td>false</td></tr><tr><th>5</th><td>18</td><td>C</td><td>0.405109</td><td>7</td><td>true</td></tr><tr><th>6</th><td>24</td><td>A</td><td>0.249679</td><td>5</td><td>true</td></tr></tbody></table>"
      ],
      "text/plain": [
       "6×5 DataFrames.DataFrame\n",
       "│ Row │ ID │ base │ RV1       │ RV2 │ Normal │\n",
       "├─────┼────┼──────┼───────────┼─────┼────────┤\n",
       "│ 1   │ 6  │ A    │ 0.437143  │ 5   │ false  │\n",
       "│ 2   │ 15 │ G    │ 0.576617  │ 9   │ true   │\n",
       "│ 3   │ 16 │ T    │ 0.845375  │ 5   │ false  │\n",
       "│ 4   │ 17 │ A    │ 0.0467277 │ 7   │ false  │\n",
       "│ 5   │ 18 │ C    │ 0.405109  │ 7   │ true   │\n",
       "│ 6   │ 24 │ A    │ 0.249679  │ 5   │ true   │"
      ]
     },
     "execution_count": 30,
     "metadata": {},
     "output_type": "execute_result"
    }
   ],
   "source": [
    "idf = join(df1, df2, on=[:ID, :base], kind=:inner)\n",
    "head(idf)"
   ]
  },
  {
   "cell_type": "markdown",
   "metadata": {},
   "source": [
    "[Outer join = full join](https://stackoverflow.com/q/11714915/3184351) = Union of left and right outer joins"
   ]
  },
  {
   "cell_type": "code",
   "execution_count": 36,
   "metadata": {},
   "outputs": [
    {
     "data": {
      "text/html": [
       "<table class=\"data-frame\"><thead><tr><th></th><th>ID</th><th>base</th><th>RV1</th><th>ID_1</th><th>RV2</th><th>Normal</th></tr></thead><tbody><tr><th>1</th><td>1</td><td>T</td><td>0.314453</td><td>4</td><td>5</td><td>false</td></tr><tr><th>2</th><td>2</td><td>G</td><td>0.780857</td><td>missing</td><td>missing</td><td>missing</td></tr><tr><th>3</th><td>3</td><td>T</td><td>0.270262</td><td>4</td><td>5</td><td>false</td></tr><tr><th>4</th><td>4</td><td>C</td><td>0.72186</td><td>1</td><td>7</td><td>true</td></tr><tr><th>5</th><td>4</td><td>C</td><td>0.72186</td><td>2</td><td>5</td><td>true</td></tr><tr><th>6</th><td>missing</td><td>A</td><td>missing</td><td>3</td><td>5</td><td>false</td></tr></tbody></table>"
      ],
      "text/plain": [
       "6×6 DataFrames.DataFrame\n",
       "│ Row │ ID      │ base │ RV1      │ ID_1    │ RV2     │ Normal  │\n",
       "├─────┼─────────┼──────┼──────────┼─────────┼─────────┼─────────┤\n",
       "│ 1   │ 1       │ T    │ 0.314453 │ 4       │ 5       │ false   │\n",
       "│ 2   │ 2       │ G    │ 0.780857 │ \u001b[90mmissing\u001b[39m │ \u001b[90mmissing\u001b[39m │ \u001b[90mmissing\u001b[39m │\n",
       "│ 3   │ 3       │ T    │ 0.270262 │ 4       │ 5       │ false   │\n",
       "│ 4   │ 4       │ C    │ 0.72186  │ 1       │ 7       │ true    │\n",
       "│ 5   │ 4       │ C    │ 0.72186  │ 2       │ 5       │ true    │\n",
       "│ 6   │ \u001b[90mmissing\u001b[39m │ A    │ \u001b[90mmissing\u001b[39m  │ 3       │ 5       │ false   │"
      ]
     },
     "execution_count": 36,
     "metadata": {},
     "output_type": "execute_result"
    }
   ],
   "source": [
    "odf = join(df1[1:4,:],df2[1:4,:], on=[:base], kind=:outer, makeunique=true)\n",
    "head(odf, 10)"
   ]
  },
  {
   "cell_type": "markdown",
   "metadata": {},
   "source": [
    "(left) semi and anti joins in the book.  [Left semi join vs inner join](https://stackoverflow.com/q/21738784/3184351).  The output of semi join is that of inner join with only columns from left DataFrame."
   ]
  },
  {
   "cell_type": "code",
   "execution_count": 40,
   "metadata": {},
   "outputs": [
    {
     "data": {
      "text/html": [
       "<table class=\"data-frame\"><thead><tr><th></th><th>ID</th><th>base</th><th>RV1</th></tr></thead><tbody><tr><th>1</th><td>6</td><td>A</td><td>0.437143</td></tr><tr><th>2</th><td>15</td><td>G</td><td>0.576617</td></tr><tr><th>3</th><td>16</td><td>T</td><td>0.845375</td></tr><tr><th>4</th><td>17</td><td>A</td><td>0.0467277</td></tr><tr><th>5</th><td>18</td><td>C</td><td>0.405109</td></tr><tr><th>6</th><td>24</td><td>A</td><td>0.249679</td></tr></tbody></table>"
      ],
      "text/plain": [
       "6×3 DataFrames.DataFrame\n",
       "│ Row │ ID │ base │ RV1       │\n",
       "├─────┼────┼──────┼───────────┤\n",
       "│ 1   │ 6  │ A    │ 0.437143  │\n",
       "│ 2   │ 15 │ G    │ 0.576617  │\n",
       "│ 3   │ 16 │ T    │ 0.845375  │\n",
       "│ 4   │ 17 │ A    │ 0.0467277 │\n",
       "│ 5   │ 18 │ C    │ 0.405109  │\n",
       "│ 6   │ 24 │ A    │ 0.249679  │"
      ]
     },
     "execution_count": 40,
     "metadata": {},
     "output_type": "execute_result"
    }
   ],
   "source": [
    "lsdf = join(df1, df2, on=[:ID, :base], kind=:semi)\n",
    "head(lsdf)"
   ]
  },
  {
   "cell_type": "markdown",
   "metadata": {},
   "source": [
    "Invert `df1` and `df2` to do a right anti join.  Observe that it's the complement of semi join (from column \"ID\")."
   ]
  },
  {
   "cell_type": "code",
   "execution_count": 43,
   "metadata": {},
   "outputs": [
    {
     "data": {
      "text/html": [
       "<table class=\"data-frame\"><thead><tr><th></th><th>ID</th><th>base</th><th>RV2</th><th>Normal</th></tr></thead><tbody><tr><th>1</th><td>1</td><td>C</td><td>7</td><td>true</td></tr><tr><th>2</th><td>2</td><td>C</td><td>5</td><td>true</td></tr><tr><th>3</th><td>3</td><td>A</td><td>5</td><td>false</td></tr><tr><th>4</th><td>4</td><td>T</td><td>5</td><td>false</td></tr><tr><th>5</th><td>5</td><td>G</td><td>8</td><td>true</td></tr><tr><th>6</th><td>7</td><td>C</td><td>7</td><td>false</td></tr><tr><th>7</th><td>8</td><td>G</td><td>6</td><td>false</td></tr><tr><th>8</th><td>9</td><td>A</td><td>8</td><td>false</td></tr><tr><th>9</th><td>10</td><td>A</td><td>9</td><td>true</td></tr><tr><th>10</th><td>11</td><td>T</td><td>6</td><td>false</td></tr><tr><th>11</th><td>12</td><td>T</td><td>5</td><td>false</td></tr><tr><th>12</th><td>13</td><td>A</td><td>7</td><td>false</td></tr><tr><th>13</th><td>14</td><td>C</td><td>8</td><td>false</td></tr><tr><th>14</th><td>19</td><td>T</td><td>7</td><td>false</td></tr><tr><th>15</th><td>20</td><td>G</td><td>5</td><td>false</td></tr><tr><th>16</th><td>21</td><td>A</td><td>6</td><td>true</td></tr><tr><th>17</th><td>22</td><td>A</td><td>6</td><td>false</td></tr><tr><th>18</th><td>23</td><td>G</td><td>8</td><td>false</td></tr><tr><th>19</th><td>25</td><td>C</td><td>8</td><td>false</td></tr><tr><th>20</th><td>26</td><td>A</td><td>6</td><td>false</td></tr><tr><th>21</th><td>27</td><td>C</td><td>6</td><td>true</td></tr><tr><th>22</th><td>29</td><td>T</td><td>5</td><td>true</td></tr><tr><th>23</th><td>30</td><td>C</td><td>9</td><td>false</td></tr><tr><th>24</th><td>31</td><td>A</td><td>8</td><td>true</td></tr><tr><th>25</th><td>33</td><td>T</td><td>9</td><td>true</td></tr></tbody></table>"
      ],
      "text/plain": [
       "25×4 DataFrames.DataFrame\n",
       "│ Row │ ID │ base │ RV2 │ Normal │\n",
       "├─────┼────┼──────┼─────┼────────┤\n",
       "│ 1   │ 1  │ C    │ 7   │ true   │\n",
       "│ 2   │ 2  │ C    │ 5   │ true   │\n",
       "│ 3   │ 3  │ A    │ 5   │ false  │\n",
       "│ 4   │ 4  │ T    │ 5   │ false  │\n",
       "│ 5   │ 5  │ G    │ 8   │ true   │\n",
       "│ 6   │ 7  │ C    │ 7   │ false  │\n",
       "│ 7   │ 8  │ G    │ 6   │ false  │\n",
       "│ 8   │ 9  │ A    │ 8   │ false  │\n",
       "│ 9   │ 10 │ A    │ 9   │ true   │\n",
       "│ 10  │ 11 │ T    │ 6   │ false  │\n",
       "│ 11  │ 12 │ T    │ 5   │ false  │\n",
       "│ 12  │ 13 │ A    │ 7   │ false  │\n",
       "│ 13  │ 14 │ C    │ 8   │ false  │\n",
       "│ 14  │ 19 │ T    │ 7   │ false  │\n",
       "│ 15  │ 20 │ G    │ 5   │ false  │\n",
       "│ 16  │ 21 │ A    │ 6   │ true   │\n",
       "│ 17  │ 22 │ A    │ 6   │ false  │\n",
       "│ 18  │ 23 │ G    │ 8   │ false  │\n",
       "│ 19  │ 25 │ C    │ 8   │ false  │\n",
       "│ 20  │ 26 │ A    │ 6   │ false  │\n",
       "│ 21  │ 27 │ C    │ 6   │ true   │\n",
       "│ 22  │ 29 │ T    │ 5   │ true   │\n",
       "│ 23  │ 30 │ C    │ 9   │ false  │\n",
       "│ 24  │ 31 │ A    │ 8   │ true   │\n",
       "│ 25  │ 33 │ T    │ 9   │ true   │"
      ]
     },
     "execution_count": 43,
     "metadata": {},
     "output_type": "execute_result"
    }
   ],
   "source": [
    "radf = join(df2, df1, on=[:ID, :base], kind=:anti)\n",
    "head(radf, 25)"
   ]
  }
 ],
 "metadata": {
  "kernelspec": {
   "display_name": "Julia 0.6.2",
   "language": "julia",
   "name": "julia-0.6"
  },
  "language_info": {
   "file_extension": ".jl",
   "mimetype": "application/julia",
   "name": "julia",
   "version": "0.6.2"
  }
 },
 "nbformat": 4,
 "nbformat_minor": 2
}
