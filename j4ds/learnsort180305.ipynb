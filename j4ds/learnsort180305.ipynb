{
 "cells": [
  {
   "cell_type": "code",
   "execution_count": 1,
   "metadata": {},
   "outputs": [],
   "source": [
    "using DataFrames, CSV\n",
    "iris = CSV.read(joinpath(Pkg.dir(\"DataFrames\"), \"test/data/iris.csv\"));"
   ]
  },
  {
   "cell_type": "markdown",
   "metadata": {},
   "source": [
    "The book says it's sorted according to the last column, but it seems that it's from the 1st, then 2nd, etc."
   ]
  },
  {
   "cell_type": "code",
   "execution_count": 2,
   "metadata": {},
   "outputs": [
    {
     "data": {
      "text/html": [
       "<table class=\"data-frame\"><thead><tr><th></th><th>SepalLength</th><th>SepalWidth</th><th>PetalLength</th><th>PetalWidth</th><th>Species</th></tr></thead><tbody><tr><th>1</th><td>4.3</td><td>3.0</td><td>1.1</td><td>0.1</td><td>setosa</td></tr><tr><th>2</th><td>4.4</td><td>2.9</td><td>1.4</td><td>0.2</td><td>setosa</td></tr><tr><th>3</th><td>4.4</td><td>3.0</td><td>1.3</td><td>0.2</td><td>setosa</td></tr><tr><th>4</th><td>4.4</td><td>3.2</td><td>1.3</td><td>0.2</td><td>setosa</td></tr><tr><th>5</th><td>4.5</td><td>2.3</td><td>1.3</td><td>0.3</td><td>setosa</td></tr><tr><th>6</th><td>4.6</td><td>3.1</td><td>1.5</td><td>0.2</td><td>setosa</td></tr><tr><th>7</th><td>4.6</td><td>3.2</td><td>1.4</td><td>0.2</td><td>setosa</td></tr><tr><th>8</th><td>4.6</td><td>3.4</td><td>1.4</td><td>0.3</td><td>setosa</td></tr></tbody></table>"
      ],
      "text/plain": [
       "8×5 DataFrames.DataFrame\n",
       "│ Row │ SepalLength │ SepalWidth │ PetalLength │ PetalWidth │ Species │\n",
       "├─────┼─────────────┼────────────┼─────────────┼────────────┼─────────┤\n",
       "│ 1   │ 4.3         │ 3.0        │ 1.1         │ 0.1        │ setosa  │\n",
       "│ 2   │ 4.4         │ 2.9        │ 1.4         │ 0.2        │ setosa  │\n",
       "│ 3   │ 4.4         │ 3.0        │ 1.3         │ 0.2        │ setosa  │\n",
       "│ 4   │ 4.4         │ 3.2        │ 1.3         │ 0.2        │ setosa  │\n",
       "│ 5   │ 4.5         │ 2.3        │ 1.3         │ 0.3        │ setosa  │\n",
       "│ 6   │ 4.6         │ 3.1        │ 1.5         │ 0.2        │ setosa  │\n",
       "│ 7   │ 4.6         │ 3.2        │ 1.4         │ 0.2        │ setosa  │\n",
       "│ 8   │ 4.6         │ 3.4        │ 1.4         │ 0.3        │ setosa  │"
      ]
     },
     "execution_count": 2,
     "metadata": {},
     "output_type": "execute_result"
    }
   ],
   "source": [
    "sort!(iris)\n",
    "head(iris, 8)"
   ]
  },
  {
   "cell_type": "code",
   "execution_count": 3,
   "metadata": {},
   "outputs": [
    {
     "name": "stdout",
     "output_type": "stream",
     "text": [
      "150×5 DataFrames.DataFrame\n",
      "│ Col # │ Name        │ Eltype                                      │ Missing │\n",
      "├───────┼─────────────┼─────────────────────────────────────────────┼─────────┤\n",
      "│ 1     │ SepalLength │ Float64                                     │ 0       │\n",
      "│ 2     │ SepalWidth  │ Float64                                     │ 0       │\n",
      "│ 3     │ PetalLength │ Float64                                     │ 0       │\n",
      "│ 4     │ PetalWidth  │ Float64                                     │ 0       │\n",
      "│ 5     │ Species     │ CategoricalArrays.CategoricalString{UInt32} │ 0       │\n",
      "\n",
      "│ Col # │ Values               │\n",
      "├───────┼──────────────────────┤\n",
      "│ 1     │ 4.3  …  7.9          │\n",
      "│ 2     │ 3.0  …  3.8          │\n",
      "│ 3     │ 1.1  …  6.4          │\n",
      "│ 4     │ 0.1  …  2.0          │\n",
      "│ 5     │ setosa  …  virginica │"
     ]
    }
   ],
   "source": [
    "showcols(iris)"
   ]
  },
  {
   "cell_type": "code",
   "execution_count": 4,
   "metadata": {},
   "outputs": [
    {
     "data": {
      "text/plain": [
       "3-element Array{String,1}:\n",
       " \"setosa\"    \n",
       " \"versicolor\"\n",
       " \"virginica\" "
      ]
     },
     "execution_count": 4,
     "metadata": {},
     "output_type": "execute_result"
    }
   ],
   "source": [
    "unique(iris[:Species])"
   ]
  },
  {
   "cell_type": "code",
   "execution_count": 5,
   "metadata": {},
   "outputs": [
    {
     "data": {
      "text/html": [
       "<table class=\"data-frame\"><thead><tr><th></th><th>SepalLength</th><th>SepalWidth</th><th>PetalLength</th><th>PetalWidth</th><th>Species</th></tr></thead><tbody><tr><th>1</th><td>7.6</td><td>3.0</td><td>6.6</td><td>2.1</td><td>virginica</td></tr><tr><th>2</th><td>7.7</td><td>2.6</td><td>6.9</td><td>2.3</td><td>virginica</td></tr><tr><th>3</th><td>7.7</td><td>2.8</td><td>6.7</td><td>2.0</td><td>virginica</td></tr><tr><th>4</th><td>7.7</td><td>3.0</td><td>6.1</td><td>2.3</td><td>virginica</td></tr><tr><th>5</th><td>7.7</td><td>3.8</td><td>6.7</td><td>2.2</td><td>virginica</td></tr><tr><th>6</th><td>7.9</td><td>3.8</td><td>6.4</td><td>2.0</td><td>virginica</td></tr></tbody></table>"
      ],
      "text/plain": [
       "6×5 DataFrames.DataFrame\n",
       "│ Row │ SepalLength │ SepalWidth │ PetalLength │ PetalWidth │ Species   │\n",
       "├─────┼─────────────┼────────────┼─────────────┼────────────┼───────────┤\n",
       "│ 1   │ 7.6         │ 3.0        │ 6.6         │ 2.1        │ virginica │\n",
       "│ 2   │ 7.7         │ 2.6        │ 6.9         │ 2.3        │ virginica │\n",
       "│ 3   │ 7.7         │ 2.8        │ 6.7         │ 2.0        │ virginica │\n",
       "│ 4   │ 7.7         │ 3.0        │ 6.1         │ 2.3        │ virginica │\n",
       "│ 5   │ 7.7         │ 3.8        │ 6.7         │ 2.2        │ virginica │\n",
       "│ 6   │ 7.9         │ 3.8        │ 6.4         │ 2.0        │ virginica │"
      ]
     },
     "execution_count": 5,
     "metadata": {},
     "output_type": "execute_result"
    }
   ],
   "source": [
    "tail(iris)"
   ]
  },
  {
   "cell_type": "markdown",
   "metadata": {},
   "source": [
    "Specify sort order by `rev`."
   ]
  },
  {
   "cell_type": "code",
   "execution_count": 6,
   "metadata": {},
   "outputs": [
    {
     "data": {
      "text/html": [
       "<table class=\"data-frame\"><thead><tr><th></th><th>SepalLength</th><th>SepalWidth</th><th>PetalLength</th><th>PetalWidth</th><th>Species</th></tr></thead><tbody><tr><th>1</th><td>6.1</td><td>2.6</td><td>5.6</td><td>1.4</td><td>virginica</td></tr><tr><th>2</th><td>6.3</td><td>2.8</td><td>5.1</td><td>1.5</td><td>virginica</td></tr><tr><th>3</th><td>6.0</td><td>2.2</td><td>5.0</td><td>1.5</td><td>virginica</td></tr><tr><th>4</th><td>7.2</td><td>3.0</td><td>5.8</td><td>1.6</td><td>virginica</td></tr><tr><th>5</th><td>4.9</td><td>2.5</td><td>4.5</td><td>1.7</td><td>virginica</td></tr><tr><th>6</th><td>7.3</td><td>2.9</td><td>6.3</td><td>1.8</td><td>virginica</td></tr><tr><th>7</th><td>7.2</td><td>3.2</td><td>6.0</td><td>1.8</td><td>virginica</td></tr><tr><th>8</th><td>6.7</td><td>2.5</td><td>5.8</td><td>1.8</td><td>virginica</td></tr><tr><th>9</th><td>6.5</td><td>3.0</td><td>5.5</td><td>1.8</td><td>virginica</td></tr><tr><th>10</th><td>6.4</td><td>3.1</td><td>5.5</td><td>1.8</td><td>virginica</td></tr></tbody></table>"
      ],
      "text/plain": [
       "10×5 DataFrames.DataFrame\n",
       "│ Row │ SepalLength │ SepalWidth │ PetalLength │ PetalWidth │ Species   │\n",
       "├─────┼─────────────┼────────────┼─────────────┼────────────┼───────────┤\n",
       "│ 1   │ 6.1         │ 2.6        │ 5.6         │ 1.4        │ virginica │\n",
       "│ 2   │ 6.3         │ 2.8        │ 5.1         │ 1.5        │ virginica │\n",
       "│ 3   │ 6.0         │ 2.2        │ 5.0         │ 1.5        │ virginica │\n",
       "│ 4   │ 7.2         │ 3.0        │ 5.8         │ 1.6        │ virginica │\n",
       "│ 5   │ 4.9         │ 2.5        │ 4.5         │ 1.7        │ virginica │\n",
       "│ 6   │ 7.3         │ 2.9        │ 6.3         │ 1.8        │ virginica │\n",
       "│ 7   │ 7.2         │ 3.2        │ 6.0         │ 1.8        │ virginica │\n",
       "│ 8   │ 6.7         │ 2.5        │ 5.8         │ 1.8        │ virginica │\n",
       "│ 9   │ 6.5         │ 3.0        │ 5.5         │ 1.8        │ virginica │\n",
       "│ 10  │ 6.4         │ 3.1        │ 5.5         │ 1.8        │ virginica │"
      ]
     },
     "execution_count": 6,
     "metadata": {},
     "output_type": "execute_result"
    }
   ],
   "source": [
    "sort!(iris, cols = (:Species, :PetalWidth, :SepalLength), rev = (true, false, true));\n",
    "head(iris, 10)"
   ]
  }
 ],
 "metadata": {
  "kernelspec": {
   "display_name": "Julia 0.6.2",
   "language": "julia",
   "name": "julia-0.6"
  },
  "language_info": {
   "file_extension": ".jl",
   "mimetype": "application/julia",
   "name": "julia",
   "version": "0.6.2"
  }
 },
 "nbformat": 4,
 "nbformat_minor": 2
}
