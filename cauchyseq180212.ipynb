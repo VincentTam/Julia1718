{
 "cells": [
  {
   "cell_type": "markdown",
   "metadata": {},
   "source": [
    "# Test Cauchy convergence"
   ]
  },
  {
   "cell_type": "markdown",
   "metadata": {},
   "source": [
    "URL: https://math.stackexchange.com/q/2647382/290189"
   ]
  },
  {
   "cell_type": "code",
   "execution_count": 5,
   "metadata": {},
   "outputs": [
    {
     "data": {
      "text/plain": [
       "d (generic function with 1 method)"
      ]
     },
     "execution_count": 5,
     "metadata": {},
     "output_type": "execute_result"
    }
   ],
   "source": [
    "d(m,n) = sum([1/(i^(1/3)*log(i)) for i in m+1:n])"
   ]
  },
  {
   "cell_type": "code",
   "execution_count": 7,
   "metadata": {},
   "outputs": [
    {
     "data": {
      "text/plain": [
       "(0.6311246301379203, 0.6311246301379203)"
      ]
     },
     "execution_count": 7,
     "metadata": {},
     "output_type": "execute_result"
    }
   ],
   "source": [
    "d(2,3), 1/(3^(1/3)*log(3))"
   ]
  },
  {
   "cell_type": "code",
   "execution_count": 10,
   "metadata": {},
   "outputs": [
    {
     "data": {
      "text/plain": [
       "20-element Array{Float64,1}:\n",
       "  6.93166\n",
       "  9.24492\n",
       " 11.0759 \n",
       " 12.6476 \n",
       " 14.0506 \n",
       " 15.3325 \n",
       " 16.5217 \n",
       " 17.6371 \n",
       " 18.6919 \n",
       " 19.6956 \n",
       " 20.6555 \n",
       " 21.5774 \n",
       " 22.4658 \n",
       " 23.3244 \n",
       " 24.1563 \n",
       " 24.964  \n",
       " 25.7497 \n",
       " 26.5152 \n",
       " 27.2623 \n",
       " 27.9922 "
      ]
     },
     "execution_count": 10,
     "metadata": {},
     "output_type": "execute_result"
    }
   ],
   "source": [
    "n = 10:10:200\n",
    "broadcast(n->d(n, 10*n), n)"
   ]
  }
 ],
 "metadata": {
  "kernelspec": {
   "display_name": "Julia 0.6.2",
   "language": "julia",
   "name": "julia-0.6"
  },
  "language_info": {
   "file_extension": ".jl",
   "mimetype": "application/julia",
   "name": "julia",
   "version": "0.6.2"
  }
 },
 "nbformat": 4,
 "nbformat_minor": 2
}
