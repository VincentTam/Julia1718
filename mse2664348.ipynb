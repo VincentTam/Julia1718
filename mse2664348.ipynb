{
 "cells": [
  {
   "cell_type": "code",
   "execution_count": 60,
   "metadata": {},
   "outputs": [
    {
     "data": {
      "text/plain": [
       "X (generic function with 4 methods)"
      ]
     },
     "execution_count": 60,
     "metadata": {},
     "output_type": "execute_result"
    }
   ],
   "source": [
    "function X(i)\n",
    "    U = rand()\n",
    "    return U < 0.5 / sqrt(i) ? sqrt(i) : U < 1. / sqrt(i) ? -sqrt(i) : 0.\n",
    "end"
   ]
  },
  {
   "cell_type": "code",
   "execution_count": 61,
   "metadata": {},
   "outputs": [
    {
     "name": "stdout",
     "output_type": "stream",
     "text": [
      "  0.000006 seconds (5 allocations: 176 bytes)\n"
     ]
    },
    {
     "data": {
      "text/plain": [
       "-1.0"
      ]
     },
     "execution_count": 61,
     "metadata": {},
     "output_type": "execute_result"
    }
   ],
   "source": [
    "@time X(1)"
   ]
  },
  {
   "cell_type": "code",
   "execution_count": 63,
   "metadata": {},
   "outputs": [
    {
     "name": "stdout",
     "output_type": "stream",
     "text": [
      "  0.000016 seconds (6 allocations: 192 bytes)\n"
     ]
    },
    {
     "data": {
      "text/plain": [
       "0.0"
      ]
     },
     "execution_count": 63,
     "metadata": {},
     "output_type": "execute_result"
    }
   ],
   "source": [
    "@time X(10^6)"
   ]
  },
  {
   "cell_type": "code",
   "execution_count": 59,
   "metadata": {},
   "outputs": [
    {
     "name": "stdout",
     "output_type": "stream",
     "text": [
      "  0.475572 seconds (6.95 M allocations: 121.274 MiB, 2.55% gc time)\n",
      "elapsed time: 0.50295817 seconds\n",
      "-10.0, 0, 10.0\n",
      "0.049645, 0.900243, 0.050112\n",
      "1000000\n"
     ]
    }
   ],
   "source": [
    "tic()\n",
    "Ntrial = 10^6\n",
    "I_0 = 100.\n",
    "X1, X2, X3 = -sqrt(I_0), 0, sqrt(I_0)\n",
    "F1, F2, F3 = 0, 0, 0\n",
    "tol = 1e-14\n",
    "@time for trial in 1:Ntrial\n",
    "    Xi = X(I_0)\n",
    "    if Xi < X1 + tol\n",
    "        F1 += 1\n",
    "    elseif Xi < X2 + tol\n",
    "        F2 += 1\n",
    "    else\n",
    "        F3 += 1\n",
    "    end\n",
    "end\n",
    "toc()\n",
    "println(\"$(X1), $(X2), $(X3)\")\n",
    "println(\"$(F1 / Ntrial), $(F2 / Ntrial), $(F3 / Ntrial)\")\n",
    "println(\"$(F1 + F2 + F3)\")"
   ]
  },
  {
   "cell_type": "code",
   "execution_count": 74,
   "metadata": {
    "scrolled": true
   },
   "outputs": [
    {
     "name": "stdout",
     "output_type": "stream",
     "text": [
      "n = 1000, proba = 2 / 10000 = 0.0002\n",
      "n = 10000, proba = 0 / 10000 = 0.0\n",
      "n = 100000, proba = 0 / 10000 = 0.0\n",
      "n = 1000000, proba = 0 / 10000 = 0.0\n",
      "278.944321 seconds (1.23 M allocations: 82.823 GiB, 4.83% gc time)\n",
      "elapsed time: 279.014963401 seconds\n"
     ]
    },
    {
     "data": {
      "text/plain": [
       "279.014963401"
      ]
     },
     "execution_count": 74,
     "metadata": {},
     "output_type": "execute_result"
    }
   ],
   "source": [
    "tic()\n",
    "Ntrial = 10000\n",
    "ϵ = 0.01\n",
    "nvec = 10.^(3:6)\n",
    "@time for n in nvec\n",
    "    freq = 0\n",
    "    for trial in 1:Ntrial\n",
    "        freq += 0.98 < sum(X.(1:n)) < 1.02 ? 1 : 0\n",
    "    end\n",
    "    println(\"n = $(n), proba = $(freq) / $(Ntrial) = $(freq / Ntrial)\")\n",
    "end\n",
    "toc()"
   ]
  },
  {
   "cell_type": "code",
   "execution_count": 76,
   "metadata": {
    "scrolled": true
   },
   "outputs": [
    {
     "name": "stdout",
     "output_type": "stream",
     "text": [
      "n = 1000, proba = 1 / 10000 = 0.0001\n",
      "n = 10000, proba = 1 / 10000 = 0.0001\n",
      "n = 100000, proba = 0 / 10000 = 0.0\n",
      "n = 1000000, proba = 0 / 10000 = 0.0\n",
      "294.137492 seconds (1.31 M allocations: 82.824 GiB, 4.98% gc time)\n",
      "elapsed time: 294.201555397 seconds\n"
     ]
    },
    {
     "data": {
      "text/plain": [
       "294.201555397"
      ]
     },
     "execution_count": 76,
     "metadata": {},
     "output_type": "execute_result"
    }
   ],
   "source": [
    "tic()\n",
    "Ntrial = 10000\n",
    "ϵ = 0.01\n",
    "nvec = 10.^(3:6)\n",
    "@time for n in nvec\n",
    "    freq = 0\n",
    "    for trial in 1:Ntrial\n",
    "        freq += abs(sum(X.(1:n))-0.5) < ϵ ? 1 : 0\n",
    "    end\n",
    "    println(\"n = $(n), proba = $(freq) / $(Ntrial) = $(freq / Ntrial)\")\n",
    "end\n",
    "toc()"
   ]
  }
 ],
 "metadata": {
  "kernelspec": {
   "display_name": "Julia 0.6.2",
   "language": "julia",
   "name": "julia-0.6"
  },
  "language_info": {
   "file_extension": ".jl",
   "mimetype": "application/julia",
   "name": "julia",
   "version": "0.6.2"
  }
 },
 "nbformat": 4,
 "nbformat_minor": 2
}
