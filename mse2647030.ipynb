{
 "cells": [
  {
   "cell_type": "markdown",
   "metadata": {},
   "source": [
    "# Verification of a cyclic inequality on Math.SE"
   ]
  },
  {
   "cell_type": "markdown",
   "metadata": {},
   "source": [
    "URL: https://math.stackexchange.com/questions/2647030/hard-inequalities-with-abc"
   ]
  },
  {
   "cell_type": "code",
   "execution_count": 116,
   "metadata": {},
   "outputs": [
    {
     "name": "stdout",
     "output_type": "stream",
     "text": [
      "  0.026903 seconds (284.49 k allocations: 4.570 MiB)\n",
      "15000"
     ]
    }
   ],
   "source": [
    "terms = fill(0, (3,))\n",
    "count = 0\n",
    "@time while count < 15000\n",
    "    a, b = abs(randn()), abs(randn())  # rand +ve no.\n",
    "    c = 1/(a*b)  # abc = 1\n",
    "    terms = (1/(a^a*(b+c)), 1/(b^b*(c+a)), 1/(c^c*(a+b)))\n",
    "    if sum(terms) > 1.5 break end\n",
    "    count += 1\n",
    "end\n",
    "print(count)"
   ]
  },
  {
   "cell_type": "markdown",
   "metadata": {},
   "source": [
    "Conclusion: We believe this inequality to be true."
   ]
  }
 ],
 "metadata": {
  "kernelspec": {
   "display_name": "Julia 0.6.2",
   "language": "julia",
   "name": "julia-0.6"
  },
  "language_info": {
   "file_extension": ".jl",
   "mimetype": "application/julia",
   "name": "julia",
   "version": "0.6.2"
  }
 },
 "nbformat": 4,
 "nbformat_minor": 2
}
