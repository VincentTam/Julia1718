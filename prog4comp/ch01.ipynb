{
 "cells": [
  {
   "cell_type": "markdown",
   "metadata": {},
   "source": [
    "# Exercises in Chapter 1"
   ]
  },
  {
   "cell_type": "markdown",
   "metadata": {},
   "source": [
    "## Exercise 1.1"
   ]
  },
  {
   "cell_type": "markdown",
   "metadata": {},
   "source": [
    "Original program"
   ]
  },
  {
   "cell_type": "code",
   "execution_count": 1,
   "metadata": {},
   "outputs": [
    {
     "name": "stdout",
     "output_type": "stream",
     "text": [
      "1.2342\n"
     ]
    }
   ],
   "source": [
    "# ball.py: https://github.com/hplgit/prog4comp/blob/master/src/py/ball.py\n",
    "# Program for computing the height of a ball in vertical motion\n",
    "\n",
    "v0 = 5             # Initial velocity\n",
    "g = 9.81           # Acceleration of gravity\n",
    "t = 0.6            # Time\n",
    "\n",
    "y = v0*t - 0.5*g*t**2        # Vertical position\n",
    "\n",
    "print y"
   ]
  },
  {
   "cell_type": "markdown",
   "metadata": {},
   "source": [
    "part (a)"
   ]
  },
  {
   "cell_type": "code",
   "execution_count": 2,
   "metadata": {},
   "outputs": [
    {
     "ename": "NameError",
     "evalue": "name 'hello' is not defined",
     "output_type": "error",
     "traceback": [
      "\u001b[1;31m---------------------------------------------------------------------------\u001b[0m",
      "\u001b[1;31mNameError\u001b[0m                                 Traceback (most recent call last)",
      "\u001b[1;32m<ipython-input-2-7813f3aa7932>\u001b[0m in \u001b[0;36m<module>\u001b[1;34m()\u001b[0m\n\u001b[0;32m      1\u001b[0m \u001b[1;31m# ball.py: https://github.com/hplgit/prog4comp/blob/master/src/py/ball.py\u001b[0m\u001b[1;33m\u001b[0m\u001b[1;33m\u001b[0m\u001b[0m\n\u001b[0;32m      2\u001b[0m \u001b[1;31m# Program for computing the height of a ball in vertical motion\u001b[0m\u001b[1;33m\u001b[0m\u001b[1;33m\u001b[0m\u001b[0m\n\u001b[1;32m----> 3\u001b[1;33m \u001b[0mhello\u001b[0m\u001b[1;33m\u001b[0m\u001b[0m\n\u001b[0m\u001b[0;32m      4\u001b[0m \u001b[0mv0\u001b[0m \u001b[1;33m=\u001b[0m \u001b[1;36m5\u001b[0m             \u001b[1;31m# Initial velocity\u001b[0m\u001b[1;33m\u001b[0m\u001b[0m\n\u001b[0;32m      5\u001b[0m \u001b[0mg\u001b[0m \u001b[1;33m=\u001b[0m \u001b[1;36m9.81\u001b[0m           \u001b[1;31m# Acceleration of gravity\u001b[0m\u001b[1;33m\u001b[0m\u001b[0m\n",
      "\u001b[1;31mNameError\u001b[0m: name 'hello' is not defined"
     ]
    }
   ],
   "source": [
    "# ball.py: https://github.com/hplgit/prog4comp/blob/master/src/py/ball.py\n",
    "# Program for computing the height of a ball in vertical motion\n",
    "hello\n",
    "v0 = 5             # Initial velocity\n",
    "g = 9.81           # Acceleration of gravity\n",
    "t = 0.6            # Time\n",
    "\n",
    "y = v0*t - 0.5*g*t**2        # Vertical position\n",
    "\n",
    "print y"
   ]
  },
  {
   "cell_type": "markdown",
   "metadata": {},
   "source": [
    "part (b)"
   ]
  },
  {
   "cell_type": "code",
   "execution_count": 3,
   "metadata": {},
   "outputs": [
    {
     "ename": "SyntaxError",
     "evalue": "invalid syntax (<ipython-input-3-e72eda0037d2>, line 4)",
     "output_type": "error",
     "traceback": [
      "\u001b[1;36m  File \u001b[1;32m\"<ipython-input-3-e72eda0037d2>\"\u001b[1;36m, line \u001b[1;32m4\u001b[0m\n\u001b[1;33m    v0 = 5              Initial velocity\u001b[0m\n\u001b[1;37m                              ^\u001b[0m\n\u001b[1;31mSyntaxError\u001b[0m\u001b[1;31m:\u001b[0m invalid syntax\n"
     ]
    }
   ],
   "source": [
    "# ball.py: https://github.com/hplgit/prog4comp/blob/master/src/py/ball.py\n",
    "# Program for computing the height of a ball in vertical motion\n",
    "\n",
    "v0 = 5              Initial velocity\n",
    "g = 9.81           # Acceleration of gravity\n",
    "t = 0.6            # Time\n",
    "\n",
    "y = v0*t - 0.5*g*t**2        # Vertical position\n",
    "\n",
    "print y"
   ]
  },
  {
   "cell_type": "markdown",
   "metadata": {},
   "source": [
    "part (c)"
   ]
  },
  {
   "cell_type": "code",
   "execution_count": 4,
   "metadata": {},
   "outputs": [
    {
     "ename": "SyntaxError",
     "evalue": "invalid syntax (<ipython-input-4-45bc1a6ef147>, line 4)",
     "output_type": "error",
     "traceback": [
      "\u001b[1;36m  File \u001b[1;32m\"<ipython-input-4-45bc1a6ef147>\"\u001b[1;36m, line \u001b[1;32m4\u001b[0m\n\u001b[1;33m    v0  5             # Initial velocity\u001b[0m\n\u001b[1;37m        ^\u001b[0m\n\u001b[1;31mSyntaxError\u001b[0m\u001b[1;31m:\u001b[0m invalid syntax\n"
     ]
    }
   ],
   "source": [
    "# ball.py: https://github.com/hplgit/prog4comp/blob/master/src/py/ball.py\n",
    "# Program for computing the height of a ball in vertical motion\n",
    "\n",
    "v0  5             # Initial velocity\n",
    "g = 9.81           # Acceleration of gravity\n",
    "t = 0.6            # Time\n",
    "\n",
    "y = v0*t - 0.5*g*t**2        # Vertical position\n",
    "\n",
    "print y"
   ]
  },
  {
   "cell_type": "markdown",
   "metadata": {},
   "source": [
    "part (d)"
   ]
  },
  {
   "cell_type": "code",
   "execution_count": 5,
   "metadata": {},
   "outputs": [
    {
     "ename": "SyntaxError",
     "evalue": "invalid syntax (<ipython-input-5-8099cbe5897b>, line 10)",
     "output_type": "error",
     "traceback": [
      "\u001b[1;36m  File \u001b[1;32m\"<ipython-input-5-8099cbe5897b>\"\u001b[1;36m, line \u001b[1;32m10\u001b[0m\n\u001b[1;33m    pint y\u001b[0m\n\u001b[1;37m         ^\u001b[0m\n\u001b[1;31mSyntaxError\u001b[0m\u001b[1;31m:\u001b[0m invalid syntax\n"
     ]
    }
   ],
   "source": [
    "# ball.py: https://github.com/hplgit/prog4comp/blob/master/src/py/ball.py\n",
    "# Program for computing the height of a ball in vertical motion\n",
    "\n",
    "v0 = 5             # Initial velocity\n",
    "g = 9.81           # Acceleration of gravity\n",
    "t = 0.6            # Time\n",
    "\n",
    "y = v0*t - 0.5*g*t**2        # Vertical position\n",
    "\n",
    "pint y"
   ]
  },
  {
   "cell_type": "markdown",
   "metadata": {},
   "source": [
    "part (e)"
   ]
  },
  {
   "cell_type": "code",
   "execution_count": 7,
   "metadata": {},
   "outputs": [
    {
     "name": "stdout",
     "output_type": "stream",
     "text": [
      "3.0\n"
     ]
    }
   ],
   "source": [
    "# ball.py: https://github.com/hplgit/prog4comp/blob/master/src/py/ball.py\n",
    "# Program for computing the height of a ball in vertical motion\n",
    "\n",
    "v0 = 5             # Initial velocity\n",
    "g = 9.81           # Acceleration of gravity\n",
    "t = 0.6            # Time\n",
    "\n",
    "y = v0*t        # Vertical position\n",
    "\n",
    "print y"
   ]
  },
  {
   "cell_type": "markdown",
   "metadata": {},
   "source": [
    "part (f)"
   ]
  },
  {
   "cell_type": "code",
   "execution_count": 8,
   "metadata": {},
   "outputs": [
    {
     "ename": "NameError",
     "evalue": "name 'x' is not defined",
     "output_type": "error",
     "traceback": [
      "\u001b[1;31m---------------------------------------------------------------------------\u001b[0m",
      "\u001b[1;31mNameError\u001b[0m                                 Traceback (most recent call last)",
      "\u001b[1;32m<ipython-input-8-c0c1741df101>\u001b[0m in \u001b[0;36m<module>\u001b[1;34m()\u001b[0m\n\u001b[0;32m      8\u001b[0m \u001b[0my\u001b[0m \u001b[1;33m=\u001b[0m \u001b[0mv0\u001b[0m\u001b[1;33m*\u001b[0m\u001b[0mt\u001b[0m \u001b[1;33m-\u001b[0m \u001b[1;36m0.5\u001b[0m\u001b[1;33m*\u001b[0m\u001b[0mg\u001b[0m\u001b[1;33m*\u001b[0m\u001b[0mt\u001b[0m\u001b[1;33m**\u001b[0m\u001b[1;36m2\u001b[0m        \u001b[1;31m# Vertical position\u001b[0m\u001b[1;33m\u001b[0m\u001b[0m\n\u001b[0;32m      9\u001b[0m \u001b[1;33m\u001b[0m\u001b[0m\n\u001b[1;32m---> 10\u001b[1;33m \u001b[1;32mprint\u001b[0m \u001b[0mx\u001b[0m\u001b[1;33m\u001b[0m\u001b[0m\n\u001b[0m",
      "\u001b[1;31mNameError\u001b[0m: name 'x' is not defined"
     ]
    }
   ],
   "source": [
    "# ball.py: https://github.com/hplgit/prog4comp/blob/master/src/py/ball.py\n",
    "# Program for computing the height of a ball in vertical motion\n",
    "\n",
    "v0 = 5             # Initial velocity\n",
    "g = 9.81           # Acceleration of gravity\n",
    "t = 0.6            # Time\n",
    "\n",
    "y = v0*t - 0.5*g*t**2        # Vertical position\n",
    "\n",
    "print x"
   ]
  },
  {
   "cell_type": "markdown",
   "metadata": {},
   "source": [
    "part (g)"
   ]
  },
  {
   "cell_type": "code",
   "execution_count": 9,
   "metadata": {},
   "outputs": [
    {
     "name": "stdout",
     "output_type": "stream",
     "text": [
      "3.0\n"
     ]
    }
   ],
   "source": [
    "# ball.py: https://github.com/hplgit/prog4comp/blob/master/src/py/ball.py\n",
    "# Program for computing the height of a ball in vertical motion\n",
    "\n",
    "v0 = 5             # Initial velocity\n",
    "g = 9.81           # Acceleration of gravity\n",
    "t = 0.6            # Time\n",
    "\n",
    "y = v0*t - (1/2)*g*t**2        # Vertical position\n",
    "\n",
    "print y"
   ]
  },
  {
   "cell_type": "markdown",
   "metadata": {},
   "source": [
    "`1/2` is `0`, not `0.5`."
   ]
  }
 ],
 "metadata": {
  "kernelspec": {
   "display_name": "Python 2",
   "language": "python",
   "name": "python2"
  },
  "language_info": {
   "codemirror_mode": {
    "name": "ipython",
    "version": 2
   },
   "file_extension": ".py",
   "mimetype": "text/x-python",
   "name": "python",
   "nbconvert_exporter": "python",
   "pygments_lexer": "ipython2",
   "version": "2.7.14"
  }
 },
 "nbformat": 4,
 "nbformat_minor": 2
}
