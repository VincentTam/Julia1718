{
 "cells": [
  {
   "cell_type": "markdown",
   "metadata": {},
   "source": [
    "# Exercises in Chapter 1"
   ]
  },
  {
   "cell_type": "markdown",
   "metadata": {},
   "source": [
    "## Exercise 1.1: Error messages"
   ]
  },
  {
   "cell_type": "markdown",
   "metadata": {},
   "source": [
    "Original program"
   ]
  },
  {
   "cell_type": "code",
   "execution_count": 1,
   "metadata": {},
   "outputs": [
    {
     "name": "stdout",
     "output_type": "stream",
     "text": [
      "1.2342\n"
     ]
    }
   ],
   "source": [
    "# ball.py: https://github.com/hplgit/prog4comp/blob/master/src/py/ball.py\n",
    "# Program for computing the height of a ball in vertical motion\n",
    "\n",
    "v0 = 5             # Initial velocity\n",
    "g = 9.81           # Acceleration of gravity\n",
    "t = 0.6            # Time\n",
    "\n",
    "y = v0*t - 0.5*g*t**2        # Vertical position\n",
    "\n",
    "print y"
   ]
  },
  {
   "cell_type": "markdown",
   "metadata": {},
   "source": [
    "part (a)"
   ]
  },
  {
   "cell_type": "code",
   "execution_count": 2,
   "metadata": {},
   "outputs": [
    {
     "ename": "NameError",
     "evalue": "name 'hello' is not defined",
     "output_type": "error",
     "traceback": [
      "\u001b[1;31m---------------------------------------------------------------------------\u001b[0m",
      "\u001b[1;31mNameError\u001b[0m                                 Traceback (most recent call last)",
      "\u001b[1;32m<ipython-input-2-7813f3aa7932>\u001b[0m in \u001b[0;36m<module>\u001b[1;34m()\u001b[0m\n\u001b[0;32m      1\u001b[0m \u001b[1;31m# ball.py: https://github.com/hplgit/prog4comp/blob/master/src/py/ball.py\u001b[0m\u001b[1;33m\u001b[0m\u001b[1;33m\u001b[0m\u001b[0m\n\u001b[0;32m      2\u001b[0m \u001b[1;31m# Program for computing the height of a ball in vertical motion\u001b[0m\u001b[1;33m\u001b[0m\u001b[1;33m\u001b[0m\u001b[0m\n\u001b[1;32m----> 3\u001b[1;33m \u001b[0mhello\u001b[0m\u001b[1;33m\u001b[0m\u001b[0m\n\u001b[0m\u001b[0;32m      4\u001b[0m \u001b[0mv0\u001b[0m \u001b[1;33m=\u001b[0m \u001b[1;36m5\u001b[0m             \u001b[1;31m# Initial velocity\u001b[0m\u001b[1;33m\u001b[0m\u001b[0m\n\u001b[0;32m      5\u001b[0m \u001b[0mg\u001b[0m \u001b[1;33m=\u001b[0m \u001b[1;36m9.81\u001b[0m           \u001b[1;31m# Acceleration of gravity\u001b[0m\u001b[1;33m\u001b[0m\u001b[0m\n",
      "\u001b[1;31mNameError\u001b[0m: name 'hello' is not defined"
     ]
    }
   ],
   "source": [
    "# testing_ball.py: https://github.com/hplgit/prog4comp/blob/master/src/py/ball.py\n",
    "# Program for computing the height of a ball in vertical motion\n",
    "hello\n",
    "v0 = 5             # Initial velocity\n",
    "g = 9.81           # Acceleration of gravity\n",
    "t = 0.6            # Time\n",
    "\n",
    "y = v0*t - 0.5*g*t**2        # Vertical position\n",
    "\n",
    "print y"
   ]
  },
  {
   "cell_type": "markdown",
   "metadata": {},
   "source": [
    "part (b)"
   ]
  },
  {
   "cell_type": "code",
   "execution_count": 3,
   "metadata": {},
   "outputs": [
    {
     "ename": "SyntaxError",
     "evalue": "invalid syntax (<ipython-input-3-e72eda0037d2>, line 4)",
     "output_type": "error",
     "traceback": [
      "\u001b[1;36m  File \u001b[1;32m\"<ipython-input-3-e72eda0037d2>\"\u001b[1;36m, line \u001b[1;32m4\u001b[0m\n\u001b[1;33m    v0 = 5              Initial velocity\u001b[0m\n\u001b[1;37m                              ^\u001b[0m\n\u001b[1;31mSyntaxError\u001b[0m\u001b[1;31m:\u001b[0m invalid syntax\n"
     ]
    }
   ],
   "source": [
    "# testing_ball.py: https://github.com/hplgit/prog4comp/blob/master/src/py/ball.py\n",
    "# Program for computing the height of a ball in vertical motion\n",
    "\n",
    "v0 = 5              Initial velocity\n",
    "g = 9.81           # Acceleration of gravity\n",
    "t = 0.6            # Time\n",
    "\n",
    "y = v0*t - 0.5*g*t**2        # Vertical position\n",
    "\n",
    "print y"
   ]
  },
  {
   "cell_type": "markdown",
   "metadata": {},
   "source": [
    "part (c)"
   ]
  },
  {
   "cell_type": "code",
   "execution_count": 4,
   "metadata": {},
   "outputs": [
    {
     "ename": "SyntaxError",
     "evalue": "invalid syntax (<ipython-input-4-45bc1a6ef147>, line 4)",
     "output_type": "error",
     "traceback": [
      "\u001b[1;36m  File \u001b[1;32m\"<ipython-input-4-45bc1a6ef147>\"\u001b[1;36m, line \u001b[1;32m4\u001b[0m\n\u001b[1;33m    v0  5             # Initial velocity\u001b[0m\n\u001b[1;37m        ^\u001b[0m\n\u001b[1;31mSyntaxError\u001b[0m\u001b[1;31m:\u001b[0m invalid syntax\n"
     ]
    }
   ],
   "source": [
    "# testing_ball.py: https://github.com/hplgit/prog4comp/blob/master/src/py/ball.py\n",
    "# Program for computing the height of a ball in vertical motion\n",
    "\n",
    "v0  5             # Initial velocity\n",
    "g = 9.81           # Acceleration of gravity\n",
    "t = 0.6            # Time\n",
    "\n",
    "y = v0*t - 0.5*g*t**2        # Vertical position\n",
    "\n",
    "print y"
   ]
  },
  {
   "cell_type": "markdown",
   "metadata": {},
   "source": [
    "part (d)"
   ]
  },
  {
   "cell_type": "code",
   "execution_count": 5,
   "metadata": {},
   "outputs": [
    {
     "ename": "SyntaxError",
     "evalue": "invalid syntax (<ipython-input-5-8099cbe5897b>, line 10)",
     "output_type": "error",
     "traceback": [
      "\u001b[1;36m  File \u001b[1;32m\"<ipython-input-5-8099cbe5897b>\"\u001b[1;36m, line \u001b[1;32m10\u001b[0m\n\u001b[1;33m    pint y\u001b[0m\n\u001b[1;37m         ^\u001b[0m\n\u001b[1;31mSyntaxError\u001b[0m\u001b[1;31m:\u001b[0m invalid syntax\n"
     ]
    }
   ],
   "source": [
    "# testing_ball.py: https://github.com/hplgit/prog4comp/blob/master/src/py/ball.py\n",
    "# Program for computing the height of a ball in vertical motion\n",
    "\n",
    "v0 = 5             # Initial velocity\n",
    "g = 9.81           # Acceleration of gravity\n",
    "t = 0.6            # Time\n",
    "\n",
    "y = v0*t - 0.5*g*t**2        # Vertical position\n",
    "\n",
    "pint y"
   ]
  },
  {
   "cell_type": "markdown",
   "metadata": {},
   "source": [
    "part (e)"
   ]
  },
  {
   "cell_type": "code",
   "execution_count": 7,
   "metadata": {},
   "outputs": [
    {
     "name": "stdout",
     "output_type": "stream",
     "text": [
      "3.0\n"
     ]
    }
   ],
   "source": [
    "# testing_ball.py: https://github.com/hplgit/prog4comp/blob/master/src/py/ball.py\n",
    "# Program for computing the height of a ball in vertical motion\n",
    "\n",
    "v0 = 5             # Initial velocity\n",
    "g = 9.81           # Acceleration of gravity\n",
    "t = 0.6            # Time\n",
    "\n",
    "y = v0*t        # Vertical position\n",
    "\n",
    "print y"
   ]
  },
  {
   "cell_type": "markdown",
   "metadata": {},
   "source": [
    "part (f)"
   ]
  },
  {
   "cell_type": "code",
   "execution_count": 8,
   "metadata": {},
   "outputs": [
    {
     "ename": "NameError",
     "evalue": "name 'x' is not defined",
     "output_type": "error",
     "traceback": [
      "\u001b[1;31m---------------------------------------------------------------------------\u001b[0m",
      "\u001b[1;31mNameError\u001b[0m                                 Traceback (most recent call last)",
      "\u001b[1;32m<ipython-input-8-c0c1741df101>\u001b[0m in \u001b[0;36m<module>\u001b[1;34m()\u001b[0m\n\u001b[0;32m      8\u001b[0m \u001b[0my\u001b[0m \u001b[1;33m=\u001b[0m \u001b[0mv0\u001b[0m\u001b[1;33m*\u001b[0m\u001b[0mt\u001b[0m \u001b[1;33m-\u001b[0m \u001b[1;36m0.5\u001b[0m\u001b[1;33m*\u001b[0m\u001b[0mg\u001b[0m\u001b[1;33m*\u001b[0m\u001b[0mt\u001b[0m\u001b[1;33m**\u001b[0m\u001b[1;36m2\u001b[0m        \u001b[1;31m# Vertical position\u001b[0m\u001b[1;33m\u001b[0m\u001b[0m\n\u001b[0;32m      9\u001b[0m \u001b[1;33m\u001b[0m\u001b[0m\n\u001b[1;32m---> 10\u001b[1;33m \u001b[1;32mprint\u001b[0m \u001b[0mx\u001b[0m\u001b[1;33m\u001b[0m\u001b[0m\n\u001b[0m",
      "\u001b[1;31mNameError\u001b[0m: name 'x' is not defined"
     ]
    }
   ],
   "source": [
    "# testing_ball.py: https://github.com/hplgit/prog4comp/blob/master/src/py/ball.py\n",
    "# Program for computing the height of a ball in vertical motion\n",
    "\n",
    "v0 = 5             # Initial velocity\n",
    "g = 9.81           # Acceleration of gravity\n",
    "t = 0.6            # Time\n",
    "\n",
    "y = v0*t - 0.5*g*t**2        # Vertical position\n",
    "\n",
    "print x"
   ]
  },
  {
   "cell_type": "markdown",
   "metadata": {},
   "source": [
    "part (g)"
   ]
  },
  {
   "cell_type": "code",
   "execution_count": 9,
   "metadata": {},
   "outputs": [
    {
     "name": "stdout",
     "output_type": "stream",
     "text": [
      "3.0\n"
     ]
    }
   ],
   "source": [
    "# testing_ball.py: https://github.com/hplgit/prog4comp/blob/master/src/py/ball.py\n",
    "# Program for computing the height of a ball in vertical motion\n",
    "\n",
    "v0 = 5             # Initial velocity\n",
    "g = 9.81           # Acceleration of gravity\n",
    "t = 0.6            # Time\n",
    "\n",
    "y = v0*t - (1/2)*g*t**2        # Vertical position\n",
    "\n",
    "print y"
   ]
  },
  {
   "cell_type": "markdown",
   "metadata": {},
   "source": [
    "`1/2` is `0`, not `0.5`."
   ]
  },
  {
   "cell_type": "markdown",
   "metadata": {},
   "source": [
    "## Ex 1.2: Cube volume $V = L^3$"
   ]
  },
  {
   "cell_type": "code",
   "execution_count": 10,
   "metadata": {},
   "outputs": [
    {
     "name": "stdout",
     "output_type": "stream",
     "text": [
      "64\n"
     ]
    }
   ],
   "source": [
    "# cube_volume.py\n",
    "# Program for computing the volumne of a cube of a given side length\n",
    "\n",
    "L = 4     # Side length\n",
    "\n",
    "V = L**3  # Cube volume\n",
    "\n",
    "print V"
   ]
  },
  {
   "cell_type": "markdown",
   "metadata": {},
   "source": [
    "## Exercise 1.3: Area and circumference of a circle"
   ]
  },
  {
   "cell_type": "code",
   "execution_count": 12,
   "metadata": {},
   "outputs": [
    {
     "name": "stdout",
     "output_type": "stream",
     "text": [
      "C = 12.5664, A = 12.5664\n"
     ]
    }
   ],
   "source": [
    "# circumference_and_area.py\n",
    "# Program for computing the area and circumference of a circle\n",
    "from math import pi\n",
    "\n",
    "r = 2     # Radius\n",
    "\n",
    "C = 2*pi*r # Circumference\n",
    "A = pi*r**2  # Area\n",
    "\n",
    "print \"C = %6.4f, A = %6.4f\" % (C,A)"
   ]
  },
  {
   "cell_type": "markdown",
   "metadata": {},
   "source": [
    "## Exercise 1.4: Volumes of three cubes"
   ]
  },
  {
   "cell_type": "code",
   "execution_count": 5,
   "metadata": {},
   "outputs": [],
   "source": [
    "from numpy import linspace\n",
    "\n",
    "L = linspace(1, 3, 3)"
   ]
  },
  {
   "cell_type": "code",
   "execution_count": 6,
   "metadata": {},
   "outputs": [
    {
     "name": "stdout",
     "output_type": "stream",
     "text": [
      "[ 1.  8. 27.]\n"
     ]
    }
   ],
   "source": [
    "V = L**3\n",
    "print V"
   ]
  },
  {
   "cell_type": "code",
   "execution_count": 8,
   "metadata": {},
   "outputs": [
    {
     "data": {
      "image/png": "[encoded data removed]",
      "text/plain": [
       "<matplotlib.figure.Figure at 0xaa21860>"
      ]
     },
     "metadata": {},
     "output_type": "display_data"
    }
   ],
   "source": [
    "import matplotlib.pyplot as plt\n",
    "\n",
    "plt.plot(L,V)\n",
    "plt.xlabel('L')\n",
    "plt.ylabel('V')\n",
    "plt.title('Plot of cube volumes against side length')\n",
    "plt.show()"
   ]
  },
  {
   "cell_type": "markdown",
   "metadata": {},
   "source": [
    "## Exercise 1.5: Average of integers"
   ]
  },
  {
   "cell_type": "code",
   "execution_count": 4,
   "metadata": {},
   "outputs": [
    {
     "name": "stdout",
     "output_type": "stream",
     "text": [
      "average: 3.0\n"
     ]
    }
   ],
   "source": [
    "somme = 1 + 2 + 3 + 4 + 5\n",
    "moyenne = somme / 5.0\n",
    "print \"average:\", moyenne"
   ]
  },
  {
   "cell_type": "markdown",
   "metadata": {},
   "source": [
    "## Exercise 1.6: Interactive computing of volume and area"
   ]
  },
  {
   "cell_type": "code",
   "execution_count": 11,
   "metadata": {},
   "outputs": [
    {
     "name": "stdout",
     "output_type": "stream",
     "text": [
      "L = 3.4\n",
      "39.304\n"
     ]
    }
   ],
   "source": [
    "L = input(\"L = \")   # Side length\n",
    "V = L**3            # Cube volume\n",
    "print V"
   ]
  },
  {
   "cell_type": "code",
   "execution_count": 12,
   "metadata": {},
   "outputs": [
    {
     "name": "stdout",
     "output_type": "stream",
     "text": [
      "r = 5.4\n",
      "C = 33.9292, A = 91.6088\n"
     ]
    }
   ],
   "source": [
    "from math import pi\n",
    "\n",
    "r = input(\"r = \")     # Radius\n",
    "\n",
    "C = 2*pi*r # Circumference\n",
    "A = pi*r**2  # Area\n",
    "\n",
    "print \"C = %6.4f, A = %6.4f\" % (C,A)"
   ]
  }
 ],
 "metadata": {
  "kernelspec": {
   "display_name": "Python 2",
   "language": "python",
   "name": "python2"
  },
  "language_info": {
   "codemirror_mode": {
    "name": "ipython",
    "version": 2
   },
   "file_extension": ".py",
   "mimetype": "text/x-python",
   "name": "python",
   "nbconvert_exporter": "python",
   "pygments_lexer": "ipython2",
   "version": "2.7.14"
  }
 },
 "nbformat": 4,
 "nbformat_minor": 2
}
