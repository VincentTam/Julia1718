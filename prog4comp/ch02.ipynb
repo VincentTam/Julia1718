{
 "cells": [
  {
   "cell_type": "markdown",
   "metadata": {},
   "source": [
    "# Exercises in Chapter 2"
   ]
  },
  {
   "cell_type": "markdown",
   "metadata": {},
   "source": [
    "## Exercise 2.1: Errors with colon, indent, etc."
   ]
  },
  {
   "cell_type": "code",
   "execution_count": 2,
   "metadata": {},
   "outputs": [
    {
     "name": "stdout",
     "output_type": "stream",
     "text": [
      "1.2342\n",
      "0.52695\n"
     ]
    }
   ],
   "source": [
    "# ball_function.py\n",
    "def y(t):\n",
    "    v0 = 5 # Initial velocity\n",
    "    g = 9.81 # Acceleration of gravity\n",
    "    return v0*t - 0.5*g*t**2\n",
    "\n",
    "time = 0.6 # Just pick one point in time\n",
    "print y(time)\n",
    "time = 0.9 # Pick another point in time\n",
    "print y(time)"
   ]
  },
  {
   "cell_type": "markdown",
   "metadata": {},
   "source": [
    "part (a)"
   ]
  },
  {
   "cell_type": "code",
   "execution_count": 3,
   "metadata": {},
   "outputs": [
    {
     "ename": "SyntaxError",
     "evalue": "invalid syntax (<ipython-input-3-8cf10d2d98d9>, line 2)",
     "output_type": "error",
     "traceback": [
      "\u001b[1;36m  File \u001b[1;32m\"<ipython-input-3-8cf10d2d98d9>\"\u001b[1;36m, line \u001b[1;32m2\u001b[0m\n\u001b[1;33m    def y(t)\u001b[0m\n\u001b[1;37m            ^\u001b[0m\n\u001b[1;31mSyntaxError\u001b[0m\u001b[1;31m:\u001b[0m invalid syntax\n"
     ]
    }
   ],
   "source": [
    "# ball_function.py\n",
    "def y(t)\n",
    "    v0 = 5 # Initial velocity\n",
    "    g = 9.81 # Acceleration of gravity\n",
    "    return v0*t - 0.5*g*t**2\n",
    "\n",
    "time = 0.6 # Just pick one point in time\n",
    "print y(time)\n",
    "time = 0.9 # Pick another point in time\n",
    "print y(time)"
   ]
  },
  {
   "cell_type": "markdown",
   "metadata": {},
   "source": [
    "part (a)"
   ]
  },
  {
   "cell_type": "markdown",
   "metadata": {},
   "source": [
    "part (b)"
   ]
  },
  {
   "cell_type": "code",
   "execution_count": 4,
   "metadata": {},
   "outputs": [
    {
     "ename": "IndentationError",
     "evalue": "expected an indented block (<ipython-input-4-e63b91215c80>, line 3)",
     "output_type": "error",
     "traceback": [
      "\u001b[1;36m  File \u001b[1;32m\"<ipython-input-4-e63b91215c80>\"\u001b[1;36m, line \u001b[1;32m3\u001b[0m\n\u001b[1;33m    v0 = 5 # Initial velocity\u001b[0m\n\u001b[1;37m     ^\u001b[0m\n\u001b[1;31mIndentationError\u001b[0m\u001b[1;31m:\u001b[0m expected an indented block\n"
     ]
    }
   ],
   "source": [
    "# ball_function.py\n",
    "def y(t):\n",
    "v0 = 5 # Initial velocity\n",
    "    g = 9.81 # Acceleration of gravity\n",
    "    return v0*t - 0.5*g*t**2\n",
    "\n",
    "time = 0.6 # Just pick one point in time\n",
    "print y(time)\n",
    "time = 0.9 # Pick another point in time\n",
    "print y(time)"
   ]
  },
  {
   "cell_type": "markdown",
   "metadata": {},
   "source": [
    "part (c)"
   ]
  },
  {
   "cell_type": "code",
   "execution_count": 5,
   "metadata": {
    "scrolled": true
   },
   "outputs": [
    {
     "ename": "IndentationError",
     "evalue": "unexpected indent (<ipython-input-5-e3f3549a18ae>, line 4)",
     "output_type": "error",
     "traceback": [
      "\u001b[1;36m  File \u001b[1;32m\"<ipython-input-5-e3f3549a18ae>\"\u001b[1;36m, line \u001b[1;32m4\u001b[0m\n\u001b[1;33m    g = 9.81 # Acceleration of gravity\u001b[0m\n\u001b[1;37m    ^\u001b[0m\n\u001b[1;31mIndentationError\u001b[0m\u001b[1;31m:\u001b[0m unexpected indent\n"
     ]
    }
   ],
   "source": [
    "# ball_function.py\n",
    "def y(t):\n",
    "   v0 = 5 # Initial velocity\n",
    "    g = 9.81 # Acceleration of gravity\n",
    "    return v0*t - 0.5*g*t**2\n",
    "\n",
    "time = 0.6 # Just pick one point in time\n",
    "print y(time)\n",
    "time = 0.9 # Pick another point in time\n",
    "print y(time)"
   ]
  },
  {
   "cell_type": "markdown",
   "metadata": {},
   "source": [
    "part (d)"
   ]
  },
  {
   "cell_type": "code",
   "execution_count": 6,
   "metadata": {},
   "outputs": [
    {
     "ename": "SyntaxError",
     "evalue": "invalid syntax (<ipython-input-6-82fc836cab44>, line 2)",
     "output_type": "error",
     "traceback": [
      "\u001b[1;36m  File \u001b[1;32m\"<ipython-input-6-82fc836cab44>\"\u001b[1;36m, line \u001b[1;32m2\u001b[0m\n\u001b[1;33m    def yt):\u001b[0m\n\u001b[1;37m          ^\u001b[0m\n\u001b[1;31mSyntaxError\u001b[0m\u001b[1;31m:\u001b[0m invalid syntax\n"
     ]
    }
   ],
   "source": [
    "# ball_function.py\n",
    "def yt):\n",
    "    v0 = 5 # Initial velocity\n",
    "    g = 9.81 # Acceleration of gravity\n",
    "    return v0*t - 0.5*g*t**2\n",
    "\n",
    "time = 0.6 # Just pick one point in time\n",
    "print y(time)\n",
    "time = 0.9 # Pick another point in time\n",
    "print y(time)"
   ]
  },
  {
   "cell_type": "markdown",
   "metadata": {},
   "source": [
    "part (e)"
   ]
  },
  {
   "cell_type": "code",
   "execution_count": 9,
   "metadata": {},
   "outputs": [
    {
     "ename": "TypeError",
     "evalue": "y() takes no arguments (1 given)",
     "output_type": "error",
     "traceback": [
      "\u001b[1;31m---------------------------------------------------------------------------\u001b[0m",
      "\u001b[1;31mTypeError\u001b[0m                                 Traceback (most recent call last)",
      "\u001b[1;32m<ipython-input-9-e2841f90ed71>\u001b[0m in \u001b[0;36m<module>\u001b[1;34m()\u001b[0m\n\u001b[0;32m      6\u001b[0m \u001b[1;33m\u001b[0m\u001b[0m\n\u001b[0;32m      7\u001b[0m \u001b[0mtime\u001b[0m \u001b[1;33m=\u001b[0m \u001b[1;36m0.6\u001b[0m \u001b[1;31m# Just pick one point in time\u001b[0m\u001b[1;33m\u001b[0m\u001b[0m\n\u001b[1;32m----> 8\u001b[1;33m \u001b[1;32mprint\u001b[0m \u001b[0my\u001b[0m\u001b[1;33m(\u001b[0m\u001b[0mtime\u001b[0m\u001b[1;33m)\u001b[0m\u001b[1;33m\u001b[0m\u001b[0m\n\u001b[0m\u001b[0;32m      9\u001b[0m \u001b[0mtime\u001b[0m \u001b[1;33m=\u001b[0m \u001b[1;36m0.9\u001b[0m \u001b[1;31m# Pick another point in time\u001b[0m\u001b[1;33m\u001b[0m\u001b[0m\n\u001b[0;32m     10\u001b[0m \u001b[1;32mprint\u001b[0m \u001b[0my\u001b[0m\u001b[1;33m(\u001b[0m\u001b[0mtime\u001b[0m\u001b[1;33m)\u001b[0m\u001b[1;33m\u001b[0m\u001b[0m\n",
      "\u001b[1;31mTypeError\u001b[0m: y() takes no arguments (1 given)"
     ]
    }
   ],
   "source": [
    "# ball_function.py\n",
    "def y():\n",
    "    v0 = 5 # Initial velocity\n",
    "    g = 9.81 # Acceleration of gravity\n",
    "    return v0*t - 0.5*g*t**2\n",
    "\n",
    "time = 0.6 # Just pick one point in time\n",
    "print y(time)\n",
    "time = 0.9 # Pick another point in time\n",
    "print y(time)"
   ]
  },
  {
   "cell_type": "markdown",
   "metadata": {},
   "source": [
    "part (f)"
   ]
  },
  {
   "cell_type": "code",
   "execution_count": 10,
   "metadata": {},
   "outputs": [
    {
     "ename": "TypeError",
     "evalue": "y() takes exactly 1 argument (0 given)",
     "output_type": "error",
     "traceback": [
      "\u001b[1;31m---------------------------------------------------------------------------\u001b[0m",
      "\u001b[1;31mTypeError\u001b[0m                                 Traceback (most recent call last)",
      "\u001b[1;32m<ipython-input-10-d0df34f5fe7e>\u001b[0m in \u001b[0;36m<module>\u001b[1;34m()\u001b[0m\n\u001b[0;32m      6\u001b[0m \u001b[1;33m\u001b[0m\u001b[0m\n\u001b[0;32m      7\u001b[0m \u001b[0mtime\u001b[0m \u001b[1;33m=\u001b[0m \u001b[1;36m0.6\u001b[0m \u001b[1;31m# Just pick one point in time\u001b[0m\u001b[1;33m\u001b[0m\u001b[0m\n\u001b[1;32m----> 8\u001b[1;33m \u001b[1;32mprint\u001b[0m \u001b[0my\u001b[0m\u001b[1;33m(\u001b[0m\u001b[1;33m)\u001b[0m\u001b[1;33m\u001b[0m\u001b[0m\n\u001b[0m\u001b[0;32m      9\u001b[0m \u001b[0mtime\u001b[0m \u001b[1;33m=\u001b[0m \u001b[1;36m0.9\u001b[0m \u001b[1;31m# Pick another point in time\u001b[0m\u001b[1;33m\u001b[0m\u001b[0m\n\u001b[0;32m     10\u001b[0m \u001b[1;32mprint\u001b[0m \u001b[0my\u001b[0m\u001b[1;33m(\u001b[0m\u001b[0mtime\u001b[0m\u001b[1;33m)\u001b[0m\u001b[1;33m\u001b[0m\u001b[0m\n",
      "\u001b[1;31mTypeError\u001b[0m: y() takes exactly 1 argument (0 given)"
     ]
    }
   ],
   "source": [
    "# ball_function.py\n",
    "def y(time):\n",
    "    v0 = 5 # Initial velocity\n",
    "    g = 9.81 # Acceleration of gravity\n",
    "    return v0*t - 0.5*g*t**2\n",
    "\n",
    "time = 0.6 # Just pick one point in time\n",
    "print y()\n",
    "time = 0.9 # Pick another point in time\n",
    "print y(time)"
   ]
  },
  {
   "cell_type": "markdown",
   "metadata": {},
   "source": [
    "## Exercise 2.2: Compare integers $a$ and $b$"
   ]
  },
  {
   "cell_type": "markdown",
   "metadata": {},
   "source": [
    "The following program\n",
    "\n",
    "    a = input('Give an integer a: ')\n",
    "    b = input('Give an integer b: ')\n",
    "\n",
    "    if a < b:\n",
    "        print \"a is the smallest of the two numbers\"\n",
    "    elif a == b:\n",
    "        print \"a and b are equal\"\n",
    "    else:\n",
    "        print \"a is the largest of the two numbers\"\n",
    "\n",
    "compares $a$ with $b$."
   ]
  },
  {
   "cell_type": "markdown",
   "metadata": {},
   "source": [
    "Run this program a few times so that all three branches are tested."
   ]
  },
  {
   "cell_type": "code",
   "execution_count": 11,
   "metadata": {},
   "outputs": [
    {
     "name": "stdout",
     "output_type": "stream",
     "text": [
      "Give an integer a: 2\n",
      "Give an integer b: 3\n",
      "a is the smallest of the two numbers\n"
     ]
    }
   ],
   "source": [
    "a = input('Give an integer a: ')\n",
    "b = input('Give an integer b: ')\n",
    "\n",
    "if a < b:\n",
    "    print \"a is the smallest of the two numbers\"\n",
    "elif a == b:\n",
    "    print \"a and b are equal\"\n",
    "else:\n",
    "    print \"a is the largest of the two numbers\""
   ]
  },
  {
   "cell_type": "code",
   "execution_count": 12,
   "metadata": {},
   "outputs": [
    {
     "name": "stdout",
     "output_type": "stream",
     "text": [
      "Give an integer a: 34.5\n",
      "Give an integer b: 34.5\n",
      "a and b are equal\n"
     ]
    }
   ],
   "source": [
    "a = input('Give an integer a: ')\n",
    "b = input('Give an integer b: ')\n",
    "\n",
    "if a < b:\n",
    "    print \"a is the smallest of the two numbers\"\n",
    "elif a == b:\n",
    "    print \"a and b are equal\"\n",
    "else:\n",
    "    print \"a is the largest of the two numbers\""
   ]
  },
  {
   "cell_type": "code",
   "execution_count": 13,
   "metadata": {},
   "outputs": [
    {
     "name": "stdout",
     "output_type": "stream",
     "text": [
      "Give an integer a: 24\n",
      "Give an integer b: 12\n",
      "a is the largest of the two numbers\n"
     ]
    }
   ],
   "source": [
    "a = input('Give an integer a: ')\n",
    "b = input('Give an integer b: ')\n",
    "\n",
    "if a < b:\n",
    "    print \"a is the smallest of the two numbers\"\n",
    "elif a == b:\n",
    "    print \"a and b are equal\"\n",
    "else:\n",
    "    print \"a is the largest of the two numbers\""
   ]
  },
  {
   "cell_type": "markdown",
   "metadata": {},
   "source": [
    "## Exercise 2.3: Functions for circumference and area of a circle"
   ]
  },
  {
   "cell_type": "code",
   "execution_count": 43,
   "metadata": {},
   "outputs": [
    {
     "name": "stdout",
     "output_type": "stream",
     "text": [
      "C = 6.28319, A = 3.14159\n"
     ]
    }
   ],
   "source": [
    "from math import pi\n",
    "\n",
    "def C(r):\n",
    "    return 2*pi*r\n",
    "\n",
    "def A(r):\n",
    "    return pi*r**2\n",
    "\n",
    "r = 1\n",
    "print \"C = %g, A = %g\" % (C(r), A(r))"
   ]
  },
  {
   "cell_type": "markdown",
   "metadata": {},
   "source": [
    "## Exercise 2.4: Function for area of a rectangle"
   ]
  },
  {
   "cell_type": "code",
   "execution_count": 15,
   "metadata": {},
   "outputs": [
    {
     "name": "stdout",
     "output_type": "stream",
     "text": [
      "Enter the value of b: 2\n",
      "Enter the value of c: 3\n",
      "6\n"
     ]
    }
   ],
   "source": [
    "def A(b,c):\n",
    "    return b*c\n",
    "\n",
    "b = input('Enter the value of b: ')\n",
    "c = input('Enter the value of c: ')\n",
    "print A(b,c)"
   ]
  },
  {
   "cell_type": "markdown",
   "metadata": {},
   "source": [
    "## Exercise 2.5: Area of a polygon"
   ]
  },
  {
   "cell_type": "code",
   "execution_count": 22,
   "metadata": {},
   "outputs": [
    {
     "name": "stdout",
     "output_type": "stream",
     "text": [
      "1.0\n"
     ]
    }
   ],
   "source": [
    "def polyarea(x, y):\n",
    "    s, n = 0, len(x)\n",
    "    for i in range(n-1):\n",
    "        s += x[i]*y[i+1] - y[i]*x[i+1]\n",
    "    s += x[-1]*y[0] - y[-1]*x[0]\n",
    "    return 0.5*s\n",
    "\n",
    "x = [0, 1, 1, 0]\n",
    "y = [0, 0, 1, 1]\n",
    "print polyarea(x, y)"
   ]
  },
  {
   "cell_type": "markdown",
   "metadata": {},
   "source": [
    "I forgot to take `abs` on `s`.\n",
    "Better initializationi of `s` at line 2 in answer."
   ]
  },
  {
   "cell_type": "code",
   "execution_count": 23,
   "metadata": {},
   "outputs": [],
   "source": [
    "\"\"\"\n",
    "Computes the area of a polygon from vertex \n",
    "coordinates only.\n",
    "\"\"\"\n",
    "\n",
    "def polyarea(x, y):\n",
    "    n = len(x)\n",
    "    # next we may initialize area with those terms in the\n",
    "    # sum that does not follow the \"increasing index pattern\"\n",
    "    area = x[n-1]*y[0] - y[n-1]*x[0]  \n",
    "    for i in range(0,n-1,1):\n",
    "        area += x[i]*y[i+1] - y[i]*x[i+1]\n",
    "    return 0.5*abs(area)"
   ]
  },
  {
   "cell_type": "code",
   "execution_count": 36,
   "metadata": {},
   "outputs": [
    {
     "name": "stdout",
     "output_type": "stream",
     "text": [
      "Enter a value of N: 100\n",
      "The average of 1,...,N is  5050\n"
     ]
    }
   ],
   "source": [
    "def avg12N(N):\n",
    "    return sum(range(N+1))\n",
    "\n",
    "N = int(input('Enter a value of N: '))\n",
    "print \"The average of 1,...,N is \", avg12N(N)"
   ]
  },
  {
   "cell_type": "markdown",
   "metadata": {},
   "source": [
    "## Exercise 2.7: While loop with errors"
   ]
  },
  {
   "cell_type": "code",
   "execution_count": null,
   "metadata": {},
   "outputs": [],
   "source": [
    "# Wrong code\n",
    "some_number = 0\n",
    "i = 1\n",
    "while i < 11\n",
    "    some_number += 1\n",
    "print some_number"
   ]
  },
  {
   "cell_type": "markdown",
   "metadata": {},
   "source": [
    "part (a):\n",
    "\n",
    "- missing colon `:` after `while i < 11`\n",
    "- it should be `some_number += i`\n",
    "- missing `i += 1` at the end of each iteration"
   ]
  },
  {
   "cell_type": "markdown",
   "metadata": {},
   "source": [
    "part (b)"
   ]
  },
  {
   "cell_type": "code",
   "execution_count": 41,
   "metadata": {},
   "outputs": [
    {
     "name": "stdout",
     "output_type": "stream",
     "text": [
      "55\n",
      "test output: sum(range(1,11,1)) = 55\n"
     ]
    }
   ],
   "source": [
    "# My correction\n",
    "some_number = 0\n",
    "i = 1\n",
    "while i < 11:\n",
    "    some_number += i\n",
    "    i += 1\n",
    "print some_number\n",
    "print \"test output: sum(range(1,11,1)) =\", sum(range(1,11,1))"
   ]
  },
  {
   "cell_type": "markdown",
   "metadata": {},
   "source": [
    "## Exercise 2.8: Area of rectangle versus circle"
   ]
  },
  {
   "cell_type": "code",
   "execution_count": 44,
   "metadata": {},
   "outputs": [
    {
     "name": "stdout",
     "output_type": "stream",
     "text": [
      "The largest possible integer b is 271\n"
     ]
    }
   ],
   "source": [
    "a, r = 1.3, 10.6  # given constants\n",
    "circArea = A(r)\n",
    "b = 1\n",
    "\n",
    "while a*b < circArea:\n",
    "    b += 1\n",
    "b -= 1\n",
    "\n",
    "print \"The largest possible integer b is\", b  # b = 271"
   ]
  },
  {
   "cell_type": "markdown",
   "metadata": {},
   "source": [
    "## Exercise 2.9: Find crossing points of two graphs"
   ]
  },
  {
   "cell_type": "markdown",
   "metadata": {},
   "source": [
    "Let $f(x) = x$ and $g(x) = x^2$ be defined on $[-4, 4]$."
   ]
  },
  {
   "cell_type": "code",
   "execution_count": 58,
   "metadata": {
    "scrolled": true
   },
   "outputs": [
    {
     "name": "stdout",
     "output_type": "stream",
     "text": [
      "Number of equally distributed points on [-4, 4] = 400\n",
      "Enter a small number: 0.01\n",
      "[0.010025062656641381, 0.9924812030075181]\n"
     ]
    }
   ],
   "source": [
    "from numpy import linspace\n",
    "\n",
    "f, g = lambda x: x, lambda x: x**2  # constant\n",
    "\n",
    "N = input(\"Number of equally distributed points on [-4, 4] = \")  # user input\n",
    "epsilon = input(\"Enter a small number: \")\n",
    "x = linspace(-4, 4, N)\n",
    "\n",
    "intersections = [t for t in x if abs(f(t)- g(t)) < epsilon]\n",
    "print intersections"
   ]
  },
  {
   "cell_type": "markdown",
   "metadata": {},
   "source": [
    "## Exercise 2.10: Sort array with numbers"
   ]
  },
  {
   "cell_type": "markdown",
   "metadata": {},
   "source": [
    "Solution copied from the book *Programmation en Python pour les mathématiques*"
   ]
  },
  {
   "cell_type": "code",
   "execution_count": 73,
   "metadata": {
    "scrolled": true
   },
   "outputs": [
    {
     "name": "stdout",
     "output_type": "stream",
     "text": [
      "Before sorting: x =  [4.23800136451185, 2.2037143983376173, 8.099271382208835, 5.493518035667582, 4.337703872630675, 5.967345636392894]\n",
      "After sorting: x =  [2.2037143983376173, 4.23800136451185, 4.337703872630675, 5.493518035667582, 5.967345636392894, 8.099271382208835]\n"
     ]
    }
   ],
   "source": [
    "from random import *\n",
    "\n",
    "def myqsort(x):\n",
    "    if x == []: return []\n",
    "    else:\n",
    "        pivot = x[0]\n",
    "        x1 = [elt for elt in x if elt < pivot]\n",
    "        x2 = [elt for elt in x if elt > pivot]\n",
    "        return myqsort(x1) + [pivot] + myqsort(x2)\n",
    "\n",
    "a, b = 0, 10\n",
    "x = [uniform(0,10) for i in range(6)]\n",
    "print \"Before sorting: x = \", x\n",
    "print \"After sorting: x = \", myqsort(x)"
   ]
  },
  {
   "cell_type": "markdown",
   "metadata": {},
   "source": [
    "## Exercise 2.11: Compute $\\pi$"
   ]
  },
  {
   "cell_type": "code",
   "execution_count": 101,
   "metadata": {
    "scrolled": true
   },
   "outputs": [
    {
     "name": "stdout",
     "output_type": "stream",
     "text": [
      "Enter the value of N: 100\n"
     ]
    },
    {
     "data": {
      "text/plain": [
       "<matplotlib.legend.Legend at 0x9eecbe0>"
      ]
     },
     "execution_count": 101,
     "metadata": {},
     "output_type": "execute_result"
    },
    {
     "data": {
      "image/png": "[encoded data removed]",
      "text/plain": [
       "<matplotlib.figure.Figure at 0x95906a0>"
      ]
     },
     "metadata": {},
     "output_type": "display_data"
    }
   ],
   "source": [
    "from math import sqrt\n",
    "import matplotlib.pyplot as plt\n",
    "\n",
    "N = input('Enter the value of N: ')\n",
    "assert(N > 20)\n",
    "leib0 = [8.0/((4*k+1)*(4*k+3)) for k in range(N)]  # the terms in Leibniz's scheme\n",
    "leib1 = [sum(leib0[0:i]) for i in range(N)]      # Leibniz's approximation\n",
    "errL = [abs(pi - i) for i in leib1]              # Leibniz's error\n",
    "euler0 = [1.0/k**2 for k in range(1,N+1)]              # the terms in Leibniz's scheme\n",
    "euler1 = [sqrt(6 * sum(euler0[0:i])) for i in range(N)]    # Euler's approximation\n",
    "errE = [abs(pi - i) for i in euler1]              # Euler's error\n",
    "\n",
    "plt.plot(range(20, N+1), errL[19:], label='Leibniz')\n",
    "plt.plot(range(20, N+1), errE[19:], label='Euler')\n",
    "plt.title('Errors of Leibniz and Euler Scheme v.s. N')\n",
    "plt.xlabel('N')\n",
    "plt.ylabel('Error')\n",
    "plt.legend()"
   ]
  },
  {
   "cell_type": "markdown",
   "metadata": {},
   "source": [
    "## Exercise 2.12: Compute combinations of sets"
   ]
  },
  {
   "cell_type": "code",
   "execution_count": 106,
   "metadata": {},
   "outputs": [
    {
     "name": "stdout",
     "output_type": "stream",
     "text": [
      "[('C', 'A'), ('C', '2'), ('C', '3'), ('C', '4'), ('C', '5'), ('C', '6'), ('C', '7'), ('C', '8'), ('C', '9'), ('C', 'J'), ('C', 'Q'), ('C', 'K'), ('D', 'A'), ('D', '2'), ('D', '3'), ('D', '4'), ('D', '5'), ('D', '6'), ('D', '7'), ('D', '8'), ('D', '9'), ('D', 'J'), ('D', 'Q'), ('D', 'K'), ('H', 'A'), ('H', '2'), ('H', '3'), ('H', '4'), ('H', '5'), ('H', '6'), ('H', '7'), ('H', '8'), ('H', '9'), ('H', 'J'), ('H', 'Q'), ('H', 'K'), ('S', 'A'), ('S', '2'), ('S', '3'), ('S', '4'), ('S', '5'), ('S', '6'), ('S', '7'), ('S', '8'), ('S', '9'), ('S', 'J'), ('S', 'Q'), ('S', 'K')]\n"
     ]
    }
   ],
   "source": [
    "ranks = ['A', '2', '3', '4', '5', '6', '7', '8', '9', 'J', 'Q', 'K']\n",
    "suits = ['C', 'D', 'H', 'S']\n",
    "deck = [(suit, rank) for suit in suits for rank in ranks]\n",
    "print deck"
   ]
  },
  {
   "cell_type": "code",
   "execution_count": 108,
   "metadata": {},
   "outputs": [
    {
     "name": "stderr",
     "output_type": "stream",
     "text": [
      "IOPub data rate exceeded.\n",
      "The notebook server will temporarily stop sending output\n",
      "to the client in order to avoid crashing it.\n",
      "To change this limit, set the config variable\n",
      "`--NotebookApp.iopub_data_rate_limit`.\n",
      "\n",
      "Current values:\n",
      "NotebookApp.iopub_data_rate_limit=1000000.0 (bytes/sec)\n",
      "NotebookApp.rate_limit_window=3.0 (secs)\n",
      "\n"
     ]
    }
   ],
   "source": [
    "import string\n",
    "letters = string.ascii_uppercase\n",
    "digits = range(10)\n",
    "carnums = [(l1, l2, d1, d2, d3) for l1 in letters for l2 in letters \\\n",
    "          for d1 in digits for d2 in digits for d3 in digits]\n",
    "print carnums"
   ]
  },
  {
   "cell_type": "code",
   "execution_count": 109,
   "metadata": {},
   "outputs": [
    {
     "name": "stdout",
     "output_type": "stream",
     "text": [
      "21\n"
     ]
    }
   ],
   "source": [
    "eyes = range(1, 7)\n",
    "omega = [(die1, die2) for die1 in eyes for die2 in eyes]\n",
    "event = [roll for roll in omega if sum(roll) >= 7]\n",
    "print len(event)"
   ]
  },
  {
   "cell_type": "markdown",
   "metadata": {},
   "source": [
    "## Exercise 2.13: Frequency of random numbers"
   ]
  },
  {
   "cell_type": "code",
   "execution_count": 115,
   "metadata": {},
   "outputs": [
    {
     "name": "stdout",
     "output_type": "stream",
     "text": [
      "N = 100000\n",
      "The fraction M/N became: 0.16833\n"
     ]
    }
   ],
   "source": [
    "from random import randint\n",
    "\n",
    "N = input('N = ')\n",
    "# Draw random numbers\n",
    "M = 0   # Counter for the occurences of 6\n",
    "for i in range(N):\n",
    "    drawn_number = randint(1, 6)\n",
    "    #print 'Draw number %d gave: %d' % (i+1, drawn_number)\n",
    "    if drawn_number == 6:\n",
    "        M += 1\n",
    "\n",
    "print 'The fraction M/N became: %g' % (M/float(N))"
   ]
  },
  {
   "cell_type": "markdown",
   "metadata": {},
   "source": [
    "## Exercise 2.14: Game 21"
   ]
  },
  {
   "cell_type": "code",
   "execution_count": 124,
   "metadata": {},
   "outputs": [
    {
     "name": "stdout",
     "output_type": "stream",
     "text": [
      "Number drawn = 6, current sum = 6\n",
      "Want another draw? 1\n",
      "Number drawn = 10, current sum = 16\n",
      "Want another draw? 1\n",
      "Number drawn = 9, current sum = 25\n",
      "You lose!\n",
      "Your sum is 25\n"
     ]
    }
   ],
   "source": [
    "from random import randint\n",
    "\n",
    "N = 21\n",
    "i = 0\n",
    "sum = 0\n",
    "drawagain = 1\n",
    "\n",
    "while drawagain:\n",
    "    numdrawn = randint(0,10)\n",
    "    sum += numdrawn\n",
    "    print \"Number drawn = %d, current sum = %d\" % (numdrawn, sum)\n",
    "    if sum > 21:\n",
    "        print \"You lose!\"\n",
    "        break\n",
    "    drawagain = input('Want another draw? ')\n",
    "    \n",
    "    \n",
    "if i == N: print \"You win!\"\n",
    "else: print \"Your sum is\", sum"
   ]
  }
 ],
 "metadata": {
  "kernelspec": {
   "display_name": "Python 2",
   "language": "python",
   "name": "python2"
  },
  "language_info": {
   "codemirror_mode": {
    "name": "ipython",
    "version": 2
   },
   "file_extension": ".py",
   "mimetype": "text/x-python",
   "name": "python",
   "nbconvert_exporter": "python",
   "pygments_lexer": "ipython2",
   "version": "2.7.14"
  }
 },
 "nbformat": 4,
 "nbformat_minor": 2
}
