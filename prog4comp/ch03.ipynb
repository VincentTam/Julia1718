{
 "cells": [
  {
   "cell_type": "markdown",
   "metadata": {},
   "source": [
    "# Chapter 3 Exercises"
   ]
  },
  {
   "cell_type": "markdown",
   "metadata": {},
   "source": [
    "## Exercise 3.1: Hand calculations for the trapezoidal method"
   ]
  },
  {
   "cell_type": "markdown",
   "metadata": {},
   "source": [
    "Hand computations:\n",
    "    $$ \\int_1^3 2x^3 dx \\approx \\frac{f(1)+f(3)}{2} + f(2) = \\frac{2+54}{2} + 16 = 44 $$"
   ]
  },
  {
   "cell_type": "code",
   "execution_count": 15,
   "metadata": {},
   "outputs": [],
   "source": [
    "# trapezoidal_test_func.py\n",
    "from trapezoidal import trapezoidal\n",
    "\n",
    "def test_trapezoidal():\n",
    "    f = lambda x: 2*x**3\n",
    "    x0, x1, n = 1, 3, 2\n",
    "    \n",
    "    # Comparer hand computations with system output\n",
    "    I_hand = 44\n",
    "    I_sys = trapezoidal(f, x0, x1, n)\n",
    "    error = abs(I_hand - I_sys)\n",
    "    tol = 1e-16\n",
    "    assert error < tol\n",
    "    \n",
    "test_trapezoidal()"
   ]
  },
  {
   "cell_type": "markdown",
   "metadata": {},
   "source": [
    "## Exercise 3.2: Hand calculations for the midpoint method"
   ]
  },
  {
   "cell_type": "markdown",
   "metadata": {},
   "source": [
    "Hand computations:\n",
    "    $$ \\int_1^3 2x^3 dx \\approx f\\left(\\frac32\\right) + f\\left(\\frac52\\right) = 2 \\left(\\frac32\\right)^3 + 2 \\left(\\frac52\\right)^3 = 38 $$"
   ]
  },
  {
   "cell_type": "code",
   "execution_count": 14,
   "metadata": {},
   "outputs": [],
   "source": [
    "# midpoint_test_func.py\n",
    "from midpoint import midpoint\n",
    "\n",
    "def test_midpoint():\n",
    "    f = lambda x: 2*x**3\n",
    "    x0, x1, n = 1, 3, 2\n",
    "    \n",
    "    # Comparer hand computations with system output\n",
    "    I_hand = 38\n",
    "    I_sys = midpoint(f, x0, x1, n)\n",
    "    error = abs(I_hand - I_sys)\n",
    "    tol = 1e-16\n",
    "    assert error < tol\n",
    "    \n",
    "test_midpoint()"
   ]
  },
  {
   "cell_type": "markdown",
   "metadata": {},
   "source": [
    "## Exercise 3.3: Compute a simple integral"
   ]
  },
  {
   "cell_type": "markdown",
   "metadata": {},
   "source": [
    "Hand computations for approximations of $\\int_2^6 x(x-1)dx$.\n",
    "\n",
    "\\begin{align}\n",
    "  n &= 2, I_t = \\left(\\frac{f(2)+f(6)}{2} + f(4)\\right) \\left(\\frac{6-2}{2}\\right)\n",
    "  = \\left(\\frac{2(2-1)+6(6-1)}{2} + 4(4-1)\\right) (2) = 56 \\\\\n",
    "  n &= 2, I_m = \\left( f(3) + f(5) \\right) \\left(\\frac{6-2}{2}\\right)\n",
    "  = (3(3-1) + 5(5-1))(2) = 52\n",
    "\\end{align}\n",
    "\n",
    "Not needed, misread question."
   ]
  },
  {
   "cell_type": "code",
   "execution_count": 25,
   "metadata": {},
   "outputs": [
    {
     "name": "stdout",
     "output_type": "stream",
     "text": [
      "  n  trapezoidal       error |   midpoint       error\n",
      "  2    56.000000    2.666667 |  52.000000    2.666667\n",
      "100    53.334400    0.001067 |  53.332800    0.001067\n"
     ]
    }
   ],
   "source": [
    "# integrate_parabola.py\n",
    "from trapezoidal import trapezoidal\n",
    "from midpoint import midpoint\n",
    "import sympy as sp\n",
    "\n",
    "def test_methods():\n",
    "    f = lambda x: x*(x-1)\n",
    "    x0, x1 = 2, 6\n",
    "\n",
    "    # Exact integral by sympy\n",
    "    x = sp.symbols('x')\n",
    "    I_exact = sp.integrate(f(x), (x, x0, x1))\n",
    "    I_exact = I_exact.evalf()\n",
    "\n",
    "    # numerical integration\n",
    "    nvec = [2, 100]\n",
    "    print \"  n  trapezoidal       error |   midpoint       error\"\n",
    "    for n in nvec:\n",
    "        I_t = trapezoidal(f, x0, x1, n)\n",
    "        e_t = abs(I_t - I_exact)\n",
    "        I_m = midpoint(f, x0, x1, n)\n",
    "        e_m = abs(I_t - I_exact)\n",
    "        print(\"%3i   %10.6f  %10.6f | %10.6f  %10.6f\" % (n, I_t, e_t, I_m, e_m))\n",
    "        \n",
    "test_methods()"
   ]
  },
  {
   "cell_type": "markdown",
   "metadata": {},
   "source": [
    "## Exercise 3.4: Hand-calculations with sine integrals"
   ]
  },
  {
   "cell_type": "markdown",
   "metadata": {},
   "source": [
    "$\\int_0^\\pi \\sin(x) dx = -\\cos(\\pi) -(-\\cos(0)) = 2$"
   ]
  },
  {
   "cell_type": "code",
   "execution_count": 37,
   "metadata": {},
   "outputs": [
    {
     "ename": "AssertionError",
     "evalue": "err_t = 0.000164496",
     "output_type": "error",
     "traceback": [
      "\u001b[1;31m---------------------------------------------------------------------------\u001b[0m",
      "\u001b[1;31mAssertionError\u001b[0m                            Traceback (most recent call last)",
      "\u001b[1;32m<ipython-input-37-8b865dc7dbb7>\u001b[0m in \u001b[0;36m<module>\u001b[1;34m()\u001b[0m\n\u001b[0;32m     15\u001b[0m     \u001b[1;32massert\u001b[0m \u001b[0merr_m\u001b[0m \u001b[1;33m<\u001b[0m \u001b[0mtol\u001b[0m\u001b[1;33m,\u001b[0m \u001b[1;34m\"err_m = %g\"\u001b[0m \u001b[1;33m%\u001b[0m \u001b[1;33m(\u001b[0m\u001b[0merr_m\u001b[0m\u001b[1;33m)\u001b[0m\u001b[1;33m\u001b[0m\u001b[0m\n\u001b[0;32m     16\u001b[0m \u001b[1;33m\u001b[0m\u001b[0m\n\u001b[1;32m---> 17\u001b[1;33m \u001b[0mtest_integrate_sine\u001b[0m\u001b[1;33m(\u001b[0m\u001b[1;33m)\u001b[0m\u001b[1;33m\u001b[0m\u001b[0m\n\u001b[0m",
      "\u001b[1;32m<ipython-input-37-8b865dc7dbb7>\u001b[0m in \u001b[0;36mtest_integrate_sine\u001b[1;34m()\u001b[0m\n\u001b[0;32m     12\u001b[0m     \u001b[0merr_m\u001b[0m \u001b[1;33m=\u001b[0m \u001b[0mabs\u001b[0m\u001b[1;33m(\u001b[0m\u001b[0mexact\u001b[0m \u001b[1;33m-\u001b[0m \u001b[0mnumer_m\u001b[0m\u001b[1;33m)\u001b[0m\u001b[1;33m\u001b[0m\u001b[0m\n\u001b[0;32m     13\u001b[0m     \u001b[0mtol\u001b[0m \u001b[1;33m=\u001b[0m \u001b[1;36m1e-6\u001b[0m\u001b[1;33m\u001b[0m\u001b[0m\n\u001b[1;32m---> 14\u001b[1;33m     \u001b[1;32massert\u001b[0m \u001b[0merr_t\u001b[0m \u001b[1;33m<\u001b[0m \u001b[0mtol\u001b[0m\u001b[1;33m,\u001b[0m \u001b[1;34m\"err_t = %g\"\u001b[0m \u001b[1;33m%\u001b[0m \u001b[1;33m(\u001b[0m\u001b[0merr_t\u001b[0m\u001b[1;33m)\u001b[0m\u001b[1;33m\u001b[0m\u001b[0m\n\u001b[0m\u001b[0;32m     15\u001b[0m     \u001b[1;32massert\u001b[0m \u001b[0merr_m\u001b[0m \u001b[1;33m<\u001b[0m \u001b[0mtol\u001b[0m\u001b[1;33m,\u001b[0m \u001b[1;34m\"err_m = %g\"\u001b[0m \u001b[1;33m%\u001b[0m \u001b[1;33m(\u001b[0m\u001b[0merr_m\u001b[0m\u001b[1;33m)\u001b[0m\u001b[1;33m\u001b[0m\u001b[0m\n\u001b[0;32m     16\u001b[0m \u001b[1;33m\u001b[0m\u001b[0m\n",
      "\u001b[1;31mAssertionError\u001b[0m: err_t = 0.000164496"
     ]
    }
   ],
   "source": [
    "from trapezoidal import trapezoidal\n",
    "from midpoint import midpoint\n",
    "from math import pi, sin\n",
    "\n",
    "def test_integrate_sine():\n",
    "    f = lambda x: sin(x)\n",
    "    x0, x1, n = 0, pi, int(1e2Exercise 3.5: Make test functions for the midpoint methodjjjjjj   )\n",
    "    exact = 2\n",
    "    numer_t = trapezoidal(f, x0, x1, n)\n",
    "    numer_m = midpoint(f, x0, x1, n)\n",
    "    err_t = abs(exact - numer_t)\n",
    "    err_m = abs(exact - numer_m)\n",
    "    tol = 1e-6\n",
    "    assert err_t < tol, \"err_t = %g\" % (err_t)\n",
    "    assert err_m < tol, \"err_m = %g\" % (err_m)\n",
    "\n",
    "test_integrate_sine()"
   ]
  },
  {
   "cell_type": "markdown",
   "metadata": {},
   "source": [
    "It converges rather slow.  Large `n` and `tol` are needed to avoid `AssertionError`."
   ]
  },
  {
   "cell_type": "markdown",
   "metadata": {},
   "source": [
    "## Exercise 3.5: Make test functions for the midpoint method"
   ]
  },
  {
   "cell_type": "code",
   "execution_count": 38,
   "metadata": {},
   "outputs": [],
   "source": [
    "from midpoint import midpoint\n",
    "\n",
    "def test_midpoint_one_exact_result():\n",
    "    \"\"\"Compare one hand-computed result.\"\"\"\n",
    "    from math import exp\n",
    "    v = lambda t: 3*(t**2)*exp(t**3)\n",
    "    n = 2\n",
    "    computed = midpoint(v, 0, 1, n)\n",
    "    expected = 1.3817914596908085\n",
    "    error = abs(expected - computed)\n",
    "    tol = 1E-14\n",
    "    success = error < tol\n",
    "    msg = 'error=%g > tol=%g' % (error, tol)\n",
    "    assert success, msg\n",
    "\n",
    "def test_midpoint_linear():\n",
    "    \"\"\"Check that linear functions are integrated exactly.\"\"\"\n",
    "    f = lambda x: 6*x - 4\n",
    "    F = lambda x: 3*x**2 - 4*x  # Anti-derivative\n",
    "    a = 1.2; b = 4.4\n",
    "    expected = F(b) - F(a)\n",
    "    tol = 1E-14\n",
    "    for n in 2, 20, 21:\n",
    "        computed = midpoint(f, a, b, n)\n",
    "        error = abs(expected - computed)\n",
    "        success = error < tol\n",
    "        msg = 'n=%d, err=%g' % (n, error)\n",
    "        assert success, msg\n",
    "\n",
    "def convergence_rates(f, F, a, b, num_experiments=14):\n",
    "    from math import log\n",
    "    from numpy import zeros\n",
    "    expected = F(b) - F(a)\n",
    "    n = zeros(num_experiments, dtype=int)\n",
    "    E = zeros(num_experiments)\n",
    "    r = zeros(num_experiments-1)\n",
    "    for i in range(num_experiments):\n",
    "        n[i] = 2**(i+1)\n",
    "        computed = midpoint(f, a, b, n[i])\n",
    "        E[i] = abs(expected - computed)\n",
    "        if i > 0:\n",
    "            r_im1 = log(E[i]/E[i-1])/log(float(n[i])/n[i-1])\n",
    "            r[i-1] = float('%.2f' % r_im1) # Truncate to two decimals\n",
    "    return r\n",
    "\n",
    "def test_midpoint_conv_rate():\n",
    "    \"\"\"Check empirical convergence rates against the expected -2.\"\"\"\n",
    "    from math import exp\n",
    "    v = lambda t: 3*(t**2)*exp(t**3)\n",
    "    V = lambda t: exp(t**3)\n",
    "    a = 1.1; b = 1.9\n",
    "    r = convergence_rates(v, V, a, b, 14)\n",
    "    print r\n",
    "    tol = 0.01\n",
    "    msg = str(r[-4:])  # show last 4 estimated rates\n",
    "    assert (abs(r[-1]) - 2) < tol, msg"
   ]
  },
  {
   "cell_type": "code",
   "execution_count": 40,
   "metadata": {},
   "outputs": [],
   "source": [
    "test_midpoint_one_exact_result()"
   ]
  },
  {
   "cell_type": "code",
   "execution_count": 41,
   "metadata": {},
   "outputs": [],
   "source": [
    "test_midpoint_linear()"
   ]
  },
  {
   "cell_type": "code",
   "execution_count": 42,
   "metadata": {},
   "outputs": [
    {
     "name": "stdout",
     "output_type": "stream",
     "text": [
      "[-1.43 -1.81 -1.95 -1.99 -2.   -2.   -2.   -2.   -2.   -2.   -2.   -2.\n",
      " -2.  ]\n"
     ]
    }
   ],
   "source": [
    "test_midpoint_conv_rate()"
   ]
  },
  {
   "cell_type": "markdown",
   "metadata": {},
   "source": [
    "## Exercise 3.6: Explore rounding errors with large numbers"
   ]
  },
  {
   "cell_type": "code",
   "execution_count": 43,
   "metadata": {},
   "outputs": [
    {
     "ename": "AssertionError",
     "evalue": "n=2, err=9.53674e-07",
     "output_type": "error",
     "traceback": [
      "\u001b[1;31m---------------------------------------------------------------------------\u001b[0m",
      "\u001b[1;31mAssertionError\u001b[0m                            Traceback (most recent call last)",
      "\u001b[1;32m<ipython-input-43-e7923edfe0e3>\u001b[0m in \u001b[0;36m<module>\u001b[1;34m()\u001b[0m\n\u001b[0;32m     13\u001b[0m         \u001b[1;32massert\u001b[0m \u001b[0msuccess\u001b[0m\u001b[1;33m,\u001b[0m \u001b[0mmsg\u001b[0m\u001b[1;33m\u001b[0m\u001b[0m\n\u001b[0;32m     14\u001b[0m \u001b[1;33m\u001b[0m\u001b[0m\n\u001b[1;32m---> 15\u001b[1;33m \u001b[0mtest_trapezoidal_linear2\u001b[0m\u001b[1;33m(\u001b[0m\u001b[1;33m)\u001b[0m\u001b[1;33m\u001b[0m\u001b[0m\n\u001b[0m",
      "\u001b[1;32m<ipython-input-43-e7923edfe0e3>\u001b[0m in \u001b[0;36mtest_trapezoidal_linear2\u001b[1;34m()\u001b[0m\n\u001b[0;32m     11\u001b[0m         \u001b[0msuccess\u001b[0m \u001b[1;33m=\u001b[0m \u001b[0merror\u001b[0m \u001b[1;33m<\u001b[0m \u001b[0mtol\u001b[0m\u001b[1;33m\u001b[0m\u001b[0m\n\u001b[0;32m     12\u001b[0m         \u001b[0mmsg\u001b[0m \u001b[1;33m=\u001b[0m \u001b[1;34m'n=%d, err=%g'\u001b[0m \u001b[1;33m%\u001b[0m \u001b[1;33m(\u001b[0m\u001b[0mn\u001b[0m\u001b[1;33m,\u001b[0m \u001b[0merror\u001b[0m\u001b[1;33m)\u001b[0m\u001b[1;33m\u001b[0m\u001b[0m\n\u001b[1;32m---> 13\u001b[1;33m         \u001b[1;32massert\u001b[0m \u001b[0msuccess\u001b[0m\u001b[1;33m,\u001b[0m \u001b[0mmsg\u001b[0m\u001b[1;33m\u001b[0m\u001b[0m\n\u001b[0m\u001b[0;32m     14\u001b[0m \u001b[1;33m\u001b[0m\u001b[0m\n\u001b[0;32m     15\u001b[0m \u001b[0mtest_trapezoidal_linear2\u001b[0m\u001b[1;33m(\u001b[0m\u001b[1;33m)\u001b[0m\u001b[1;33m\u001b[0m\u001b[0m\n",
      "\u001b[1;31mAssertionError\u001b[0m: n=2, err=9.53674e-07"
     ]
    }
   ],
   "source": [
    "def test_trapezoidal_linear2():\n",
    "    \"\"\"Check that linear functions are integrated exactly.\"\"\"\n",
    "    f = lambda x: 6*1e8*x - 4*1e6\n",
    "    F = lambda x: 3*1e8*x**2 - 4*1e6*x  # Anti-derivative\n",
    "    a = 1.2; b = 4.4\n",
    "    expected = F(b) - F(a)\n",
    "    tol = 1E-14\n",
    "    for n in 2, 20, 21:\n",
    "        computed = trapezoidal(f, a, b, n)\n",
    "        error = abs(expected - computed)\n",
    "        success = error < tol\n",
    "        msg = 'n=%d, err=%g' % (n, error)\n",
    "        assert success, msg\n",
    "        \n",
    "test_trapezoidal_linear2()"
   ]
  },
  {
   "cell_type": "markdown",
   "metadata": {},
   "source": [
    "Use relative error instead of absolute error to make the test useful."
   ]
  },
  {
   "cell_type": "code",
   "execution_count": 45,
   "metadata": {},
   "outputs": [],
   "source": [
    "def test_trapezoidal_linear3():\n",
    "    \"\"\"Check that linear functions are integrated exactly.\"\"\"\n",
    "    f = lambda x: 6*1e8*x - 4*1e6\n",
    "    F = lambda x: 3*1e8*x**2 - 4*1e6*x  # Anti-derivative\n",
    "    a = 1.2; b = 4.4\n",
    "    expected = F(b) - F(a)\n",
    "    tol = 1E-14\n",
    "    for n in 2, 20, 21:\n",
    "        computed = trapezoidal(f, a, b, n)\n",
    "        error = abs(expected - computed)/abs(expected)\n",
    "        success = error < tol\n",
    "        msg = 'n=%d, err=%g' % (n, error)\n",
    "        assert success, msg\n",
    "        \n",
    "test_trapezoidal_linear3()"
   ]
  },
  {
   "cell_type": "markdown",
   "metadata": {},
   "source": [
    "No change is needed for the convergence rate test due to the $\\log(E_{i}/E_{i-1})$ in numerator is invariant under scalar multiplication."
   ]
  },
  {
   "cell_type": "code",
   "execution_count": 50,
   "metadata": {},
   "outputs": [
    {
     "name": "stdout",
     "output_type": "stream",
     "text": [
      "[0. 0. 0. 0. 0. 0. 0. 0. 0. 0. 0. 0. 0.]\n"
     ]
    }
   ],
   "source": [
    "def test_trapezoidal_conv_rate2():\n",
    "    \"\"\"Check empirical convergence rates against the expected 0.\"\"\"\n",
    "    f = lambda x: 6*1e8*x - 4*1e6\n",
    "    F = lambda x: 3*1e8*x**2 - 4*1e6*x  # Anti-derivative\n",
    "    a = 1.2; b = 4.4\n",
    "    r = convergence_rates(f, F, a, b, 14)\n",
    "    print r\n",
    "    tol = 0.01\n",
    "    msg = str(r[-4:])  # show last 4 estimated rates\n",
    "    assert abs(r[-1]) < tol, msg\n",
    "\n",
    "test_trapezoidal_conv_rate2()"
   ]
  }
 ],
 "metadata": {
  "kernelspec": {
   "display_name": "Python 2",
   "language": "python",
   "name": "python2"
  },
  "language_info": {
   "codemirror_mode": {
    "name": "ipython",
    "version": 2
   },
   "file_extension": ".py",
   "mimetype": "text/x-python",
   "name": "python",
   "nbconvert_exporter": "python",
   "pygments_lexer": "ipython2",
   "version": "2.7.14"
  }
 },
 "nbformat": 4,
 "nbformat_minor": 2
}
