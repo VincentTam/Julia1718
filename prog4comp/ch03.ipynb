{
 "cells": [
  {
   "cell_type": "markdown",
   "metadata": {},
   "source": [
    "# Chapter 3 Exercises"
   ]
  },
  {
   "cell_type": "markdown",
   "metadata": {},
   "source": [
    "## Exercise 3.1: Hand calculations for the trapezoidal method"
   ]
  },
  {
   "cell_type": "markdown",
   "metadata": {},
   "source": [
    "Hand computations:\n",
    "    $$ \\int_1^3 2x^3 dx \\approx \\frac{f(1)+f(3)}{2} + f(2) = \\frac{2+54}{2} + 16 = 44 $$"
   ]
  },
  {
   "cell_type": "code",
   "execution_count": 15,
   "metadata": {},
   "outputs": [],
   "source": [
    "# trapezoidal_test_func.py\n",
    "from trapezoidal import trapezoidal\n",
    "\n",
    "def test_trapezoidal():\n",
    "    f = lambda x: 2*x**3\n",
    "    x0, x1, n = 1, 3, 2\n",
    "    \n",
    "    # Comparer hand computations with system output\n",
    "    I_hand = 44\n",
    "    I_sys = trapezoidal(f, x0, x1, n)\n",
    "    error = abs(I_hand - I_sys)\n",
    "    tol = 1e-16\n",
    "    assert error < tol\n",
    "    \n",
    "test_trapezoidal()"
   ]
  },
  {
   "cell_type": "markdown",
   "metadata": {},
   "source": [
    "## Exercise 3.2: Hand calculations for the midpoint method"
   ]
  },
  {
   "cell_type": "markdown",
   "metadata": {},
   "source": [
    "Hand computations:\n",
    "    $$ \\int_1^3 2x^3 dx \\approx f\\left(\\frac32\\right) + f\\left(\\frac52\\right) = 2 \\left(\\frac32\\right)^3 + 2 \\left(\\frac52\\right)^3 = 38 $$"
   ]
  },
  {
   "cell_type": "code",
   "execution_count": 14,
   "metadata": {},
   "outputs": [],
   "source": [
    "# midpoint_test_func.py\n",
    "from midpoint import midpoint\n",
    "\n",
    "def test_midpoint():\n",
    "    f = lambda x: 2*x**3\n",
    "    x0, x1, n = 1, 3, 2\n",
    "    \n",
    "    # Comparer hand computations with system output\n",
    "    I_hand = 38\n",
    "    I_sys = midpoint(f, x0, x1, n)\n",
    "    error = abs(I_hand - I_sys)\n",
    "    tol = 1e-16\n",
    "    assert error < tol\n",
    "    \n",
    "test_midpoint()"
   ]
  },
  {
   "cell_type": "markdown",
   "metadata": {},
   "source": [
    "## Exercise 3.3: Compute a simple integral"
   ]
  },
  {
   "cell_type": "markdown",
   "metadata": {},
   "source": [
    "Hand computations for approximations of $\\int_2^6 x(x-1)dx$.\n",
    "\n",
    "\\begin{align}\n",
    "  n &= 2, I_t = \\left(\\frac{f(2)+f(6)}{2} + f(4)\\right) \\left(\\frac{6-2}{2}\\right)\n",
    "  = \\left(\\frac{2(2-1)+6(6-1)}{2} + 4(4-1)\\right) (2) = 56 \\\\\n",
    "  n &= 2, I_m = \\left( f(3) + f(5) \\right) \\left(\\frac{6-2}{2}\\right)\n",
    "  = (3(3-1) + 5(5-1))(2) = 52\n",
    "\\end{align}\n",
    "\n",
    "Not needed, misread question."
   ]
  },
  {
   "cell_type": "code",
   "execution_count": 25,
   "metadata": {},
   "outputs": [
    {
     "name": "stdout",
     "output_type": "stream",
     "text": [
      "  n  trapezoidal       error |   midpoint       error\n",
      "  2    56.000000    2.666667 |  52.000000    2.666667\n",
      "100    53.334400    0.001067 |  53.332800    0.001067\n"
     ]
    }
   ],
   "source": [
    "# integrate_parabola.py\n",
    "from trapezoidal import trapezoidal\n",
    "from midpoint import midpoint\n",
    "import sympy as sp\n",
    "\n",
    "def test_methods():\n",
    "    f = lambda x: x*(x-1)\n",
    "    x0, x1 = 2, 6\n",
    "\n",
    "    # Exact integral by sympy\n",
    "    x = sp.symbols('x')\n",
    "    I_exact = sp.integrate(f(x), (x, x0, x1))\n",
    "    I_exact = I_exact.evalf()\n",
    "\n",
    "    # numerical integration\n",
    "    nvec = [2, 100]\n",
    "    print \"  n  trapezoidal       error |   midpoint       error\"\n",
    "    for n in nvec:\n",
    "        I_t = trapezoidal(f, x0, x1, n)\n",
    "        e_t = abs(I_t - I_exact)\n",
    "        I_m = midpoint(f, x0, x1, n)\n",
    "        e_m = abs(I_t - I_exact)\n",
    "        print(\"%3i   %10.6f  %10.6f | %10.6f  %10.6f\" % (n, I_t, e_t, I_m, e_m))\n",
    "        \n",
    "test_methods()"
   ]
  },
  {
   "cell_type": "markdown",
   "metadata": {},
   "source": [
    "## Exercise 3.4: Hand-calculations with sine integrals"
   ]
  },
  {
   "cell_type": "markdown",
   "metadata": {},
   "source": [
    "$\\int_0^\\pi \\sin(x) dx = -\\cos(\\pi) -(-\\cos(0)) = 2$"
   ]
  },
  {
   "cell_type": "code",
   "execution_count": 37,
   "metadata": {},
   "outputs": [
    {
     "ename": "AssertionError",
     "evalue": "err_t = 0.000164496",
     "output_type": "error",
     "traceback": [
      "\u001b[1;31m---------------------------------------------------------------------------\u001b[0m",
      "\u001b[1;31mAssertionError\u001b[0m                            Traceback (most recent call last)",
      "\u001b[1;32m<ipython-input-37-8b865dc7dbb7>\u001b[0m in \u001b[0;36m<module>\u001b[1;34m()\u001b[0m\n\u001b[0;32m     15\u001b[0m     \u001b[1;32massert\u001b[0m \u001b[0merr_m\u001b[0m \u001b[1;33m<\u001b[0m \u001b[0mtol\u001b[0m\u001b[1;33m,\u001b[0m \u001b[1;34m\"err_m = %g\"\u001b[0m \u001b[1;33m%\u001b[0m \u001b[1;33m(\u001b[0m\u001b[0merr_m\u001b[0m\u001b[1;33m)\u001b[0m\u001b[1;33m\u001b[0m\u001b[0m\n\u001b[0;32m     16\u001b[0m \u001b[1;33m\u001b[0m\u001b[0m\n\u001b[1;32m---> 17\u001b[1;33m \u001b[0mtest_integrate_sine\u001b[0m\u001b[1;33m(\u001b[0m\u001b[1;33m)\u001b[0m\u001b[1;33m\u001b[0m\u001b[0m\n\u001b[0m",
      "\u001b[1;32m<ipython-input-37-8b865dc7dbb7>\u001b[0m in \u001b[0;36mtest_integrate_sine\u001b[1;34m()\u001b[0m\n\u001b[0;32m     12\u001b[0m     \u001b[0merr_m\u001b[0m \u001b[1;33m=\u001b[0m \u001b[0mabs\u001b[0m\u001b[1;33m(\u001b[0m\u001b[0mexact\u001b[0m \u001b[1;33m-\u001b[0m \u001b[0mnumer_m\u001b[0m\u001b[1;33m)\u001b[0m\u001b[1;33m\u001b[0m\u001b[0m\n\u001b[0;32m     13\u001b[0m     \u001b[0mtol\u001b[0m \u001b[1;33m=\u001b[0m \u001b[1;36m1e-6\u001b[0m\u001b[1;33m\u001b[0m\u001b[0m\n\u001b[1;32m---> 14\u001b[1;33m     \u001b[1;32massert\u001b[0m \u001b[0merr_t\u001b[0m \u001b[1;33m<\u001b[0m \u001b[0mtol\u001b[0m\u001b[1;33m,\u001b[0m \u001b[1;34m\"err_t = %g\"\u001b[0m \u001b[1;33m%\u001b[0m \u001b[1;33m(\u001b[0m\u001b[0merr_t\u001b[0m\u001b[1;33m)\u001b[0m\u001b[1;33m\u001b[0m\u001b[0m\n\u001b[0m\u001b[0;32m     15\u001b[0m     \u001b[1;32massert\u001b[0m \u001b[0merr_m\u001b[0m \u001b[1;33m<\u001b[0m \u001b[0mtol\u001b[0m\u001b[1;33m,\u001b[0m \u001b[1;34m\"err_m = %g\"\u001b[0m \u001b[1;33m%\u001b[0m \u001b[1;33m(\u001b[0m\u001b[0merr_m\u001b[0m\u001b[1;33m)\u001b[0m\u001b[1;33m\u001b[0m\u001b[0m\n\u001b[0;32m     16\u001b[0m \u001b[1;33m\u001b[0m\u001b[0m\n",
      "\u001b[1;31mAssertionError\u001b[0m: err_t = 0.000164496"
     ]
    }
   ],
   "source": [
    "from trapezoidal import trapezoidal\n",
    "from midpoint import midpoint\n",
    "from math import pi, sin\n",
    "\n",
    "def test_integrate_sine():\n",
    "    f = lambda x: sin(x)\n",
    "    x0, x1, n = 0, pi, int(1e2)\n",
    "    exact = 2\n",
    "    numer_t = trapezoidal(f, x0, x1, n)\n",
    "    numer_m = midpoint(f, x0, x1, n)\n",
    "    err_t = abs(exact - numer_t)\n",
    "    err_m = abs(exact - numer_m)\n",
    "    tol = 1e-6\n",
    "    assert err_t < tol, \"err_t = %g\" % (err_t)\n",
    "    assert err_m < tol, \"err_m = %g\" % (err_m)\n",
    "\n",
    "test_integrate_sine()"
   ]
  },
  {
   "cell_type": "markdown",
   "metadata": {},
   "source": [
    "It converges rather slow.  Large `n` and `tol` are needed to avoid `AssertionError`."
   ]
  }
 ],
 "metadata": {
  "kernelspec": {
   "display_name": "Python 2",
   "language": "python",
   "name": "python2"
  },
  "language_info": {
   "codemirror_mode": {
    "name": "ipython",
    "version": 2
   },
   "file_extension": ".py",
   "mimetype": "text/x-python",
   "name": "python",
   "nbconvert_exporter": "python",
   "pygments_lexer": "ipython2",
   "version": "2.7.14"
  }
 },
 "nbformat": 4,
 "nbformat_minor": 2
}
