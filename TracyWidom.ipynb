{
 "cells": [
  {
   "cell_type": "code",
   "execution_count": 1,
   "metadata": {},
   "outputs": [
    {
     "data": {
      "text/plain": [
       "JuliaRunClient.Notebook(\"notebook\")"
      ]
     },
     "execution_count": 1,
     "metadata": {},
     "output_type": "execute_result"
    }
   ],
   "source": [
    "using JuliaRunClient\n",
    "ctx = Context()\n",
    "nb = self()"
   ]
  },
  {
   "cell_type": "code",
   "execution_count": 2,
   "metadata": {},
   "outputs": [
    {
     "name": "stdout",
     "output_type": "stream",
     "text": [
      "scale up to 2\n"
     ]
    },
    {
     "name": "stderr",
     "output_type": "stream",
     "text": [
      "\u001b[1m\u001b[36mINFO: \u001b[39m\u001b[22m\u001b[36mwaiting for 2...\n",
      "\u001b[39m\u001b[1m\u001b[36mINFO: \u001b[39m\u001b[22m\u001b[36mworkers started in 6.064362049102783 seconds\n",
      "\u001b[39m"
     ]
    }
   ],
   "source": [
    "initParallel()\n",
    "\n",
    "NWRKRS = 2\n",
    "println(\"scale up to $NWRKRS\")\n",
    "\n",
    "@result setJobScale(ctx, nb, NWRKRS)\n",
    "waitForWorkers(NWRKRS)"
   ]
  },
  {
   "cell_type": "code",
   "execution_count": 3,
   "metadata": {},
   "outputs": [],
   "source": [
    "using StatsBase"
   ]
  },
  {
   "cell_type": "code",
   "execution_count": 4,
   "metadata": {},
   "outputs": [],
   "source": [
    "@everywhere using StatsBase"
   ]
  },
  {
   "cell_type": "code",
   "execution_count": 5,
   "metadata": {},
   "outputs": [],
   "source": [
    "@everywhere function montecarlo(howmany, data_generator, bins)\n",
    "    h  = Histogram(bins)\n",
    "    for i=1:howmany\n",
    "        push!(h, data_generator() )\n",
    "    end\n",
    "    return h.weights\n",
    "end"
   ]
  },
  {
   "cell_type": "code",
   "execution_count": 6,
   "metadata": {},
   "outputs": [],
   "source": [
    "w = @parallel (+) for i=1:nworkers()\n",
    "  montecarlo(10000, randn, -3:.1:3)\n",
    "end;"
   ]
  },
  {
   "cell_type": "code",
   "execution_count": 7,
   "metadata": {},
   "outputs": [],
   "source": [
    "using Plots"
   ]
  },
  {
   "cell_type": "code",
   "execution_count": 8,
   "metadata": {},
   "outputs": [],
   "source": [
    "@everywhere  function tracywidom_sample(β=2,n=200)\n",
    "  h=n^(-1/3)\n",
    "  x=[0:h:10;]\n",
    "  N=length(x)\n",
    "  d=(-2/h^2 .-x) +  2/sqrt(h*β)*randn(N) # diagonal\n",
    "  e=ones(N-1)/h^2                   # subdiagonal\n",
    "  eigvals(SymTridiagonal(d,e))[N]\n",
    "end"
   ]
  },
  {
   "cell_type": "code",
   "execution_count": 9,
   "metadata": {
    "scrolled": true
   },
   "outputs": [
    {
     "name": "stdout",
     "output_type": "stream",
     "text": [
      " 44.545738 seconds (2.73 M allocations: 138.743 MiB, 0.19% gc time)\n"
     ]
    }
   ],
   "source": [
    "plot()\n",
    "@time for β = [1,2,4]\n",
    " bins = -4:.05:1\n",
    " w=\n",
    "  @parallel (+) for i=1:nworkers()\n",
    "      montecarlo(100000,()->tracywidom_sample(β), bins)\n",
    "  end;\n",
    "    plot!(bins[1:100], w/sum(w)*bins.step.hi)\n",
    "end"
   ]
  },
  {
   "cell_type": "code",
   "execution_count": 10,
   "metadata": {},
   "outputs": [
    {
     "data": {
      "text/html": [
       "<?xml version=\"1.0\" encoding=\"utf-8\"?>\n",
       "<svg xmlns=\"http://www.w3.org/2000/svg\" xmlns:xlink=\"http://www.w3.org/1999/xlink\" width=\"600\" height=\"400\" viewBox=\"0 0 600 400\">\n",
       "<defs>\n",
       "  <clipPath id=\"clip4100\">\n",
       "    <rect x=\"0\" y=\"0\" width=\"600\" height=\"400\"/>\n",
       "  </clipPath>\n",
       "</defs>\n",
       "<polygon clip-path=\"url(#clip4100)\" points=\"\n",
       "0,400 600,400 600,0 0,0 \n",
       "  \" fill=\"#ffffff\" fill-opacity=\"1\"/>\n",
       "<defs>\n",
       "  <clipPath id=\"clip4101\">\n",
       "    <rect x=\"120\" y=\"0\" width=\"421\" height=\"400\"/>\n",
       "  </clipPath>\n",
       "</defs>\n",
       "<polygon clip-path=\"url(#clip4100)\" points=\"\n",
       "51.991,375.813 580.315,375.813 580.315,11.811 51.991,11.811 \n",
       "  \" fill=\"#ffffff\" fill-opacity=\"1\"/>\n",
       "<defs>\n",
       "  <clipPath id=\"clip4102\">\n",
       "    <rect x=\"51\" y=\"11\" width=\"529\" height=\"365\"/>\n",
       "  </clipPath>\n",
       "</defs>\n",
       "<polyline clip-path=\"url(#clip4102)\" style=\"stroke:#000000; stroke-width:0.5; stroke-opacity:0.1; fill:none\" points=\"\n",
       "  51.991,375.813 51.991,11.811 \n",
       "  \"/>\n",
       "<polyline clip-path=\"url(#clip4102)\" style=\"stroke:#000000; stroke-width:0.5; stroke-opacity:0.1; fill:none\" points=\"\n",
       "  158.723,375.813 158.723,11.811 \n",
       "  \"/>\n",
       "<polyline clip-path=\"url(#clip4102)\" style=\"stroke:#000000; stroke-width:0.5; stroke-opacity:0.1; fill:none\" points=\"\n",
       "  265.455,375.813 265.455,11.811 \n",
       "  \"/>\n",
       "<polyline clip-path=\"url(#clip4102)\" style=\"stroke:#000000; stroke-width:0.5; stroke-opacity:0.1; fill:none\" points=\"\n",
       "  372.187,375.813 372.187,11.811 \n",
       "  \"/>\n",
       "<polyline clip-path=\"url(#clip4102)\" style=\"stroke:#000000; stroke-width:0.5; stroke-opacity:0.1; fill:none\" points=\"\n",
       "  478.919,375.813 478.919,11.811 \n",
       "  \"/>\n",
       "<polyline clip-path=\"url(#clip4102)\" style=\"stroke:#000000; stroke-width:0.5; stroke-opacity:0.1; fill:none\" points=\"\n",
       "  51.991,329.48 580.315,329.48 \n",
       "  \"/>\n",
       "<polyline clip-path=\"url(#clip4102)\" style=\"stroke:#000000; stroke-width:0.5; stroke-opacity:0.1; fill:none\" points=\"\n",
       "  51.991,283.088 580.315,283.088 \n",
       "  \"/>\n",
       "<polyline clip-path=\"url(#clip4102)\" style=\"stroke:#000000; stroke-width:0.5; stroke-opacity:0.1; fill:none\" points=\"\n",
       "  51.991,236.696 580.315,236.696 \n",
       "  \"/>\n",
       "<polyline clip-path=\"url(#clip4102)\" style=\"stroke:#000000; stroke-width:0.5; stroke-opacity:0.1; fill:none\" points=\"\n",
       "  51.991,190.304 580.315,190.304 \n",
       "  \"/>\n",
       "<polyline clip-path=\"url(#clip4102)\" style=\"stroke:#000000; stroke-width:0.5; stroke-opacity:0.1; fill:none\" points=\"\n",
       "  51.991,143.912 580.315,143.912 \n",
       "  \"/>\n",
       "<polyline clip-path=\"url(#clip4102)\" style=\"stroke:#000000; stroke-width:0.5; stroke-opacity:0.1; fill:none\" points=\"\n",
       "  51.991,97.5203 580.315,97.5203 \n",
       "  \"/>\n",
       "<polyline clip-path=\"url(#clip4102)\" style=\"stroke:#000000; stroke-width:0.5; stroke-opacity:0.1; fill:none\" points=\"\n",
       "  51.991,51.1284 580.315,51.1284 \n",
       "  \"/>\n",
       "<polyline clip-path=\"url(#clip4100)\" style=\"stroke:#000000; stroke-width:1; stroke-opacity:1; fill:none\" points=\"\n",
       "  51.991,375.813 580.315,375.813 \n",
       "  \"/>\n",
       "<polyline clip-path=\"url(#clip4100)\" style=\"stroke:#000000; stroke-width:1; stroke-opacity:1; fill:none\" points=\"\n",
       "  51.991,375.813 51.991,11.811 \n",
       "  \"/>\n",
       "<polyline clip-path=\"url(#clip4100)\" style=\"stroke:#000000; stroke-width:1; stroke-opacity:1; fill:none\" points=\"\n",
       "  51.991,375.813 51.991,370.353 \n",
       "  \"/>\n",
       "<polyline clip-path=\"url(#clip4100)\" style=\"stroke:#000000; stroke-width:1; stroke-opacity:1; fill:none\" points=\"\n",
       "  158.723,375.813 158.723,370.353 \n",
       "  \"/>\n",
       "<polyline clip-path=\"url(#clip4100)\" style=\"stroke:#000000; stroke-width:1; stroke-opacity:1; fill:none\" points=\"\n",
       "  265.455,375.813 265.455,370.353 \n",
       "  \"/>\n",
       "<polyline clip-path=\"url(#clip4100)\" style=\"stroke:#000000; stroke-width:1; stroke-opacity:1; fill:none\" points=\"\n",
       "  372.187,375.813 372.187,370.353 \n",
       "  \"/>\n",
       "<polyline clip-path=\"url(#clip4100)\" style=\"stroke:#000000; stroke-width:1; stroke-opacity:1; fill:none\" points=\"\n",
       "  478.919,375.813 478.919,370.353 \n",
       "  \"/>\n",
       "<polyline clip-path=\"url(#clip4100)\" style=\"stroke:#000000; stroke-width:1; stroke-opacity:1; fill:none\" points=\"\n",
       "  51.991,329.48 59.9159,329.48 \n",
       "  \"/>\n",
       "<polyline clip-path=\"url(#clip4100)\" style=\"stroke:#000000; stroke-width:1; stroke-opacity:1; fill:none\" points=\"\n",
       "  51.991,283.088 59.9159,283.088 \n",
       "  \"/>\n",
       "<polyline clip-path=\"url(#clip4100)\" style=\"stroke:#000000; stroke-width:1; stroke-opacity:1; fill:none\" points=\"\n",
       "  51.991,236.696 59.9159,236.696 \n",
       "  \"/>\n",
       "<polyline clip-path=\"url(#clip4100)\" style=\"stroke:#000000; stroke-width:1; stroke-opacity:1; fill:none\" points=\"\n",
       "  51.991,190.304 59.9159,190.304 \n",
       "  \"/>\n",
       "<polyline clip-path=\"url(#clip4100)\" style=\"stroke:#000000; stroke-width:1; stroke-opacity:1; fill:none\" points=\"\n",
       "  51.991,143.912 59.9159,143.912 \n",
       "  \"/>\n",
       "<polyline clip-path=\"url(#clip4100)\" style=\"stroke:#000000; stroke-width:1; stroke-opacity:1; fill:none\" points=\"\n",
       "  51.991,97.5203 59.9159,97.5203 \n",
       "  \"/>\n",
       "<polyline clip-path=\"url(#clip4100)\" style=\"stroke:#000000; stroke-width:1; stroke-opacity:1; fill:none\" points=\"\n",
       "  51.991,51.1284 59.9159,51.1284 \n",
       "  \"/>\n",
       "<g clip-path=\"url(#clip4100)\">\n",
       "<text style=\"fill:#000000; fill-opacity:1; font-family:Arial,Helvetica Neue,Helvetica,sans-serif; font-size:12; text-anchor:middle;\" transform=\"rotate(0, 51.991, 389.613)\" x=\"51.991\" y=\"389.613\">-4</text>\n",
       "</g>\n",
       "<g clip-path=\"url(#clip4100)\">\n",
       "<text style=\"fill:#000000; fill-opacity:1; font-family:Arial,Helvetica Neue,Helvetica,sans-serif; font-size:12; text-anchor:middle;\" transform=\"rotate(0, 158.723, 389.613)\" x=\"158.723\" y=\"389.613\">-3</text>\n",
       "</g>\n",
       "<g clip-path=\"url(#clip4100)\">\n",
       "<text style=\"fill:#000000; fill-opacity:1; font-family:Arial,Helvetica Neue,Helvetica,sans-serif; font-size:12; text-anchor:middle;\" transform=\"rotate(0, 265.455, 389.613)\" x=\"265.455\" y=\"389.613\">-2</text>\n",
       "</g>\n",
       "<g clip-path=\"url(#clip4100)\">\n",
       "<text style=\"fill:#000000; fill-opacity:1; font-family:Arial,Helvetica Neue,Helvetica,sans-serif; font-size:12; text-anchor:middle;\" transform=\"rotate(0, 372.187, 389.613)\" x=\"372.187\" y=\"389.613\">-1</text>\n",
       "</g>\n",
       "<g clip-path=\"url(#clip4100)\">\n",
       "<text style=\"fill:#000000; fill-opacity:1; font-family:Arial,Helvetica Neue,Helvetica,sans-serif; font-size:12; text-anchor:middle;\" transform=\"rotate(0, 478.919, 389.613)\" x=\"478.919\" y=\"389.613\">0</text>\n",
       "</g>\n",
       "<g clip-path=\"url(#clip4100)\">\n",
       "<text style=\"fill:#000000; fill-opacity:1; font-family:Arial,Helvetica Neue,Helvetica,sans-serif; font-size:12; text-anchor:end;\" transform=\"rotate(0, 45.991, 333.98)\" x=\"45.991\" y=\"333.98\">0.0002</text>\n",
       "</g>\n",
       "<g clip-path=\"url(#clip4100)\">\n",
       "<text style=\"fill:#000000; fill-opacity:1; font-family:Arial,Helvetica Neue,Helvetica,sans-serif; font-size:12; text-anchor:end;\" transform=\"rotate(0, 45.991, 287.588)\" x=\"45.991\" y=\"287.588\">0.0004</text>\n",
       "</g>\n",
       "<g clip-path=\"url(#clip4100)\">\n",
       "<text style=\"fill:#000000; fill-opacity:1; font-family:Arial,Helvetica Neue,Helvetica,sans-serif; font-size:12; text-anchor:end;\" transform=\"rotate(0, 45.991, 241.196)\" x=\"45.991\" y=\"241.196\">0.0006</text>\n",
       "</g>\n",
       "<g clip-path=\"url(#clip4100)\">\n",
       "<text style=\"fill:#000000; fill-opacity:1; font-family:Arial,Helvetica Neue,Helvetica,sans-serif; font-size:12; text-anchor:end;\" transform=\"rotate(0, 45.991, 194.804)\" x=\"45.991\" y=\"194.804\">0.0008</text>\n",
       "</g>\n",
       "<g clip-path=\"url(#clip4100)\">\n",
       "<text style=\"fill:#000000; fill-opacity:1; font-family:Arial,Helvetica Neue,Helvetica,sans-serif; font-size:12; text-anchor:end;\" transform=\"rotate(0, 45.991, 148.412)\" x=\"45.991\" y=\"148.412\">0.0010</text>\n",
       "</g>\n",
       "<g clip-path=\"url(#clip4100)\">\n",
       "<text style=\"fill:#000000; fill-opacity:1; font-family:Arial,Helvetica Neue,Helvetica,sans-serif; font-size:12; text-anchor:end;\" transform=\"rotate(0, 45.991, 102.02)\" x=\"45.991\" y=\"102.02\">0.0012</text>\n",
       "</g>\n",
       "<g clip-path=\"url(#clip4100)\">\n",
       "<text style=\"fill:#000000; fill-opacity:1; font-family:Arial,Helvetica Neue,Helvetica,sans-serif; font-size:12; text-anchor:end;\" transform=\"rotate(0, 45.991, 55.6284)\" x=\"45.991\" y=\"55.6284\">0.0014</text>\n",
       "</g>\n",
       "<polyline clip-path=\"url(#clip4102)\" style=\"stroke:#009af9; stroke-width:1; stroke-opacity:1; fill:none\" points=\"\n",
       "  51.991,367.669 57.3276,364.997 62.6642,364.376 68.0008,362.574 73.3374,359.094 78.674,360.399 84.0106,358.597 89.3472,355.117 94.6838,353.191 100.02,351.202 \n",
       "  105.357,348.716 110.694,344.615 116.03,342.316 121.367,340.017 126.703,335.791 132.04,332.25 137.377,325.414 142.713,327.278 148.05,320.567 153.387,316.59 \n",
       "  158.723,314.415 164.06,308.512 169.396,302.982 174.733,301.988 180.07,291.735 185.406,285.396 190.743,280.984 196.079,284.526 201.416,276.138 206.753,270.856 \n",
       "  212.089,262.343 217.426,259.981 222.762,250.971 228.099,246 233.436,243.204 238.772,235.498 244.109,234.753 249.445,226.861 254.782,222.449 260.119,222.138 \n",
       "  265.455,211.077 270.792,212.942 276.128,204.988 281.465,203.807 286.802,195.729 292.138,192.125 297.475,185.6 302.811,190.696 308.148,189.826 313.485,186.035 \n",
       "  318.821,186.16 324.158,178.144 329.494,181.81 334.831,185.662 340.168,178.33 345.504,172.862 350.841,179.386 356.178,181.064 361.514,178.019 366.851,181.81 \n",
       "  372.187,182.369 377.524,178.889 382.861,187.34 388.197,185.29 393.534,192.436 398.87,197.096 404.207,198.712 409.544,193.43 414.88,202.005 420.217,208.592 \n",
       "  425.553,213.004 430.89,214.682 436.227,216.173 441.563,216.235 446.9,227.731 452.236,226.115 457.573,229.906 462.91,238.605 468.246,240.656 473.583,239.413 \n",
       "  478.919,250.536 484.256,256.812 489.593,258.738 494.929,261.535 500.266,267.562 505.602,270.11 510.939,277.07 516.276,283.159 521.612,283.47 526.949,288.628 \n",
       "  532.286,287.323 537.622,293.226 542.959,299.067 548.295,302.485 553.632,305.716 558.969,313.111 564.305,315.223 569.642,314.291 574.978,321.934 580.315,321.934 \n",
       "  \n",
       "  \"/>\n",
       "<polyline clip-path=\"url(#clip4102)\" style=\"stroke:#e26f46; stroke-width:1; stroke-opacity:1; fill:none\" points=\"\n",
       "  51.991,370.797 57.3276,369.63 62.6642,369.339 68.0008,366.83 73.3374,366.655 78.674,363.214 84.0106,362.339 89.3472,359.831 94.6838,357.381 100.02,354.115 \n",
       "  105.357,351.607 110.694,346.999 116.03,339.532 121.367,335.274 126.703,335.158 132.04,325.592 137.377,324.134 142.713,312.876 148.05,311.885 153.387,303.485 \n",
       "  158.723,292.169 164.06,284.703 169.396,275.487 174.733,269.013 180.07,252.797 185.406,247.898 190.743,241.015 196.079,236.115 201.416,222.174 206.753,213.892 \n",
       "  212.089,196.801 217.426,193.535 222.762,184.377 228.099,175.453 233.436,172.303 238.772,162.096 244.109,159.529 249.445,152.646 254.782,140.572 260.119,127.623 \n",
       "  265.455,129.315 270.792,125.873 276.128,121.324 281.465,114.732 286.802,113.099 292.138,117.824 297.475,112.691 302.811,124.182 308.148,121.09 313.485,120.099 \n",
       "  318.821,112.691 324.158,137.306 329.494,127.273 334.831,131.415 340.168,140.689 345.504,144.83 350.841,159.121 356.178,158.304 361.514,175.278 366.851,182.977 \n",
       "  372.187,184.786 377.524,188.869 382.861,204.034 388.197,211.967 393.534,220.191 398.87,229.466 404.207,228.241 409.544,244.281 414.88,251.806 420.217,259.913 \n",
       "  425.553,261.488 430.89,270.471 436.227,275.779 441.563,284.645 446.9,293.394 452.236,298.935 457.573,305.118 462.91,309.318 468.246,311.71 473.583,320.984 \n",
       "  478.919,324.075 484.256,327.167 489.593,331.658 494.929,337.199 500.266,340.116 505.602,342.974 510.939,345.89 516.276,348.049 521.612,350.207 526.949,354.815 \n",
       "  532.286,355.398 537.622,359.364 542.959,359.364 548.295,361.406 553.632,363.972 558.969,364.731 564.305,365.781 569.642,367.647 574.978,368.114 580.315,368.872 \n",
       "  \n",
       "  \"/>\n",
       "<polyline clip-path=\"url(#clip4102)\" style=\"stroke:#3da44d; stroke-width:1; stroke-opacity:1; fill:none\" points=\"\n",
       "  51.991,375.059 57.3276,374.769 62.6642,374.595 68.0008,374.305 73.3374,373.029 78.674,372.739 84.0106,371.638 89.3472,370.304 94.6838,367.868 100.02,365.606 \n",
       "  105.357,361.604 110.694,359.574 116.03,357.254 121.367,351.222 126.703,346.118 132.04,340.55 137.377,329.472 142.713,323.324 148.05,311.724 153.387,303.953 \n",
       "  158.723,293.165 164.06,278.549 169.396,263.991 174.733,249.723 180.07,233.136 185.406,215.388 190.743,197.408 196.079,175.891 201.416,167.539 206.753,142.251 \n",
       "  212.089,126.185 217.426,113.541 222.762,92.3718 228.099,77.582 233.436,64.3002 238.772,52.0044 244.109,40.4626 249.445,32.6327 254.782,22.5989 260.119,14.421 \n",
       "  265.455,15.755 270.792,22.3669 276.128,11.811 281.465,24.2808 286.802,18.0169 292.138,29.7907 297.475,41.5646 302.811,54.3824 308.148,68.8821 313.485,78.22 \n",
       "  318.821,95.0397 324.158,106.524 329.494,125.373 334.831,143.701 340.168,152.981 345.504,177.398 350.841,183.43 356.178,205.238 361.514,215.968 366.851,237.428 \n",
       "  372.187,252.391 377.524,262.309 382.861,271.531 388.197,288.119 393.534,295.485 398.87,306.215 404.207,312.536 409.544,319.264 414.88,326.63 420.217,335.04 \n",
       "  425.553,339.97 430.89,349.192 436.227,348.612 441.563,354.412 446.9,356.21 452.236,360.038 457.573,363.112 462.91,363.576 468.246,367.114 473.583,367.868 \n",
       "  478.919,368.796 484.256,370.71 489.593,371.812 494.929,372.392 500.266,373.319 505.602,373.145 510.939,373.957 516.276,374.015 521.612,374.653 526.949,375.059 \n",
       "  532.286,375.001 537.622,375.117 542.959,375.581 548.295,375.581 553.632,375.697 558.969,375.639 564.305,375.697 569.642,375.755 574.978,375.813 580.315,375.813 \n",
       "  \n",
       "  \"/>\n",
       "<polygon clip-path=\"url(#clip4100)\" points=\"\n",
       "489.799,93.171 562.315,93.171 562.315,32.691 489.799,32.691 \n",
       "  \" fill=\"#ffffff\" fill-opacity=\"1\"/>\n",
       "<polyline clip-path=\"url(#clip4100)\" style=\"stroke:#000000; stroke-width:1; stroke-opacity:1; fill:none\" points=\"\n",
       "  489.799,93.171 562.315,93.171 562.315,32.691 489.799,32.691 489.799,93.171 \n",
       "  \"/>\n",
       "<polyline clip-path=\"url(#clip4100)\" style=\"stroke:#009af9; stroke-width:1; stroke-opacity:1; fill:none\" points=\"\n",
       "  495.799,47.811 531.799,47.811 \n",
       "  \"/>\n",
       "<g clip-path=\"url(#clip4100)\">\n",
       "<text style=\"fill:#000000; fill-opacity:1; font-family:Arial,Helvetica Neue,Helvetica,sans-serif; font-size:12; text-anchor:start;\" transform=\"rotate(0, 537.799, 52.311)\" x=\"537.799\" y=\"52.311\">y1</text>\n",
       "</g>\n",
       "<polyline clip-path=\"url(#clip4100)\" style=\"stroke:#e26f46; stroke-width:1; stroke-opacity:1; fill:none\" points=\"\n",
       "  495.799,62.931 531.799,62.931 \n",
       "  \"/>\n",
       "<g clip-path=\"url(#clip4100)\">\n",
       "<text style=\"fill:#000000; fill-opacity:1; font-family:Arial,Helvetica Neue,Helvetica,sans-serif; font-size:12; text-anchor:start;\" transform=\"rotate(0, 537.799, 67.431)\" x=\"537.799\" y=\"67.431\">y2</text>\n",
       "</g>\n",
       "<polyline clip-path=\"url(#clip4100)\" style=\"stroke:#3da44d; stroke-width:1; stroke-opacity:1; fill:none\" points=\"\n",
       "  495.799,78.051 531.799,78.051 \n",
       "  \"/>\n",
       "<g clip-path=\"url(#clip4100)\">\n",
       "<text style=\"fill:#000000; fill-opacity:1; font-family:Arial,Helvetica Neue,Helvetica,sans-serif; font-size:12; text-anchor:start;\" transform=\"rotate(0, 537.799, 82.551)\" x=\"537.799\" y=\"82.551\">y3</text>\n",
       "</g>\n",
       "</svg>\n"
      ]
     },
     "execution_count": 10,
     "metadata": {},
     "output_type": "execute_result"
    }
   ],
   "source": [
    "plot!()"
   ]
  },
  {
   "cell_type": "code",
   "execution_count": 11,
   "metadata": {},
   "outputs": [
    {
     "data": {
      "text/plain": [
       "true"
      ]
     },
     "execution_count": 11,
     "metadata": {},
     "output_type": "execute_result"
    }
   ],
   "source": [
    "# Scale down\n",
    "@result setJobScale(ctx, self(), 0)"
   ]
  },
  {
   "cell_type": "code",
   "execution_count": 12,
   "metadata": {},
   "outputs": [
    {
     "data": {
      "text/plain": [
       "2"
      ]
     },
     "execution_count": 12,
     "metadata": {},
     "output_type": "execute_result"
    }
   ],
   "source": [
    "nworkers()"
   ]
  },
  {
   "cell_type": "code",
   "execution_count": 13,
   "metadata": {},
   "outputs": [
    {
     "ename": "LoadError",
     "evalue": "\u001b[91mUndefVarError: bins not defined\u001b[39m",
     "output_type": "error",
     "traceback": [
      "\u001b[91mUndefVarError: bins not defined\u001b[39m",
      "",
      "Stacktrace:",
      " [1] \u001b[1minclude_string\u001b[22m\u001b[22m\u001b[1m(\u001b[22m\u001b[22m::String, ::String\u001b[1m)\u001b[22m\u001b[22m at \u001b[1m./loading.jl:522\u001b[22m\u001b[22m"
     ]
    },
    {
     "name": "stderr",
     "output_type": "stream",
     "text": [
      "Worker 3 terminated.\n",
      "\u001b[91mERROR (unhandled task failure): \u001b[91mEOFError: read end of file\u001b[39m\n",
      "\u001b[39mWorker 2 terminated.\n",
      "\u001b[91mERROR (unhandled task failure): \u001b[91mEOFError: read end of file\u001b[39m\n",
      "\u001b[39m"
     ]
    }
   ],
   "source": [
    "bins"
   ]
  }
 ],
 "metadata": {
  "kernelspec": {
   "display_name": "Julia 0.6.2",
   "language": "julia",
   "name": "julia-0.6"
  },
  "language_info": {
   "file_extension": ".jl",
   "mimetype": "application/julia",
   "name": "julia",
   "version": "0.6.2"
  }
 },
 "nbformat": 4,
 "nbformat_minor": 2
}
