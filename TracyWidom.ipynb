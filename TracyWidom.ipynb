{
 "cells": [
  {
   "cell_type": "code",
   "execution_count": 2,
   "metadata": {},
   "outputs": [
    {
     "data": {
      "text/plain": [
       "JuliaRunClient.Notebook(\"notebook\")"
      ]
     },
     "execution_count": 2,
     "metadata": {},
     "output_type": "execute_result"
    }
   ],
   "source": [
    "using JuliaRunClient\n",
    "ctx = Context()\n",
    "nb = self()"
   ]
  },
  {
   "cell_type": "code",
   "execution_count": 3,
   "metadata": {},
   "outputs": [
    {
     "name": "stdout",
     "output_type": "stream",
     "text": [
      "scale up to 2\n"
     ]
    },
    {
     "name": "stderr",
     "output_type": "stream",
     "text": [
      "\u001b[1m\u001b[36mINFO: \u001b[39m\u001b[22m\u001b[36mwaiting for 2...\n",
      "\u001b[39m\u001b[1m\u001b[36mINFO: \u001b[39m\u001b[22m\u001b[36mworkers started in 4.619861841201782 seconds\n",
      "\u001b[39m"
     ]
    }
   ],
   "source": [
    "initParallel()\n",
    "\n",
    "NWRKRS = 2\n",
    "println(\"scale up to $NWRKRS\")\n",
    "\n",
    "@result setJobScale(ctx, nb, NWRKRS)\n",
    "waitForWorkers(NWRKRS)"
   ]
  },
  {
   "cell_type": "code",
   "execution_count": 4,
   "metadata": {},
   "outputs": [],
   "source": [
    "using StatsBase"
   ]
  },
  {
   "cell_type": "code",
   "execution_count": 5,
   "metadata": {},
   "outputs": [],
   "source": [
    "@everywhere using StatsBase"
   ]
  },
  {
   "cell_type": "code",
   "execution_count": 6,
   "metadata": {},
   "outputs": [],
   "source": [
    "@everywhere function montecarlo(howmany, data_generator, bins)\n",
    "    h  = Histogram(bins)\n",
    "    for i=1:howmany\n",
    "        push!(h, data_generator() )\n",
    "    end\n",
    "    return h.weights\n",
    "end"
   ]
  },
  {
   "cell_type": "code",
   "execution_count": 7,
   "metadata": {},
   "outputs": [],
   "source": [
    "w = @parallel (+) for i=1:nworkers()\n",
    "  montecarlo(10000, randn, -3:.1:3)\n",
    "end;"
   ]
  },
  {
   "cell_type": "code",
   "execution_count": 8,
   "metadata": {},
   "outputs": [],
   "source": [
    "using Plots"
   ]
  },
  {
   "cell_type": "code",
   "execution_count": 9,
   "metadata": {},
   "outputs": [],
   "source": [
    "@everywhere  function tracywidom_sample(β=2,n=200)\n",
    "  h=n^(-1/3)\n",
    "  x=[0:h:10;]\n",
    "  N=length(x)\n",
    "  d=(-2/h^2 .-x) +  2/sqrt(h*β)*randn(N) # diagonal\n",
    "  e=ones(N-1)/h^2                   # subdiagonal\n",
    "  eigvals(SymTridiagonal(d,e))[N]\n",
    "end"
   ]
  },
  {
   "cell_type": "code",
   "execution_count": null,
   "metadata": {
    "scrolled": true
   },
   "outputs": [],
   "source": [
    "plot()\n",
    "@time for β = [1,2,4]\n",
    " bins = -4:.05:1\n",
    " w=\n",
    "  @parallel (+) for i=1:nworkers()\n",
    "      montecarlo(100000,()->tracywidom_sample(β), bins)\n",
    "  end;\n",
    "    plot!(bins[1:100], w/sum(w)*bins.step.hi)\n",
    "end"
   ]
  },
  {
   "cell_type": "code",
   "execution_count": 19,
   "metadata": {},
   "outputs": [
    {
     "data": {
      "text/html": [
       "<?xml version=\"1.0\" encoding=\"utf-8\"?>\n",
       "<svg xmlns=\"http://www.w3.org/2000/svg\" xmlns:xlink=\"http://www.w3.org/1999/xlink\" width=\"600\" height=\"400\" viewBox=\"0 0 600 400\">\n",
       "<defs>\n",
       "  <clipPath id=\"clip3800\">\n",
       "    <rect x=\"0\" y=\"0\" width=\"600\" height=\"400\"/>\n",
       "  </clipPath>\n",
       "</defs>\n",
       "<polygon clip-path=\"url(#clip3800)\" points=\"\n",
       "0,400 600,400 600,0 0,0 \n",
       "  \" fill=\"#ffffff\" fill-opacity=\"1\"/>\n",
       "<defs>\n",
       "  <clipPath id=\"clip3801\">\n",
       "    <rect x=\"120\" y=\"0\" width=\"421\" height=\"400\"/>\n",
       "  </clipPath>\n",
       "</defs>\n",
       "<polygon clip-path=\"url(#clip3800)\" points=\"\n",
       "51.991,375.813 580.315,375.813 580.315,11.811 51.991,11.811 \n",
       "  \" fill=\"#ffffff\" fill-opacity=\"1\"/>\n",
       "<defs>\n",
       "  <clipPath id=\"clip3802\">\n",
       "    <rect x=\"51\" y=\"11\" width=\"529\" height=\"365\"/>\n",
       "  </clipPath>\n",
       "</defs>\n",
       "<polyline clip-path=\"url(#clip3802)\" style=\"stroke:#000000; stroke-width:0.5; stroke-opacity:0.1; fill:none\" points=\"\n",
       "  51.991,375.813 51.991,11.811 \n",
       "  \"/>\n",
       "<polyline clip-path=\"url(#clip3802)\" style=\"stroke:#000000; stroke-width:0.5; stroke-opacity:0.1; fill:none\" points=\"\n",
       "  158.723,375.813 158.723,11.811 \n",
       "  \"/>\n",
       "<polyline clip-path=\"url(#clip3802)\" style=\"stroke:#000000; stroke-width:0.5; stroke-opacity:0.1; fill:none\" points=\"\n",
       "  265.455,375.813 265.455,11.811 \n",
       "  \"/>\n",
       "<polyline clip-path=\"url(#clip3802)\" style=\"stroke:#000000; stroke-width:0.5; stroke-opacity:0.1; fill:none\" points=\"\n",
       "  372.187,375.813 372.187,11.811 \n",
       "  \"/>\n",
       "<polyline clip-path=\"url(#clip3802)\" style=\"stroke:#000000; stroke-width:0.5; stroke-opacity:0.1; fill:none\" points=\"\n",
       "  478.919,375.813 478.919,11.811 \n",
       "  \"/>\n",
       "<polyline clip-path=\"url(#clip3802)\" style=\"stroke:#000000; stroke-width:0.5; stroke-opacity:0.1; fill:none\" points=\"\n",
       "  51.991,375.813 580.315,375.813 \n",
       "  \"/>\n",
       "<polyline clip-path=\"url(#clip3802)\" style=\"stroke:#000000; stroke-width:0.5; stroke-opacity:0.1; fill:none\" points=\"\n",
       "  51.991,267.812 580.315,267.812 \n",
       "  \"/>\n",
       "<polyline clip-path=\"url(#clip3802)\" style=\"stroke:#000000; stroke-width:0.5; stroke-opacity:0.1; fill:none\" points=\"\n",
       "  51.991,159.81 580.315,159.81 \n",
       "  \"/>\n",
       "<polyline clip-path=\"url(#clip3802)\" style=\"stroke:#000000; stroke-width:0.5; stroke-opacity:0.1; fill:none\" points=\"\n",
       "  51.991,51.8081 580.315,51.8081 \n",
       "  \"/>\n",
       "<polyline clip-path=\"url(#clip3800)\" style=\"stroke:#000000; stroke-width:1; stroke-opacity:1; fill:none\" points=\"\n",
       "  51.991,375.813 580.315,375.813 \n",
       "  \"/>\n",
       "<polyline clip-path=\"url(#clip3800)\" style=\"stroke:#000000; stroke-width:1; stroke-opacity:1; fill:none\" points=\"\n",
       "  51.991,375.813 51.991,11.811 \n",
       "  \"/>\n",
       "<polyline clip-path=\"url(#clip3800)\" style=\"stroke:#000000; stroke-width:1; stroke-opacity:1; fill:none\" points=\"\n",
       "  51.991,375.813 51.991,370.353 \n",
       "  \"/>\n",
       "<polyline clip-path=\"url(#clip3800)\" style=\"stroke:#000000; stroke-width:1; stroke-opacity:1; fill:none\" points=\"\n",
       "  158.723,375.813 158.723,370.353 \n",
       "  \"/>\n",
       "<polyline clip-path=\"url(#clip3800)\" style=\"stroke:#000000; stroke-width:1; stroke-opacity:1; fill:none\" points=\"\n",
       "  265.455,375.813 265.455,370.353 \n",
       "  \"/>\n",
       "<polyline clip-path=\"url(#clip3800)\" style=\"stroke:#000000; stroke-width:1; stroke-opacity:1; fill:none\" points=\"\n",
       "  372.187,375.813 372.187,370.353 \n",
       "  \"/>\n",
       "<polyline clip-path=\"url(#clip3800)\" style=\"stroke:#000000; stroke-width:1; stroke-opacity:1; fill:none\" points=\"\n",
       "  478.919,375.813 478.919,370.353 \n",
       "  \"/>\n",
       "<polyline clip-path=\"url(#clip3800)\" style=\"stroke:#000000; stroke-width:1; stroke-opacity:1; fill:none\" points=\"\n",
       "  51.991,375.813 59.9159,375.813 \n",
       "  \"/>\n",
       "<polyline clip-path=\"url(#clip3800)\" style=\"stroke:#000000; stroke-width:1; stroke-opacity:1; fill:none\" points=\"\n",
       "  51.991,267.812 59.9159,267.812 \n",
       "  \"/>\n",
       "<polyline clip-path=\"url(#clip3800)\" style=\"stroke:#000000; stroke-width:1; stroke-opacity:1; fill:none\" points=\"\n",
       "  51.991,159.81 59.9159,159.81 \n",
       "  \"/>\n",
       "<polyline clip-path=\"url(#clip3800)\" style=\"stroke:#000000; stroke-width:1; stroke-opacity:1; fill:none\" points=\"\n",
       "  51.991,51.8081 59.9159,51.8081 \n",
       "  \"/>\n",
       "<g clip-path=\"url(#clip3800)\">\n",
       "<text style=\"fill:#000000; fill-opacity:1; font-family:Arial,Helvetica Neue,Helvetica,sans-serif; font-size:12; text-anchor:middle;\" transform=\"rotate(0, 51.991, 389.613)\" x=\"51.991\" y=\"389.613\">-4</text>\n",
       "</g>\n",
       "<g clip-path=\"url(#clip3800)\">\n",
       "<text style=\"fill:#000000; fill-opacity:1; font-family:Arial,Helvetica Neue,Helvetica,sans-serif; font-size:12; text-anchor:middle;\" transform=\"rotate(0, 158.723, 389.613)\" x=\"158.723\" y=\"389.613\">-3</text>\n",
       "</g>\n",
       "<g clip-path=\"url(#clip3800)\">\n",
       "<text style=\"fill:#000000; fill-opacity:1; font-family:Arial,Helvetica Neue,Helvetica,sans-serif; font-size:12; text-anchor:middle;\" transform=\"rotate(0, 265.455, 389.613)\" x=\"265.455\" y=\"389.613\">-2</text>\n",
       "</g>\n",
       "<g clip-path=\"url(#clip3800)\">\n",
       "<text style=\"fill:#000000; fill-opacity:1; font-family:Arial,Helvetica Neue,Helvetica,sans-serif; font-size:12; text-anchor:middle;\" transform=\"rotate(0, 372.187, 389.613)\" x=\"372.187\" y=\"389.613\">-1</text>\n",
       "</g>\n",
       "<g clip-path=\"url(#clip3800)\">\n",
       "<text style=\"fill:#000000; fill-opacity:1; font-family:Arial,Helvetica Neue,Helvetica,sans-serif; font-size:12; text-anchor:middle;\" transform=\"rotate(0, 478.919, 389.613)\" x=\"478.919\" y=\"389.613\">0</text>\n",
       "</g>\n",
       "<g clip-path=\"url(#clip3800)\">\n",
       "<text style=\"fill:#000000; fill-opacity:1; font-family:Arial,Helvetica Neue,Helvetica,sans-serif; font-size:12; text-anchor:end;\" transform=\"rotate(0, 45.991, 380.313)\" x=\"45.991\" y=\"380.313\">0.0000</text>\n",
       "</g>\n",
       "<g clip-path=\"url(#clip3800)\">\n",
       "<text style=\"fill:#000000; fill-opacity:1; font-family:Arial,Helvetica Neue,Helvetica,sans-serif; font-size:12; text-anchor:end;\" transform=\"rotate(0, 45.991, 272.312)\" x=\"45.991\" y=\"272.312\">0.0005</text>\n",
       "</g>\n",
       "<g clip-path=\"url(#clip3800)\">\n",
       "<text style=\"fill:#000000; fill-opacity:1; font-family:Arial,Helvetica Neue,Helvetica,sans-serif; font-size:12; text-anchor:end;\" transform=\"rotate(0, 45.991, 164.31)\" x=\"45.991\" y=\"164.31\">0.0010</text>\n",
       "</g>\n",
       "<g clip-path=\"url(#clip3800)\">\n",
       "<text style=\"fill:#000000; fill-opacity:1; font-family:Arial,Helvetica Neue,Helvetica,sans-serif; font-size:12; text-anchor:end;\" transform=\"rotate(0, 45.991, 56.3081)\" x=\"45.991\" y=\"56.3081\">0.0015</text>\n",
       "</g>\n",
       "<polyline clip-path=\"url(#clip3802)\" style=\"stroke:#009af9; stroke-width:1; stroke-opacity:1; fill:none\" points=\"\n",
       "  51.991,363.077 57.3276,368.867 62.6642,366.551 68.0008,366.551 73.3374,357.288 78.674,358.446 84.0106,356.13 89.3472,359.604 94.6838,352.657 100.02,357.288 \n",
       "  105.357,352.657 110.694,343.394 116.03,348.026 121.367,329.501 126.703,337.605 132.04,346.868 137.377,332.974 142.713,343.394 148.05,321.396 153.387,327.185 \n",
       "  158.723,337.605 164.06,304.028 169.396,315.607 174.733,319.08 180.07,310.975 185.406,294.766 190.743,294.766 196.079,288.977 201.416,254.242 206.753,270.451 \n",
       "  212.089,270.451 217.426,261.189 222.762,257.715 228.099,227.612 233.436,266.978 238.772,260.031 244.109,243.822 249.445,233.401 254.782,220.665 260.119,244.979 \n",
       "  265.455,238.032 270.792,225.296 276.128,192.877 281.465,214.876 286.802,207.929 292.138,209.087 297.475,213.718 302.811,202.14 308.148,202.14 313.485,199.824 \n",
       "  318.821,206.771 324.158,173.194 329.494,176.668 334.831,212.56 340.168,204.456 345.504,176.668 350.841,203.298 356.178,199.824 361.514,195.193 366.851,178.983 \n",
       "  372.187,197.509 377.524,197.509 382.861,202.14 388.197,213.718 393.534,236.875 398.87,227.612 404.207,184.773 409.544,226.454 414.88,199.824 420.217,231.085 \n",
       "  425.553,205.613 430.89,231.085 436.227,226.454 441.563,198.666 446.9,239.19 452.236,241.506 457.573,250.768 462.91,227.612 468.246,254.242 473.583,243.822 \n",
       "  478.919,261.189 484.256,244.979 489.593,276.241 494.929,278.556 500.266,278.556 505.602,283.188 510.939,282.03 516.276,292.45 521.612,300.555 526.949,288.977 \n",
       "  532.286,282.03 537.622,297.081 542.959,288.977 548.295,302.871 553.632,315.607 558.969,294.766 564.305,306.344 569.642,317.922 574.978,332.974 580.315,319.08 \n",
       "  \n",
       "  \"/>\n",
       "<polyline clip-path=\"url(#clip3802)\" style=\"stroke:#e26f46; stroke-width:1; stroke-opacity:1; fill:none\" points=\"\n",
       "  51.991,375.813 57.3276,367.126 62.6642,370.384 68.0008,370.384 73.3374,363.869 78.674,366.041 84.0106,369.298 89.3472,362.783 94.6838,362.783 100.02,358.439 \n",
       "  105.357,350.838 110.694,342.151 116.03,346.495 121.367,350.838 126.703,336.722 132.04,326.949 137.377,325.863 142.713,323.691 148.05,309.575 153.387,313.918 \n",
       "  158.723,294.372 164.06,304.145 169.396,292.201 174.733,260.71 180.07,282.428 185.406,249.851 190.743,274.826 196.079,241.164 201.416,246.594 206.753,225.962 \n",
       "  212.089,204.244 217.426,210.759 222.762,210.759 228.099,170.582 233.436,172.754 238.772,176.011 244.109,179.269 249.445,169.496 254.782,146.692 260.119,144.521 \n",
       "  265.455,143.435 270.792,144.521 276.128,165.152 281.465,131.49 286.802,134.748 292.138,146.692 297.475,135.834 302.811,129.318 308.148,145.607 313.485,109.772 \n",
       "  318.821,129.318 324.158,105.429 329.494,119.545 334.831,162.981 340.168,165.152 345.504,156.465 350.841,179.269 356.178,192.299 361.514,205.33 366.851,180.355 \n",
       "  372.187,183.612 377.524,214.017 382.861,198.815 388.197,212.931 393.534,221.618 398.87,231.391 404.207,246.594 409.544,249.851 414.88,248.765 420.217,262.882 \n",
       "  425.553,265.054 430.89,281.342 436.227,308.489 441.563,300.888 446.9,292.201 452.236,294.372 457.573,319.348 462.91,324.777 468.246,315.004 473.583,318.262 \n",
       "  478.919,324.777 484.256,332.378 489.593,319.348 494.929,334.55 500.266,350.838 505.602,351.924 510.939,345.409 516.276,348.666 521.612,348.666 526.949,346.495 \n",
       "  532.286,350.838 537.622,368.212 542.959,359.525 548.295,367.126 553.632,369.298 558.969,364.955 564.305,370.384 569.642,368.212 574.978,367.126 580.315,368.212 \n",
       "  \n",
       "  \"/>\n",
       "<polyline clip-path=\"url(#clip3802)\" style=\"stroke:#3da44d; stroke-width:1; stroke-opacity:1; fill:none\" points=\"\n",
       "  51.991,372.573 57.3276,373.653 62.6642,375.813 68.0008,373.653 73.3374,372.573 78.674,370.413 84.0106,369.333 89.3472,369.333 94.6838,370.413 100.02,367.172 \n",
       "  105.357,366.092 110.694,361.772 116.03,355.291 121.367,357.451 126.703,343.41 132.04,340.169 137.377,340.169 142.713,331.528 148.05,329.368 153.387,309.926 \n",
       "  158.723,293.724 164.06,303.445 169.396,277.522 174.733,259.16 180.07,242.958 185.406,233.237 190.743,201.913 196.079,204.073 201.416,161.949 206.753,171.67 \n",
       "  212.089,154.388 217.426,138.186 222.762,89.5801 228.099,101.461 233.436,40.9744 238.772,77.6987 244.109,69.0577 249.445,77.6987 254.782,57.1763 260.119,67.9776 \n",
       "  265.455,11.811 270.792,35.5738 276.128,47.4552 281.465,42.0545 286.802,51.7757 292.138,66.8974 297.475,77.6987 302.811,110.102 308.148,75.5385 313.485,75.5385 \n",
       "  318.821,112.263 324.158,136.026 329.494,145.747 334.831,150.067 340.168,160.868 345.504,163.029 350.841,180.311 356.178,197.593 361.514,233.237 366.851,228.916 \n",
       "  372.187,271.041 377.524,265.641 382.861,284.003 388.197,298.044 393.534,300.205 398.87,312.086 404.207,320.727 409.544,305.605 414.88,330.448 420.217,352.051 \n",
       "  425.553,350.971 430.89,338.009 436.227,355.291 441.563,347.73 446.9,363.932 452.236,357.451 457.573,369.333 462.91,367.172 468.246,360.692 473.583,370.413 \n",
       "  478.919,373.653 484.256,374.733 489.593,368.253 494.929,371.493 500.266,372.573 505.602,374.733 510.939,372.573 516.276,372.573 521.612,374.733 526.949,375.813 \n",
       "  532.286,374.733 537.622,374.733 542.959,374.733 548.295,374.733 553.632,375.813 558.969,375.813 564.305,375.813 569.642,375.813 574.978,375.813 580.315,374.733 \n",
       "  \n",
       "  \"/>\n",
       "<polygon clip-path=\"url(#clip3800)\" points=\"\n",
       "489.799,93.171 562.315,93.171 562.315,32.691 489.799,32.691 \n",
       "  \" fill=\"#ffffff\" fill-opacity=\"1\"/>\n",
       "<polyline clip-path=\"url(#clip3800)\" style=\"stroke:#000000; stroke-width:1; stroke-opacity:1; fill:none\" points=\"\n",
       "  489.799,93.171 562.315,93.171 562.315,32.691 489.799,32.691 489.799,93.171 \n",
       "  \"/>\n",
       "<polyline clip-path=\"url(#clip3800)\" style=\"stroke:#009af9; stroke-width:1; stroke-opacity:1; fill:none\" points=\"\n",
       "  495.799,47.811 531.799,47.811 \n",
       "  \"/>\n",
       "<g clip-path=\"url(#clip3800)\">\n",
       "<text style=\"fill:#000000; fill-opacity:1; font-family:Arial,Helvetica Neue,Helvetica,sans-serif; font-size:12; text-anchor:start;\" transform=\"rotate(0, 537.799, 52.311)\" x=\"537.799\" y=\"52.311\">y1</text>\n",
       "</g>\n",
       "<polyline clip-path=\"url(#clip3800)\" style=\"stroke:#e26f46; stroke-width:1; stroke-opacity:1; fill:none\" points=\"\n",
       "  495.799,62.931 531.799,62.931 \n",
       "  \"/>\n",
       "<g clip-path=\"url(#clip3800)\">\n",
       "<text style=\"fill:#000000; fill-opacity:1; font-family:Arial,Helvetica Neue,Helvetica,sans-serif; font-size:12; text-anchor:start;\" transform=\"rotate(0, 537.799, 67.431)\" x=\"537.799\" y=\"67.431\">y2</text>\n",
       "</g>\n",
       "<polyline clip-path=\"url(#clip3800)\" style=\"stroke:#3da44d; stroke-width:1; stroke-opacity:1; fill:none\" points=\"\n",
       "  495.799,78.051 531.799,78.051 \n",
       "  \"/>\n",
       "<g clip-path=\"url(#clip3800)\">\n",
       "<text style=\"fill:#000000; fill-opacity:1; font-family:Arial,Helvetica Neue,Helvetica,sans-serif; font-size:12; text-anchor:start;\" transform=\"rotate(0, 537.799, 82.551)\" x=\"537.799\" y=\"82.551\">y3</text>\n",
       "</g>\n",
       "</svg>\n"
      ]
     },
     "execution_count": 19,
     "metadata": {},
     "output_type": "execute_result"
    }
   ],
   "source": [
    "plot!()"
   ]
  },
  {
   "cell_type": "code",
   "execution_count": 12,
   "metadata": {},
   "outputs": [
    {
     "data": {
      "text/plain": [
       "true"
      ]
     },
     "execution_count": 12,
     "metadata": {},
     "output_type": "execute_result"
    }
   ],
   "source": [
    "# Scale down\n",
    "@result setJobScale(ctx, self(), 0)"
   ]
  },
  {
   "cell_type": "code",
   "execution_count": 13,
   "metadata": {},
   "outputs": [
    {
     "data": {
      "text/plain": [
       "2"
      ]
     },
     "execution_count": 13,
     "metadata": {},
     "output_type": "execute_result"
    }
   ],
   "source": [
    "nworkers()"
   ]
  },
  {
   "cell_type": "code",
   "execution_count": 14,
   "metadata": {},
   "outputs": [
    {
     "ename": "LoadError",
     "evalue": "\u001b[91mUndefVarError: bins not defined\u001b[39m",
     "output_type": "error",
     "traceback": [
      "\u001b[91mUndefVarError: bins not defined\u001b[39m",
      "",
      "Stacktrace:",
      " [1] \u001b[1minclude_string\u001b[22m\u001b[22m\u001b[1m(\u001b[22m\u001b[22m::String, ::String\u001b[1m)\u001b[22m\u001b[22m at \u001b[1m./loading.jl:522\u001b[22m\u001b[22m"
     ]
    },
    {
     "name": "stderr",
     "output_type": "stream",
     "text": [
      "Worker 3 terminated.\n",
      "Worker 2 terminated.\u001b[91mERROR (unhandled task failure): \u001b[91mEOFError: read end of file\u001b[39m\n",
      "\u001b[39m\n",
      "\u001b[91mERROR (unhandled task failure): \u001b[91mEOFError: read end of file\u001b[39m\n",
      "\u001b[39m"
     ]
    }
   ],
   "source": [
    "bins"
   ]
  },
  {
   "cell_type": "code",
   "execution_count": null,
   "metadata": {},
   "outputs": [],
   "source": []
  }
 ],
 "metadata": {
  "kernelspec": {
   "display_name": "Julia 0.6.2",
   "language": "julia",
   "name": "julia-0.6"
  },
  "language_info": {
   "file_extension": ".jl",
   "mimetype": "application/julia",
   "name": "julia",
   "version": "0.6.2"
  }
 },
 "nbformat": 4,
 "nbformat_minor": 2
}
