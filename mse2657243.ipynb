{
 "cells": [
  {
   "cell_type": "markdown",
   "metadata": {},
   "source": [
    "# A Prime inequality\n",
    "\n",
    "Let $r \\in \\mathbb{N}$ and $P_r$ be the $r$th prime\n",
    "\n",
    "If $m,n \\in \\mathbb{N}$ then\n",
    "$$p_m p_n \\geq p_{m+n}.$$"
   ]
  },
  {
   "cell_type": "markdown",
   "metadata": {},
   "source": [
    "From [another related question](https://math.stackexchange.com/q/1270814/290189),\n",
    "$$n(\\ln n+\\ln \\ln n)>p_n>n(\\ln n+\\ln \\ln n-1).$$"
   ]
  },
  {
   "cell_type": "code",
   "execution_count": 2,
   "metadata": {},
   "outputs": [
    {
     "name": "stderr",
     "output_type": "stream",
     "text": [
      "\u001b[1m\u001b[36mINFO: \u001b[39m\u001b[22m\u001b[36mRecompiling stale cache file C:\\Users\\Owner\\.julia\\lib\\v0.6\\Primes.ji for module Primes.\n",
      "\u001b[39m"
     ]
    }
   ],
   "source": [
    "using Primes"
   ]
  },
  {
   "cell_type": "code",
   "execution_count": 3,
   "metadata": {},
   "outputs": [
    {
     "data": {
      "text/plain": [
       "false"
      ]
     },
     "execution_count": 3,
     "metadata": {},
     "output_type": "execute_result"
    }
   ],
   "source": [
    "isprime(6)"
   ]
  },
  {
   "cell_type": "code",
   "execution_count": 19,
   "metadata": {},
   "outputs": [],
   "source": [
    "plist = primes(10^6);"
   ]
  },
  {
   "cell_type": "code",
   "execution_count": 20,
   "metadata": {},
   "outputs": [],
   "source": [
    "for i in 1:size(plist)[1], j in 1:size(plist)[1]-i\n",
    "    if plist[i] * plist[j] <= plist[i+j]\n",
    "        print(\"i = $(i), j = $(j), p_i = $(plist[i]), p_j = $(plist[j])\")\n",
    "        break\n",
    "    end\n",
    "end"
   ]
  },
  {
   "cell_type": "code",
   "execution_count": 25,
   "metadata": {},
   "outputs": [
    {
     "data": {
      "text/plain": [
       "1.8136856793399891"
      ]
     },
     "metadata": {},
     "output_type": "display_data"
    },
    {
     "data": {
      "text/plain": [
       "6.851714484392686"
      ]
     },
     "metadata": {},
     "output_type": "display_data"
    }
   ],
   "source": [
    "m,n = 2,2\n",
    "display(m*n*(log(m)+log(log(m))-1)*(log(n)+log(log(n))-1))\n",
    "display((m+n)*(log(m+n)+log(log(m+n))))"
   ]
  }
 ],
 "metadata": {
  "kernelspec": {
   "display_name": "Julia 0.6.2",
   "language": "julia",
   "name": "julia-0.6"
  },
  "language_info": {
   "file_extension": ".jl",
   "mimetype": "application/julia",
   "name": "julia",
   "version": "0.6.2"
  }
 },
 "nbformat": 4,
 "nbformat_minor": 2
}
