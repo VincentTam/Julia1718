{
 "cells": [
  {
   "cell_type": "markdown",
   "metadata": {},
   "source": [
    "Show that $$1+u - \\sqrt{1+2u} \\ge \\frac{u^2}{2(1+u)} \\quad \\forall u \\in \\Bbb{R}_+.$$"
   ]
  },
  {
   "cell_type": "markdown",
   "metadata": {},
   "source": [
    "Try Maclaurin series on special case $\\lvert u \\rvert < \\frac12$."
   ]
  },
  {
   "cell_type": "markdown",
   "metadata": {},
   "source": [
    "$$ 1+u-\\sqrt{1+2u}=\\sum_{n=2}^\\infty \\frac{(-1)^n (2n-3)!}{n!(n-2)! 2^{n-2}} u^n\n",
    "= \\bbox[5px,border:1px solid black]{u^2 \\sum_{n=0}^\\infty \\frac{(-1)^n (2n+1)!}{(n+2)!n! 2^n} u^n}$$"
   ]
  },
  {
   "cell_type": "markdown",
   "metadata": {},
   "source": [
    "Observe that $a_{n+1}/a_n = -(2n+3)/(n+3)$, and the denominator is a power of $2$.  (Justification by mod and floor function on two cases.)"
   ]
  },
  {
   "cell_type": "code",
   "execution_count": null,
   "metadata": {},
   "outputs": [],
   "source": []
  }
 ],
 "metadata": {
  "kernelspec": {
   "display_name": "Julia 0.6.0",
   "language": "julia",
   "name": "julia-0.6"
  },
  "language_info": {
   "file_extension": ".jl",
   "mimetype": "application/julia",
   "name": "julia",
   "version": "0.6.0"
  }
 },
 "nbformat": 4,
 "nbformat_minor": 2
}
