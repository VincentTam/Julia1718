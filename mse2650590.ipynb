{
 "cells": [
  {
   "cell_type": "code",
   "execution_count": 1,
   "metadata": {},
   "outputs": [],
   "source": [
    "using Plots"
   ]
  },
  {
   "cell_type": "code",
   "execution_count": 23,
   "metadata": {},
   "outputs": [
    {
     "name": "stdout",
     "output_type": "stream",
     "text": [
      "Pkg.add(\"PGFPlots\")\n",
      "Pkg.build(\"PGFPlots\")\n"
     ]
    },
    {
     "name": "stderr",
     "output_type": "stream",
     "text": [
      "\u001b[1m\u001b[33mWARNING: \u001b[39m\u001b[22m\u001b[33mCouldn't initialize pgfplots.  (might need to install it?)\u001b[39m\n",
      "\u001b[1m\u001b[36mINFO: \u001b[39m\u001b[22m\u001b[36mTo do a standard install of pgfplots, copy and run this:\n",
      "\n",
      "\u001b[39m"
     ]
    },
    {
     "name": "stdout",
     "output_type": "stream",
     "text": [
      "\n",
      "\n"
     ]
    },
    {
     "ename": "LoadError",
     "evalue": "\u001b[91mArgumentError: Module PGFPlots not found in current path.\nRun `Pkg.add(\"PGFPlots\")` to install the PGFPlots package.\u001b[39m",
     "output_type": "error",
     "traceback": [
      "\u001b[91mArgumentError: Module PGFPlots not found in current path.\nRun `Pkg.add(\"PGFPlots\")` to install the PGFPlots package.\u001b[39m",
      ""
     ]
    }
   ],
   "source": [
    "N = 100  # no of intervals\n",
    "t = linspace(0.0, 1.0, N+1)\n",
    "z1t = t .* log.(t)\n",
    "pgfplots()\n",
    "plot(title = \"Graph of a ln(a)\", xlabel = \"a\")\n",
    "plot!(t, z1t, label=\"a ln(a)\")"
   ]
  },
  {
   "cell_type": "markdown",
   "metadata": {},
   "source": [
    "I *didn't* understand Thomas Andrews' comment yesterday, but this graph reminds me that this is due to the 1st derivative test.\n",
    "\\begin{align} f(t) &= t \\log t \\\\ f'(t) &= \\log t + 1 = 0 \\\\ f'(t) &= 0 \\iff t = e^{-1} \\end{align}"
   ]
  },
  {
   "cell_type": "markdown",
   "metadata": {},
   "source": [
    "[`lambertw(z)`](https://github.com/jlapeyre/LambertW.jl) test plots"
   ]
  },
  {
   "cell_type": "code",
   "execution_count": 8,
   "metadata": {},
   "outputs": [],
   "source": [
    "using LambertW"
   ]
  },
  {
   "cell_type": "markdown",
   "metadata": {},
   "source": [
    "$W(x)$ as a real-valued function is defined for $x > e^{-1}$ because of the result of the first derivative test of $x \\mapsto x e^x$, whose range represents the domain of $W(x)$."
   ]
  },
  {
   "cell_type": "code",
   "execution_count": null,
   "metadata": {},
   "outputs": [
    {
     "name": "stderr",
     "output_type": "stream",
     "text": [
      "\u001b[1m\u001b[36mINFO: \u001b[39m\u001b[22m\u001b[36mPrecompiling module Contour.\n",
      "\u001b[39m\u001b[1m\u001b[36mINFO: \u001b[39m\u001b[22m\u001b[36mPrecompiling module Discretizers.\n",
      "\u001b[39m\u001b[1m\u001b[36mINFO: \u001b[39m\u001b[22m\u001b[36mPrecompiling module DataFrames.\n",
      "\u001b[39m\u001b[1m\u001b[36mINFO: \u001b[39m\u001b[22m\u001b[36mPrecompiling module Images.\n",
      "\u001b[39mWARNING: --output requested, but no modules defined during run\n",
      "\u001b[1m\u001b[33mWARNING: \u001b[39m\u001b[22m\u001b[33mThe call to compilecache failed to create a usable precompiled cache file for module FFTW. Got:\u001b[39m\n",
      "\u001b[1m\u001b[33mWARNING: \u001b[39m\u001b[22m\u001b[33mCache file \"C:\\Users\\Owner\\.julia\\lib\\v0.6\\FFTW.ji\" not found.\u001b[39m\n",
      "WARNING: eval from module Main to ImageCore:    \n",
      "Expr(:call, Expr(:., :Base, :include_from_node1)::Any, \"C:\\Users\\Owner\\.julia\\v0.6\\FFTW\\src\\FFTW.jl\")::Any\n",
      "  ** incremental compilation may be broken for this module **\n",
      "\n",
      "WARNING: --output requested, but no modules defined during run\n",
      "\u001b[1m\u001b[33mWARNING: \u001b[39m\u001b[22m\u001b[33mThe call to compilecache failed to create a usable precompiled cache file for module FFTW. Got:\u001b[39m\n",
      "\u001b[1m\u001b[33mWARNING: \u001b[39m\u001b[22m\u001b[33mCache file \"C:\\Users\\Owner\\.julia\\lib\\v0.6\\FFTW.ji\" not found.\u001b[39m\n",
      "WARNING: eval from module Main to FFTViews:    \n",
      "Expr(:call, Expr(:., :Base, :include_from_node1)::Any, \"C:\\Users\\Owner\\.julia\\v0.6\\FFTW\\src\\FFTW.jl\")::Any\n",
      "  ** incremental compilation may be broken for this module **\n",
      "\n",
      "\u001b[1m\u001b[36mINFO: \u001b[39m\u001b[22m\u001b[36mPrecompiling module TikzPictures.\n",
      "\u001b[39m"
     ]
    }
   ],
   "source": [
    "x = linspace(-exp(-1), 2, N + 1)\n",
    "x1 = x[x .< 0]\n",
    "w0x = lambertw.(x)\n",
    "w1x = lambertw.(x1, -1)\n",
    "plot(title = \"Graph of Lambert-W function\", xlabel = \"x\", aspectratio = 1)\n",
    "plot!(x, w0x, label=\"upper branch W_0\", lw=2)\n",
    "plot!(x1, w1x, label=\"lower branch W_{-1}\", lw=2)"
   ]
  },
  {
   "cell_type": "code",
   "execution_count": null,
   "metadata": {},
   "outputs": [],
   "source": []
  }
 ],
 "metadata": {
  "kernelspec": {
   "display_name": "Julia 0.6.2",
   "language": "julia",
   "name": "julia-0.6"
  },
  "language_info": {
   "file_extension": ".jl",
   "mimetype": "application/julia",
   "name": "julia",
   "version": "0.6.2"
  }
 },
 "nbformat": 4,
 "nbformat_minor": 2
}
