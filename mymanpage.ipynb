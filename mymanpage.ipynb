{
 "cells": [
  {
   "cell_type": "markdown",
   "metadata": {},
   "source": [
    "# New commands\n",
    "\n",
    "This is a quick reference on commands for which I've searched the manual."
   ]
  },
  {
   "cell_type": "code",
   "execution_count": 1,
   "metadata": {},
   "outputs": [
    {
     "name": "stdout",
     "output_type": "stream",
     "text": [
      "search: \u001b[1mo\u001b[22m\u001b[1mp\u001b[22m\u001b[1me\u001b[22m\u001b[1mn\u001b[22m is\u001b[1mo\u001b[22m\u001b[1mp\u001b[22m\u001b[1me\u001b[22m\u001b[1mn\u001b[22m m\u001b[1mo\u001b[22mdule_\u001b[1mp\u001b[22mar\u001b[1me\u001b[22m\u001b[1mn\u001b[22mt C\u001b[1mo\u001b[22mm\u001b[1mp\u001b[22mosit\u001b[1me\u001b[22mExceptio\u001b[1mn\u001b[22m \u001b[1mo\u001b[22m\u001b[1mp\u001b[22m\u001b[1me\u001b[22mrm \u001b[1mO\u001b[22m\u001b[1mp\u001b[22m\u001b[1me\u001b[22mrators dr\u001b[1mo\u001b[22m\u001b[1mp\u001b[22mz\u001b[1me\u001b[22mros\n",
      "\n"
     ]
    },
    {
     "data": {
      "text/markdown": [
       "```\n",
       "open(filename::AbstractString, [read::Bool, write::Bool, create::Bool, truncate::Bool, append::Bool]) -> IOStream\n",
       "```\n",
       "\n",
       "Open a file in a mode specified by five boolean arguments. The default is to open files for reading only. Returns a stream for accessing the file.\n",
       "\n",
       "```\n",
       "open(filename::AbstractString, [mode::AbstractString]) -> IOStream\n",
       "```\n",
       "\n",
       "Alternate syntax for open, where a string-based mode specifier is used instead of the five booleans. The values of `mode` correspond to those from `fopen(3)` or Perl `open`, and are equivalent to setting the following boolean groups:\n",
       "\n",
       "| Mode | Description                   |\n",
       "|:---- |:----------------------------- |\n",
       "| r    | read                          |\n",
       "| r+   | read, write                   |\n",
       "| w    | write, create, truncate       |\n",
       "| w+   | read, write, create, truncate |\n",
       "| a    | write, create, append         |\n",
       "| a+   | read, write, create, append   |\n",
       "\n",
       "```\n",
       "open(f::Function, args...)\n",
       "```\n",
       "\n",
       "Apply the function `f` to the result of `open(args...)` and close the resulting file descriptor upon completion.\n",
       "\n",
       "**Example**: `open(readstring, \"file.txt\")`\n",
       "\n",
       "```\n",
       "open(command, mode::AbstractString=\"r\", stdio=DevNull)\n",
       "```\n",
       "\n",
       "Start running `command` asynchronously, and return a tuple `(stream,process)`.  If `mode` is `\"r\"`, then `stream` reads from the process's standard output and `stdio` optionally specifies the process's standard input stream.  If `mode` is `\"w\"`, then `stream` writes to the process's standard input and `stdio` optionally specifies the process's standard output stream.\n",
       "\n",
       "```\n",
       "open(f::Function, command, mode::AbstractString=\"r\", stdio=DevNull)\n",
       "```\n",
       "\n",
       "Similar to `open(command, mode, stdio)`, but calls `f(stream)` on the resulting read or write stream, then closes the stream and waits for the process to complete.  Returns the value returned by `f`.\n"
      ],
      "text/plain": [
       "```\n",
       "open(filename::AbstractString, [read::Bool, write::Bool, create::Bool, truncate::Bool, append::Bool]) -> IOStream\n",
       "```\n",
       "\n",
       "Open a file in a mode specified by five boolean arguments. The default is to open files for reading only. Returns a stream for accessing the file.\n",
       "\n",
       "```\n",
       "open(filename::AbstractString, [mode::AbstractString]) -> IOStream\n",
       "```\n",
       "\n",
       "Alternate syntax for open, where a string-based mode specifier is used instead of the five booleans. The values of `mode` correspond to those from `fopen(3)` or Perl `open`, and are equivalent to setting the following boolean groups:\n",
       "\n",
       "| Mode | Description                   |\n",
       "|:---- |:----------------------------- |\n",
       "| r    | read                          |\n",
       "| r+   | read, write                   |\n",
       "| w    | write, create, truncate       |\n",
       "| w+   | read, write, create, truncate |\n",
       "| a    | write, create, append         |\n",
       "| a+   | read, write, create, append   |\n",
       "\n",
       "```\n",
       "open(f::Function, args...)\n",
       "```\n",
       "\n",
       "Apply the function `f` to the result of `open(args...)` and close the resulting file descriptor upon completion.\n",
       "\n",
       "**Example**: `open(readstring, \"file.txt\")`\n",
       "\n",
       "```\n",
       "open(command, mode::AbstractString=\"r\", stdio=DevNull)\n",
       "```\n",
       "\n",
       "Start running `command` asynchronously, and return a tuple `(stream,process)`.  If `mode` is `\"r\"`, then `stream` reads from the process's standard output and `stdio` optionally specifies the process's standard input stream.  If `mode` is `\"w\"`, then `stream` writes to the process's standard input and `stdio` optionally specifies the process's standard output stream.\n",
       "\n",
       "```\n",
       "open(f::Function, command, mode::AbstractString=\"r\", stdio=DevNull)\n",
       "```\n",
       "\n",
       "Similar to `open(command, mode, stdio)`, but calls `f(stream)` on the resulting read or write stream, then closes the stream and waits for the process to complete.  Returns the value returned by `f`.\n"
      ]
     },
     "execution_count": 1,
     "metadata": {},
     "output_type": "execute_result"
    }
   ],
   "source": [
    "?open"
   ]
  }
 ],
 "metadata": {
  "kernelspec": {
   "display_name": "Julia 0.6.2",
   "language": "julia",
   "name": "julia-0.6"
  },
  "language_info": {
   "file_extension": ".jl",
   "mimetype": "application/julia",
   "name": "julia",
   "version": "0.6.2"
  }
 },
 "nbformat": 4,
 "nbformat_minor": 2
}
