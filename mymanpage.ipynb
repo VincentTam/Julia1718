{
 "cells": [
  {
   "cell_type": "markdown",
   "metadata": {},
   "source": [
    "# New commands\n",
    "\n",
    "This is a quick reference on commands for which I've searched the manual."
   ]
  },
  {
   "cell_type": "code",
   "execution_count": 1,
   "metadata": {},
   "outputs": [
    {
     "name": "stdout",
     "output_type": "stream",
     "text": [
      "search: \u001b[1mo\u001b[22m\u001b[1mp\u001b[22m\u001b[1me\u001b[22m\u001b[1mn\u001b[22m is\u001b[1mo\u001b[22m\u001b[1mp\u001b[22m\u001b[1me\u001b[22m\u001b[1mn\u001b[22m m\u001b[1mo\u001b[22mdule_\u001b[1mp\u001b[22mar\u001b[1me\u001b[22m\u001b[1mn\u001b[22mt C\u001b[1mo\u001b[22mm\u001b[1mp\u001b[22mosit\u001b[1me\u001b[22mExceptio\u001b[1mn\u001b[22m \u001b[1mo\u001b[22m\u001b[1mp\u001b[22m\u001b[1me\u001b[22mrm \u001b[1mO\u001b[22m\u001b[1mp\u001b[22m\u001b[1me\u001b[22mrators dr\u001b[1mo\u001b[22m\u001b[1mp\u001b[22mz\u001b[1me\u001b[22mros\n",
      "\n"
     ]
    },
    {
     "data": {
      "text/markdown": [
       "```\n",
       "open(filename::AbstractString, [read::Bool, write::Bool, create::Bool, truncate::Bool, append::Bool]) -> IOStream\n",
       "```\n",
       "\n",
       "Open a file in a mode specified by five boolean arguments. The default is to open files for reading only. Returns a stream for accessing the file.\n",
       "\n",
       "```\n",
       "open(filename::AbstractString, [mode::AbstractString]) -> IOStream\n",
       "```\n",
       "\n",
       "Alternate syntax for open, where a string-based mode specifier is used instead of the five booleans. The values of `mode` correspond to those from `fopen(3)` or Perl `open`, and are equivalent to setting the following boolean groups:\n",
       "\n",
       "| Mode | Description                   |\n",
       "|:---- |:----------------------------- |\n",
       "| r    | read                          |\n",
       "| r+   | read, write                   |\n",
       "| w    | write, create, truncate       |\n",
       "| w+   | read, write, create, truncate |\n",
       "| a    | write, create, append         |\n",
       "| a+   | read, write, create, append   |\n",
       "\n",
       "```\n",
       "open(f::Function, args...)\n",
       "```\n",
       "\n",
       "Apply the function `f` to the result of `open(args...)` and close the resulting file descriptor upon completion.\n",
       "\n",
       "**Example**: `open(readstring, \"file.txt\")`\n",
       "\n",
       "```\n",
       "open(command, mode::AbstractString=\"r\", stdio=DevNull)\n",
       "```\n",
       "\n",
       "Start running `command` asynchronously, and return a tuple `(stream,process)`.  If `mode` is `\"r\"`, then `stream` reads from the process's standard output and `stdio` optionally specifies the process's standard input stream.  If `mode` is `\"w\"`, then `stream` writes to the process's standard input and `stdio` optionally specifies the process's standard output stream.\n",
       "\n",
       "```\n",
       "open(f::Function, command, mode::AbstractString=\"r\", stdio=DevNull)\n",
       "```\n",
       "\n",
       "Similar to `open(command, mode, stdio)`, but calls `f(stream)` on the resulting read or write stream, then closes the stream and waits for the process to complete.  Returns the value returned by `f`.\n"
      ],
      "text/plain": [
       "```\n",
       "open(filename::AbstractString, [read::Bool, write::Bool, create::Bool, truncate::Bool, append::Bool]) -> IOStream\n",
       "```\n",
       "\n",
       "Open a file in a mode specified by five boolean arguments. The default is to open files for reading only. Returns a stream for accessing the file.\n",
       "\n",
       "```\n",
       "open(filename::AbstractString, [mode::AbstractString]) -> IOStream\n",
       "```\n",
       "\n",
       "Alternate syntax for open, where a string-based mode specifier is used instead of the five booleans. The values of `mode` correspond to those from `fopen(3)` or Perl `open`, and are equivalent to setting the following boolean groups:\n",
       "\n",
       "| Mode | Description                   |\n",
       "|:---- |:----------------------------- |\n",
       "| r    | read                          |\n",
       "| r+   | read, write                   |\n",
       "| w    | write, create, truncate       |\n",
       "| w+   | read, write, create, truncate |\n",
       "| a    | write, create, append         |\n",
       "| a+   | read, write, create, append   |\n",
       "\n",
       "```\n",
       "open(f::Function, args...)\n",
       "```\n",
       "\n",
       "Apply the function `f` to the result of `open(args...)` and close the resulting file descriptor upon completion.\n",
       "\n",
       "**Example**: `open(readstring, \"file.txt\")`\n",
       "\n",
       "```\n",
       "open(command, mode::AbstractString=\"r\", stdio=DevNull)\n",
       "```\n",
       "\n",
       "Start running `command` asynchronously, and return a tuple `(stream,process)`.  If `mode` is `\"r\"`, then `stream` reads from the process's standard output and `stdio` optionally specifies the process's standard input stream.  If `mode` is `\"w\"`, then `stream` writes to the process's standard input and `stdio` optionally specifies the process's standard output stream.\n",
       "\n",
       "```\n",
       "open(f::Function, command, mode::AbstractString=\"r\", stdio=DevNull)\n",
       "```\n",
       "\n",
       "Similar to `open(command, mode, stdio)`, but calls `f(stream)` on the resulting read or write stream, then closes the stream and waits for the process to complete.  Returns the value returned by `f`.\n"
      ]
     },
     "execution_count": 1,
     "metadata": {},
     "output_type": "execute_result"
    }
   ],
   "source": [
    "?open"
   ]
  },
  {
   "cell_type": "code",
   "execution_count": 1,
   "metadata": {},
   "outputs": [],
   "source": [
    "using SymPy"
   ]
  },
  {
   "cell_type": "code",
   "execution_count": 4,
   "metadata": {},
   "outputs": [
    {
     "name": "stdout",
     "output_type": "stream",
     "text": [
      "search: \u001b[1ms\u001b[22m\u001b[1mo\u001b[22m\u001b[1ml\u001b[22m\u001b[1mv\u001b[22m\u001b[1me\u001b[22m \u001b[1ms\u001b[22m\u001b[1mo\u001b[22m\u001b[1ml\u001b[22m\u001b[1mv\u001b[22m\u001b[1me\u001b[22mset \u001b[1ms\u001b[22m\u001b[1mo\u001b[22m\u001b[1ml\u001b[22m\u001b[1mv\u001b[22m\u001b[1me\u001b[22mset_real \u001b[1ms\u001b[22m\u001b[1mo\u001b[22m\u001b[1ml\u001b[22m\u001b[1mv\u001b[22m\u001b[1me\u001b[22mset_complex \u001b[1ms\u001b[22m\u001b[1mo\u001b[22m\u001b[1ml\u001b[22m\u001b[1mv\u001b[22m\u001b[1me\u001b[22m_poly_system n\u001b[1ms\u001b[22m\u001b[1mo\u001b[22m\u001b[1ml\u001b[22m\u001b[1mv\u001b[22m\u001b[1me\u001b[22m\n",
      "\n"
     ]
    },
    {
     "data": {
      "text/markdown": [
       "Solve an expression for any zeros or a system of expressions passed a vector.\n",
       "\n",
       "Examples:\n",
       "\n",
       "```\n",
       "x,y, a,b,c = symbols(\"x, y, a, b, c\", real=true)\n",
       "solve(x^2 - x + 1)\n",
       "solve(a*x^2  + b*x + c, x)\n",
       "solve([x - y - 1, x + y - 2], [x,y])\n",
       "solve([x - y - 1, x + y - 2])   # same as above, as it will assume all free variables.\n",
       "```\n",
       "\n",
       "Can solve a single expression for a lone free variable, or if a variable is passed as a second argument, solve for that variable in terms of the others.\n",
       "\n",
       "When passed a vector of expressions, `solve` looks for solutions to the system of m equations with n unknowns, where the equations and unknowns are passed as `Vector{Sym}`. If the unknowns are not specified, all the free symbols will be used.\n",
       "\n",
       "The `SymPy` docs say this about `solve`:\n",
       "\n",
       "> Note If solve returns [] or raises NotImplementedError, it doesn’t mean that the equation has no solutions. It just means that it couldn’t find any. Often this means that the solutions cannot be represented symbolically. For example, the equation `x=cos(x)` has a solution, but it cannot be represented symbolically using standard functions.\n",
       ">\n",
       "> In fact, solve makes no guarantees whatsoever about the completeness of the solutions it finds. Much of solve is heuristics, which may find some solutions to an equation or system of equations, but not all of them.\n",
       "\n",
       "\n",
       "The return value depends on the inputs:\n",
       "\n",
       "  * If there is one equation with one specified variable (either explicit, or because `free_symbols` returns only one variable), the return value is an array of solutions.\n",
       "  * Otherwise, if there is a unique solution found a dictionary is returned.\n",
       "  * Otherwise, if there is 0 or more than one solution found, an array of dictionaries is returned.\n",
       "\n",
       "[Note: this may change. The current arrangement is perhaps more convenient, but having a consistent return type has other advantages.]\n",
       "\n",
       "Note: The individual components of the array display more nicely than the array.\n",
       "\n",
       "Reference: [SymPy Docs](http://docs.sympy.org/0.7.5/modules/solvers/solvers.html#algebraic-equations)\n"
      ],
      "text/plain": [
       "Solve an expression for any zeros or a system of expressions passed a vector.\n",
       "\n",
       "Examples:\n",
       "\n",
       "```\n",
       "x,y, a,b,c = symbols(\"x, y, a, b, c\", real=true)\n",
       "solve(x^2 - x + 1)\n",
       "solve(a*x^2  + b*x + c, x)\n",
       "solve([x - y - 1, x + y - 2], [x,y])\n",
       "solve([x - y - 1, x + y - 2])   # same as above, as it will assume all free variables.\n",
       "```\n",
       "\n",
       "Can solve a single expression for a lone free variable, or if a variable is passed as a second argument, solve for that variable in terms of the others.\n",
       "\n",
       "When passed a vector of expressions, `solve` looks for solutions to the system of m equations with n unknowns, where the equations and unknowns are passed as `Vector{Sym}`. If the unknowns are not specified, all the free symbols will be used.\n",
       "\n",
       "The `SymPy` docs say this about `solve`:\n",
       "\n",
       "> Note If solve returns [] or raises NotImplementedError, it doesn’t mean that the equation has no solutions. It just means that it couldn’t find any. Often this means that the solutions cannot be represented symbolically. For example, the equation `x=cos(x)` has a solution, but it cannot be represented symbolically using standard functions.\n",
       ">\n",
       "> In fact, solve makes no guarantees whatsoever about the completeness of the solutions it finds. Much of solve is heuristics, which may find some solutions to an equation or system of equations, but not all of them.\n",
       "\n",
       "\n",
       "The return value depends on the inputs:\n",
       "\n",
       "  * If there is one equation with one specified variable (either explicit, or because `free_symbols` returns only one variable), the return value is an array of solutions.\n",
       "  * Otherwise, if there is a unique solution found a dictionary is returned.\n",
       "  * Otherwise, if there is 0 or more than one solution found, an array of dictionaries is returned.\n",
       "\n",
       "[Note: this may change. The current arrangement is perhaps more convenient, but having a consistent return type has other advantages.]\n",
       "\n",
       "Note: The individual components of the array display more nicely than the array.\n",
       "\n",
       "Reference: [SymPy Docs](http://docs.sympy.org/0.7.5/modules/solvers/solvers.html#algebraic-equations)\n"
      ]
     },
     "execution_count": 4,
     "metadata": {},
     "output_type": "execute_result"
    }
   ],
   "source": [
    "?solve"
   ]
  },
  {
   "cell_type": "code",
   "execution_count": 2,
   "metadata": {},
   "outputs": [
    {
     "name": "stdout",
     "output_type": "stream",
     "text": [
      "search: \u001b[1mc\u001b[22m\u001b[1ma\u001b[22m\u001b[1mn\u001b[22m\u001b[1mc\u001b[22m\u001b[1me\u001b[22m\u001b[1ml\u001b[22m\n",
      "\n"
     ]
    },
    {
     "data": {
      "text/markdown": [
       "`cancel`: a SymPy function. The SymPy documentation can be found through: http://docs.sympy.org/latest/search.html?q=cancel\n"
      ],
      "text/plain": [
       "`cancel`: a SymPy function. The SymPy documentation can be found through: http://docs.sympy.org/latest/search.html?q=cancel\n"
      ]
     },
     "execution_count": 2,
     "metadata": {},
     "output_type": "execute_result"
    }
   ],
   "source": [
    "?cancel"
   ]
  }
 ],
 "metadata": {
  "kernelspec": {
   "display_name": "Julia 1.0.1",
   "language": "julia",
   "name": "julia-1.0"
  },
  "language_info": {
   "file_extension": ".jl",
   "mimetype": "application/julia",
   "name": "julia",
   "version": "1.0.1"
  }
 },
 "nbformat": 4,
 "nbformat_minor": 2
}
