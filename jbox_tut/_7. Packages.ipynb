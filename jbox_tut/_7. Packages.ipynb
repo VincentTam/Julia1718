{
 "cells": [
  {
   "cell_type": "markdown",
   "metadata": {
    "collapsed": true
   },
   "source": [
    "# Packages\n",
    "\n",
    "Julia has 1686 registered packages, making packages a huge part of the Julia ecosystem.\n",
    "\n",
    "To see all available packages, check out\n",
    "\n",
    "https://pkg.julialang.org/\n",
    "or\n",
    "https://juliaobserver.com/\n",
    "\n",
    "For now, let's learn how to use a package."
   ]
  },
  {
   "cell_type": "markdown",
   "metadata": {},
   "source": [
    "The first time you use a package on a given Julia installation, you need to explicitly add it:"
   ]
  },
  {
   "cell_type": "code",
   "execution_count": 2,
   "metadata": {},
   "outputs": [
    {
     "ename": "UndefVarError",
     "evalue": "UndefVarError: Pkg not defined",
     "output_type": "error",
     "traceback": [
      "UndefVarError: Pkg not defined",
      "",
      "Stacktrace:",
      " [1] top-level scope at In[2]:1"
     ]
    }
   ],
   "source": [
    "Pkg.add(\"Example\")"
   ]
  },
  {
   "cell_type": "markdown",
   "metadata": {},
   "source": [
    "Every time you use Julia (start a new session at the REPL, or open a notebook for the first time, for example), you load the package with the `using` keyword"
   ]
  },
  {
   "cell_type": "code",
   "execution_count": 3,
   "metadata": {},
   "outputs": [
    {
     "ename": "ArgumentError",
     "evalue": "ArgumentError: Package Example not found in current path:\n- Run `import Pkg; Pkg.add(\"Example\")` to install the Example package.\n",
     "output_type": "error",
     "traceback": [
      "ArgumentError: Package Example not found in current path:\n- Run `import Pkg; Pkg.add(\"Example\")` to install the Example package.\n",
      "",
      "Stacktrace:",
      " [1] require(::Module, ::Symbol) at ./loading.jl:820",
      " [2] top-level scope at In[3]:1"
     ]
    }
   ],
   "source": [
    "using Example"
   ]
  },
  {
   "cell_type": "markdown",
   "metadata": {},
   "source": [
    "In the source code of `Example.jl` at\n",
    "https://github.com/JuliaLang/Example.jl/blob/master/src/Example.jl\n",
    "we see the following function declared\n",
    "\n",
    "```\n",
    "hello(who::String) = \"Hello, $who\"\n",
    "```\n",
    "\n",
    "Having loaded `Example`, we should now be able to call `hello`"
   ]
  },
  {
   "cell_type": "code",
   "execution_count": 2,
   "metadata": {},
   "outputs": [
    {
     "data": {
      "text/plain": [
       "\"Hello, it's me. I was wondering if after all these years you'd like to meet.\""
      ]
     },
     "execution_count": 2,
     "metadata": {},
     "output_type": "execute_result"
    }
   ],
   "source": [
    "hello(\"it's me. I was wondering if after all these years you'd like to meet.\")"
   ]
  },
  {
   "cell_type": "markdown",
   "metadata": {},
   "source": [
    "Now let's play with the Colors package"
   ]
  },
  {
   "cell_type": "code",
   "execution_count": null,
   "metadata": {
    "collapsed": true
   },
   "outputs": [],
   "source": [
    "#Pkg.add(\"Colors\")"
   ]
  },
  {
   "cell_type": "code",
   "execution_count": 3,
   "metadata": {},
   "outputs": [],
   "source": [
    "using Colors"
   ]
  },
  {
   "cell_type": "markdown",
   "metadata": {},
   "source": [
    "Let's create a palette of 100 different colors"
   ]
  },
  {
   "cell_type": "code",
   "execution_count": 4,
   "metadata": {},
   "outputs": [
    {
     "data": {
      "image/svg+xml": [
       "<?xml version=\"1.0\" encoding=\"UTF-8\"?>\n",
       "<!DOCTYPE svg PUBLIC \"-//W3C//DTD SVG 1.1//EN\"\n",
       " \"http://www.w3.org/Graphics/SVG/1.1/DTD/svg11.dtd\">\n",
       "<svg xmlns=\"http://www.w3.org/2000/svg\" version=\"1.1\"\n",
       "     width=\"180.0mm\" height=\"24.999999999999996mm\"\n",
       "     shape-rendering=\"crispEdges\">\n",
       "<rect x=\"0.0mm\" y=\"0.0mm\"\n",
       "      width=\"1.8mm\" height=\"23.999999999999996mm\"\n",
       "      fill=\"#000000\" stroke=\"none\" />\n",
       "<rect x=\"1.8mm\" y=\"0.0mm\"\n",
       "      width=\"1.8mm\" height=\"23.999999999999996mm\"\n",
       "      fill=\"#FFFF62\" stroke=\"none\" />\n",
       "<rect x=\"3.6mm\" y=\"0.0mm\"\n",
       "      width=\"1.8mm\" height=\"23.999999999999996mm\"\n",
       "      fill=\"#FF9FFF\" stroke=\"none\" />\n",
       "<rect x=\"5.4mm\" y=\"0.0mm\"\n",
       "      width=\"1.8mm\" height=\"23.999999999999996mm\"\n",
       "      fill=\"#00D6FF\" stroke=\"none\" />\n",
       "<rect x=\"7.2mm\" y=\"0.0mm\"\n",
       "      width=\"1.8mm\" height=\"23.999999999999996mm\"\n",
       "      fill=\"#D74400\" stroke=\"none\" />\n",
       "<rect x=\"9.0mm\" y=\"0.0mm\"\n",
       "      width=\"1.8mm\" height=\"23.999999999999996mm\"\n",
       "      fill=\"#008029\" stroke=\"none\" />\n",
       "<rect x=\"10.8mm\" y=\"0.0mm\"\n",
       "      width=\"1.8mm\" height=\"23.999999999999996mm\"\n",
       "      fill=\"#005FD5\" stroke=\"none\" />\n",
       "<rect x=\"12.6mm\" y=\"0.0mm\"\n",
       "      width=\"1.8mm\" height=\"23.999999999999996mm\"\n",
       "      fill=\"#930068\" stroke=\"none\" />\n",
       "<rect x=\"14.4mm\" y=\"0.0mm\"\n",
       "      width=\"1.8mm\" height=\"23.999999999999996mm\"\n",
       "      fill=\"#FFCBB5\" stroke=\"none\" />\n",
       "<rect x=\"16.2mm\" y=\"0.0mm\"\n",
       "      width=\"1.8mm\" height=\"23.999999999999996mm\"\n",
       "      fill=\"#A78600\" stroke=\"none\" />\n",
       "<rect x=\"18.0mm\" y=\"0.0mm\"\n",
       "      width=\"1.8mm\" height=\"23.999999999999996mm\"\n",
       "      fill=\"#00FFC5\" stroke=\"none\" />\n",
       "<rect x=\"19.8mm\" y=\"0.0mm\"\n",
       "      width=\"1.8mm\" height=\"23.999999999999996mm\"\n",
       "      fill=\"#007E86\" stroke=\"none\" />\n",
       "<rect x=\"21.6mm\" y=\"0.0mm\"\n",
       "      width=\"1.8mm\" height=\"23.999999999999996mm\"\n",
       "      fill=\"#534200\" stroke=\"none\" />\n",
       "<rect x=\"23.400000000000002mm\" y=\"0.0mm\"\n",
       "      width=\"1.8mm\" height=\"23.999999999999996mm\"\n",
       "      fill=\"#8C8793\" stroke=\"none\" />\n",
       "<rect x=\"25.2mm\" y=\"0.0mm\"\n",
       "      width=\"1.8mm\" height=\"23.999999999999996mm\"\n",
       "      fill=\"#680000\" stroke=\"none\" />\n",
       "<rect x=\"27.0mm\" y=\"0.0mm\"\n",
       "      width=\"1.8mm\" height=\"23.999999999999996mm\"\n",
       "      fill=\"#00005A\" stroke=\"none\" />\n",
       "<rect x=\"28.8mm\" y=\"0.0mm\"\n",
       "      width=\"1.8mm\" height=\"23.999999999999996mm\"\n",
       "      fill=\"#FF2C6F\" stroke=\"none\" />\n",
       "<rect x=\"30.6mm\" y=\"0.0mm\"\n",
       "      width=\"1.8mm\" height=\"23.999999999999996mm\"\n",
       "      fill=\"#F7FFF6\" stroke=\"none\" />\n",
       "<rect x=\"32.4mm\" y=\"0.0mm\"\n",
       "      width=\"1.8mm\" height=\"23.999999999999996mm\"\n",
       "      fill=\"#003D25\" stroke=\"none\" />\n",
       "<rect x=\"34.2mm\" y=\"0.0mm\"\n",
       "      width=\"1.8mm\" height=\"23.999999999999996mm\"\n",
       "      fill=\"#91ABFF\" stroke=\"none\" />\n",
       "<rect x=\"36.0mm\" y=\"0.0mm\"\n",
       "      width=\"1.8mm\" height=\"23.999999999999996mm\"\n",
       "      fill=\"#A1B684\" stroke=\"none\" />\n",
       "<rect x=\"37.800000000000004mm\" y=\"0.0mm\"\n",
       "      width=\"1.8mm\" height=\"23.999999999999996mm\"\n",
       "      fill=\"#605051\" stroke=\"none\" />\n",
       "<rect x=\"39.6mm\" y=\"0.0mm\"\n",
       "      width=\"1.8mm\" height=\"23.999999999999996mm\"\n",
       "      fill=\"#C129E2\" stroke=\"none\" />\n",
       "<rect x=\"41.4mm\" y=\"0.0mm\"\n",
       "      width=\"1.8mm\" height=\"23.999999999999996mm\"\n",
       "      fill=\"#FF8E1E\" stroke=\"none\" />\n",
       "<rect x=\"43.2mm\" y=\"0.0mm\"\n",
       "      width=\"1.8mm\" height=\"23.999999999999996mm\"\n",
       "      fill=\"#003F51\" stroke=\"none\" />\n",
       "<rect x=\"45.0mm\" y=\"0.0mm\"\n",
       "      width=\"1.8mm\" height=\"23.999999999999996mm\"\n",
       "      fill=\"#797860\" stroke=\"none\" />\n",
       "<rect x=\"46.800000000000004mm\" y=\"0.0mm\"\n",
       "      width=\"1.8mm\" height=\"23.999999999999996mm\"\n",
       "      fill=\"#2E001C\" stroke=\"none\" />\n",
       "<rect x=\"48.6mm\" y=\"0.0mm\"\n",
       "      width=\"1.8mm\" height=\"23.999999999999996mm\"\n",
       "      fill=\"#01AF99\" stroke=\"none\" />\n",
       "<rect x=\"50.4mm\" y=\"0.0mm\"\n",
       "      width=\"1.8mm\" height=\"23.999999999999996mm\"\n",
       "      fill=\"#FFE6FF\" stroke=\"none\" />\n",
       "<rect x=\"52.2mm\" y=\"0.0mm\"\n",
       "      width=\"1.8mm\" height=\"23.999999999999996mm\"\n",
       "      fill=\"#77DA00\" stroke=\"none\" />\n",
       "<rect x=\"54.0mm\" y=\"0.0mm\"\n",
       "      width=\"1.8mm\" height=\"23.999999999999996mm\"\n",
       "      fill=\"#5B4B83\" stroke=\"none\" />\n",
       "<rect x=\"55.800000000000004mm\" y=\"0.0mm\"\n",
       "      width=\"1.8mm\" height=\"23.999999999999996mm\"\n",
       "      fill=\"#0094CF\" stroke=\"none\" />\n",
       "<rect x=\"57.6mm\" y=\"0.0mm\"\n",
       "      width=\"1.8mm\" height=\"23.999999999999996mm\"\n",
       "      fill=\"#B8739F\" stroke=\"none\" />\n",
       "<rect x=\"59.4mm\" y=\"0.0mm\"\n",
       "      width=\"1.8mm\" height=\"23.999999999999996mm\"\n",
       "      fill=\"#FF8269\" stroke=\"none\" />\n",
       "<rect x=\"61.2mm\" y=\"0.0mm\"\n",
       "      width=\"1.8mm\" height=\"23.999999999999996mm\"\n",
       "      fill=\"#FFBE05\" stroke=\"none\" />\n",
       "<rect x=\"63.0mm\" y=\"0.0mm\"\n",
       "      width=\"1.8mm\" height=\"23.999999999999996mm\"\n",
       "      fill=\"#C20030\" stroke=\"none\" />\n",
       "<rect x=\"64.8mm\" y=\"0.0mm\"\n",
       "      width=\"1.8mm\" height=\"23.999999999999996mm\"\n",
       "      fill=\"#A9806C\" stroke=\"none\" />\n",
       "<rect x=\"66.60000000000001mm\" y=\"0.0mm\"\n",
       "      width=\"1.8mm\" height=\"23.999999999999996mm\"\n",
       "      fill=\"#955600\" stroke=\"none\" />\n",
       "<rect x=\"68.4mm\" y=\"0.0mm\"\n",
       "      width=\"1.8mm\" height=\"23.999999999999996mm\"\n",
       "      fill=\"#9FB3B2\" stroke=\"none\" />\n",
       "<rect x=\"70.2mm\" y=\"0.0mm\"\n",
       "      width=\"1.8mm\" height=\"23.999999999999996mm\"\n",
       "      fill=\"#789500\" stroke=\"none\" />\n",
       "<rect x=\"72.0mm\" y=\"0.0mm\"\n",
       "      width=\"1.8mm\" height=\"23.999999999999996mm\"\n",
       "      fill=\"#FF9BB1\" stroke=\"none\" />\n",
       "<rect x=\"73.8mm\" y=\"0.0mm\"\n",
       "      width=\"1.8mm\" height=\"23.999999999999996mm\"\n",
       "      fill=\"#A8FFFD\" stroke=\"none\" />\n",
       "<rect x=\"75.60000000000001mm\" y=\"0.0mm\"\n",
       "      width=\"1.8mm\" height=\"23.999999999999996mm\"\n",
       "      fill=\"#2023C8\" stroke=\"none\" />\n",
       "<rect x=\"77.4mm\" y=\"0.0mm\"\n",
       "      width=\"1.8mm\" height=\"23.999999999999996mm\"\n",
       "      fill=\"#937BD2\" stroke=\"none\" />\n",
       "<rect x=\"79.2mm\" y=\"0.0mm\"\n",
       "      width=\"1.8mm\" height=\"23.999999999999996mm\"\n",
       "      fill=\"#FFE8B4\" stroke=\"none\" />\n",
       "<rect x=\"81.0mm\" y=\"0.0mm\"\n",
       "      width=\"1.8mm\" height=\"23.999999999999996mm\"\n",
       "      fill=\"#4A5750\" stroke=\"none\" />\n",
       "<rect x=\"82.8mm\" y=\"0.0mm\"\n",
       "      width=\"1.8mm\" height=\"23.999999999999996mm\"\n",
       "      fill=\"#636B05\" stroke=\"none\" />\n",
       "<rect x=\"84.60000000000001mm\" y=\"0.0mm\"\n",
       "      width=\"1.8mm\" height=\"23.999999999999996mm\"\n",
       "      fill=\"#2C1300\" stroke=\"none\" />\n",
       "<rect x=\"86.4mm\" y=\"0.0mm\"\n",
       "      width=\"1.8mm\" height=\"23.999999999999996mm\"\n",
       "      fill=\"#00BC62\" stroke=\"none\" />\n",
       "<rect x=\"88.2mm\" y=\"0.0mm\"\n",
       "      width=\"1.8mm\" height=\"23.999999999999996mm\"\n",
       "      fill=\"#CFE6FF\" stroke=\"none\" />\n",
       "<rect x=\"90.0mm\" y=\"0.0mm\"\n",
       "      width=\"1.8mm\" height=\"23.999999999999996mm\"\n",
       "      fill=\"#915266\" stroke=\"none\" />\n",
       "<rect x=\"91.8mm\" y=\"0.0mm\"\n",
       "      width=\"1.8mm\" height=\"23.999999999999996mm\"\n",
       "      fill=\"#C9F6C9\" stroke=\"none\" />\n",
       "<rect x=\"93.60000000000001mm\" y=\"0.0mm\"\n",
       "      width=\"1.8mm\" height=\"23.999999999999996mm\"\n",
       "      fill=\"#B6A9CF\" stroke=\"none\" />\n",
       "<rect x=\"95.4mm\" y=\"0.0mm\"\n",
       "      width=\"1.8mm\" height=\"23.999999999999996mm\"\n",
       "      fill=\"#2E3248\" stroke=\"none\" />\n",
       "<rect x=\"97.2mm\" y=\"0.0mm\"\n",
       "      width=\"1.8mm\" height=\"23.999999999999996mm\"\n",
       "      fill=\"#BBACA5\" stroke=\"none\" />\n",
       "<rect x=\"99.0mm\" y=\"0.0mm\"\n",
       "      width=\"1.8mm\" height=\"23.999999999999996mm\"\n",
       "      fill=\"#006B50\" stroke=\"none\" />\n",
       "<rect x=\"100.8mm\" y=\"0.0mm\"\n",
       "      width=\"1.8mm\" height=\"23.999999999999996mm\"\n",
       "      fill=\"#383329\" stroke=\"none\" />\n",
       "<rect x=\"102.60000000000001mm\" y=\"0.0mm\"\n",
       "      width=\"1.8mm\" height=\"23.999999999999996mm\"\n",
       "      fill=\"#C5AD6D\" stroke=\"none\" />\n",
       "<rect x=\"104.4mm\" y=\"0.0mm\"\n",
       "      width=\"1.8mm\" height=\"23.999999999999996mm\"\n",
       "      fill=\"#005500\" stroke=\"none\" />\n",
       "<rect x=\"106.2mm\" y=\"0.0mm\"\n",
       "      width=\"1.8mm\" height=\"23.999999999999996mm\"\n",
       "      fill=\"#687A7E\" stroke=\"none\" />\n",
       "<rect x=\"108.0mm\" y=\"0.0mm\"\n",
       "      width=\"1.8mm\" height=\"23.999999999999996mm\"\n",
       "      fill=\"#FF4ED2\" stroke=\"none\" />\n",
       "<rect x=\"109.8mm\" y=\"0.0mm\"\n",
       "      width=\"1.8mm\" height=\"23.999999999999996mm\"\n",
       "      fill=\"#9A2F00\" stroke=\"none\" />\n",
       "<rect x=\"111.60000000000001mm\" y=\"0.0mm\"\n",
       "      width=\"1.8mm\" height=\"23.999999999999996mm\"\n",
       "      fill=\"#501D5B\" stroke=\"none\" />\n",
       "<rect x=\"113.4mm\" y=\"0.0mm\"\n",
       "      width=\"1.8mm\" height=\"23.999999999999996mm\"\n",
       "      fill=\"#0E1A00\" stroke=\"none\" />\n",
       "<rect x=\"115.2mm\" y=\"0.0mm\"\n",
       "      width=\"1.8mm\" height=\"23.999999999999996mm\"\n",
       "      fill=\"#0B001F\" stroke=\"none\" />\n",
       "<rect x=\"117.0mm\" y=\"0.0mm\"\n",
       "      width=\"1.8mm\" height=\"23.999999999999996mm\"\n",
       "      fill=\"#49A9B8\" stroke=\"none\" />\n",
       "<rect x=\"118.8mm\" y=\"0.0mm\"\n",
       "      width=\"1.8mm\" height=\"23.999999999999996mm\"\n",
       "      fill=\"#8200A5\" stroke=\"none\" />\n",
       "<rect x=\"120.60000000000001mm\" y=\"0.0mm\"\n",
       "      width=\"1.8mm\" height=\"23.999999999999996mm\"\n",
       "      fill=\"#609663\" stroke=\"none\" />\n",
       "<rect x=\"122.4mm\" y=\"0.0mm\"\n",
       "      width=\"1.8mm\" height=\"23.999999999999996mm\"\n",
       "      fill=\"#00397F\" stroke=\"none\" />\n",
       "<rect x=\"124.2mm\" y=\"0.0mm\"\n",
       "      width=\"1.8mm\" height=\"23.999999999999996mm\"\n",
       "      fill=\"#8E0037\" stroke=\"none\" />\n",
       "<rect x=\"126.0mm\" y=\"0.0mm\"\n",
       "      width=\"1.8mm\" height=\"23.999999999999996mm\"\n",
       "      fill=\"#643820\" stroke=\"none\" />\n",
       "<rect x=\"127.8mm\" y=\"0.0mm\"\n",
       "      width=\"1.8mm\" height=\"23.999999999999996mm\"\n",
       "      fill=\"#7558FF\" stroke=\"none\" />\n",
       "<rect x=\"129.6mm\" y=\"0.0mm\"\n",
       "      width=\"1.8mm\" height=\"23.999999999999996mm\"\n",
       "      fill=\"#006787\" stroke=\"none\" />\n",
       "<rect x=\"131.4mm\" y=\"0.0mm\"\n",
       "      width=\"1.8mm\" height=\"23.999999999999996mm\"\n",
       "      fill=\"#B75D4E\" stroke=\"none\" />\n",
       "<rect x=\"133.20000000000002mm\" y=\"0.0mm\"\n",
       "      width=\"1.8mm\" height=\"23.999999999999996mm\"\n",
       "      fill=\"#C3C958\" stroke=\"none\" />\n",
       "<rect x=\"135.0mm\" y=\"0.0mm\"\n",
       "      width=\"1.8mm\" height=\"23.999999999999996mm\"\n",
       "      fill=\"#D00068\" stroke=\"none\" />\n",
       "<rect x=\"136.8mm\" y=\"0.0mm\"\n",
       "      width=\"1.8mm\" height=\"23.999999999999996mm\"\n",
       "      fill=\"#51272B\" stroke=\"none\" />\n",
       "<rect x=\"138.6mm\" y=\"0.0mm\"\n",
       "      width=\"1.8mm\" height=\"23.999999999999996mm\"\n",
       "      fill=\"#7B6044\" stroke=\"none\" />\n",
       "<rect x=\"140.4mm\" y=\"0.0mm\"\n",
       "      width=\"1.8mm\" height=\"23.999999999999996mm\"\n",
       "      fill=\"#2E3A00\" stroke=\"none\" />\n",
       "<rect x=\"142.20000000000002mm\" y=\"0.0mm\"\n",
       "      width=\"1.8mm\" height=\"23.999999999999996mm\"\n",
       "      fill=\"#7AFF8B\" stroke=\"none\" />\n",
       "<rect x=\"144.0mm\" y=\"0.0mm\"\n",
       "      width=\"1.8mm\" height=\"23.999999999999996mm\"\n",
       "      fill=\"#4F85F6\" stroke=\"none\" />\n",
       "<rect x=\"145.8mm\" y=\"0.0mm\"\n",
       "      width=\"1.8mm\" height=\"23.999999999999996mm\"\n",
       "      fill=\"#C47800\" stroke=\"none\" />\n",
       "<rect x=\"147.6mm\" y=\"0.0mm\"\n",
       "      width=\"1.8mm\" height=\"23.999999999999996mm\"\n",
       "      fill=\"#B5939C\" stroke=\"none\" />\n",
       "<rect x=\"149.4mm\" y=\"0.0mm\"\n",
       "      width=\"1.8mm\" height=\"23.999999999999996mm\"\n",
       "      fill=\"#60647C\" stroke=\"none\" />\n",
       "<rect x=\"151.20000000000002mm\" y=\"0.0mm\"\n",
       "      width=\"1.8mm\" height=\"23.999999999999996mm\"\n",
       "      fill=\"#20D8D8\" stroke=\"none\" />\n",
       "<rect x=\"153.0mm\" y=\"0.0mm\"\n",
       "      width=\"1.8mm\" height=\"23.999999999999996mm\"\n",
       "      fill=\"#001B2C\" stroke=\"none\" />\n",
       "<rect x=\"154.8mm\" y=\"0.0mm\"\n",
       "      width=\"1.8mm\" height=\"23.999999999999996mm\"\n",
       "      fill=\"#002726\" stroke=\"none\" />\n",
       "<rect x=\"156.6mm\" y=\"0.0mm\"\n",
       "      width=\"1.8mm\" height=\"23.999999999999996mm\"\n",
       "      fill=\"#F8E7E0\" stroke=\"none\" />\n",
       "<rect x=\"158.4mm\" y=\"0.0mm\"\n",
       "      width=\"1.8mm\" height=\"23.999999999999996mm\"\n",
       "      fill=\"#7E6200\" stroke=\"none\" />\n",
       "<rect x=\"160.20000000000002mm\" y=\"0.0mm\"\n",
       "      width=\"1.8mm\" height=\"23.999999999999996mm\"\n",
       "      fill=\"#185D5D\" stroke=\"none\" />\n",
       "<rect x=\"162.0mm\" y=\"0.0mm\"\n",
       "      width=\"1.8mm\" height=\"23.999999999999996mm\"\n",
       "      fill=\"#008B74\" stroke=\"none\" />\n",
       "<rect x=\"163.8mm\" y=\"0.0mm\"\n",
       "      width=\"1.8mm\" height=\"23.999999999999996mm\"\n",
       "      fill=\"#FF3F37\" stroke=\"none\" />\n",
       "<rect x=\"165.6mm\" y=\"0.0mm\"\n",
       "      width=\"1.8mm\" height=\"23.999999999999996mm\"\n",
       "      fill=\"#BC9EFF\" stroke=\"none\" />\n",
       "<rect x=\"167.4mm\" y=\"0.0mm\"\n",
       "      width=\"1.8mm\" height=\"23.999999999999996mm\"\n",
       "      fill=\"#82746D\" stroke=\"none\" />\n",
       "<rect x=\"169.20000000000002mm\" y=\"0.0mm\"\n",
       "      width=\"1.8mm\" height=\"23.999999999999996mm\"\n",
       "      fill=\"#555633\" stroke=\"none\" />\n",
       "<rect x=\"171.0mm\" y=\"0.0mm\"\n",
       "      width=\"1.8mm\" height=\"23.999999999999996mm\"\n",
       "      fill=\"#54BDFF\" stroke=\"none\" />\n",
       "<rect x=\"172.8mm\" y=\"0.0mm\"\n",
       "      width=\"1.8mm\" height=\"23.999999999999996mm\"\n",
       "      fill=\"#CD38A2\" stroke=\"none\" />\n",
       "<rect x=\"174.6mm\" y=\"0.0mm\"\n",
       "      width=\"1.8mm\" height=\"23.999999999999996mm\"\n",
       "      fill=\"#81D3AC\" stroke=\"none\" />\n",
       "<rect x=\"176.4mm\" y=\"0.0mm\"\n",
       "      width=\"1.8mm\" height=\"23.999999999999996mm\"\n",
       "      fill=\"#8A6F80\" stroke=\"none\" />\n",
       "<rect x=\"178.20000000000002mm\" y=\"0.0mm\"\n",
       "      width=\"1.8mm\" height=\"23.999999999999996mm\"\n",
       "      fill=\"#F7B66A\" stroke=\"none\" />\n",
       "</svg>"
      ],
      "text/plain": [
       "100-element Array{ColorTypes.RGB{FixedPointNumbers.Normed{UInt8,8}},1}:\n",
       " RGB{N0f8}(0.0,0.0,0.0)      \n",
       " RGB{N0f8}(1.0,1.0,0.384)    \n",
       " RGB{N0f8}(1.0,0.624,1.0)    \n",
       " RGB{N0f8}(0.0,0.839,1.0)    \n",
       " RGB{N0f8}(0.843,0.267,0.0)  \n",
       " RGB{N0f8}(0.0,0.502,0.161)  \n",
       " RGB{N0f8}(0.0,0.373,0.835)  \n",
       " RGB{N0f8}(0.576,0.0,0.408)  \n",
       " RGB{N0f8}(1.0,0.796,0.71)   \n",
       " RGB{N0f8}(0.655,0.525,0.0)  \n",
       " RGB{N0f8}(0.0,1.0,0.773)    \n",
       " RGB{N0f8}(0.0,0.494,0.525)  \n",
       " RGB{N0f8}(0.325,0.259,0.0)  \n",
       " ⋮                           \n",
       " RGB{N0f8}(0.494,0.384,0.0)  \n",
       " RGB{N0f8}(0.094,0.365,0.365)\n",
       " RGB{N0f8}(0.0,0.545,0.455)  \n",
       " RGB{N0f8}(1.0,0.247,0.216)  \n",
       " RGB{N0f8}(0.737,0.62,1.0)   \n",
       " RGB{N0f8}(0.51,0.455,0.427) \n",
       " RGB{N0f8}(0.333,0.337,0.2)  \n",
       " RGB{N0f8}(0.329,0.741,1.0)  \n",
       " RGB{N0f8}(0.804,0.22,0.635) \n",
       " RGB{N0f8}(0.506,0.827,0.675)\n",
       " RGB{N0f8}(0.541,0.435,0.502)\n",
       " RGB{N0f8}(0.969,0.714,0.416)"
      ]
     },
     "execution_count": 4,
     "metadata": {},
     "output_type": "execute_result"
    }
   ],
   "source": [
    "palette = distinguishable_colors(100)"
   ]
  },
  {
   "cell_type": "markdown",
   "metadata": {},
   "source": [
    "and then we can create a randomly checkered matrix using the `rand` command"
   ]
  },
  {
   "cell_type": "code",
   "execution_count": 5,
   "metadata": {},
   "outputs": [
    {
     "data": {
      "image/svg+xml": [
       "<?xml version=\"1.0\" encoding=\"UTF-8\"?>\n",
       "<!DOCTYPE svg PUBLIC \"-//W3C//DTD SVG 1.1//EN\"\n",
       " \"http://www.w3.org/Graphics/SVG/1.1/DTD/svg11.dtd\">\n",
       "<svg xmlns=\"http://www.w3.org/2000/svg\" version=\"1.1\"\n",
       "     width=\"75.0mm\" height=\"75.0mm\"\n",
       "     shape-rendering=\"crispEdges\">\n",
       "<rect x=\"0.0mm\" y=\"0.0mm\"\n",
       "      width=\"24.0mm\" height=\"24.0mm\"\n",
       "      fill=\"#605051\" stroke=\"none\" />\n",
       "<rect x=\"25.0mm\" y=\"0.0mm\"\n",
       "      width=\"24.0mm\" height=\"24.0mm\"\n",
       "      fill=\"#FFBE05\" stroke=\"none\" />\n",
       "<rect x=\"50.0mm\" y=\"0.0mm\"\n",
       "      width=\"24.0mm\" height=\"24.0mm\"\n",
       "      fill=\"#C129E2\" stroke=\"none\" />\n",
       "<rect x=\"0.0mm\" y=\"25.0mm\"\n",
       "      width=\"24.0mm\" height=\"24.0mm\"\n",
       "      fill=\"#B8739F\" stroke=\"none\" />\n",
       "<rect x=\"25.0mm\" y=\"25.0mm\"\n",
       "      width=\"24.0mm\" height=\"24.0mm\"\n",
       "      fill=\"#A78600\" stroke=\"none\" />\n",
       "<rect x=\"50.0mm\" y=\"25.0mm\"\n",
       "      width=\"24.0mm\" height=\"24.0mm\"\n",
       "      fill=\"#C9F6C9\" stroke=\"none\" />\n",
       "<rect x=\"0.0mm\" y=\"50.0mm\"\n",
       "      width=\"24.0mm\" height=\"24.0mm\"\n",
       "      fill=\"#0094CF\" stroke=\"none\" />\n",
       "<rect x=\"25.0mm\" y=\"50.0mm\"\n",
       "      width=\"24.0mm\" height=\"24.0mm\"\n",
       "      fill=\"#003D25\" stroke=\"none\" />\n",
       "<rect x=\"50.0mm\" y=\"50.0mm\"\n",
       "      width=\"24.0mm\" height=\"24.0mm\"\n",
       "      fill=\"#77DA00\" stroke=\"none\" />\n",
       "</svg>"
      ],
      "text/plain": [
       "3×3 Array{ColorTypes.RGB{FixedPointNumbers.Normed{UInt8,8}},2}:\n",
       " RGB{N0f8}(0.376,0.314,0.318)  …  RGB{N0f8}(0.757,0.161,0.886)\n",
       " RGB{N0f8}(0.722,0.451,0.624)     RGB{N0f8}(0.788,0.965,0.788)\n",
       " RGB{N0f8}(0.0,0.58,0.812)        RGB{N0f8}(0.467,0.855,0.0)  "
      ]
     },
     "execution_count": 5,
     "metadata": {},
     "output_type": "execute_result"
    }
   ],
   "source": [
    "rand(palette, 3, 3)"
   ]
  },
  {
   "cell_type": "markdown",
   "metadata": {},
   "source": [
    "In the next notebook, we'll use a new package to plot datasets."
   ]
  },
  {
   "cell_type": "markdown",
   "metadata": {},
   "source": [
    "### Exercises\n",
    "\n",
    "#### 7.1 \n",
    "Load the Primes package (source code at https://github.com/JuliaMath/Primes.jl)."
   ]
  },
  {
   "cell_type": "code",
   "execution_count": 7,
   "metadata": {},
   "outputs": [
    {
     "name": "stderr",
     "output_type": "stream",
     "text": [
      "\u001b[1m\u001b[36mINFO: \u001b[39m\u001b[22m\u001b[36mCloning cache of Primes from https://github.com/JuliaMath/Primes.jl.git\n",
      "\u001b[39m\u001b[1m\u001b[36mINFO: \u001b[39m\u001b[22m\u001b[36mInstalling Primes v0.2.0\n",
      "\u001b[39m\u001b[1m\u001b[36mINFO: \u001b[39m\u001b[22m\u001b[36mPackage database updated\n",
      "\u001b[39m\u001b[1m\u001b[36mINFO: \u001b[39m\u001b[22m\u001b[36mPrecompiling module Primes.\n",
      "\u001b[39m"
     ]
    }
   ],
   "source": [
    "#Pkg.add(\"Primes\")\n",
    "using Primes"
   ]
  },
  {
   "cell_type": "markdown",
   "metadata": {},
   "source": [
    "#### 7.2 \n",
    "Verify that you can now use the function `primes` to grab all prime numbers under 1,000,000."
   ]
  },
  {
   "cell_type": "code",
   "execution_count": null,
   "metadata": {
    "collapsed": true
   },
   "outputs": [],
   "source": []
  }
 ],
 "metadata": {
  "kernelspec": {
   "display_name": "Julia 1.0.1",
   "language": "julia",
   "name": "julia-1.0"
  },
  "language_info": {
   "file_extension": ".jl",
   "mimetype": "application/julia",
   "name": "julia",
   "version": "1.0.1"
  }
 },
 "nbformat": 4,
 "nbformat_minor": 2
}
