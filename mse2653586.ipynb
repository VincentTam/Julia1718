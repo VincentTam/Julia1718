{
 "cells": [
  {
   "cell_type": "markdown",
   "metadata": {},
   "source": [
    "# Monte-Carlo verification of double integral"
   ]
  },
  {
   "cell_type": "markdown",
   "metadata": {},
   "source": [
    "MC integration is chosen due to non-rectangular integration domain $D = \\{(x,y)\\mid 2 \\le 2x+y \\le 6, x\\ge0, y\\ge0 \\}$."
   ]
  },
  {
   "cell_type": "code",
   "execution_count": 11,
   "metadata": {},
   "outputs": [
    {
     "data": {
      "text/plain": [
       "15.551363873174763"
      ]
     },
     "execution_count": 11,
     "metadata": {},
     "output_type": "execute_result"
    }
   ],
   "source": [
    "from prog4comp.MC_double import MonteCarlo_double\n",
    "from math import cos\n",
    "\n",
    "f = lambda x, y: 4*cos(2*x+y)**2\n",
    "def g(x,y):\n",
    "    return 1 if (x >= 0 and y >= 0 and 2 <= 2*x+y <= 6) else -1\n",
    "x0, x1, y0, y1, n = 0, 3, 0, 6, 10000\n",
    "\n",
    "MonteCarlo_double(f, g, x0, x1, y0, y1, n)"
   ]
  },
  {
   "cell_type": "markdown",
   "metadata": {},
   "source": [
    "My exact solution for $\\iint_D 4 \\cos^2 (2x+y) dx dy = 16 + 3\\sin(12)-\\sin(4) + \\frac{\\cos(12)}{4}-\\frac{\\cos(4)}{4}$."
   ]
  },
  {
   "cell_type": "code",
   "execution_count": 4,
   "metadata": {},
   "outputs": [
    {
     "name": "stdout",
     "output_type": "stream",
     "text": [
      "15.5214581362\n"
     ]
    }
   ],
   "source": [
    "from math import sin, cos\n",
    "exact = 16.0 + 3.0*sin(12.0) - sin(4.0) + cos(12.0)/4.0 - cos(4.0)/4.0\n",
    "print exact"
   ]
  }
 ],
 "metadata": {
  "kernelspec": {
   "display_name": "Python 2",
   "language": "python",
   "name": "python2"
  },
  "language_info": {
   "codemirror_mode": {
    "name": "ipython",
    "version": 2
   },
   "file_extension": ".py",
   "mimetype": "text/x-python",
   "name": "python",
   "nbconvert_exporter": "python",
   "pygments_lexer": "ipython2",
   "version": "2.7.14"
  }
 },
 "nbformat": 4,
 "nbformat_minor": 2
}
